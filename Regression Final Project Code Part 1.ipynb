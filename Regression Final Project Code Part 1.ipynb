{
 "cells": [
  {
   "cell_type": "markdown",
   "metadata": {},
   "source": [
    "# Regression Project Code part 1: data preparation and modeling"
   ]
  },
  {
   "cell_type": "code",
   "execution_count": 79,
   "metadata": {},
   "outputs": [],
   "source": [
    "from bs4 import BeautifulSoup\n",
    "import requests\n",
    "import random\n",
    "import time\n",
    "import pandas as pd"
   ]
  },
  {
   "cell_type": "markdown",
   "metadata": {},
   "source": [
    "## Step 1: Scrape individual school names and their corresponding NCES link stubs\n",
    "\n",
    "- NOTE: Through trial and error, I discovered that you can only view up to 15 schools on a page and up to 34 pages in a particular search for schools. To get all the private non-profit universities and colleges offering Bachelor's degrees in the US, I ended up using the map in the search section to select groups of states by region."
   ]
  },
  {
   "cell_type": "markdown",
   "metadata": {},
   "source": [
    "#### Step 1: Create a list of urls for the first page of private schools in each region (NCES divides the country into 8 regions)"
   ]
  },
  {
   "cell_type": "code",
   "execution_count": 108,
   "metadata": {},
   "outputs": [],
   "source": [
    "# create a list of the urls for each region (Far West, Rocky Mountains, Southwest, Plains, Great Lakes, Southeast\n",
    "                # Mideast (including DC) and New England)\n",
    "\n",
    "regions_urls = ['https://nces.ed.gov/collegenavigator/?s=AK+CA+HI+NV+OR+WA&l=93&ct=2',\n",
    "               'https://nces.ed.gov/collegenavigator/?s=CO+ID+MT+UT+WY&l=93&ct=2',\n",
    "               'https://nces.ed.gov/collegenavigator/?s=AZ+NM+OK+TX&l=93&ct=2',\n",
    "               'https://nces.ed.gov/collegenavigator/?s=IA+KS+MN+MO+NE+ND+SD&l=93&ct=2',\n",
    "               'https://nces.ed.gov/collegenavigator/?s=IL+IN+MI+OH+WI&l=93&ct=2',\n",
    "               'https://nces.ed.gov/collegenavigator/?s=AL+AR+FL+GA+KY+LA+MS+NC+SC+TN+VA+WV&l=93&ct=2',\n",
    "               'https://nces.ed.gov/collegenavigator/?s=DE+DC+MD+NJ+NY+PA&l=93&ct=2',\n",
    "               'https://nces.ed.gov/collegenavigator/?s=CT+ME+MA+NH+RI+VT&l=93&ct=2']                "
   ]
  },
  {
   "cell_type": "markdown",
   "metadata": {},
   "source": [
    "#### Step 2: Loop through the urls for each region to extract the number of pages worth of results (results = school name and link)"
   ]
  },
  {
   "cell_type": "code",
   "execution_count": 109,
   "metadata": {},
   "outputs": [],
   "source": [
    "# loop through each region's url to get the count of the # of pages' worth of schools \n",
    "    #each region has - save these 8 numbers (one for each of the 8 regions) in a list\n",
    "\n",
    "pages_regions = []\n",
    "\n",
    "for url_reg in regions_urls:\n",
    "    response_reg = requests.get(url_reg)\n",
    "    time.sleep(1)\n",
    "    soup_reg = BeautifulSoup(response_reg.text, 'html5lib')\n",
    "    pages_str = soup_reg.find(id='ctl00_cphCollegeNavBody_ucResultsMain_divPagingControls').find_all('a')[-1]['href']\n",
    "    pages_idx = pages_str.find('&pg=')\n",
    "    pages = pages_str[pages_idx+4:]\n",
    "    pages_regions.append(int(pages))"
   ]
  },
  {
   "cell_type": "markdown",
   "metadata": {},
   "source": [
    "#### Step 3: Loop through the list of region urls and for each url, create a new url for each additional page worth of results (e.g., if the first region in the region_urls list - Far West - has 8 pages' worth of results, create 7 new urls that append '&pg=' and the number for the page) and append the newly created urls to the original list of region urls."
   ]
  },
  {
   "cell_type": "code",
   "execution_count": 110,
   "metadata": {},
   "outputs": [],
   "source": [
    "# loop through the list of each region's url and each region's corresponding number of pages' \n",
    "    # worth of schools to create a new url for each region's page(s) \n",
    "    # and add the new url to the original list of initial region urls\n",
    "\n",
    "for idx in range(0, len(regions_urls)):\n",
    "    for i in range(2, pages_regions[idx]+1):\n",
    "        new_url = (''.join(regions_urls[idx] + '&pg=' + str(i)))\n",
    "        regions_urls.append(new_url)"
   ]
  },
  {
   "cell_type": "markdown",
   "metadata": {},
   "source": [
    "#### Step 4: Loop through the updated list of region urls to extract the name of each school and its link stub and save these extractions in a new dictionary."
   ]
  },
  {
   "cell_type": "code",
   "execution_count": 111,
   "metadata": {},
   "outputs": [],
   "source": [
    "# loop through each region's url to create a dictionary of all school names \n",
    "    # and their corresponding link stub\n",
    "\n",
    "schools = {}\n",
    "names = []\n",
    "urls = []\n",
    "\n",
    "for reg_url in regions_urls:\n",
    "    response_reg = requests.get(reg_url)\n",
    "    time.sleep(1)\n",
    "    soup_reg = BeautifulSoup(response_reg.text, \"lxml\")\n",
    "    table_reg = soup_reg.find(id='ctl00_cphCollegeNavBody_ucResultsMain_tblResults')\n",
    "    rows_reg = [row for row in table_reg.find_all('tr')]\n",
    "\n",
    "    for row in rows_reg:\n",
    "        link = row.find('a')\n",
    "        if link != None:\n",
    "            name, url = link.text, link['href']\n",
    "            names.append(name)\n",
    "            urls.append(url)\n",
    "            for idx in range(1, len(names)):\n",
    "                if names[idx] == names[idx-1]:\n",
    "                    names[idx] = names[idx] + '_b'\n",
    "\n",
    "for a, b in zip(names, urls):\n",
    "    schools[a] = [b]"
   ]
  },
  {
   "cell_type": "code",
   "execution_count": 112,
   "metadata": {},
   "outputs": [
    {
     "data": {
      "text/plain": [
       "{'Alaska Bible College': ['?s=AK+CA+HI+NV+OR+WA&l=93&ct=2&id=102580'],\n",
       " 'Alaska Pacific University': ['?s=AK+CA+HI+NV+OR+WA&l=93&ct=2&id=102669'],\n",
       " 'America Evangelical University': ['?s=AK+CA+HI+NV+OR+WA&l=93&ct=2&id=490081'],\n",
       " 'American Jewish University': ['?s=AK+CA+HI+NV+OR+WA&l=93&ct=2&id=116846'],\n",
       " 'Antioch University-Los Angeles': ['?s=AK+CA+HI+NV+OR+WA&l=93&ct=2&id=245838']}"
      ]
     },
     "execution_count": 112,
     "metadata": {},
     "output_type": "execute_result"
    }
   ],
   "source": [
    "# check first five key, value pairs in new schools dict to make sure it's correct\n",
    "\n",
    "{k: schools[k] for k in list(schools)[:5]}"
   ]
  },
  {
   "cell_type": "markdown",
   "metadata": {},
   "source": [
    "#### Step 5. Convert the dictionary of schools and their corresponding link stubs into a dataframe, which will be used in the function to extract features from each school's page."
   ]
  },
  {
   "cell_type": "code",
   "execution_count": 113,
   "metadata": {},
   "outputs": [
    {
     "data": {
      "text/html": [
       "<div>\n",
       "<style scoped>\n",
       "    .dataframe tbody tr th:only-of-type {\n",
       "        vertical-align: middle;\n",
       "    }\n",
       "\n",
       "    .dataframe tbody tr th {\n",
       "        vertical-align: top;\n",
       "    }\n",
       "\n",
       "    .dataframe thead th {\n",
       "        text-align: right;\n",
       "    }\n",
       "</style>\n",
       "<table border=\"1\" class=\"dataframe\">\n",
       "  <thead>\n",
       "    <tr style=\"text-align: right;\">\n",
       "      <th></th>\n",
       "      <th>link_stub</th>\n",
       "    </tr>\n",
       "  </thead>\n",
       "  <tbody>\n",
       "    <tr>\n",
       "      <th>Alaska Bible College</th>\n",
       "      <td>?s=AK+CA+HI+NV+OR+WA&amp;l=93&amp;ct=2&amp;id=102580</td>\n",
       "    </tr>\n",
       "    <tr>\n",
       "      <th>Alaska Pacific University</th>\n",
       "      <td>?s=AK+CA+HI+NV+OR+WA&amp;l=93&amp;ct=2&amp;id=102669</td>\n",
       "    </tr>\n",
       "    <tr>\n",
       "      <th>America Evangelical University</th>\n",
       "      <td>?s=AK+CA+HI+NV+OR+WA&amp;l=93&amp;ct=2&amp;id=490081</td>\n",
       "    </tr>\n",
       "    <tr>\n",
       "      <th>American Jewish University</th>\n",
       "      <td>?s=AK+CA+HI+NV+OR+WA&amp;l=93&amp;ct=2&amp;id=116846</td>\n",
       "    </tr>\n",
       "    <tr>\n",
       "      <th>Antioch University-Los Angeles</th>\n",
       "      <td>?s=AK+CA+HI+NV+OR+WA&amp;l=93&amp;ct=2&amp;id=245838</td>\n",
       "    </tr>\n",
       "  </tbody>\n",
       "</table>\n",
       "</div>"
      ],
      "text/plain": [
       "                                                               link_stub\n",
       "Alaska Bible College            ?s=AK+CA+HI+NV+OR+WA&l=93&ct=2&id=102580\n",
       "Alaska Pacific University       ?s=AK+CA+HI+NV+OR+WA&l=93&ct=2&id=102669\n",
       "America Evangelical University  ?s=AK+CA+HI+NV+OR+WA&l=93&ct=2&id=490081\n",
       "American Jewish University      ?s=AK+CA+HI+NV+OR+WA&l=93&ct=2&id=116846\n",
       "Antioch University-Los Angeles  ?s=AK+CA+HI+NV+OR+WA&l=93&ct=2&id=245838"
      ]
     },
     "execution_count": 113,
     "metadata": {},
     "output_type": "execute_result"
    }
   ],
   "source": [
    "# create a dataframe out of the dictionary containing each school and their link stub\n",
    "\n",
    "schools_df = pd.DataFrame(schools).T  #transpose\n",
    "schools_df.columns = ['link_stub']\n",
    "\n",
    "schools_df.head()"
   ]
  },
  {
   "cell_type": "markdown",
   "metadata": {},
   "source": [
    "## Step 2: Practice getting features from a single private university/college: Abilene Christian University\n",
    "- Note: commented out code was left to show the initial way(s) I extracted features from the case study, Abilene Christian University. I ultimately didn't use that code because it didn't work on all schools."
   ]
  },
  {
   "cell_type": "code",
   "execution_count": 132,
   "metadata": {},
   "outputs": [],
   "source": [
    "url = 'https://nces.ed.gov/collegenavigator/?q=abilene&s=all&l=93&ct=2&id=222178' \n",
    "\n",
    "response = requests.get(url)"
   ]
  },
  {
   "cell_type": "code",
   "execution_count": 133,
   "metadata": {},
   "outputs": [
    {
     "data": {
      "text/plain": [
       "200"
      ]
     },
     "execution_count": 133,
     "metadata": {},
     "output_type": "execute_result"
    }
   ],
   "source": [
    "response.status_code  #200 = success!"
   ]
  },
  {
   "cell_type": "code",
   "execution_count": 134,
   "metadata": {},
   "outputs": [],
   "source": [
    "soup = BeautifulSoup(response.text, \"lxml\")"
   ]
  },
  {
   "cell_type": "markdown",
   "metadata": {},
   "source": [
    "#### Functions to grab features from initial table at top of institution's page"
   ]
  },
  {
   "cell_type": "code",
   "execution_count": 83,
   "metadata": {},
   "outputs": [],
   "source": [
    "# create function for extracting school name\n",
    "\n",
    "def get_name(soup):\n",
    "    \n",
    "    obj = soup.find('span',class_='headerlg')\n",
    "    \n",
    "    if not obj:\n",
    "        return None\n",
    "    else:\n",
    "        return obj.text"
   ]
  },
  {
   "cell_type": "code",
   "execution_count": 10,
   "metadata": {},
   "outputs": [
    {
     "data": {
      "text/plain": [
       "'Abilene Christian University'"
      ]
     },
     "execution_count": 10,
     "metadata": {},
     "output_type": "execute_result"
    }
   ],
   "source": [
    "get_name(soup)"
   ]
  },
  {
   "cell_type": "code",
   "execution_count": 84,
   "metadata": {},
   "outputs": [],
   "source": [
    "# create function for extracting stu-to-fac ratio\n",
    "\n",
    "def get_stu_to_fac_ratio(soup):\n",
    "\n",
    "    obj = soup.find('table', class_='layouttab')\n",
    "    \n",
    "    if not obj: \n",
    "        return None\n",
    "    \n",
    "    obj_rev = obj.find_all('td')\n",
    "    \n",
    "    if not obj_rev: \n",
    "        return None\n",
    "    \n",
    "    ls = list(obj_rev)\n",
    "    \n",
    "    row_ls = [row.text for row in ls]\n",
    "    \n",
    "    if row_ls.count('Student-to-faculty ratio:\\xa0\\xa0') == 0:\n",
    "        return None\n",
    "    \n",
    "    idx = row_ls.index('Student-to-faculty ratio:\\xa0\\xa0')\n",
    "                       \n",
    "    if idx:\n",
    "        return row_ls[idx+1]\n",
    "    else:\n",
    "        return None"
   ]
  },
  {
   "cell_type": "code",
   "execution_count": 13,
   "metadata": {},
   "outputs": [
    {
     "data": {
      "text/plain": [
       "'13 to 1'"
      ]
     },
     "execution_count": 13,
     "metadata": {},
     "output_type": "execute_result"
    }
   ],
   "source": [
    "get_stu_to_fac_ratio(soup)"
   ]
  },
  {
   "cell_type": "markdown",
   "metadata": {},
   "source": [
    "#### Functions to grab features from 'TUITION, FEES AND ESTIMATED STUDENT EXPENSES' collapsable table"
   ]
  },
  {
   "cell_type": "code",
   "execution_count": 86,
   "metadata": {},
   "outputs": [],
   "source": [
    "# create function for extracting price of tuition and fees in 2020-21 \n",
    "    # and books and supplies in 2020-21\n",
    "    \n",
    "def get_tuition_books_20_21_value(soup, field_name):\n",
    "    \n",
    "    obj = soup.find(text=field_name)\n",
    "    \n",
    "    if not obj: \n",
    "        return None\n",
    "    \n",
    "    element = obj.findNext().findNext().findNext().findNext()\n",
    "    \n",
    "    if element:\n",
    "        return element.text \n",
    "    else:\n",
    "        return None"
   ]
  },
  {
   "cell_type": "code",
   "execution_count": 17,
   "metadata": {},
   "outputs": [
    {
     "data": {
      "text/plain": [
       "'$37,800'"
      ]
     },
     "execution_count": 17,
     "metadata": {},
     "output_type": "execute_result"
    }
   ],
   "source": [
    "get_tuition_books_20_21_value(soup, 'Tuition and fees')"
   ]
  },
  {
   "cell_type": "code",
   "execution_count": 18,
   "metadata": {},
   "outputs": [
    {
     "data": {
      "text/plain": [
       "'$1,250'"
      ]
     },
     "execution_count": 18,
     "metadata": {},
     "output_type": "execute_result"
    }
   ],
   "source": [
    "get_tuition_books_20_21_value(soup, 'Books and supplies')"
   ]
  },
  {
   "cell_type": "code",
   "execution_count": 87,
   "metadata": {},
   "outputs": [],
   "source": [
    "# create function for extracting price of tuition in 2020-21 \n",
    "    \n",
    "def get_tuition_20_21_value(soup, field_name):\n",
    "    \n",
    "    obj = soup.find(text=field_name)\n",
    "    \n",
    "    if not obj: \n",
    "        return None\n",
    "    \n",
    "    element = obj.findNext().findNext().findNext()\n",
    "    \n",
    "    if element:\n",
    "        return element.text \n",
    "    else:\n",
    "        return None"
   ]
  },
  {
   "cell_type": "code",
   "execution_count": 20,
   "metadata": {},
   "outputs": [],
   "source": [
    "get_tuition_20_21_value(soup, 'Undergraduate student tuition and fees')"
   ]
  },
  {
   "cell_type": "code",
   "execution_count": 88,
   "metadata": {},
   "outputs": [],
   "source": [
    "# create function for extracting price of fees in 2020-21 \n",
    "    \n",
    "def get_fees_20_21_value(soup, field_name):\n",
    "    \n",
    "    obj = soup.find(text=field_name)\n",
    "    \n",
    "    if not obj: \n",
    "        return None\n",
    "    \n",
    "    element = obj.findNext().findNext().findNext().findNext().findNext().findNext()\n",
    "    \n",
    "    if element:\n",
    "        return element.text \n",
    "    else:\n",
    "        return None"
   ]
  },
  {
   "cell_type": "code",
   "execution_count": 22,
   "metadata": {},
   "outputs": [],
   "source": [
    "get_fees_20_21_value(soup, 'Undergraduate student tuition and fees')"
   ]
  },
  {
   "cell_type": "code",
   "execution_count": 89,
   "metadata": {},
   "outputs": [],
   "source": [
    "# create function for extracting price of tuition in 2020-21 IF SCHOOL ONLY HAS UNDERGRAD\n",
    "    \n",
    "def get_tuition_under_20_21_value(soup, field_name):\n",
    "    \n",
    "    obj = soup.find(text=field_name)\n",
    "    \n",
    "    if not obj: \n",
    "        return None\n",
    "    \n",
    "    element = obj.findNext().findNext().findNext().findNext().findNext()\n",
    "    \n",
    "    if element:\n",
    "        return element.text \n",
    "    else:\n",
    "        return None"
   ]
  },
  {
   "cell_type": "code",
   "execution_count": 24,
   "metadata": {},
   "outputs": [],
   "source": [
    "get_tuition_under_20_21_value(soup, 'Average undergraduate student tuition and fees for academic year')"
   ]
  },
  {
   "cell_type": "code",
   "execution_count": 90,
   "metadata": {},
   "outputs": [],
   "source": [
    "# create function for extracting price of fees in 2020-21 IF SCHOOL ONLY HAS UNDERGRAD \n",
    "    \n",
    "def get_fees_under_20_21_value(soup, field_name):\n",
    "    \n",
    "    obj = soup.find(text=field_name)\n",
    "    \n",
    "    if not obj: \n",
    "        return None\n",
    "    \n",
    "    element = obj.findNext().findNext().findNext().findNext().findNext().findNext().findNext().findNext()\n",
    "    \n",
    "    if element:\n",
    "        return element.text \n",
    "    else:\n",
    "        return None"
   ]
  },
  {
   "cell_type": "code",
   "execution_count": 26,
   "metadata": {},
   "outputs": [],
   "source": [
    "get_fees_under_20_21_value(soup, 'Average undergraduate student tuition and fees for academic year')"
   ]
  },
  {
   "cell_type": "markdown",
   "metadata": {},
   "source": [
    "#### Functions to grab features from various collapsable tables, including the 'GENERAL INFORMATION' table"
   ]
  },
  {
   "cell_type": "code",
   "execution_count": 92,
   "metadata": {},
   "outputs": [],
   "source": [
    "# create function to grab # of full-time faculty; total enrollment; \n",
    "    # total enrollment (all undergraduate); undergrad enrollment; \n",
    "    # undergrad transfer-in enrollment; grad enrollment; number of undergrad applicants;\n",
    "    # percent admitted; # of first-time students who submitted their SAT score;\n",
    "    # # of first-time students who submitted their ACT score; \n",
    "    # scores for the SAT Evidence-Based Reading and Writing, SAT Math, ACT Composite, \n",
    "    # ACT English and ACT Math below which 25% of students scored\n",
    "\n",
    "def get_school_value_one_next(soup, field_name):\n",
    "    \n",
    "    obj = soup.find(text=field_name)\n",
    "    \n",
    "    if not obj: \n",
    "        return None\n",
    "    \n",
    "    element = obj.findNext()\n",
    "    \n",
    "    if element:\n",
    "        return element.text \n",
    "    else:\n",
    "        return None"
   ]
  },
  {
   "cell_type": "code",
   "execution_count": 30,
   "metadata": {},
   "outputs": [
    {
     "data": {
      "text/plain": [
       "'277'"
      ]
     },
     "execution_count": 30,
     "metadata": {},
     "output_type": "execute_result"
    }
   ],
   "source": [
    "get_school_value_one_next(soup, 'Total faculty')"
   ]
  },
  {
   "cell_type": "code",
   "execution_count": 93,
   "metadata": {},
   "outputs": [],
   "source": [
    "# create function to grab # of part-time faculty; # of full-time beginning under grad\n",
    "    # students receiving grant or scholarship aid in 2019-20;\n",
    "    # scores for the SAT Evidence-Based Reading and Writing, SAT Math, ACT Composite, \n",
    "    # ACT English and ACT Math below which 75% of students scores\n",
    "\n",
    "def get_school_value_two_nexts(soup, field_name):\n",
    "    \n",
    "    obj = soup.find(text=field_name)\n",
    "    \n",
    "    if not obj: \n",
    "        return None\n",
    "    \n",
    "    element = obj.findNext().findNext()\n",
    "    \n",
    "    if element:\n",
    "        return element.text \n",
    "    else:\n",
    "        return None"
   ]
  },
  {
   "cell_type": "code",
   "execution_count": 32,
   "metadata": {},
   "outputs": [
    {
     "data": {
      "text/plain": [
       "'137'"
      ]
     },
     "execution_count": 32,
     "metadata": {},
     "output_type": "execute_result"
    }
   ],
   "source": [
    "get_school_value_two_nexts(soup, 'Total faculty')"
   ]
  },
  {
   "cell_type": "markdown",
   "metadata": {},
   "source": [
    "#### Functions to grab features from 'FINANCIAL AID' collapsable table"
   ]
  },
  {
   "cell_type": "code",
   "execution_count": 94,
   "metadata": {},
   "outputs": [],
   "source": [
    "def get_avg_amt_grant_schol_aid_beg_under_value(soup, field_name):\n",
    "    \n",
    "    obj = soup.find(text=field_name)\n",
    "    \n",
    "    if not obj: \n",
    "        return None\n",
    "    \n",
    "    element = obj.findNext().findNext().findNext().findNext()\n",
    "    \n",
    "    if element:\n",
    "        return element.text \n",
    "    else:\n",
    "        return None"
   ]
  },
  {
   "cell_type": "code",
   "execution_count": 36,
   "metadata": {},
   "outputs": [
    {
     "data": {
      "text/plain": [
       "'$22,887'"
      ]
     },
     "execution_count": 36,
     "metadata": {},
     "output_type": "execute_result"
    }
   ],
   "source": [
    "get_avg_amt_grant_schol_aid_beg_under_value(soup,'Grant or scholarship aid')"
   ]
  },
  {
   "cell_type": "code",
   "execution_count": 95,
   "metadata": {},
   "outputs": [],
   "source": [
    "def get_avg_amt_grant_schol_aid_all_under_value(soup, field_name):\n",
    "\n",
    "    obj = soup.find(text=field_name)\n",
    "    \n",
    "    if not obj: \n",
    "        return None\n",
    "    \n",
    "    element = obj.findNext().find_all('td')[3]\n",
    "    \n",
    "    if element:\n",
    "        return element.text \n",
    "    else:\n",
    "        return None"
   ]
  },
  {
   "cell_type": "code",
   "execution_count": 38,
   "metadata": {},
   "outputs": [
    {
     "data": {
      "text/plain": [
       "'$21,092'"
      ]
     },
     "execution_count": 38,
     "metadata": {},
     "output_type": "execute_result"
    }
   ],
   "source": [
    "get_avg_amt_grant_schol_aid_all_under_value(soup, 'All Undergraduate Students')"
   ]
  },
  {
   "cell_type": "markdown",
   "metadata": {},
   "source": [
    "#### Functions to grab features from 'ADMISSIONS' collapsable table "
   ]
  },
  {
   "cell_type": "code",
   "execution_count": 96,
   "metadata": {},
   "outputs": [],
   "source": [
    "# create function to determine whether test scores are an admissions consideration\n",
    "\n",
    "def get_test_scores_admiss_con_value(soup, field_name):\n",
    "    \n",
    "    obj = soup.find(text=field_name)\n",
    "    \n",
    "    if not obj: \n",
    "        return None\n",
    "    else:\n",
    "        return 1"
   ]
  },
  {
   "cell_type": "code",
   "execution_count": 97,
   "metadata": {},
   "outputs": [],
   "source": [
    "# create function to determine whether test scores are required\n",
    "\n",
    "def get_test_scores_req_value(soup, field_name):\n",
    "    \n",
    "    obj = soup.find(text=field_name)\n",
    "    \n",
    "    if not obj: \n",
    "        return None\n",
    "    \n",
    "    element = obj.findNext().text\n",
    "    \n",
    "    if len(element) == 0:\n",
    "        return None\n",
    "    else:\n",
    "        return 1"
   ]
  },
  {
   "cell_type": "code",
   "execution_count": 98,
   "metadata": {},
   "outputs": [],
   "source": [
    "# create function to determine whether test scores recommended\n",
    "\n",
    "def get_test_scores_rec_value(soup, field_name):\n",
    "    \n",
    "    obj = soup.find(text=field_name)\n",
    "    \n",
    "    if not obj: \n",
    "        return None\n",
    "    \n",
    "    element = obj.findNext().findNext().text\n",
    "    \n",
    "    if len(element) == 0:\n",
    "        return None\n",
    "    else:\n",
    "        return 1"
   ]
  },
  {
   "cell_type": "code",
   "execution_count": 99,
   "metadata": {},
   "outputs": [],
   "source": [
    "# create function to determine whether test scores are considered but not required\n",
    "\n",
    "def get_test_scores_con_not_req_value(soup, field_name):\n",
    "    \n",
    "    obj = soup.find(text=field_name)\n",
    "    \n",
    "    if not obj: \n",
    "        return None\n",
    "    \n",
    "    element = obj.findNext().findNext().findNext().text\n",
    "    \n",
    "    if len(element) == 0:\n",
    "        return None\n",
    "    else:\n",
    "        return 1"
   ]
  },
  {
   "cell_type": "markdown",
   "metadata": {},
   "source": [
    "#### Function to grab feature from 'RETENTION AND GRADUATION RATES' collapsable table "
   ]
  },
  {
   "cell_type": "code",
   "execution_count": 129,
   "metadata": {},
   "outputs": [],
   "source": [
    "# create function to get overall graduation rate\n",
    "\n",
    "def get_grad_rate_value(soup):\n",
    "    \n",
    "    graph_tables = soup.find_all(\"table\", class_ = \"graphtabs\")\n",
    "    \n",
    "    if not graph_tables:\n",
    "        return None\n",
    "    \n",
    "    graph_data = [i.find_all('img')[0].get('alt').strip() for i in graph_tables]\n",
    "    \n",
    "    if not graph_data: \n",
    "        return None\n",
    "    \n",
    "    grad_rate = \"\"\n",
    "    \n",
    "    for ele in graph_data:\n",
    "        if ele.find(\"Overall\") != -1:\n",
    "            for char in ele:\n",
    "                if char.isdigit():\n",
    "                    grad_rate += char\n",
    "    \n",
    "    if not graph_data: \n",
    "        return None\n",
    "    else:\n",
    "        return grad_rate[:2]"
   ]
  },
  {
   "cell_type": "code",
   "execution_count": 130,
   "metadata": {},
   "outputs": [
    {
     "data": {
      "text/plain": [
       "'96'"
      ]
     },
     "execution_count": 130,
     "metadata": {},
     "output_type": "execute_result"
    }
   ],
   "source": [
    "get_grad_rate_value(soup)"
   ]
  },
  {
   "cell_type": "markdown",
   "metadata": {},
   "source": [
    "## Step 3: Create helper functions to parse strings into numerical values"
   ]
  },
  {
   "cell_type": "code",
   "execution_count": 107,
   "metadata": {},
   "outputs": [],
   "source": [
    "def money_to_int(moneystring):\n",
    "    try:\n",
    "        moneystring = moneystring.replace('$', '').replace(',', '')\n",
    "        return int(moneystring)\n",
    "    except:\n",
    "        return None\n",
    "\n",
    "def percent_to_float(percentstring):\n",
    "    try:\n",
    "        percentstring = percentstring.replace('%','')\n",
    "        return float(percentstring)\n",
    "    except:\n",
    "        return None\n",
    "\n",
    "def number_to_int(numberstring):\n",
    "    try:\n",
    "        numberstring = numberstring.replace(',', '')\n",
    "        return int(numberstring)\n",
    "    except:\n",
    "        return None"
   ]
  },
  {
   "cell_type": "markdown",
   "metadata": {},
   "source": [
    "## Step 4. Scrape features from individual school pages"
   ]
  },
  {
   "cell_type": "code",
   "execution_count": 135,
   "metadata": {},
   "outputs": [],
   "source": [
    "def get_school_dict(link):\n",
    "    '''\n",
    "    From each school's NCES link stub, request school html, parse with BeautifulSoup, and\n",
    "    collect the following features:\n",
    "        - school name \n",
    "        - student-to-faculty ratio as string\n",
    "        - tuition and fees in 2020-21\n",
    "        - books and supplies in 2020-21\n",
    "        - number of full-time faculty\n",
    "        - number part-time faculty\n",
    "        - average amount of grant or scholarship aid among first-time beginning undergraduate students\n",
    "        - average amount of grant or scholarship aid among all undergraduate students\n",
    "        - total enrollment\n",
    "        - undergraduate enrollment\n",
    "        - undergraduate transfer-in enrollment\n",
    "        - graduate enrollment\n",
    "        - number of undergraduate applicants\n",
    "        - percent of undergraduate applicants admitted\n",
    "        - test scores as admissions consideration\n",
    "        - test scores as required\n",
    "        - test scores as recommended\n",
    "        - test scores as considered but not recommended\n",
    "        - number of first-time students who submitted their SAT score\n",
    "        - % of first-time students who submitted their SAT score\n",
    "        - number of first-time students who submitted their ACT score\n",
    "        - % of first-time students who submitted their ACT score\n",
    "        - SAT Evidence-Based Reading and Writing 25th percentile score\n",
    "        - SAT Evidence-Based Reading and Writing 75th percentile score\n",
    "        - SAT Math 25th percentile score\n",
    "        - SAT Math 75th percentile score\n",
    "        - ACT Composite 25th percentile score\n",
    "        - ACT Composite 75th percentile score\n",
    "        - ACT English 25th percentile score\n",
    "        - ACT English 75th percentile score\n",
    "        - ACT Math 25th percentile score\n",
    "        - ACT Math 75th percentile score\n",
    "        - overall graduatioin rate\n",
    "    Return information as a dictionary.\n",
    "    '''\n",
    "    \n",
    "    base_url = 'https://nces.ed.gov/collegenavigator/'\n",
    "    \n",
    "    #Create full url to scrape\n",
    "    url = base_url + link\n",
    "    \n",
    "    #Request HTML and parse\n",
    "    response = requests.get(url, timeout=5)\n",
    "    #time.sleep(4)\n",
    "    page = response.text\n",
    "    soup = BeautifulSoup(page,\"lxml\")\n",
    "\n",
    "    \n",
    "    headers = ['school', 'raw_stu_to_fac_ratio',  \n",
    "               'tuition_fees', 'books_supplies', 'tuition', 'fees', 'tuition_under','fees_under',\n",
    "               'ft_faculty', 'pt_faculty','avg_amt_grant_schol_aid_beg_under_19_20',\n",
    "               'avg_amt_grant_schol_aid_all_under_19_20', 'total_enroll',\n",
    "               'total_enroll_under', 'under_enroll', 'under_trans_enroll','grad_enroll', 'under_apps', 'perc_admitted',\n",
    "               'test_scores_admiss_con', 'test_scores_req', 'test_scores_rec', 'test_scores_con_not_req',\n",
    "               'sat_scores_submit', 'perc_sat_scores_submit','act_scores_submit','perc_act_scores_submit',\n",
    "               'sat_read_write_25_perc', 'sat_read_write_75_perc','sat_math_25_perc','sat_math_75_perc', \n",
    "               'act_comp_25_perc','act_comp_75_perc', 'act_eng_25_perc','act_eng_75_perc', 'act_math_25_perc', \n",
    "               'act_math_75_perc', 'grad_rate']\n",
    "    \n",
    "    #Get school name\n",
    "    school = get_name(soup)\n",
    "\n",
    "    #Get student to faculty ratio\n",
    "    raw_stu_fac_ratio = get_stu_to_fac_ratio(soup)\n",
    "    \n",
    "    #Get price of tuition and fees or just tuition or just fees    \n",
    "    raw_tuition_fees = get_tuition_books_20_21_value(soup, 'Tuition and fees')\n",
    "    tuition_fees = money_to_int(raw_tuition_fees)\n",
    "    \n",
    "    raw_tuition = get_tuition_20_21_value(soup, 'Undergraduate student tuition and fees')\n",
    "    tuition = money_to_int(raw_tuition)\n",
    "    \n",
    "    raw_fees = get_fees_20_21_value(soup, 'Undergraduate student tuition and fees')\n",
    "    fees = money_to_int(raw_fees)\n",
    "    \n",
    "    raw_tuition_under = get_tuition_under_20_21_value(soup, 'Average undergraduate student tuition and fees for academic year')\n",
    "    tuition_under = money_to_int(raw_tuition_under)\n",
    "    \n",
    "    raw_fees_under = get_fees_under_20_21_value(soup, 'Average undergraduate student tuition and fees for academic year')\n",
    "    fees_under = money_to_int(raw_fees_under)\n",
    "    \n",
    "    #Get price of books and supplies\n",
    "    raw_books_supplies = get_tuition_books_20_21_value(soup, 'Books and supplies')\n",
    "    books_supplies = money_to_int(raw_books_supplies)\n",
    "\n",
    "    #Get number of full-time and part-time faculty\n",
    "    raw_ft_faculty = get_school_value_one_next(soup, 'Total faculty')\n",
    "    ft_faculty = number_to_int(raw_ft_faculty)\n",
    "    \n",
    "    raw_pt_faculty = get_school_value_two_nexts(soup, 'Total faculty')\n",
    "    pt_faculty = number_to_int(raw_pt_faculty)\n",
    "\n",
    "    #Get financial aid metrics\n",
    "    raw_avg_amt_grant_schol_aid_beg_under_19_20 = get_avg_amt_grant_schol_aid_beg_under_value(soup,'Grant or scholarship aid')\n",
    "    avg_amt_grant_schol_aid_beg_under_19_20 = money_to_int(raw_avg_amt_grant_schol_aid_beg_under_19_20)\n",
    "\n",
    "    raw_avg_amt_grant_schol_aid_all_under_19_20 = get_avg_amt_grant_schol_aid_all_under_value(soup, 'All Undergraduate Students')\n",
    "    avg_amt_grant_schol_aid_all_under_19_20 = money_to_int(raw_avg_amt_grant_schol_aid_all_under_19_20)\n",
    "    \n",
    "    #Get enrollment metrics\n",
    "    raw_total_enroll = get_school_value_one_next(soup, 'Total enrollment')\n",
    "    total_enroll = number_to_int(raw_total_enroll)\n",
    "    \n",
    "    raw_total_enroll_under = get_school_value_one_next(soup, 'Total enrollment (all undergraduate)') \n",
    "    total_enroll_under = number_to_int(raw_total_enroll_under) # combine this column with total_enroll\n",
    "    \n",
    "    raw_under_enroll = get_school_value_one_next(soup, 'Undergraduate enrollment')\n",
    "    under_enroll = number_to_int(raw_under_enroll)\n",
    "    \n",
    "    raw_under_trans_enroll = get_school_value_one_next(soup, 'Undergraduate transfer-in enrollment')\n",
    "    under_trans_enroll = number_to_int(raw_under_trans_enroll)\n",
    "    \n",
    "    raw_grad_enroll = get_school_value_one_next(soup, 'Graduate enrollment')\n",
    "    grad_enroll = number_to_int(raw_grad_enroll)\n",
    "    \n",
    "    #Get admissions metrics - # of applicants and % admitted\n",
    "    raw_under_apps = get_school_value_one_next(soup, 'Number of applicants')\n",
    "    under_apps = number_to_int(raw_under_apps)\n",
    "    \n",
    "    raw_perc_admitted = get_school_value_one_next(soup, 'Percent admitted')\n",
    "    perc_admitted = percent_to_float(raw_perc_admitted)\n",
    "    \n",
    "    #Get admissions metrics - SAT and ACT\n",
    "    test_scores_admiss_con = get_test_scores_admiss_con_value(soup, 'Admission test scores (SAT/ACT)')\n",
    "    \n",
    "    test_scores_req = get_test_scores_req_value(soup, 'Admission test scores (SAT/ACT)')\n",
    "    \n",
    "    test_scores_rec = get_test_scores_rec_value(soup, 'Admission test scores (SAT/ACT)')\n",
    "    \n",
    "    test_scores_con_not_req = get_test_scores_con_not_req_value(soup, 'Admission test scores (SAT/ACT)')\n",
    "    \n",
    "    raw_sat_scores_submit = get_school_value_one_next(soup, 'SAT')\n",
    "    sat_scores_submit = number_to_int(raw_sat_scores_submit)\n",
    "    \n",
    "    raw_perc_sat_scores_submit = get_school_value_two_nexts(soup, 'SAT')\n",
    "    perc_sat_scores_submit = percent_to_float(raw_perc_sat_scores_submit)\n",
    "    \n",
    "    raw_act_scores_submit = get_school_value_one_next(soup, 'ACT')\n",
    "    act_scores_submit = number_to_int(raw_act_scores_submit)\n",
    "    \n",
    "    raw_perc_act_scores_submit = get_school_value_two_nexts(soup, 'ACT')\n",
    "    perc_act_scores_submit = percent_to_float(raw_perc_act_scores_submit)\n",
    "    \n",
    "    raw_sat_read_write_25_perc = get_school_value_one_next(soup, 'SAT Evidence-Based Reading and Writing')\n",
    "    sat_read_write_25_perc = number_to_int(raw_sat_read_write_25_perc)\n",
    "    \n",
    "    raw_sat_read_write_75_perc = get_school_value_two_nexts(soup, 'SAT Evidence-Based Reading and Writing')\n",
    "    sat_read_write_75_perc = number_to_int(raw_sat_read_write_75_perc)\n",
    "    \n",
    "    raw_sat_math_25_perc = get_school_value_one_next(soup, 'SAT Math')\n",
    "    sat_math_25_perc = number_to_int(raw_sat_math_25_perc)\n",
    "    \n",
    "    raw_sat_math_75_perc = get_school_value_two_nexts(soup, 'SAT Math')\n",
    "    sat_math_75_perc = number_to_int(raw_sat_math_75_perc)\n",
    "    \n",
    "    raw_act_comp_25_perc = get_school_value_one_next(soup, 'ACT Composite')\n",
    "    act_comp_25_perc = number_to_int(raw_act_comp_25_perc)\n",
    "    \n",
    "    raw_act_comp_75_perc = get_school_value_two_nexts(soup, 'ACT Composite')\n",
    "    act_comp_75_perc = number_to_int(raw_act_comp_75_perc)\n",
    "    \n",
    "    raw_act_eng_25_perc = get_school_value_one_next(soup, 'ACT English')\n",
    "    act_eng_25_perc = number_to_int(raw_act_eng_25_perc)\n",
    "    \n",
    "    raw_act_eng_75_perc = get_school_value_two_nexts(soup, 'ACT English')\n",
    "    act_eng_75_perc = number_to_int(raw_act_eng_75_perc)\n",
    "    \n",
    "    raw_act_math_25_perc = get_school_value_one_next(soup, 'ACT Math')\n",
    "    act_math_25_perc = number_to_int(raw_act_math_25_perc)\n",
    "    \n",
    "    raw_act_math_75_perc = get_school_value_two_nexts(soup, 'ACT Math')\n",
    "    act_math_75_perc = number_to_int(raw_act_math_75_perc)\n",
    "    \n",
    "    #Get graduation metric\n",
    "    raw_grad_rate = get_grad_rate_value(soup)\n",
    "    grad_rate = number_to_int(raw_grad_rate)\n",
    "    \n",
    "    #Create school dictionary and return\n",
    "    school_dict = dict(zip(headers, [school,\n",
    "                                    raw_stu_fac_ratio,\n",
    "                                    tuition_fees,\n",
    "                                    books_supplies,\n",
    "                                    tuition,\n",
    "                                    fees,\n",
    "                                    tuition_under,\n",
    "                                    fees_under,\n",
    "                                    ft_faculty,\n",
    "                                    pt_faculty,\n",
    "                                    avg_amt_grant_schol_aid_beg_under_19_20,\n",
    "                                    avg_amt_grant_schol_aid_all_under_19_20,\n",
    "                                    total_enroll,\n",
    "                                    total_enroll_under,\n",
    "                                    under_enroll, \n",
    "                                    under_trans_enroll, \n",
    "                                    grad_enroll,\n",
    "                                    under_apps,\n",
    "                                    perc_admitted,\n",
    "                                    test_scores_admiss_con,\n",
    "                                    test_scores_req,\n",
    "                                    test_scores_rec,\n",
    "                                    test_scores_con_not_req,\n",
    "                                    sat_scores_submit,\n",
    "                                    perc_sat_scores_submit,\n",
    "                                    act_scores_submit,\n",
    "                                    perc_act_scores_submit,\n",
    "                                    sat_read_write_25_perc,\n",
    "                                    sat_read_write_75_perc,\n",
    "                                    sat_math_25_perc,\n",
    "                                    sat_math_75_perc,\n",
    "                                    act_comp_25_perc,\n",
    "                                    act_comp_75_perc,\n",
    "                                    act_eng_25_perc,\n",
    "                                    act_eng_75_perc,\n",
    "                                    act_math_25_perc,\n",
    "                                    act_math_75_perc,\n",
    "                                    grad_rate]))\n",
    "\n",
    "    return school_dict"
   ]
  },
  {
   "cell_type": "code",
   "execution_count": 151,
   "metadata": {},
   "outputs": [],
   "source": [
    "# apply the above created function to extract data for every link stub in schools_df\n",
    "    # (the df containing school name and link stub) and append the extracted data to a newly\n",
    "    # created list, which will ultimately become a list of dicts, one dict for each school\n",
    "\n",
    "private_schools_page_info_list = []\n",
    "\n",
    "for link in schools_df.link_stub[:400]:\n",
    "    private_schools_page_info_list.append(get_school_dict(link))"
   ]
  },
  {
   "cell_type": "code",
   "execution_count": 152,
   "metadata": {},
   "outputs": [
    {
     "name": "stdout",
     "output_type": "stream",
     "text": [
      "1332\n",
      "400\n",
      "932\n"
     ]
    }
   ],
   "source": [
    "print(len(schools_df))\n",
    "print(len(private_schools_page_info_list))\n",
    "print(len(schools_df) - len(private_schools_page_info_list))"
   ]
  },
  {
   "cell_type": "code",
   "execution_count": 153,
   "metadata": {},
   "outputs": [],
   "source": [
    "#convert list of dictionaries to df to be used for modeling\n",
    "\n",
    "private_schools_page_info = pd.DataFrame(private_schools_page_info_list)\n",
    "private_schools_page_info.set_index('school', inplace=True)"
   ]
  },
  {
   "cell_type": "code",
   "execution_count": 154,
   "metadata": {
    "scrolled": true
   },
   "outputs": [
    {
     "name": "stdout",
     "output_type": "stream",
     "text": [
      "<class 'pandas.core.frame.DataFrame'>\n",
      "Index: 400 entries, Alaska Bible College to Midland University\n",
      "Data columns (total 37 columns):\n",
      " #   Column                                   Non-Null Count  Dtype  \n",
      "---  ------                                   --------------  -----  \n",
      " 0   raw_stu_to_fac_ratio                     396 non-null    object \n",
      " 1   tuition_fees                             367 non-null    float64\n",
      " 2   books_supplies                           352 non-null    float64\n",
      " 3   tuition                                  26 non-null     float64\n",
      " 4   fees                                     26 non-null     float64\n",
      " 5   tuition_under                            2 non-null      float64\n",
      " 6   fees_under                               2 non-null      float64\n",
      " 7   ft_faculty                               391 non-null    float64\n",
      " 8   pt_faculty                               391 non-null    float64\n",
      " 9   avg_amt_grant_schol_aid_beg_under_19_20  381 non-null    float64\n",
      " 10  avg_amt_grant_schol_aid_all_under_19_20  394 non-null    float64\n",
      " 11  total_enroll                             298 non-null    float64\n",
      " 12  total_enroll_under                       98 non-null     float64\n",
      " 13  under_enroll                             298 non-null    float64\n",
      " 14  under_trans_enroll                       396 non-null    float64\n",
      " 15  grad_enroll                              298 non-null    float64\n",
      " 16  under_apps                               290 non-null    float64\n",
      " 17  perc_admitted                            290 non-null    float64\n",
      " 18  test_scores_admiss_con                   234 non-null    float64\n",
      " 19  test_scores_req                          83 non-null     float64\n",
      " 20  test_scores_rec                          36 non-null     float64\n",
      " 21  test_scores_con_not_req                  115 non-null    float64\n",
      " 22  sat_scores_submit                        177 non-null    float64\n",
      " 23  perc_sat_scores_submit                   177 non-null    float64\n",
      " 24  act_scores_submit                        179 non-null    float64\n",
      " 25  perc_act_scores_submit                   179 non-null    float64\n",
      " 26  sat_read_write_25_perc                   173 non-null    float64\n",
      " 27  sat_read_write_75_perc                   173 non-null    float64\n",
      " 28  sat_math_25_perc                         174 non-null    float64\n",
      " 29  sat_math_75_perc                         174 non-null    float64\n",
      " 30  act_comp_25_perc                         179 non-null    float64\n",
      " 31  act_comp_75_perc                         179 non-null    float64\n",
      " 32  act_eng_25_perc                          171 non-null    float64\n",
      " 33  act_eng_75_perc                          171 non-null    float64\n",
      " 34  act_math_25_perc                         171 non-null    float64\n",
      " 35  act_math_75_perc                         171 non-null    float64\n",
      " 36  grad_rate                                348 non-null    float64\n",
      "dtypes: float64(36), object(1)\n",
      "memory usage: 118.8+ KB\n"
     ]
    }
   ],
   "source": [
    "private_schools_page_info.info()"
   ]
  },
  {
   "cell_type": "code",
   "execution_count": 155,
   "metadata": {},
   "outputs": [],
   "source": [
    "# save dataframe to csv for cleaning in another notebook\n",
    "\n",
    "#private_schools_page_info.to_csv('schools_csv_14.csv')"
   ]
  }
 ],
 "metadata": {
  "kernelspec": {
   "display_name": "Python 3",
   "language": "python",
   "name": "python3"
  },
  "language_info": {
   "codemirror_mode": {
    "name": "ipython",
    "version": 3
   },
   "file_extension": ".py",
   "mimetype": "text/x-python",
   "name": "python",
   "nbconvert_exporter": "python",
   "pygments_lexer": "ipython3",
   "version": "3.8.3"
  }
 },
 "nbformat": 4,
 "nbformat_minor": 4
}
