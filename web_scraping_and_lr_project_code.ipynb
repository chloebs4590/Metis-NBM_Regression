{
 "cells": [
  {
   "cell_type": "code",
   "execution_count": 715,
   "metadata": {},
   "outputs": [],
   "source": [
    "from bs4 import BeautifulSoup\n",
    "import requests\n",
    "import random\n",
    "import time\n",
    "import pandas as pd"
   ]
  },
  {
   "cell_type": "markdown",
   "metadata": {},
   "source": [
    "#### Abilene Christian University as an example school from which to extract features for the final dataset"
   ]
  },
  {
   "cell_type": "code",
   "execution_count": 579,
   "metadata": {},
   "outputs": [],
   "source": [
    "url = 'https://nces.ed.gov/collegenavigator/?s=all&l=93&ct=2&ic=1&id=222178' \n",
    "\n",
    "response = requests.get(url)"
   ]
  },
  {
   "cell_type": "code",
   "execution_count": 580,
   "metadata": {},
   "outputs": [
    {
     "data": {
      "text/plain": [
       "200"
      ]
     },
     "execution_count": 580,
     "metadata": {},
     "output_type": "execute_result"
    }
   ],
   "source": [
    "response.status_code  #200 = success!"
   ]
  },
  {
   "cell_type": "code",
   "execution_count": 581,
   "metadata": {},
   "outputs": [
    {
     "data": {
      "text/plain": [
       "'\\r\\n<!DOCTYPE html PUBLIC \"-//W3C//DTD XHTML 1.0 Transitional//EN\" \"http://www.w3.org/TR/xhtml1/DTD/xhtml1-transitional.dtd\">\\r\\n<html xmlns=\"http://www.w3.org/1999/xhtml\" lang=\"en\" xml:lang=\"en\" ><head id=\"ctl00_hd\"><meta http-equiv=\"Content-type\" content=\"text/html;charset=UTF-8\" /><title>\\r\\n\\tCollege Navigator - Abilene Christian University\\r\\n</title><link href=\"css/md0.css\" type=\"text/css\" rel=\"stylesheet\" /><meta name=\"robots\" content=\"noindex,nofollow\"></meta><link href=\"css/collegenav.css?v=2.4\" type=\"text/css\" rel=\"stylesheet\" /><link href=\"css/mapstyle.css\" type=\"text/css\" rel=\"stylesheet\" /><!--[if lte IE 8]><link href=\"css/mainIE6.css\" text=\"text/css\" rel=\"stylesheet\" /><![endif]--><link rel=\"search\" type=\"application/opensearchdescription+xml\" title=\"NCES College Navigator\" href=\"http://nces.ed.gov/collegenavigator/opensearch.ashx?md=0\" /></head>\\r\\n<body id=\"ctl00_bodyMain\" onload=\"if(typeof imgPL==\\'function\\')imgPL();if(typeof sp==\\'function\\')sp();\"><div class=\"headContents\">\\r\\n<meta'"
      ]
     },
     "execution_count": 581,
     "metadata": {},
     "output_type": "execute_result"
    }
   ],
   "source": [
    "response.text[:1000]  #First 1000 characters of the HTML"
   ]
  },
  {
   "cell_type": "code",
   "execution_count": 582,
   "metadata": {},
   "outputs": [],
   "source": [
    "page = response.text"
   ]
  },
  {
   "cell_type": "code",
   "execution_count": 584,
   "metadata": {},
   "outputs": [],
   "source": [
    "soup = BeautifulSoup(page, \"lxml\")"
   ]
  },
  {
   "cell_type": "markdown",
   "metadata": {},
   "source": [
    "\n",
    "#### Initial table at top of institution's page\n",
    "- Institution's name\n",
    "- Student-to-faculty ratio"
   ]
  },
  {
   "cell_type": "code",
   "execution_count": 668,
   "metadata": {},
   "outputs": [
    {
     "name": "stdout",
     "output_type": "stream",
     "text": [
      "Abilene Christian University\n"
     ]
    }
   ],
   "source": [
    "private_university_string = soup.find('title').text\n",
    "private_university = private_university_string.split('-')[1].strip()\n",
    "print(private_university)"
   ]
  },
  {
   "cell_type": "code",
   "execution_count": 592,
   "metadata": {},
   "outputs": [
    {
     "name": "stdout",
     "output_type": "stream",
     "text": [
      "13 to 1\n",
      "13.0\n"
     ]
    }
   ],
   "source": [
    "stu_fac_ratio_str = soup.find('table', class_='layouttab').find_all('td')[-1].text\n",
    "print(stu_fac_ratio_str)\n",
    "stu_fac_ratio_ls = stu_fac_ratio.split()\n",
    "stu_fac_ratio_ls.remove('to')\n",
    "stu_fac_ratio_ls = [int(x) for x in stu_fac_ratio_ls]\n",
    "stu_fac_ratio_ls\n",
    "stu_fac_ratio_dec = stu_fac_ratio_ls[0] / stu_fac_ratio_ls[1]\n",
    "print(stu_fac_ratio_dec)"
   ]
  },
  {
   "cell_type": "markdown",
   "metadata": {},
   "source": [
    "#### 'TUITION, FEES AND ESTIMATED STUDENT EXPENSES' collapsable table\n",
    "- tuition and fees in 2019-20\n",
    "- books and supplies in 2019-20\n",
    "- tuition and fees in 2020-21\n",
    "- books and supplies in 2020-21"
   ]
  },
  {
   "cell_type": "code",
   "execution_count": 593,
   "metadata": {},
   "outputs": [
    {
     "data": {
      "text/plain": [
       "<tr><td scope=\"row\">Tuition and fees</td><td>$33,330</td><td>$34,850</td><td>$36,300</td><td>$37,800</td><td>4.1%</td></tr>"
      ]
     },
     "execution_count": 593,
     "metadata": {},
     "output_type": "execute_result"
    }
   ],
   "source": [
    "tuition_table = soup.find(id='divctl00_cphCollegeNavBody_ucInstitutionMain_ctl00')\n",
    "tuition_rows = [row for row in tuition_table.find_all('tr')]\n",
    "tuition_rows[1]"
   ]
  },
  {
   "cell_type": "code",
   "execution_count": 650,
   "metadata": {},
   "outputs": [
    {
     "name": "stdout",
     "output_type": "stream",
     "text": [
      "36300\n",
      "1250\n",
      "37800\n",
      "1250\n"
     ]
    }
   ],
   "source": [
    "tuition_text = tuition_rows[1].find_all('td')[0].text\n",
    "books_text = tuition_rows[2].find_all('td')[0].text\n",
    "tuition_19_20 = int(tuition_rows[1].find_all('td')[3].text.replace('$','').replace(',',''))\n",
    "print(tuition_19_20)\n",
    "books_19_20 = int(tuition_rows[2].find_all('td')[3].text.replace('$','').replace(',',''))\n",
    "print(books_19_20)\n",
    "tuition = int(tuition_rows[1].find_all('td')[4].text.replace('$','').replace(',',''))\n",
    "print(tuition)\n",
    "books = int(tuition_rows[2].find_all('td')[4].text.replace('$','').replace(',',''))\n",
    "print(books)"
   ]
  },
  {
   "cell_type": "markdown",
   "metadata": {},
   "source": [
    "#### 'GENERAL INFORMATION' collapsable table'\n",
    "- number of full-time faculty\n",
    "- number part-time faculty"
   ]
  },
  {
   "cell_type": "code",
   "execution_count": 594,
   "metadata": {},
   "outputs": [
    {
     "data": {
      "text/plain": [
       "<tr><td>Total faculty</td><td>277</td><td>137</td></tr>"
      ]
     },
     "execution_count": 594,
     "metadata": {},
     "output_type": "execute_result"
    }
   ],
   "source": [
    "faculty_table = soup.find(id='ctl00_cphCollegeNavBody_ucInstitutionMain_divFaculty')\n",
    "faculty_table = [row for row in faculty_table.find_all('tr')]\n",
    "faculty_table[1]"
   ]
  },
  {
   "cell_type": "code",
   "execution_count": 602,
   "metadata": {},
   "outputs": [],
   "source": [
    "ft_faculty = int(faculty_table[1].find_all('td')[1].text)\n",
    "pt_faculty = int(faculty_table[1].find_all('td')[2].text)"
   ]
  },
  {
   "cell_type": "markdown",
   "metadata": {},
   "source": [
    "#### 'FINANCIAL AID' collapsable table - ONLY 2019-20 DATA\n",
    "- number of all undergraduate students receiving grant or scholarship aid\n",
    "- average amount of grant or scholarship aid among all undergraduate students\n",
    "- number of all undergraduate students receiving Pell grants\n",
    "- average amount of Pell grants aid received among all undergraduate students"
   ]
  },
  {
   "cell_type": "code",
   "execution_count": 647,
   "metadata": {},
   "outputs": [
    {
     "data": {
      "text/plain": [
       "[<td scope=\"row\">Pell grants</td>,\n",
       " <td>899</td>,\n",
       " <td>$4,226,334</td>,\n",
       " <td>$4,701</td>]"
      ]
     },
     "execution_count": 647,
     "metadata": {},
     "output_type": "execute_result"
    }
   ],
   "source": [
    "aid_table = soup.find(id='divctl00_cphCollegeNavBody_ucInstitutionMain_ctl01')\n",
    "aid_rows = [row for row in aid_table.find_all('tr')]\n",
    "aid_rows[13].find_all('td')"
   ]
  },
  {
   "cell_type": "code",
   "execution_count": 649,
   "metadata": {},
   "outputs": [
    {
     "name": "stdout",
     "output_type": "stream",
     "text": [
      "3436\n",
      "21092\n",
      "899\n",
      "4701\n"
     ]
    }
   ],
   "source": [
    "grant_scholarship_aid_19_20 = int(aid_rows[12].find_all('td')[1].text.replace(',',''))\n",
    "print(grant_scholarship_aid_19_20)\n",
    "avg_amt_grant_scholarship_aid_19_20 = int(aid_rows[12].find_all('td')[3].text.replace('$','').replace(',',''))\n",
    "print(avg_amt_grant_scholarship_aid_19_20)\n",
    "pell_aid_19_20 = int(aid_rows[13].find_all('td')[1].text.replace(',',''))\n",
    "print(pell_aid_19_20)\n",
    "avg_amt_pell_aid_19_20 = int(aid_rows[13].find_all('td')[3].text.replace('$','').replace(',',''))\n",
    "print(avg_amt_pell_aid_19_20)"
   ]
  },
  {
   "cell_type": "markdown",
   "metadata": {},
   "source": [
    "#### 'ENROLLMENT' collapsable table\n",
    "- total enrollment\n",
    "- undergraduate enrollment\n",
    "- undergraduate transfer-in enrollment\n",
    "- graduate enrollment"
   ]
  },
  {
   "cell_type": "code",
   "execution_count": 617,
   "metadata": {},
   "outputs": [
    {
     "data": {
      "text/plain": [
       "<tr><th scope=\"col\">Total enrollment</th><th scope=\"col\">5,291</th></tr>"
      ]
     },
     "execution_count": 617,
     "metadata": {},
     "output_type": "execute_result"
    }
   ],
   "source": [
    "enroll_table = soup.find(id='divctl00_cphCollegeNavBody_ucInstitutionMain_ctl03')\n",
    "enroll_rows = [row for row in enroll_table.find_all('tr')]\n",
    "enroll_rows[0]"
   ]
  },
  {
   "cell_type": "code",
   "execution_count": 622,
   "metadata": {},
   "outputs": [
    {
     "name": "stdout",
     "output_type": "stream",
     "text": [
      "5291\n",
      "3494\n",
      "143\n",
      "1797\n"
     ]
    }
   ],
   "source": [
    "total_enroll = int(enroll_rows[0].find_all('th')[1].text.replace(',',''))\n",
    "print(total_enroll)\n",
    "under_enroll = int(enroll_rows[1].find_all('td')[1].text.replace(',',''))\n",
    "print(under_enroll)\n",
    "under_trans_enroll = int(enroll_rows[2].find_all('td')[1].text.replace(',',''))\n",
    "print(under_trans_enroll)\n",
    "grad_enroll = int(enroll_rows[3].find_all('td')[1].text.replace(',',''))\n",
    "print(grad_enroll)"
   ]
  },
  {
   "cell_type": "markdown",
   "metadata": {},
   "source": [
    "#### 'ADMISSIONS' collapsable table - **NEED TO MODIFY THIS CODE FOR SCHOOLS LIKE AMERICA EVANGELICAL UNIVERSITY THAT DON'T HAVE ADMISSIONS DATA BECAUSE THEY HAVE AN OPEN ADMISSION POLICY**\n",
    "- number of undergraduate applicants\n",
    "- percent of undergraduate applicants admitted\n",
    "- number of first-time students who submitted their SAT score\n",
    "- % of first-time students who submitted their SAT score\n",
    "- number of first-time students who submitted their ACT score\n",
    "- % of first-time students who submitted their ACT score\n",
    "- SAT Evidence-Based Reading and Writing 25th percentile score\n",
    "- SAT Evidence-Based Reading and Writing 75th percentile score\n",
    "- SAT Math 25th percentile score\n",
    "- SAT Math 75th percentile score\n",
    "- ACT Composite 25th percentile score\n",
    "- ACT Composite 75th percentile score\n",
    "- ACT English 25th percentile score\n",
    "- ACT English 75th percentile score\n",
    "- ACT Math 25th percentile score\n",
    "- ACT Math 75th percentile score"
   ]
  },
  {
   "cell_type": "code",
   "execution_count": 659,
   "metadata": {},
   "outputs": [],
   "source": [
    "admissions_table = soup.find(id='divctl00_cphCollegeNavBody_ucInstitutionMain_ctl04')"
   ]
  },
  {
   "cell_type": "code",
   "execution_count": 694,
   "metadata": {},
   "outputs": [],
   "source": [
    "admissions_rows = [row for row in admissions_table.find_all('tr')]"
   ]
  },
  {
   "cell_type": "code",
   "execution_count": 705,
   "metadata": {},
   "outputs": [
    {
     "data": {
      "text/plain": [
       "'510'"
      ]
     },
     "execution_count": 705,
     "metadata": {},
     "output_type": "execute_result"
    }
   ],
   "source": [
    "soup.find(text='SAT Evidence-Based Reading and Writing').findNext().text"
   ]
  },
  {
   "cell_type": "code",
   "execution_count": 693,
   "metadata": {},
   "outputs": [
    {
     "name": "stdout",
     "output_type": "stream",
     "text": [
      "10534\n",
      "61.0\n"
     ]
    }
   ],
   "source": [
    "under_apps = int(admissions_rows[3].find_all('td')[1].text.replace(',',''))\n",
    "print(applicants)\n",
    "perc_admitted = float(admissions_rows[4].find_all('td')[2].text.replace('%',''))\n",
    "print(perc_admitted)"
   ]
  },
  {
   "cell_type": "code",
   "execution_count": 712,
   "metadata": {},
   "outputs": [
    {
     "name": "stdout",
     "output_type": "stream",
     "text": [
      "432\n",
      "50.0\n",
      "369\n",
      "43.0\n",
      "510\n",
      "620\n",
      "500\n",
      "600\n",
      "21\n",
      "27\n",
      "20\n",
      "28\n",
      "18\n",
      "26\n"
     ]
    }
   ],
   "source": [
    "sat_scores_submit = int(soup.find(text='SAT').findNext().text)\n",
    "print(sat_scores_submit)\n",
    "perc_sat_scores_submit = float(soup.find(text='SAT').findNext().findNext().text.replace('%',''))\n",
    "print(perc_sat_scores_submit)\n",
    "act_scores_submit = int(soup.find(text='ACT').findNext().text)\n",
    "print(act_scores_submit)\n",
    "perc_act_scores_submit = float(soup.find(text='ACT').findNext().findNext().text.replace('%',''))\n",
    "print(perc_act_scores_submit)\n",
    "sat_read_write_25_perc = int(soup.find(text='SAT Evidence-Based Reading and Writing').findNext().text)\n",
    "print(sat_read_write_25_perc)\n",
    "sat_read_write_75_perc = int(soup.find(text='SAT Evidence-Based Reading and Writing').findNext().findNext().text)\n",
    "print(sat_read_write_75_perc)\n",
    "sat_math_25_perc = int(soup.find(text='SAT Math').findNext().text)\n",
    "print(sat_math_25_perc)\n",
    "sat_math_75_perc = int(soup.find(text='SAT Math').findNext().findNext().text)\n",
    "print(sat_math_75_perc)\n",
    "act_comp_25_perc = int(soup.find(text='ACT Composite').findNext().text)\n",
    "print(act_comp_25_perc)\n",
    "act_comp_75_perc = int(soup.find(text='ACT Composite').findNext().findNext().text)\n",
    "print(act_comp_75_perc)\n",
    "act_eng_25_perc = int(soup.find(text='ACT English').findNext().text)\n",
    "print(act_eng_25_perc)\n",
    "act_eng_75_perc = int(soup.find(text='ACT English').findNext().findNext().text)\n",
    "print(act_eng_75_perc)\n",
    "act_math_25_perc = int(soup.find(text='ACT Math').findNext().text)\n",
    "print(act_math_25_perc)\n",
    "act_math_75_perc = int(soup.find(text='ACT Math').findNext().findNext().text)\n",
    "print(act_math_75_perc)"
   ]
  },
  {
   "cell_type": "markdown",
   "metadata": {},
   "source": [
    "### Private non-profit colleges/university by region"
   ]
  },
  {
   "cell_type": "code",
   "execution_count": 379,
   "metadata": {},
   "outputs": [],
   "source": [
    "# URLs of lists of schools by region\n",
    "    # Far West\n",
    "url_fw = 'https://nces.ed.gov/collegenavigator/?s=AK+CA+HI+NV+OR+WA&l=93&ct=2'\n",
    "\n",
    "    # Rocky Mountains\n",
    "url_rm = 'https://nces.ed.gov/collegenavigator/?s=CO+ID+MT+UT+WY&l=93&ct=2'\n",
    "\n",
    "    # Southwest\n",
    "url_sw = 'https://nces.ed.gov/collegenavigator/?s=AZ+NM+OK+TX&l=93&ct=2'\n",
    "\n",
    "    # Plains\n",
    "url_p = 'https://nces.ed.gov/collegenavigator/?s=IA+KS+MN+MO+NE+ND+SD&l=93&ct=2'\n",
    "\n",
    "    # Great Lakes\n",
    "url_gl = 'https://nces.ed.gov/collegenavigator/?s=IL+IN+MI+OH+WI&l=93&ct=2'\n",
    "\n",
    "    # Southeast\n",
    "url_se = 'https://nces.ed.gov/collegenavigator/?s=AL+AR+FL+GA+KY+LA+MS+NC+SC+TN+VA+WV&l=93&ct=2'\n",
    "   \n",
    "    # Mideast (including DC)\n",
    "url_me = 'https://nces.ed.gov/collegenavigator/?s=DE+DC+MD+NJ+NY+PA&l=93&ct=2'\n",
    "    \n",
    "    # New England\n",
    "url_ne = 'https://nces.ed.gov/collegenavigator/?s=CT+ME+MA+NH+RI+VT&l=93&ct=2'"
   ]
  },
  {
   "cell_type": "code",
   "execution_count": 504,
   "metadata": {},
   "outputs": [],
   "source": [
    "# create a list of the url of each region's initial page of private schools\n",
    "\n",
    "regions_urls = ['https://nces.ed.gov/collegenavigator/?s=AK+CA+HI+NV+OR+WA&l=93&ct=2',\n",
    "               'https://nces.ed.gov/collegenavigator/?s=CO+ID+MT+UT+WY&l=93&ct=2',\n",
    "               'https://nces.ed.gov/collegenavigator/?s=AZ+NM+OK+TX&l=93&ct=2',\n",
    "               'https://nces.ed.gov/collegenavigator/?s=IA+KS+MN+MO+NE+ND+SD&l=93&ct=2',\n",
    "               'https://nces.ed.gov/collegenavigator/?s=IL+IN+MI+OH+WI&l=93&ct=2',\n",
    "               'https://nces.ed.gov/collegenavigator/?s=AL+AR+FL+GA+KY+LA+MS+NC+SC+TN+VA+WV&l=93&ct=2',\n",
    "               'https://nces.ed.gov/collegenavigator/?s=DE+DC+MD+NJ+NY+PA&l=93&ct=2',\n",
    "               'https://nces.ed.gov/collegenavigator/?s=CT+ME+MA+NH+RI+VT&l=93&ct=2']                "
   ]
  },
  {
   "cell_type": "code",
   "execution_count": 427,
   "metadata": {},
   "outputs": [],
   "source": [
    "# loop through each url of each region's initial page of private schools to get the count of the # of pages' \n",
    "    # worth of schools each region has\n",
    "\n",
    "pages_regions = []\n",
    "\n",
    "for url_reg in regions_urls:\n",
    "    response_reg = requests.get(url_reg)\n",
    "    soup_reg = BeautifulSoup(response_reg.text, 'html5lib')\n",
    "    pages_str = soup_reg.find(id='ctl00_cphCollegeNavBody_ucResultsMain_divPagingControls').find_all('a')[-1]['href']\n",
    "    pages_idx = pages_str.find('&pg=')\n",
    "    pages = pages_str[pages_idx+4:]\n",
    "    pages_regions.append(int(pages))"
   ]
  },
  {
   "cell_type": "code",
   "execution_count": 505,
   "metadata": {},
   "outputs": [],
   "source": [
    "# loop through the list of initial region urls and each region's corresponding number of pages' worth of schools to\n",
    "    # create a new url for each region's page(s) and add the new url to the original list of initial region urls\n",
    "\n",
    "for idx in range(0, len(regions_urls)):\n",
    "    for i in range(2, pages_regions[idx]+1):\n",
    "        new_url = (''.join(regions_urls[idx] + '&pg=' + str(i)))\n",
    "        regions_urls.append(new_url)"
   ]
  },
  {
   "cell_type": "code",
   "execution_count": 726,
   "metadata": {},
   "outputs": [],
   "source": [
    "# loop through each region url to create a dictionary of all school names and their corresponding url\n",
    "\n",
    "schools = {}\n",
    "names = []\n",
    "urls = []\n",
    "\n",
    "for reg_url in regions_urls:\n",
    "    response_reg = requests.get(reg_url)\n",
    "    soup_reg = BeautifulSoup(response_reg.text, \"lxml\")\n",
    "    table_reg = soup_reg.find(id='ctl00_cphCollegeNavBody_ucResultsMain_tblResults')\n",
    "    rows_reg = [row for row in table_reg.find_all('tr')]\n",
    "\n",
    "    for row in rows_reg:\n",
    "        link = row.find('a')\n",
    "        if link != None:\n",
    "            name, url = link.text, link['href']\n",
    "            names.append(name)\n",
    "            urls.append(url)\n",
    "            for idx in range(1, len(names)):\n",
    "                if names[idx] == names[idx-1]:\n",
    "                    names[idx] = names[idx] + '_b'\n",
    "\n",
    "for a, b in zip(names, urls):\n",
    "    schools[a] = [b]"
   ]
  },
  {
   "cell_type": "code",
   "execution_count": 727,
   "metadata": {},
   "outputs": [
    {
     "ename": "TypeError",
     "evalue": "can only concatenate str (not \"list\") to str",
     "output_type": "error",
     "traceback": [
      "\u001b[0;31m---------------------------------------------------------------------------\u001b[0m",
      "\u001b[0;31mTypeError\u001b[0m                                 Traceback (most recent call last)",
      "\u001b[0;32m<ipython-input-727-a40726231a22>\u001b[0m in \u001b[0;36m<module>\u001b[0;34m\u001b[0m\n\u001b[1;32m      2\u001b[0m \u001b[0;34m\u001b[0m\u001b[0m\n\u001b[1;32m      3\u001b[0m \u001b[0;32mfor\u001b[0m \u001b[0mkey\u001b[0m\u001b[0;34m,\u001b[0m \u001b[0mval\u001b[0m \u001b[0;32min\u001b[0m \u001b[0mschools\u001b[0m\u001b[0;34m.\u001b[0m\u001b[0mitems\u001b[0m\u001b[0;34m(\u001b[0m\u001b[0;34m)\u001b[0m\u001b[0;34m:\u001b[0m\u001b[0;34m\u001b[0m\u001b[0;34m\u001b[0m\u001b[0m\n\u001b[0;32m----> 4\u001b[0;31m     \u001b[0mschools\u001b[0m\u001b[0;34m[\u001b[0m\u001b[0mkey\u001b[0m\u001b[0;34m]\u001b[0m \u001b[0;34m=\u001b[0m \u001b[0;34m'https://nces.ed.gov/collegenavigator/'\u001b[0m \u001b[0;34m+\u001b[0m \u001b[0mval\u001b[0m\u001b[0;34m\u001b[0m\u001b[0;34m\u001b[0m\u001b[0m\n\u001b[0m",
      "\u001b[0;31mTypeError\u001b[0m: can only concatenate str (not \"list\") to str"
     ]
    }
   ],
   "source": [
    "# loop through the new dictionary of school names and urls to add beginning part of nces' website to the urls\n",
    "\n",
    "for key, val in schools.items():\n",
    "    schools[key] = 'https://nces.ed.gov/collegenavigator/' + val"
   ]
  },
  {
   "cell_type": "code",
   "execution_count": 728,
   "metadata": {},
   "outputs": [
    {
     "data": {
      "text/plain": [
       "{'Alaska Bible College': ['?s=AK+CA+HI+NV+OR+WA&l=93&ct=2&id=102580'],\n",
       " 'Alaska Pacific University': ['?s=AK+CA+HI+NV+OR+WA&l=93&ct=2&id=102669'],\n",
       " 'America Evangelical University': ['?s=AK+CA+HI+NV+OR+WA&l=93&ct=2&id=490081'],\n",
       " 'American Jewish University': ['?s=AK+CA+HI+NV+OR+WA&l=93&ct=2&id=116846'],\n",
       " 'Antioch University-Los Angeles': ['?s=AK+CA+HI+NV+OR+WA&l=93&ct=2&id=245838']}"
      ]
     },
     "execution_count": 728,
     "metadata": {},
     "output_type": "execute_result"
    }
   ],
   "source": [
    "# check first five key, value pairs in schools dict\n",
    "\n",
    "{k: schools[k] for k in list(schools)[:5]}"
   ]
  },
  {
   "cell_type": "code",
   "execution_count": 729,
   "metadata": {},
   "outputs": [
    {
     "data": {
      "text/html": [
       "<div>\n",
       "<style scoped>\n",
       "    .dataframe tbody tr th:only-of-type {\n",
       "        vertical-align: middle;\n",
       "    }\n",
       "\n",
       "    .dataframe tbody tr th {\n",
       "        vertical-align: top;\n",
       "    }\n",
       "\n",
       "    .dataframe thead th {\n",
       "        text-align: right;\n",
       "    }\n",
       "</style>\n",
       "<table border=\"1\" class=\"dataframe\">\n",
       "  <thead>\n",
       "    <tr style=\"text-align: right;\">\n",
       "      <th></th>\n",
       "      <th>link_stub</th>\n",
       "    </tr>\n",
       "  </thead>\n",
       "  <tbody>\n",
       "    <tr>\n",
       "      <th>Alaska Bible College</th>\n",
       "      <td>?s=AK+CA+HI+NV+OR+WA&amp;l=93&amp;ct=2&amp;id=102580</td>\n",
       "    </tr>\n",
       "    <tr>\n",
       "      <th>Alaska Pacific University</th>\n",
       "      <td>?s=AK+CA+HI+NV+OR+WA&amp;l=93&amp;ct=2&amp;id=102669</td>\n",
       "    </tr>\n",
       "    <tr>\n",
       "      <th>America Evangelical University</th>\n",
       "      <td>?s=AK+CA+HI+NV+OR+WA&amp;l=93&amp;ct=2&amp;id=490081</td>\n",
       "    </tr>\n",
       "    <tr>\n",
       "      <th>American Jewish University</th>\n",
       "      <td>?s=AK+CA+HI+NV+OR+WA&amp;l=93&amp;ct=2&amp;id=116846</td>\n",
       "    </tr>\n",
       "    <tr>\n",
       "      <th>Antioch University-Los Angeles</th>\n",
       "      <td>?s=AK+CA+HI+NV+OR+WA&amp;l=93&amp;ct=2&amp;id=245838</td>\n",
       "    </tr>\n",
       "  </tbody>\n",
       "</table>\n",
       "</div>"
      ],
      "text/plain": [
       "                                                               link_stub\n",
       "Alaska Bible College            ?s=AK+CA+HI+NV+OR+WA&l=93&ct=2&id=102580\n",
       "Alaska Pacific University       ?s=AK+CA+HI+NV+OR+WA&l=93&ct=2&id=102669\n",
       "America Evangelical University  ?s=AK+CA+HI+NV+OR+WA&l=93&ct=2&id=490081\n",
       "American Jewish University      ?s=AK+CA+HI+NV+OR+WA&l=93&ct=2&id=116846\n",
       "Antioch University-Los Angeles  ?s=AK+CA+HI+NV+OR+WA&l=93&ct=2&id=245838"
      ]
     },
     "execution_count": 729,
     "metadata": {},
     "output_type": "execute_result"
    }
   ],
   "source": [
    "schools_df = pd.DataFrame(schools).T  #transpose\n",
    "schools_df.columns = ['link_stub']\n",
    "\n",
    "schools_df.head()"
   ]
  },
  {
   "cell_type": "code",
   "execution_count": null,
   "metadata": {},
   "outputs": [],
   "source": [
    "def get_school_dict(link):\n",
    "    '''\n",
    "    From the National Center for Educaiton Statistics link stub, request school html, parse with BeautifulSoup, and\n",
    "    collect \n",
    "        - school name \n",
    "        - student-to-faculty ratio\n",
    "        - tuition and fees in 2019-20\n",
    "        - books and supplies in 2019-20\n",
    "        - tuition and fees in 2020-21\n",
    "        - books and supplies in 2020-21\n",
    "        - number of full-time faculty\n",
    "        - number part-time faculty\n",
    "        - \n",
    "    Return information as a dictionary.\n",
    "    '''\n",
    "    \n",
    "    base_url = 'https://www.boxofficemojo.com'\n",
    "    \n",
    "    #Create full url to scrape\n",
    "    url = base_url + link\n",
    "    \n",
    "    #Request HTML and parse\n",
    "    response = requests.get(url)\n",
    "    page = response.text\n",
    "    soup = BeautifulSoup(page,\"lxml\")\n",
    "\n",
    "    \n",
    "    headers = ['movie_title', 'domestic_total_gross',\n",
    "               'runtime_minutes', 'rating', 'release_date']\n",
    "    \n",
    "    #Get title\n",
    "    title_string = soup.find('title').text\n",
    "    title = title_string.split('-')[0].strip()\n",
    "\n",
    "    #Get domestic gross\n",
    "    raw_domestic_total_gross = (soup.find(class_='mojo-performance-summary-table')\n",
    "                                    .find_all('span', class_='money')[0]\n",
    "                                    .text\n",
    "                               )\n",
    "    domestic_total_gross = money_to_int(raw_domestic_total_gross)\n",
    "\n",
    "    #Get runtime\n",
    "    raw_runtime = get_movie_value(soup,'Running')\n",
    "    runtime = runtime_to_minutes(raw_runtime)\n",
    "    \n",
    "    #Get rating\n",
    "    rating = get_movie_value(soup,'MPAA')\n",
    "\n",
    "    #Get release date\n",
    "    raw_release_date = get_movie_value(soup,'Release Date').split('\\n')[0]\n",
    "    release_date = to_date(raw_release_date)\n",
    "    \n",
    "    #Create movie dictionary and return\n",
    "    movie_dict = dict(zip(headers, [title,\n",
    "                                domestic_total_gross,\n",
    "                                runtime,\n",
    "                                rating, \n",
    "                                release_date]))\n",
    "\n",
    "    return movie_dict"
   ]
  },
  {
   "cell_type": "code",
   "execution_count": 574,
   "metadata": {},
   "outputs": [],
   "source": [
    "# loop through each school's page to extract the student-to-faculty ratio and save the value in a list\n",
    "\n",
    "#stu_fac_ratio_ls = []\n",
    "\n",
    "#for school_url in schools.values():\n",
    "   # response_school = requests.get(school_url)\n",
    "   # soup_school = BeautifulSoup(response_school.text, \"lxml\")\n",
    "   # stu_fac_ratio = soup_school.find('table', class_='layouttab').find_all('td')[-1].text\n",
    "   # stu_fac_ratio_ls.append(stu_fac_ratio)\n",
    "   # time.sleep(3)"
   ]
  },
  {
   "cell_type": "code",
   "execution_count": 576,
   "metadata": {},
   "outputs": [
    {
     "data": {
      "text/plain": [
       "1332"
      ]
     },
     "execution_count": 576,
     "metadata": {},
     "output_type": "execute_result"
    }
   ],
   "source": [
    "#stu_fac_ratio_ls[]"
   ]
  },
  {
   "cell_type": "code",
   "execution_count": 577,
   "metadata": {},
   "outputs": [
    {
     "data": {
      "text/plain": [
       "1332"
      ]
     },
     "execution_count": 577,
     "metadata": {},
     "output_type": "execute_result"
    }
   ],
   "source": [
    "#len(schools)"
   ]
  },
  {
   "cell_type": "code",
   "execution_count": null,
   "metadata": {},
   "outputs": [],
   "source": [
    "#time.sleep(3)"
   ]
  },
  {
   "cell_type": "code",
   "execution_count": null,
   "metadata": {},
   "outputs": [],
   "source": [
    "# loop through each school's page to grab the html from that page and save it in a list\n",
    "\n",
    "#stu_fac_ratio_ls = []\n",
    "\n",
    "#for school_url in schools.values():\n",
    "   # response_school = requests.get(school_url)\n",
    "   # soup_school = BeautifulSoup(response_school.text, \"lxml\")\n",
    "   # stu_fac_ratio = soup_school.find('table', class_='layouttab').find_all('td')[-1].text\n",
    "   # stu_fac_ratio_ls.append(stu_fac_ratio)\n",
    "   # time.sleep(3)"
   ]
  },
  {
   "cell_type": "code",
   "execution_count": null,
   "metadata": {},
   "outputs": [],
   "source": [
    "# code for looping through one state's url and replacing the state with a new one\n",
    "\n",
    "#state_abrev = ['TX', 'NY', 'FL']\n",
    "#ca_string = 'https://nces.ed.gov/collegenavigator/?s=CA&l=93&ct=2'\n",
    "\n",
    "#for abrev in state_abrev:\n",
    "   # ca_list = list(ca_string)\n",
    "   # idx_1 = ca_list.index('=')\n",
    "   # idx_2 = ca_list.index('&')\n",
    "    #print(''.join(ca_list[:idx_1+1]) + abrev + ''.join(ca_list[idx_2:]))"
   ]
  },
  {
   "cell_type": "code",
   "execution_count": 523,
   "metadata": {},
   "outputs": [],
   "source": [
    "# code for looping through the multiple pages of a state's urls and replacing the state with a new one\n",
    "\n",
    "#state_abrev = ['TX', 'NY', 'FL']\n",
    "#ca_schools_search_tables_urls = [\n",
    "   # 'https://nces.ed.gov/collegenavigator/?s=CA&l=93&ct=2',\n",
    "   # 'https://nces.ed.gov/collegenavigator/?s=CA&l=93&ct=2&pg=2',\n",
    "   # 'https://nces.ed.gov/collegenavigator/?s=CA&l=93&ct=2&pg=3',\n",
    "   # 'https://nces.ed.gov/collegenavigator/?s=CA&l=93&ct=2&pg=4',\n",
    "    #'https://nces.ed.gov/collegenavigator/?s=CA&l=93&ct=2&pg=5',\n",
    "    #'https://nces.ed.gov/collegenavigator/?s=CA&l=93&ct=2&pg=6',\n",
    "    #'https://nces.ed.gov/collegenavigator/?s=CA&l=93&ct=2&pg=7',\n",
    "  #  'https://nces.ed.gov/collegenavigator/?s=CA&l=93&ct=2&pg=8']\n",
    "\n",
    "#for abrev in state_abrev:\n",
    "  #  for url in ca_schools_search_tables_urls:\n",
    "   #     idx_1 = url.index('=')\n",
    "   #     idx_2 = url.index('&')\n",
    "  #      print(''.join(url[:idx_1+1]) + abrev + ''.join(url[idx_2:]))"
   ]
  }
 ],
 "metadata": {
  "kernelspec": {
   "display_name": "Python 3",
   "language": "python",
   "name": "python3"
  },
  "language_info": {
   "codemirror_mode": {
    "name": "ipython",
    "version": 3
   },
   "file_extension": ".py",
   "mimetype": "text/x-python",
   "name": "python",
   "nbconvert_exporter": "python",
   "pygments_lexer": "ipython3",
   "version": "3.8.3"
  }
 },
 "nbformat": 4,
 "nbformat_minor": 4
}
