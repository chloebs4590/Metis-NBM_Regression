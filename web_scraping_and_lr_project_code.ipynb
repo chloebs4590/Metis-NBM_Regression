{
 "cells": [
  {
   "cell_type": "code",
   "execution_count": 3,
   "metadata": {},
   "outputs": [],
   "source": [
    "from bs4 import BeautifulSoup\n",
    "import requests\n",
    "import random\n",
    "import time\n",
    "import pandas as pd"
   ]
  },
  {
   "cell_type": "markdown",
   "metadata": {},
   "source": [
    "## Step 1: Practice getting features from a single private university/college: Abilene Christian University\n",
    "- Note: commented out code was left to show the initial way(s) I extracted features from the case study, Abilene Christian University. I ultimately didn't use that code because it didn't work on all schools."
   ]
  },
  {
   "cell_type": "code",
   "execution_count": 4,
   "metadata": {},
   "outputs": [],
   "source": [
    "url = 'https://nces.ed.gov/collegenavigator/?s=all&l=93&ct=2&ic=1&id=222178' \n",
    "\n",
    "response = requests.get(url)"
   ]
  },
  {
   "cell_type": "code",
   "execution_count": 5,
   "metadata": {},
   "outputs": [
    {
     "data": {
      "text/plain": [
       "200"
      ]
     },
     "execution_count": 5,
     "metadata": {},
     "output_type": "execute_result"
    }
   ],
   "source": [
    "response.status_code  #200 = success!"
   ]
  },
  {
   "cell_type": "code",
   "execution_count": 6,
   "metadata": {},
   "outputs": [],
   "source": [
    "page = response.text"
   ]
  },
  {
   "cell_type": "code",
   "execution_count": 7,
   "metadata": {},
   "outputs": [],
   "source": [
    "soup = BeautifulSoup(page, \"lxml\")"
   ]
  },
  {
   "cell_type": "markdown",
   "metadata": {},
   "source": [
    "\n",
    "#### Features from initial table at top of institution's page\n",
    "- Institution's name\n",
    "- Student-to-faculty ratio"
   ]
  },
  {
   "cell_type": "code",
   "execution_count": 8,
   "metadata": {},
   "outputs": [
    {
     "name": "stdout",
     "output_type": "stream",
     "text": [
      "Abilene Christian University\n"
     ]
    }
   ],
   "source": [
    "private_university_string = soup.find('title').text\n",
    "private_university = private_university_string.split('-')[1].strip()\n",
    "print(private_university)"
   ]
  },
  {
   "cell_type": "code",
   "execution_count": 11,
   "metadata": {},
   "outputs": [
    {
     "name": "stdout",
     "output_type": "stream",
     "text": [
      "13 to 1\n"
     ]
    }
   ],
   "source": [
    "stu_fac_ratio = soup.find('table', class_='layouttab').find_all('td')[-1].text\n",
    "print(stu_fac_ratio)"
   ]
  },
  {
   "cell_type": "markdown",
   "metadata": {},
   "source": [
    "#### Features from 'TUITION, FEES AND ESTIMATED STUDENT EXPENSES' collapsable table\n",
    "- tuition and fees in 2019-20\n",
    "- books and supplies in 2019-20\n",
    "- tuition and fees in 2020-21\n",
    "- books and supplies in 2020-21"
   ]
  },
  {
   "cell_type": "code",
   "execution_count": 593,
   "metadata": {},
   "outputs": [
    {
     "data": {
      "text/plain": [
       "<tr><td scope=\"row\">Tuition and fees</td><td>$33,330</td><td>$34,850</td><td>$36,300</td><td>$37,800</td><td>4.1%</td></tr>"
      ]
     },
     "execution_count": 593,
     "metadata": {},
     "output_type": "execute_result"
    }
   ],
   "source": [
    "#tuition_table = soup.find(id='divctl00_cphCollegeNavBody_ucInstitutionMain_ctl00')\n",
    "#tuition_rows = [row for row in tuition_table.find_all('tr')]\n",
    "#tuition_rows[1]"
   ]
  },
  {
   "cell_type": "code",
   "execution_count": 752,
   "metadata": {},
   "outputs": [
    {
     "name": "stdout",
     "output_type": "stream",
     "text": [
      "$36,300\n",
      "$1,250\n",
      "$37,800\n",
      "$1,250\n"
     ]
    }
   ],
   "source": [
    "tuition_19_20 = soup.find(text='Tuition and fees').findNext().findNext().findNext().text\n",
    "#tuition_19_20 = int(tuition_rows[1].find_all('td')[3].text.replace('$','').replace(',',''))\n",
    "print(tuition_19_20)\n",
    "books_19_20 = soup.find(text='Books and supplies').findNext().findNext().findNext().text\n",
    "#books_19_20 = int(tuition_rows[2].find_all('td')[3].text.replace('$','').replace(',',''))\n",
    "print(books_19_20)\n",
    "tuition = soup.find(text='Tuition and fees').findNext().findNext().findNext().findNext().text\n",
    "#tuition = int(tuition_rows[1].find_all('td')[4].text.replace('$','').replace(',',''))\n",
    "print(tuition)\n",
    "books = soup.find(text='Books and supplies').findNext().findNext().findNext().findNext().text\n",
    "#books = int(tuition_rows[2].find_all('td')[4].text.replace('$','').replace(',',''))\n",
    "print(books)"
   ]
  },
  {
   "cell_type": "markdown",
   "metadata": {},
   "source": [
    "#### The functions below are to extract price of tuition and fees and price of books and supplies in 2019-20 and 2020-21. The functions include code for dealing with cases where these values don't exist on a given school's page."
   ]
  },
  {
   "cell_type": "code",
   "execution_count": 12,
   "metadata": {},
   "outputs": [],
   "source": [
    "# create function for extracting price of tuition and fees in 2019-20 \n",
    "    # and books and supplies in 2019-20\n",
    "\n",
    "def get_tuition_books_19_20_value(soup, field_name):\n",
    "    \n",
    "    obj = soup.find(text=field_name)\n",
    "    \n",
    "    if not obj: \n",
    "        return None\n",
    "    \n",
    "    # this works for most of the values\n",
    "    element = obj.findNext().findNext().findNext()\n",
    "    \n",
    "    if element:\n",
    "        return element.text \n",
    "    else:\n",
    "        return None"
   ]
  },
  {
   "cell_type": "code",
   "execution_count": 13,
   "metadata": {},
   "outputs": [
    {
     "data": {
      "text/plain": [
       "'$36,300'"
      ]
     },
     "execution_count": 13,
     "metadata": {},
     "output_type": "execute_result"
    }
   ],
   "source": [
    "get_tuition_books_19_20_value(soup, 'Tuition and fees')"
   ]
  },
  {
   "cell_type": "code",
   "execution_count": 14,
   "metadata": {},
   "outputs": [
    {
     "data": {
      "text/plain": [
       "'$1,250'"
      ]
     },
     "execution_count": 14,
     "metadata": {},
     "output_type": "execute_result"
    }
   ],
   "source": [
    "get_tuition_books_19_20_value(soup, 'Books and supplies')"
   ]
  },
  {
   "cell_type": "code",
   "execution_count": 15,
   "metadata": {},
   "outputs": [],
   "source": [
    "# create function for extracting price of tuition and fees in 2020-21 \n",
    "    # and books and supplies in 2020-21\n",
    "    \n",
    "def get_tuition_books_20_21_value(soup, field_name):\n",
    "    \n",
    "    obj = soup.find(text=field_name)\n",
    "    \n",
    "    if not obj: \n",
    "        return None\n",
    "    \n",
    "    # this works for most of the values\n",
    "    element = obj.findNext().findNext().findNext().findNext()\n",
    "    \n",
    "    if element:\n",
    "        return element.text \n",
    "    else:\n",
    "        return None"
   ]
  },
  {
   "cell_type": "code",
   "execution_count": 16,
   "metadata": {},
   "outputs": [
    {
     "data": {
      "text/plain": [
       "'$37,800'"
      ]
     },
     "execution_count": 16,
     "metadata": {},
     "output_type": "execute_result"
    }
   ],
   "source": [
    "get_tuition_books_20_21_value(soup, 'Tuition and fees')"
   ]
  },
  {
   "cell_type": "code",
   "execution_count": 17,
   "metadata": {},
   "outputs": [
    {
     "data": {
      "text/plain": [
       "'$1,250'"
      ]
     },
     "execution_count": 17,
     "metadata": {},
     "output_type": "execute_result"
    }
   ],
   "source": [
    "get_tuition_books_20_21_value(soup, 'Books and supplies')"
   ]
  },
  {
   "cell_type": "markdown",
   "metadata": {},
   "source": [
    "#### Features from 'GENERAL INFORMATION' collapsable table\n",
    "- number of full-time faculty\n",
    "- number part-time faculty"
   ]
  },
  {
   "cell_type": "code",
   "execution_count": 594,
   "metadata": {},
   "outputs": [
    {
     "data": {
      "text/plain": [
       "<tr><td>Total faculty</td><td>277</td><td>137</td></tr>"
      ]
     },
     "execution_count": 594,
     "metadata": {},
     "output_type": "execute_result"
    }
   ],
   "source": [
    "#faculty_table = soup.find(id='ctl00_cphCollegeNavBody_ucInstitutionMain_divFaculty')\n",
    "#faculty_table = [row for row in faculty_table.find_all('tr')]\n",
    "#faculty_table[1]"
   ]
  },
  {
   "cell_type": "code",
   "execution_count": 18,
   "metadata": {},
   "outputs": [],
   "source": [
    "ft_faculty = soup.find(text='Total faculty').findNext().text\n",
    "#ft_faculty = int(faculty_table[1].find_all('td')[1].text)\n",
    "pt_faculty = soup.find(text='Total faculty').findNext().findNext().text\n",
    "#pt_faculty = int(faculty_table[1].find_all('td')[2].text)"
   ]
  },
  {
   "cell_type": "markdown",
   "metadata": {},
   "source": [
    "#### The functions below are to extract various features that are located in the same column on a table (if the table exists). The functions include code for dealing with cases where these values don't exist on a given school's page."
   ]
  },
  {
   "cell_type": "code",
   "execution_count": 19,
   "metadata": {},
   "outputs": [],
   "source": [
    "# create function to grab # of full-time faculty; total enrollment; undergrad enrollment; \n",
    "    # undergrad transfer-in enrollment; grad enrollment; number of undergrad applicants;\n",
    "    # percent admitted; # of first-time students who submitted their SAT score;\n",
    "    # # of first-time students who submitted their ACT score; \n",
    "    # scores for the SAT Evidence-Based Reading and Writing, SAT Math, ACT Composite, \n",
    "    # ACT English and ACT Math below which 25% of students scored\n",
    "\n",
    "def get_school_value_one_next(soup, field_name):\n",
    "    \n",
    "    obj = soup.find(text=field_name)\n",
    "    \n",
    "    if not obj: \n",
    "        return None\n",
    "    \n",
    "    # this works for most of the values\n",
    "    element = obj.findNext()\n",
    "    \n",
    "    if element:\n",
    "        return element.text \n",
    "    else:\n",
    "        return None"
   ]
  },
  {
   "cell_type": "code",
   "execution_count": 20,
   "metadata": {},
   "outputs": [
    {
     "data": {
      "text/plain": [
       "'277'"
      ]
     },
     "execution_count": 20,
     "metadata": {},
     "output_type": "execute_result"
    }
   ],
   "source": [
    "get_school_value_one_next(soup, 'Total faculty')"
   ]
  },
  {
   "cell_type": "code",
   "execution_count": 21,
   "metadata": {},
   "outputs": [],
   "source": [
    "# create function to grab # of part-time faculty; $ of full-time beginning under grad\n",
    "    # students receiving grant or scholarship aid in 2019-20;\n",
    "    # scores for the SAT Evidence-Based Reading and Writing, SAT Math, ACT Composite, \n",
    "    # ACT English and ACT Math below which 75% of students scores\n",
    "\n",
    "def get_school_value_two_nexts(soup, field_name):\n",
    "    \n",
    "    obj = soup.find(text=field_name)\n",
    "    \n",
    "    if not obj: \n",
    "        return None\n",
    "    \n",
    "    # this works for most of the values\n",
    "    element = obj.findNext().findNext()\n",
    "    \n",
    "    if element:\n",
    "        return element.text \n",
    "    else:\n",
    "        return None"
   ]
  },
  {
   "cell_type": "code",
   "execution_count": 22,
   "metadata": {},
   "outputs": [
    {
     "data": {
      "text/plain": [
       "'137'"
      ]
     },
     "execution_count": 22,
     "metadata": {},
     "output_type": "execute_result"
    }
   ],
   "source": [
    "get_school_value_two_nexts(soup, 'Total faculty')"
   ]
  },
  {
   "cell_type": "markdown",
   "metadata": {},
   "source": [
    "#### Features from 'FINANCIAL AID' collapsable table - ONLY 2019-20 DATA\n",
    "- number of all undergraduate students receiving grant or scholarship aid\n",
    "- average amount of grant or scholarship aid among all undergraduate students"
   ]
  },
  {
   "cell_type": "code",
   "execution_count": 23,
   "metadata": {},
   "outputs": [],
   "source": [
    "#aid_table = soup.find(id='divctl00_cphCollegeNavBody_ucInstitutionMain_ctl01')\n",
    "#aid_rows = [row for row in aid_table.find_all('tr')]\n",
    "#aid_rows[13].find_all('td')"
   ]
  },
  {
   "cell_type": "code",
   "execution_count": 24,
   "metadata": {},
   "outputs": [],
   "source": [
    "#grant_schol_aid_19_20 = int(aid_rows[12].find_all('td')[1].text.replace(',',''))\n",
    "#print(grant_scholarship_aid_19_20)\n",
    "#avg_amt_grant_schol_aid_19_20 = int(aid_rows[12].find_all('td')[3].text.replace('$','').replace(',',''))\n",
    "#print(avg_amt_grant_scholarship_aid_19_20)"
   ]
  },
  {
   "cell_type": "markdown",
   "metadata": {},
   "source": [
    "#### The functions below are to extract the average amount of grant or scholarship aid received by a) full-time beginning undergrad students and b) all undergrad students. The functions include code for dealing with cases where these values don't exist on a given school's page."
   ]
  },
  {
   "cell_type": "code",
   "execution_count": 25,
   "metadata": {},
   "outputs": [],
   "source": [
    "def get_avg_amt_grant_schol_aid_beg_under_value(soup, field_name):\n",
    "    \n",
    "    obj = soup.find(text=field_name)\n",
    "    \n",
    "    if not obj: \n",
    "        return None\n",
    "    \n",
    "    # this works for most of the values\n",
    "    element = obj.findNext().findNext().findNext().findNext()\n",
    "    \n",
    "    if element:\n",
    "        return element.text \n",
    "    else:\n",
    "        return None"
   ]
  },
  {
   "cell_type": "code",
   "execution_count": 27,
   "metadata": {},
   "outputs": [
    {
     "data": {
      "text/plain": [
       "'$22,887'"
      ]
     },
     "execution_count": 27,
     "metadata": {},
     "output_type": "execute_result"
    }
   ],
   "source": [
    "get_avg_amt_grant_schol_aid_beg_under_value(soup,'Grant or scholarship aid')"
   ]
  },
  {
   "cell_type": "code",
   "execution_count": 28,
   "metadata": {},
   "outputs": [],
   "source": [
    "def get_avg_amt_grant_schol_aid_all_under_value(soup, field_name):\n",
    "    \n",
    "    '''Grab the average amount of grant or scholarship aid among all undergrad students'''\n",
    "    \n",
    "    obj = soup.find(text=field_name)\n",
    "    \n",
    "    if not obj: \n",
    "        return None\n",
    "    \n",
    "    # this works for most of the values\n",
    "    element = obj.findNext().find_all('td')[3]\n",
    "    \n",
    "    if element:\n",
    "        return element.text \n",
    "    else:\n",
    "        return None"
   ]
  },
  {
   "cell_type": "code",
   "execution_count": 29,
   "metadata": {},
   "outputs": [
    {
     "data": {
      "text/plain": [
       "'$21,092'"
      ]
     },
     "execution_count": 29,
     "metadata": {},
     "output_type": "execute_result"
    }
   ],
   "source": [
    "get_avg_amt_grant_schol_aid_all_under_value(soup, 'All Undergraduate Students')"
   ]
  },
  {
   "cell_type": "markdown",
   "metadata": {},
   "source": [
    "#### Features from 'ENROLLMENT' collapsable table\n",
    "- total enrollment\n",
    "- undergraduate enrollment\n",
    "- undergraduate transfer-in enrollment\n",
    "- graduate enrollment"
   ]
  },
  {
   "cell_type": "code",
   "execution_count": 31,
   "metadata": {},
   "outputs": [],
   "source": [
    "#enroll_table = soup.find(id='divctl00_cphCollegeNavBody_ucInstitutionMain_ctl03')\n",
    "#enroll_rows = [row for row in enroll_table.find_all('tr')]\n",
    "#enroll_rows[0]"
   ]
  },
  {
   "cell_type": "code",
   "execution_count": 32,
   "metadata": {},
   "outputs": [],
   "source": [
    "#total_enroll = int(enroll_rows[0].find_all('th')[1].text.replace(',',''))\n",
    "#print(total_enroll)\n",
    "#under_enroll = int(enroll_rows[1].find_all('td')[1].text.replace(',',''))\n",
    "#print(under_enroll)\n",
    "#under_trans_enroll = int(enroll_rows[2].find_all('td')[1].text.replace(',',''))\n",
    "#print(under_trans_enroll)\n",
    "#grad_enroll = int(enroll_rows[3].find_all('td')[1].text.replace(',',''))\n",
    "#print(grad_enroll)"
   ]
  },
  {
   "cell_type": "code",
   "execution_count": 33,
   "metadata": {},
   "outputs": [],
   "source": [
    "#def get_total_enroll_value(soup, element_id):\n",
    "    \n",
    " #   '''Grab the total enrollment'''\n",
    "    \n",
    " #  table = soup.find(id=element_id)\n",
    " \n",
    " #   if not table: \n",
    " #       return None\n",
    "    \n",
    "    # this works for most of the values\n",
    " #   rows = [row for row in table.find_all('tr')]\n",
    "    \n",
    " #   if rows:\n",
    " #       return rows[0].find_all('th')[1].text\n",
    " #   else:\n",
    " #       return None"
   ]
  },
  {
   "cell_type": "code",
   "execution_count": 34,
   "metadata": {},
   "outputs": [],
   "source": [
    "#get_total_enroll_value(soup, 'divctl00_cphCollegeNavBody_ucInstitutionMain_ctl03')"
   ]
  },
  {
   "cell_type": "code",
   "execution_count": 35,
   "metadata": {},
   "outputs": [],
   "source": [
    "#def get_under_enroll_value(soup, element_id):\n",
    "    \n",
    "#    '''Grab the undergraduate enrollment'''\n",
    "    \n",
    "#    table = soup.find(id=element_id)\n",
    "    \n",
    "#    if not table: \n",
    "#        return None\n",
    "    \n",
    "    # this works for most of the values\n",
    "#    rows = [row for row in table.find_all('tr')]\n",
    "    \n",
    "#    if rows:\n",
    "#        return enroll_rows[1].find_all('td')[1].text\n",
    "#    else:\n",
    "#        return None"
   ]
  },
  {
   "cell_type": "code",
   "execution_count": 36,
   "metadata": {},
   "outputs": [],
   "source": [
    "#get_under_enroll_value(soup, 'divctl00_cphCollegeNavBody_ucInstitutionMain_ctl03')"
   ]
  },
  {
   "cell_type": "code",
   "execution_count": 37,
   "metadata": {},
   "outputs": [],
   "source": [
    "#def get_under_trans_enroll_value(soup, element_id):\n",
    "    \n",
    "#    '''Grab the undergraduate transfer-in enrollment'''\n",
    "    \n",
    "#    table = soup.find(id=element_id)\n",
    "    \n",
    "#    if not table: \n",
    "#        return None\n",
    "    \n",
    "    # this works for most of the values\n",
    "#    rows = [row for row in table.find_all('tr')]\n",
    "    \n",
    "#    if rows:\n",
    "#        return enroll_rows[2].find_all('td')[1].text\n",
    "#    else:\n",
    "#        return None"
   ]
  },
  {
   "cell_type": "code",
   "execution_count": 38,
   "metadata": {},
   "outputs": [],
   "source": [
    "#get_under_trans_enroll_value(soup, 'divctl00_cphCollegeNavBody_ucInstitutionMain_ctl03')"
   ]
  },
  {
   "cell_type": "code",
   "execution_count": 39,
   "metadata": {},
   "outputs": [],
   "source": [
    "#def get_grad_enroll_value(soup, element_id):\n",
    "    \n",
    "#    '''Grab the graduate enrollment'''\n",
    "    \n",
    "#    table = soup.find(id=element_id)\n",
    "    \n",
    "#    if not table: \n",
    "#        return None\n",
    "    \n",
    "    # this works for most of the values\n",
    "#    rows = [row for row in table.find_all('tr')]\n",
    "    \n",
    "#    if rows:\n",
    "#        return enroll_rows[3].find_all('td')[1].text\n",
    "#    else:\n",
    "#        return None"
   ]
  },
  {
   "cell_type": "code",
   "execution_count": 40,
   "metadata": {},
   "outputs": [],
   "source": [
    "#get_grad_enroll_value(soup, 'divctl00_cphCollegeNavBody_ucInstitutionMain_ctl03')"
   ]
  },
  {
   "cell_type": "code",
   "execution_count": 41,
   "metadata": {},
   "outputs": [
    {
     "data": {
      "text/plain": [
       "<th scope=\"col\">5,291</th>"
      ]
     },
     "execution_count": 41,
     "metadata": {},
     "output_type": "execute_result"
    }
   ],
   "source": [
    "soup.find(text='Total enrollment').findNext()"
   ]
  },
  {
   "cell_type": "code",
   "execution_count": 42,
   "metadata": {},
   "outputs": [
    {
     "data": {
      "text/plain": [
       "<td>3,494</td>"
      ]
     },
     "execution_count": 42,
     "metadata": {},
     "output_type": "execute_result"
    }
   ],
   "source": [
    "soup.find(text='Undergraduate enrollment').findNext()"
   ]
  },
  {
   "cell_type": "code",
   "execution_count": 43,
   "metadata": {},
   "outputs": [
    {
     "data": {
      "text/plain": [
       "<td>143</td>"
      ]
     },
     "execution_count": 43,
     "metadata": {},
     "output_type": "execute_result"
    }
   ],
   "source": [
    "soup.find(text='Undergraduate transfer-in enrollment').findNext()"
   ]
  },
  {
   "cell_type": "code",
   "execution_count": 44,
   "metadata": {},
   "outputs": [
    {
     "data": {
      "text/plain": [
       "<td>1,797</td>"
      ]
     },
     "execution_count": 44,
     "metadata": {},
     "output_type": "execute_result"
    }
   ],
   "source": [
    "soup.find(text='Graduate enrollment').findNext()"
   ]
  },
  {
   "cell_type": "markdown",
   "metadata": {},
   "source": [
    "#### Features from 'ADMISSIONS' collapsable table \n",
    "- number of undergraduate applicants\n",
    "- % of undergraduate applicants admitted\n",
    "- number of first-time students who submitted their SAT score\n",
    "- % of first-time students who submitted their SAT score\n",
    "- number of first-time students who submitted their ACT score\n",
    "- % of first-time students who submitted their ACT score\n",
    "- SAT Evidence-Based Reading and Writing 25th percentile score\n",
    "- SAT Evidence-Based Reading and Writing 75th percentile score\n",
    "- SAT Math 25th percentile score\n",
    "- SAT Math 75th percentile score\n",
    "- ACT Composite 25th percentile score\n",
    "- ACT Composite 75th percentile score\n",
    "- ACT English 25th percentile score\n",
    "- ACT English 75th percentile score\n",
    "- ACT Math 25th percentile score\n",
    "- ACT Math 75th percentile score"
   ]
  },
  {
   "cell_type": "code",
   "execution_count": 45,
   "metadata": {},
   "outputs": [],
   "source": [
    "#admissions_table = soup.find(id='divctl00_cphCollegeNavBody_ucInstitutionMain_ctl04')\n",
    "#admissions_rows = [row for row in admissions_table.find_all('tr')]"
   ]
  },
  {
   "cell_type": "code",
   "execution_count": 46,
   "metadata": {},
   "outputs": [],
   "source": [
    "#under_apps = int(admissions_rows[3].find_all('td')[1].text.replace(',',''))\n",
    "#print(applicants)\n",
    "#perc_admitted = float(admissions_rows[4].find_all('td')[2].text.replace('%',''))\n",
    "#print(perc_admitted)"
   ]
  },
  {
   "cell_type": "code",
   "execution_count": 47,
   "metadata": {},
   "outputs": [
    {
     "name": "stdout",
     "output_type": "stream",
     "text": [
      "432\n",
      "50.0\n",
      "369\n",
      "43.0\n",
      "510\n",
      "620\n",
      "500\n",
      "600\n",
      "21\n",
      "27\n",
      "20\n",
      "28\n",
      "18\n",
      "26\n"
     ]
    }
   ],
   "source": [
    "sat_scores_submit = int(soup.find(text='SAT').findNext().text)\n",
    "print(sat_scores_submit)\n",
    "perc_sat_scores_submit = float(soup.find(text='SAT').findNext().findNext().text.replace('%',''))\n",
    "print(perc_sat_scores_submit)\n",
    "act_scores_submit = int(soup.find(text='ACT').findNext().text)\n",
    "print(act_scores_submit)\n",
    "perc_act_scores_submit = float(soup.find(text='ACT').findNext().findNext().text.replace('%',''))\n",
    "print(perc_act_scores_submit)\n",
    "sat_read_write_25_perc = int(soup.find(text='SAT Evidence-Based Reading and Writing').findNext().text)\n",
    "print(sat_read_write_25_perc)\n",
    "sat_read_write_75_perc = int(soup.find(text='SAT Evidence-Based Reading and Writing').findNext().findNext().text)\n",
    "print(sat_read_write_75_perc)\n",
    "sat_math_25_perc = int(soup.find(text='SAT Math').findNext().text)\n",
    "print(sat_math_25_perc)\n",
    "sat_math_75_perc = int(soup.find(text='SAT Math').findNext().findNext().text)\n",
    "print(sat_math_75_perc)\n",
    "act_comp_25_perc = int(soup.find(text='ACT Composite').findNext().text)\n",
    "print(act_comp_25_perc)\n",
    "act_comp_75_perc = int(soup.find(text='ACT Composite').findNext().findNext().text)\n",
    "print(act_comp_75_perc)\n",
    "act_eng_25_perc = int(soup.find(text='ACT English').findNext().text)\n",
    "print(act_eng_25_perc)\n",
    "act_eng_75_perc = int(soup.find(text='ACT English').findNext().findNext().text)\n",
    "print(act_eng_75_perc)\n",
    "act_math_25_perc = int(soup.find(text='ACT Math').findNext().text)\n",
    "print(act_math_25_perc)\n",
    "act_math_75_perc = int(soup.find(text='ACT Math').findNext().findNext().text)\n",
    "print(act_math_75_perc)"
   ]
  },
  {
   "cell_type": "markdown",
   "metadata": {},
   "source": [
    "## Step 2: Create helper functions to parse strings into numerical values"
   ]
  },
  {
   "cell_type": "code",
   "execution_count": 48,
   "metadata": {},
   "outputs": [],
   "source": [
    "def money_to_int(moneystring):\n",
    "    try:\n",
    "        moneystring = moneystring.replace('$', '').replace(',', '')\n",
    "        return int(moneystring)\n",
    "    except:\n",
    "        return None\n",
    "\n",
    "def percent_to_float(percentstring):\n",
    "    try:\n",
    "        percentstring = percentstring.replace('%','')\n",
    "        return float(percentstring)\n",
    "    except:\n",
    "        return None\n",
    "\n",
    "def number_to_int(numberstring):\n",
    "    try:\n",
    "        numberstring = numberstring.replace(',', '')\n",
    "        return int(numberstring)\n",
    "    except:\n",
    "        return None"
   ]
  },
  {
   "cell_type": "markdown",
   "metadata": {},
   "source": [
    "### Step 3: Scrape individual school names and their corresponding NCES link stubs\n",
    "\n",
    "- NOTE: Through trial and error, I discovered that you can only view up to 15 schools on a page and up to 34 pages in a particular search for schools. To get all the private non-profit universities and colleges offering Bachelor's degrees in the US, I ended up using the map in the search section to select groups of states by region."
   ]
  },
  {
   "cell_type": "markdown",
   "metadata": {},
   "source": [
    "#### Step 1: Create a list of urls for the first page of private schools in each region (NCES divides the country into 8 regions)"
   ]
  },
  {
   "cell_type": "code",
   "execution_count": 50,
   "metadata": {},
   "outputs": [],
   "source": [
    "# create a list of the urls for each region (Far West, Rocky Mountains, Southwest, Plains, Great Lakes, Southeast\n",
    "                # Mideast (including DC) and New England)\n",
    "\n",
    "regions_urls = ['https://nces.ed.gov/collegenavigator/?s=AK+CA+HI+NV+OR+WA&l=93&ct=2',\n",
    "               'https://nces.ed.gov/collegenavigator/?s=CO+ID+MT+UT+WY&l=93&ct=2',\n",
    "               'https://nces.ed.gov/collegenavigator/?s=AZ+NM+OK+TX&l=93&ct=2',\n",
    "               'https://nces.ed.gov/collegenavigator/?s=IA+KS+MN+MO+NE+ND+SD&l=93&ct=2',\n",
    "               'https://nces.ed.gov/collegenavigator/?s=IL+IN+MI+OH+WI&l=93&ct=2',\n",
    "               'https://nces.ed.gov/collegenavigator/?s=AL+AR+FL+GA+KY+LA+MS+NC+SC+TN+VA+WV&l=93&ct=2',\n",
    "               'https://nces.ed.gov/collegenavigator/?s=DE+DC+MD+NJ+NY+PA&l=93&ct=2',\n",
    "               'https://nces.ed.gov/collegenavigator/?s=CT+ME+MA+NH+RI+VT&l=93&ct=2']                "
   ]
  },
  {
   "cell_type": "markdown",
   "metadata": {},
   "source": [
    "#### Step 2: Loop through the urls for each region to extract the number of pages worth of results (results = school name and link)"
   ]
  },
  {
   "cell_type": "code",
   "execution_count": 51,
   "metadata": {},
   "outputs": [],
   "source": [
    "# loop through each region's url to get the count of the # of pages' worth of schools \n",
    "    #each region has - save these 8 numbers (one for each of the 8 regions) in a list\n",
    "\n",
    "pages_regions = []\n",
    "\n",
    "for url_reg in regions_urls:\n",
    "    response_reg = requests.get(url_reg)\n",
    "    time.sleep(1)\n",
    "    soup_reg = BeautifulSoup(response_reg.text, 'html5lib')\n",
    "    pages_str = soup_reg.find(id='ctl00_cphCollegeNavBody_ucResultsMain_divPagingControls').find_all('a')[-1]['href']\n",
    "    pages_idx = pages_str.find('&pg=')\n",
    "    pages = pages_str[pages_idx+4:]\n",
    "    pages_regions.append(int(pages))"
   ]
  },
  {
   "cell_type": "markdown",
   "metadata": {},
   "source": [
    "#### Step 3: Loop through the list of region urls and for each url, create a new url for each additional page worth of results (e.g., if the first region in the region_urls list - Far West - has 8 pages' worth of results, create 7 new urls that append '&pg=' and the number for the page) and append the newly created urls to the original list of region urls."
   ]
  },
  {
   "cell_type": "code",
   "execution_count": 52,
   "metadata": {},
   "outputs": [],
   "source": [
    "# loop through the list of each region's url and each region's corresponding number of pages' \n",
    "    # worth of schools to create a new url for each region's page(s) \n",
    "    # and add the new url to the original list of initial region urls\n",
    "\n",
    "for idx in range(0, len(regions_urls)):\n",
    "    for i in range(2, pages_regions[idx]+1):\n",
    "        new_url = (''.join(regions_urls[idx] + '&pg=' + str(i)))\n",
    "        regions_urls.append(new_url)"
   ]
  },
  {
   "cell_type": "markdown",
   "metadata": {},
   "source": [
    "#### Step 4: Loop through the updated list of region urls to extract the name of each school and its link stub and save these extractions in a new dictionary."
   ]
  },
  {
   "cell_type": "code",
   "execution_count": 53,
   "metadata": {},
   "outputs": [],
   "source": [
    "# loop through each region's url to create a dictionary of all school names \n",
    "    # and their corresponding link stub\n",
    "\n",
    "schools = {}\n",
    "names = []\n",
    "urls = []\n",
    "\n",
    "for reg_url in regions_urls:\n",
    "    response_reg = requests.get(reg_url)\n",
    "    time.sleep(1)\n",
    "    soup_reg = BeautifulSoup(response_reg.text, \"lxml\")\n",
    "    table_reg = soup_reg.find(id='ctl00_cphCollegeNavBody_ucResultsMain_tblResults')\n",
    "    rows_reg = [row for row in table_reg.find_all('tr')]\n",
    "\n",
    "    for row in rows_reg:\n",
    "        link = row.find('a')\n",
    "        if link != None:\n",
    "            name, url = link.text, link['href']\n",
    "            names.append(name)\n",
    "            urls.append(url)\n",
    "            for idx in range(1, len(names)):\n",
    "                if names[idx] == names[idx-1]:\n",
    "                    names[idx] = names[idx] + '_b'\n",
    "\n",
    "for a, b in zip(names, urls):\n",
    "    schools[a] = [b]"
   ]
  },
  {
   "cell_type": "code",
   "execution_count": 54,
   "metadata": {},
   "outputs": [
    {
     "data": {
      "text/plain": [
       "{'Alaska Bible College': ['?s=AK+CA+HI+NV+OR+WA&l=93&ct=2&id=102580'],\n",
       " 'Alaska Pacific University': ['?s=AK+CA+HI+NV+OR+WA&l=93&ct=2&id=102669'],\n",
       " 'America Evangelical University': ['?s=AK+CA+HI+NV+OR+WA&l=93&ct=2&id=490081'],\n",
       " 'American Jewish University': ['?s=AK+CA+HI+NV+OR+WA&l=93&ct=2&id=116846'],\n",
       " 'Antioch University-Los Angeles': ['?s=AK+CA+HI+NV+OR+WA&l=93&ct=2&id=245838']}"
      ]
     },
     "execution_count": 54,
     "metadata": {},
     "output_type": "execute_result"
    }
   ],
   "source": [
    "# check first five key, value pairs in new schools dict to make sure it's correct\n",
    "\n",
    "{k: schools[k] for k in list(schools)[:5]}"
   ]
  },
  {
   "cell_type": "markdown",
   "metadata": {},
   "source": [
    "#### Step 5. Convert the dictionary of schools and their corresponding link stubs into a dataframe, which will be used in the function to extract features from each school's page."
   ]
  },
  {
   "cell_type": "code",
   "execution_count": 55,
   "metadata": {},
   "outputs": [
    {
     "data": {
      "text/html": [
       "<div>\n",
       "<style scoped>\n",
       "    .dataframe tbody tr th:only-of-type {\n",
       "        vertical-align: middle;\n",
       "    }\n",
       "\n",
       "    .dataframe tbody tr th {\n",
       "        vertical-align: top;\n",
       "    }\n",
       "\n",
       "    .dataframe thead th {\n",
       "        text-align: right;\n",
       "    }\n",
       "</style>\n",
       "<table border=\"1\" class=\"dataframe\">\n",
       "  <thead>\n",
       "    <tr style=\"text-align: right;\">\n",
       "      <th></th>\n",
       "      <th>link_stub</th>\n",
       "    </tr>\n",
       "  </thead>\n",
       "  <tbody>\n",
       "    <tr>\n",
       "      <th>Alaska Bible College</th>\n",
       "      <td>?s=AK+CA+HI+NV+OR+WA&amp;l=93&amp;ct=2&amp;id=102580</td>\n",
       "    </tr>\n",
       "    <tr>\n",
       "      <th>Alaska Pacific University</th>\n",
       "      <td>?s=AK+CA+HI+NV+OR+WA&amp;l=93&amp;ct=2&amp;id=102669</td>\n",
       "    </tr>\n",
       "    <tr>\n",
       "      <th>America Evangelical University</th>\n",
       "      <td>?s=AK+CA+HI+NV+OR+WA&amp;l=93&amp;ct=2&amp;id=490081</td>\n",
       "    </tr>\n",
       "    <tr>\n",
       "      <th>American Jewish University</th>\n",
       "      <td>?s=AK+CA+HI+NV+OR+WA&amp;l=93&amp;ct=2&amp;id=116846</td>\n",
       "    </tr>\n",
       "    <tr>\n",
       "      <th>Antioch University-Los Angeles</th>\n",
       "      <td>?s=AK+CA+HI+NV+OR+WA&amp;l=93&amp;ct=2&amp;id=245838</td>\n",
       "    </tr>\n",
       "  </tbody>\n",
       "</table>\n",
       "</div>"
      ],
      "text/plain": [
       "                                                               link_stub\n",
       "Alaska Bible College            ?s=AK+CA+HI+NV+OR+WA&l=93&ct=2&id=102580\n",
       "Alaska Pacific University       ?s=AK+CA+HI+NV+OR+WA&l=93&ct=2&id=102669\n",
       "America Evangelical University  ?s=AK+CA+HI+NV+OR+WA&l=93&ct=2&id=490081\n",
       "American Jewish University      ?s=AK+CA+HI+NV+OR+WA&l=93&ct=2&id=116846\n",
       "Antioch University-Los Angeles  ?s=AK+CA+HI+NV+OR+WA&l=93&ct=2&id=245838"
      ]
     },
     "execution_count": 55,
     "metadata": {},
     "output_type": "execute_result"
    }
   ],
   "source": [
    "# create a dataframe out of the dictionary containing each school and their link stub\n",
    "\n",
    "schools_df = pd.DataFrame(schools).T  #transpose\n",
    "schools_df.columns = ['link_stub']\n",
    "\n",
    "schools_df.head()"
   ]
  },
  {
   "cell_type": "markdown",
   "metadata": {},
   "source": [
    "### Step 4. Scrape features from individual school pages"
   ]
  },
  {
   "cell_type": "code",
   "execution_count": 892,
   "metadata": {},
   "outputs": [],
   "source": [
    "def get_school_dict(link):\n",
    "    '''\n",
    "    From each school's NCES link stub, request school html, parse with BeautifulSoup, and\n",
    "    collect the following features:\n",
    "        - school name \n",
    "        - student-to-faculty ratio as string\n",
    "        - tuition and fees in 2019-20\n",
    "        - books and supplies in 2019-20\n",
    "        - tuition and fees in 2020-21\n",
    "        - books and supplies in 2020-21\n",
    "        - number of full-time faculty\n",
    "        - number part-time faculty\n",
    "        - average amount of grant or scholarship aid among first-time beginning undergraduate students\n",
    "        - % of first-time beginning undergraduate students receiving grant or scholarship aid\n",
    "        - average amount of grant or scholarship aid among all undergraduate students\n",
    "        - total enrollment\n",
    "        - undergraduate enrollment\n",
    "        - undergraduate transfer-in enrollment\n",
    "        - graduate enrollment\n",
    "        - number of undergraduate applicants\n",
    "        - percent of undergraduate applicants admitted\n",
    "        - number of first-time students who submitted their SAT score\n",
    "        - % of first-time students who submitted their SAT score\n",
    "        - number of first-time students who submitted their ACT score\n",
    "        - % of first-time students who submitted their ACT score\n",
    "        - SAT Evidence-Based Reading and Writing 25th percentile score\n",
    "        - SAT Evidence-Based Reading and Writing 75th percentile score\n",
    "        - SAT Math 25th percentile score\n",
    "        - SAT Math 75th percentile score\n",
    "        - ACT Composite 25th percentile score\n",
    "        - ACT Composite 75th percentile score\n",
    "        - ACT English 25th percentile score\n",
    "        - ACT English 75th percentile score\n",
    "        - ACT Math 25th percentile score\n",
    "        - ACT Math 75th percentile score\n",
    "    Return information as a dictionary.\n",
    "    '''\n",
    "    \n",
    "    base_url = 'https://nces.ed.gov/collegenavigator/'\n",
    "    \n",
    "    #Create full url to scrape\n",
    "    url = base_url + link\n",
    "    \n",
    "    #Request HTML and parse\n",
    "    response = requests.get(url)\n",
    "    time.sleep(3)\n",
    "    page = response.text\n",
    "    soup = BeautifulSoup(page,\"lxml\")\n",
    "\n",
    "    \n",
    "    headers = ['school', 'raw_stu_to_fac_ratio', 'tuition_fees_19_20', 'books_supplies_19_20', \n",
    "               'tuition_fees', 'books_supplies','ft_faculty', 'pt_faculty','avg_amt_grant_schol_aid_beg_under_19_20',\n",
    "               'perc_grant_schol_aid_beg_under_19_20', 'avg_amt_grant_schol_aid_all_under_19_20', 'total_enroll',\n",
    "               'under_enroll', 'under_trans_enroll','grad_enroll', 'under_apps', 'perc_admitted',\n",
    "               'sat_scores_submit', 'perc_sat_scores_submit','act_scores_submit','perc_act_scores_submit',\n",
    "               'sat_read_write_25_perc', 'sat_read_write_75_perc','sat_math_25_perc','sat_math_75_perc', \n",
    "               'act_comp_25_perc','act_comp_75_perc', 'act_eng_25_perc','act_eng_75_perc', 'act_math_25_perc', \n",
    "               'act_math_75_perc']\n",
    "    \n",
    "    #Get school name\n",
    "    school_string = soup.find('title').text\n",
    "    school = school_string.split('-')[1].strip()\n",
    "\n",
    "    #Get student to faculty ratio\n",
    "    raw_stu_fac_ratio = soup.find('table', class_='layouttab').find_all('td')[-1].text\n",
    "    \n",
    "    #Get price of tuition and fees\n",
    "    raw_tuition_fees_19_20 = get_tuition_books_19_20_value(soup, 'Tuition and fees')\n",
    "    tuition_fees_19_20 = money_to_int(raw_tuition_fees_19_20)\n",
    "    \n",
    "    raw_tuition_fees = get_tuition_books_20_21_value(soup, 'Tuition and fees')\n",
    "    tuition_fees = money_to_int(raw_tuition_fees)\n",
    "    \n",
    "    #Get price of books and supplies\n",
    "    raw_books_supplies_19_20 = get_tuition_books_19_20_value(soup, 'Books and supplies')\n",
    "    books_supplies_19_20 = money_to_int(raw_books_supplies_19_20)\n",
    "\n",
    "    raw_books_supplies = get_tuition_books_20_21_value(soup, 'Books and supplies')\n",
    "    books_supplies = money_to_int(raw_books_supplies)\n",
    "    \n",
    "    #Get number of full-time and part-time faculty\n",
    "    raw_ft_faculty = get_school_value_one_next(soup, 'Total faculty')\n",
    "    ft_faculty = number_to_int(raw_ft_faculty)\n",
    "    \n",
    "    raw_pt_faculty = get_school_value_two_nexts(soup, 'Total faculty')\n",
    "    pt_faculty = number_to_int(raw_pt_faculty)\n",
    "\n",
    "    #Get financial aid metrics\n",
    "    raw_avg_amt_grant_schol_aid_beg_under_19_20 = get_avg_amt_grant_schol_aid_beg_under_value(soup,'Grant or scholarship aid')\n",
    "    avg_amt_grant_schol_aid_beg_under_19_20 = money_to_int(raw_avg_amt_grant_schol_aid_beg_under_19_20)\n",
    "        \n",
    "    raw_perc_grant_schol_aid_beg_under_19_20 = get_school_value_two_nexts(soup,'Grant or scholarship aid')\n",
    "    perc_grant_schol_aid_beg_under_19_20 = percent_to_float(raw_perc_grant_schol_aid_beg_under_19_20)\n",
    "    \n",
    "    raw_avg_amt_grant_schol_aid_all_under_19_20 = get_avg_amt_grant_schol_aid_all_under_value(soup, 'All Undergraduate Students')\n",
    "    avg_amt_grant_schol_aid_all_under_19_20 = money_to_int(raw_avg_amt_grant_schol_aid_all_under_19_20)\n",
    "    \n",
    "    #Get enrollment metrics\n",
    "    raw_total_enroll = get_school_value_one_next(soup, 'Total enrollment')\n",
    "    total_enroll = number_to_int(raw_total_enroll)\n",
    "    \n",
    "    raw_under_enroll = get_school_value_one_next(soup, 'Undergraduate enrollment')\n",
    "    under_enroll = number_to_int(raw_under_enroll)\n",
    "    \n",
    "    raw_under_trans_enroll = get_school_value_one_next(soup, 'Undergraduate transfer-in enrollment')\n",
    "    under_trans_enroll = number_to_int(raw_under_trans_enroll)\n",
    "    \n",
    "    raw_grad_enroll = get_school_value_one_next(soup, 'Graduate enrollment')\n",
    "    grad_enroll = number_to_int(raw_grad_enroll)\n",
    "    \n",
    "    #Get admissions metrics - # of applicants and % admitted\n",
    "    raw_under_apps = get_school_value_one_next(soup, 'Number of applicants')\n",
    "    under_apps = number_to_int(raw_under_apps)\n",
    "    \n",
    "    raw_perc_admitted = get_school_value_one_next(soup, 'Percent admitted')\n",
    "    perc_admitted = percent_to_float(raw_perc_admitted)\n",
    "    \n",
    "    #Get admissions metrics - SAT and ACT\n",
    "    raw_sat_scores_submit = get_school_value_one_next(soup, 'SAT')\n",
    "    sat_scores_submit = number_to_int(raw_sat_scores_submit)\n",
    "    \n",
    "    raw_perc_sat_scores_submit = get_school_value_two_nexts(soup, 'SAT')\n",
    "    perc_sat_scores_submit = percent_to_float(raw_perc_sat_scores_submit)\n",
    "    \n",
    "    raw_act_scores_submit = get_school_value_one_next(soup, 'ACT')\n",
    "    act_scores_submit = number_to_int(raw_act_scores_submit)\n",
    "    \n",
    "    raw_perc_act_scores_submit = get_school_value_two_nexts(soup, 'ACT')\n",
    "    perc_act_scores_submit = percent_to_float(raw_perc_act_scores_submit)\n",
    "    \n",
    "    raw_sat_read_write_25_perc = get_school_value_one_next(soup, 'SAT Evidence-Based Reading and Writing')\n",
    "    sat_read_write_25_perc = number_to_int(raw_sat_read_write_25_perc)\n",
    "    \n",
    "    raw_sat_read_write_75_perc = get_school_value_two_nexts(soup, 'SAT Evidence-Based Reading and Writing')\n",
    "    sat_read_write_75_perc = number_to_int(raw_sat_read_write_75_perc)\n",
    "    \n",
    "    raw_sat_math_25_perc = get_school_value_one_next(soup, 'SAT Math')\n",
    "    sat_math_25_perc = number_to_int(raw_sat_math_25_perc)\n",
    "    \n",
    "    raw_sat_math_75_perc = get_school_value_two_nexts(soup, 'SAT Math')\n",
    "    sat_math_75_perc = number_to_int(raw_sat_math_75_perc)\n",
    "    \n",
    "    raw_act_comp_25_perc = get_school_value_one_next(soup, 'ACT Composite')\n",
    "    act_comp_25_perc = number_to_int(raw_act_comp_25_perc)\n",
    "    \n",
    "    raw_act_comp_75_perc = get_school_value_two_nexts(soup, 'ACT Composite')\n",
    "    act_comp_75_perc = number_to_int(raw_act_comp_75_perc)\n",
    "    \n",
    "    raw_act_eng_25_perc = get_school_value_one_next(soup, 'ACT English')\n",
    "    act_eng_25_perc = number_to_int(raw_act_eng_25_perc)\n",
    "    \n",
    "    raw_act_eng_75_perc = get_school_value_two_nexts(soup, 'ACT English')\n",
    "    act_eng_75_perc = number_to_int(raw_act_eng_75_perc)\n",
    "    \n",
    "    raw_act_math_25_perc = get_school_value_one_next(soup, 'ACT Math')\n",
    "    act_math_25_perc = number_to_int(raw_act_math_25_perc)\n",
    "    \n",
    "    raw_act_math_75_perc = get_school_value_two_nexts(soup, 'ACT Math')\n",
    "    act_math_75_perc = number_to_int(raw_act_math_75_perc)\n",
    "    \n",
    "    #Create school dictionary and return\n",
    "    school_dict = dict(zip(headers, [school,\n",
    "                                    raw_stu_fac_ratio,\n",
    "                                    tuition_fees_19_20,\n",
    "                                    books_supplies_19_20, \n",
    "                                    tuition_fees,\n",
    "                                    books_supplies,\n",
    "                                    ft_faculty,\n",
    "                                    pt_faculty,\n",
    "                                    avg_amt_grant_schol_aid_beg_under_19_20,\n",
    "                                    perc_grant_schol_aid_beg_under_19_20,\n",
    "                                    avg_amt_grant_schol_aid_all_under_19_20,\n",
    "                                    total_enroll,\n",
    "                                    under_enroll, \n",
    "                                    under_trans_enroll, \n",
    "                                    grad_enroll,\n",
    "                                    under_apps,\n",
    "                                    perc_admitted,\n",
    "                                    sat_scores_submit,\n",
    "                                    perc_sat_scores_submit,\n",
    "                                    act_scores_submit,\n",
    "                                    perc_act_scores_submit,\n",
    "                                    sat_read_write_25_perc,\n",
    "                                    sat_read_write_75_perc,\n",
    "                                    sat_math_25_perc,\n",
    "                                    sat_math_75_perc,\n",
    "                                    act_comp_25_perc,\n",
    "                                    act_comp_75_perc,\n",
    "                                    act_eng_25_perc,\n",
    "                                    act_eng_75_perc,\n",
    "                                    act_math_25_perc,\n",
    "                                    act_math_75_perc]))\n",
    "\n",
    "    return school_dict"
   ]
  },
  {
   "cell_type": "code",
   "execution_count": 893,
   "metadata": {},
   "outputs": [],
   "source": [
    "# apply the above created function to extract data for every link stub in schools_df\n",
    "    # (the df containing school name and link stub) and append the extracted data to a newly\n",
    "    # created list, which will ultimately become a list of dicts, one dict for each school\n",
    "\n",
    "private_schools_page_info_list = []\n",
    "\n",
    "for link in schools_df.link_stub:\n",
    "    private_schools_page_info_list.append(get_school_dict(link))"
   ]
  },
  {
   "cell_type": "code",
   "execution_count": 894,
   "metadata": {},
   "outputs": [
    {
     "data": {
      "text/plain": [
       "[{'school': 'Alaska Bible College',\n",
       "  'raw_stu_to_fac_ratio': '6 to 1',\n",
       "  'tuition_fees_19_20': 9700,\n",
       "  'books_supplies_19_20': 400,\n",
       "  'tuition_fees': 9700,\n",
       "  'books_supplies': 400,\n",
       "  'ft_faculty': 0,\n",
       "  'pt_faculty': 7,\n",
       "  'avg_amt_grant_schol_aid_beg_under_19_20': 11015,\n",
       "  'perc_grant_schol_aid_beg_under_19_20': 100.0,\n",
       "  'avg_amt_grant_schol_aid_all_under_19_20': 6902,\n",
       "  'total_enroll': None,\n",
       "  'under_enroll': None,\n",
       "  'under_trans_enroll': 3,\n",
       "  'grad_enroll': None,\n",
       "  'under_apps': None,\n",
       "  'perc_admitted': None,\n",
       "  'sat_scores_submit': None,\n",
       "  'perc_sat_scores_submit': None,\n",
       "  'act_scores_submit': None,\n",
       "  'perc_act_scores_submit': None,\n",
       "  'sat_read_write_25_perc': None,\n",
       "  'sat_read_write_75_perc': None,\n",
       "  'sat_math_25_perc': None,\n",
       "  'sat_math_75_perc': None,\n",
       "  'act_comp_25_perc': None,\n",
       "  'act_comp_75_perc': None,\n",
       "  'act_eng_25_perc': None,\n",
       "  'act_eng_75_perc': None,\n",
       "  'act_math_25_perc': None,\n",
       "  'act_math_75_perc': None},\n",
       " {'school': 'Alaska Pacific University',\n",
       "  'raw_stu_to_fac_ratio': '8 to 1',\n",
       "  'tuition_fees_19_20': 20760,\n",
       "  'books_supplies_19_20': 1200,\n",
       "  'tuition_fees': 20760,\n",
       "  'books_supplies': 1200,\n",
       "  'ft_faculty': 50,\n",
       "  'pt_faculty': 53,\n",
       "  'avg_amt_grant_schol_aid_beg_under_19_20': 13179,\n",
       "  'perc_grant_schol_aid_beg_under_19_20': 100.0,\n",
       "  'avg_amt_grant_schol_aid_all_under_19_20': 13592,\n",
       "  'total_enroll': 493,\n",
       "  'under_enroll': 312,\n",
       "  'under_trans_enroll': 65,\n",
       "  'grad_enroll': 181,\n",
       "  'under_apps': 428,\n",
       "  'perc_admitted': 91.0,\n",
       "  'sat_scores_submit': None,\n",
       "  'perc_sat_scores_submit': None,\n",
       "  'act_scores_submit': None,\n",
       "  'perc_act_scores_submit': None,\n",
       "  'sat_read_write_25_perc': None,\n",
       "  'sat_read_write_75_perc': None,\n",
       "  'sat_math_25_perc': None,\n",
       "  'sat_math_75_perc': None,\n",
       "  'act_comp_25_perc': None,\n",
       "  'act_comp_75_perc': None,\n",
       "  'act_eng_25_perc': None,\n",
       "  'act_eng_75_perc': None,\n",
       "  'act_math_25_perc': None,\n",
       "  'act_math_75_perc': None},\n",
       " {'school': 'America Evangelical University',\n",
       "  'raw_stu_to_fac_ratio': '6 to 1',\n",
       "  'tuition_fees_19_20': 5770,\n",
       "  'books_supplies_19_20': 1100,\n",
       "  'tuition_fees': 6250,\n",
       "  'books_supplies': 1200,\n",
       "  'ft_faculty': 5,\n",
       "  'pt_faculty': 9,\n",
       "  'avg_amt_grant_schol_aid_beg_under_19_20': None,\n",
       "  'perc_grant_schol_aid_beg_under_19_20': 100.0,\n",
       "  'avg_amt_grant_schol_aid_all_under_19_20': 3205,\n",
       "  'total_enroll': 165,\n",
       "  'under_enroll': 65,\n",
       "  'under_trans_enroll': 16,\n",
       "  'grad_enroll': 100,\n",
       "  'under_apps': None,\n",
       "  'perc_admitted': None,\n",
       "  'sat_scores_submit': None,\n",
       "  'perc_sat_scores_submit': None,\n",
       "  'act_scores_submit': None,\n",
       "  'perc_act_scores_submit': None,\n",
       "  'sat_read_write_25_perc': None,\n",
       "  'sat_read_write_75_perc': None,\n",
       "  'sat_math_25_perc': None,\n",
       "  'sat_math_75_perc': None,\n",
       "  'act_comp_25_perc': None,\n",
       "  'act_comp_75_perc': None,\n",
       "  'act_eng_25_perc': None,\n",
       "  'act_eng_75_perc': None,\n",
       "  'act_math_25_perc': None,\n",
       "  'act_math_75_perc': None},\n",
       " {'school': 'American Jewish University',\n",
       "  'raw_stu_to_fac_ratio': '4 to 1',\n",
       "  'tuition_fees_19_20': 31946,\n",
       "  'books_supplies_19_20': 1917,\n",
       "  'tuition_fees': 32404,\n",
       "  'books_supplies': 1080,\n",
       "  'ft_faculty': 8,\n",
       "  'pt_faculty': 40,\n",
       "  'avg_amt_grant_schol_aid_beg_under_19_20': 6735,\n",
       "  'perc_grant_schol_aid_beg_under_19_20': 30.0,\n",
       "  'avg_amt_grant_schol_aid_all_under_19_20': 6735,\n",
       "  'total_enroll': 93,\n",
       "  'under_enroll': 37,\n",
       "  'under_trans_enroll': 7,\n",
       "  'grad_enroll': 56,\n",
       "  'under_apps': None,\n",
       "  'perc_admitted': None,\n",
       "  'sat_scores_submit': None,\n",
       "  'perc_sat_scores_submit': None,\n",
       "  'act_scores_submit': None,\n",
       "  'perc_act_scores_submit': None,\n",
       "  'sat_read_write_25_perc': None,\n",
       "  'sat_read_write_75_perc': None,\n",
       "  'sat_math_25_perc': None,\n",
       "  'sat_math_75_perc': None,\n",
       "  'act_comp_25_perc': None,\n",
       "  'act_comp_75_perc': None,\n",
       "  'act_eng_25_perc': None,\n",
       "  'act_eng_75_perc': None,\n",
       "  'act_math_25_perc': None,\n",
       "  'act_math_75_perc': None},\n",
       " {'school': 'Antioch University',\n",
       "  'raw_stu_to_fac_ratio': '5 to 1',\n",
       "  'tuition_fees_19_20': None,\n",
       "  'books_supplies_19_20': None,\n",
       "  'tuition_fees': None,\n",
       "  'books_supplies': None,\n",
       "  'ft_faculty': 31,\n",
       "  'pt_faculty': 109,\n",
       "  'avg_amt_grant_schol_aid_beg_under_19_20': 7525,\n",
       "  'perc_grant_schol_aid_beg_under_19_20': 85.0,\n",
       "  'avg_amt_grant_schol_aid_all_under_19_20': 7525,\n",
       "  'total_enroll': 924,\n",
       "  'under_enroll': 169,\n",
       "  'under_trans_enroll': 26,\n",
       "  'grad_enroll': 755,\n",
       "  'under_apps': None,\n",
       "  'perc_admitted': None,\n",
       "  'sat_scores_submit': None,\n",
       "  'perc_sat_scores_submit': None,\n",
       "  'act_scores_submit': None,\n",
       "  'perc_act_scores_submit': None,\n",
       "  'sat_read_write_25_perc': None,\n",
       "  'sat_read_write_75_perc': None,\n",
       "  'sat_math_25_perc': None,\n",
       "  'sat_math_75_perc': None,\n",
       "  'act_comp_25_perc': None,\n",
       "  'act_comp_75_perc': None,\n",
       "  'act_eng_25_perc': None,\n",
       "  'act_eng_75_perc': None,\n",
       "  'act_math_25_perc': None,\n",
       "  'act_math_75_perc': None}]"
      ]
     },
     "execution_count": 894,
     "metadata": {},
     "output_type": "execute_result"
    }
   ],
   "source": [
    "private_schools_page_info_list[:5]"
   ]
  },
  {
   "cell_type": "code",
   "execution_count": 895,
   "metadata": {},
   "outputs": [],
   "source": [
    "#convert list of dictionaries to df to be used for modeling\n",
    "\n",
    "private_schools_page_info = pd.DataFrame(private_schools_page_info_list)\n",
    "private_schools_page_info.set_index('school', inplace=True)"
   ]
  },
  {
   "cell_type": "code",
   "execution_count": 896,
   "metadata": {},
   "outputs": [
    {
     "data": {
      "text/plain": [
       "337"
      ]
     },
     "execution_count": 896,
     "metadata": {},
     "output_type": "execute_result"
    }
   ],
   "source": [
    "under_apps_not_na = private_schools_page_info.loc[~private_schools_page_info.under_apps.isna()]"
   ]
  },
  {
   "cell_type": "code",
   "execution_count": 897,
   "metadata": {},
   "outputs": [
    {
     "name": "stdout",
     "output_type": "stream",
     "text": [
      "<class 'pandas.core.frame.DataFrame'>\n",
      "Index: 1332 entries, Alaska Bible College to Yale University\n",
      "Data columns (total 30 columns):\n",
      " #   Column                                   Non-Null Count  Dtype  \n",
      "---  ------                                   --------------  -----  \n",
      " 0   raw_stu_to_fac_ratio                     1332 non-null   object \n",
      " 1   tuition_fees_19_20                       1261 non-null   float64\n",
      " 2   books_supplies_19_20                     1209 non-null   float64\n",
      " 3   tuition_fees                             1264 non-null   float64\n",
      " 4   books_supplies                           1214 non-null   float64\n",
      " 5   ft_faculty                               1316 non-null   float64\n",
      " 6   pt_faculty                               1316 non-null   float64\n",
      " 7   avg_amt_grant_schol_aid_beg_under_19_20  1281 non-null   float64\n",
      " 8   perc_grant_schol_aid_beg_under_19_20     1320 non-null   float64\n",
      " 9   avg_amt_grant_schol_aid_all_under_19_20  1318 non-null   float64\n",
      " 10  total_enroll                             994 non-null    float64\n",
      " 11  under_enroll                             994 non-null    float64\n",
      " 12  under_trans_enroll                       1323 non-null   float64\n",
      " 13  grad_enroll                              994 non-null    float64\n",
      " 14  under_apps                               1086 non-null   float64\n",
      " 15  perc_admitted                            1086 non-null   float64\n",
      " 16  sat_scores_submit                        650 non-null    float64\n",
      " 17  perc_sat_scores_submit                   650 non-null    float64\n",
      " 18  act_scores_submit                        660 non-null    float64\n",
      " 19  perc_act_scores_submit                   660 non-null    float64\n",
      " 20  sat_read_write_25_perc                   640 non-null    float64\n",
      " 21  sat_read_write_75_perc                   640 non-null    float64\n",
      " 22  sat_math_25_perc                         640 non-null    float64\n",
      " 23  sat_math_75_perc                         640 non-null    float64\n",
      " 24  act_comp_25_perc                         655 non-null    float64\n",
      " 25  act_comp_75_perc                         655 non-null    float64\n",
      " 26  act_eng_25_perc                          615 non-null    float64\n",
      " 27  act_eng_75_perc                          615 non-null    float64\n",
      " 28  act_math_25_perc                         615 non-null    float64\n",
      " 29  act_math_75_perc                         615 non-null    float64\n",
      "dtypes: float64(29), object(1)\n",
      "memory usage: 362.6+ KB\n"
     ]
    }
   ],
   "source": [
    "private_schools_page_info.info()"
   ]
  },
  {
   "cell_type": "code",
   "execution_count": 574,
   "metadata": {},
   "outputs": [],
   "source": [
    "# loop through each school's page to extract the student-to-faculty ratio and save the value in a list\n",
    "\n",
    "#stu_fac_ratio_ls = []\n",
    "\n",
    "#for school_url in schools.values():\n",
    "   # response_school = requests.get(school_url)\n",
    "   # soup_school = BeautifulSoup(response_school.text, \"lxml\")\n",
    "   # stu_fac_ratio = soup_school.find('table', class_='layouttab').find_all('td')[-1].text\n",
    "   # stu_fac_ratio_ls.append(stu_fac_ratio)\n",
    "   # time.sleep(3)"
   ]
  },
  {
   "cell_type": "code",
   "execution_count": 576,
   "metadata": {},
   "outputs": [
    {
     "data": {
      "text/plain": [
       "1332"
      ]
     },
     "execution_count": 576,
     "metadata": {},
     "output_type": "execute_result"
    }
   ],
   "source": [
    "#stu_fac_ratio_ls[]"
   ]
  },
  {
   "cell_type": "code",
   "execution_count": 577,
   "metadata": {},
   "outputs": [
    {
     "data": {
      "text/plain": [
       "1332"
      ]
     },
     "execution_count": 577,
     "metadata": {},
     "output_type": "execute_result"
    }
   ],
   "source": [
    "#len(schools)"
   ]
  },
  {
   "cell_type": "code",
   "execution_count": null,
   "metadata": {},
   "outputs": [],
   "source": [
    "#time.sleep(3)"
   ]
  },
  {
   "cell_type": "code",
   "execution_count": null,
   "metadata": {},
   "outputs": [],
   "source": [
    "# loop through each school's page to grab the html from that page and save it in a list\n",
    "\n",
    "#stu_fac_ratio_ls = []\n",
    "\n",
    "#for school_url in schools.values():\n",
    "   # response_school = requests.get(school_url)\n",
    "   # soup_school = BeautifulSoup(response_school.text, \"lxml\")\n",
    "   # stu_fac_ratio = soup_school.find('table', class_='layouttab').find_all('td')[-1].text\n",
    "   # stu_fac_ratio_ls.append(stu_fac_ratio)\n",
    "   # time.sleep(3)"
   ]
  },
  {
   "cell_type": "code",
   "execution_count": null,
   "metadata": {},
   "outputs": [],
   "source": [
    "# code for looping through one state's url and replacing the state with a new one\n",
    "\n",
    "#state_abrev = ['TX', 'NY', 'FL']\n",
    "#ca_string = 'https://nces.ed.gov/collegenavigator/?s=CA&l=93&ct=2'\n",
    "\n",
    "#for abrev in state_abrev:\n",
    "   # ca_list = list(ca_string)\n",
    "   # idx_1 = ca_list.index('=')\n",
    "   # idx_2 = ca_list.index('&')\n",
    "    #print(''.join(ca_list[:idx_1+1]) + abrev + ''.join(ca_list[idx_2:]))"
   ]
  },
  {
   "cell_type": "code",
   "execution_count": 523,
   "metadata": {},
   "outputs": [],
   "source": [
    "# code for looping through the multiple pages of a state's urls and replacing the state with a new one\n",
    "\n",
    "#state_abrev = ['TX', 'NY', 'FL']\n",
    "#ca_schools_search_tables_urls = [\n",
    "   # 'https://nces.ed.gov/collegenavigator/?s=CA&l=93&ct=2',\n",
    "   # 'https://nces.ed.gov/collegenavigator/?s=CA&l=93&ct=2&pg=2',\n",
    "   # 'https://nces.ed.gov/collegenavigator/?s=CA&l=93&ct=2&pg=3',\n",
    "   # 'https://nces.ed.gov/collegenavigator/?s=CA&l=93&ct=2&pg=4',\n",
    "    #'https://nces.ed.gov/collegenavigator/?s=CA&l=93&ct=2&pg=5',\n",
    "    #'https://nces.ed.gov/collegenavigator/?s=CA&l=93&ct=2&pg=6',\n",
    "    #'https://nces.ed.gov/collegenavigator/?s=CA&l=93&ct=2&pg=7',\n",
    "  #  'https://nces.ed.gov/collegenavigator/?s=CA&l=93&ct=2&pg=8']\n",
    "\n",
    "#for abrev in state_abrev:\n",
    "  #  for url in ca_schools_search_tables_urls:\n",
    "   #     idx_1 = url.index('=')\n",
    "   #     idx_2 = url.index('&')\n",
    "  #      print(''.join(url[:idx_1+1]) + abrev + ''.join(url[idx_2:]))"
   ]
  }
 ],
 "metadata": {
  "kernelspec": {
   "display_name": "Python 3",
   "language": "python",
   "name": "python3"
  },
  "language_info": {
   "codemirror_mode": {
    "name": "ipython",
    "version": 3
   },
   "file_extension": ".py",
   "mimetype": "text/x-python",
   "name": "python",
   "nbconvert_exporter": "python",
   "pygments_lexer": "ipython3",
   "version": "3.8.10"
  }
 },
 "nbformat": 4,
 "nbformat_minor": 4
}
