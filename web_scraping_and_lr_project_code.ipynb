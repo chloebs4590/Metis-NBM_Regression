{
 "cells": [
  {
   "cell_type": "code",
   "execution_count": 1,
   "metadata": {},
   "outputs": [],
   "source": [
    "from bs4 import BeautifulSoup\n",
    "import requests\n",
    "import random\n",
    "import time\n",
    "import pandas as pd"
   ]
  },
  {
   "cell_type": "markdown",
   "metadata": {},
   "source": [
    "## Step 1: Practice getting features from a single private university/college: Abilene Christian University\n",
    "- Note: commented out code was left to show the initial way(s) I extracted features from the case study, Abilene Christian University. I ultimately didn't use that code because it didn't work on all schools."
   ]
  },
  {
   "cell_type": "code",
   "execution_count": 137,
   "metadata": {},
   "outputs": [],
   "source": [
    "url = 'https://nces.ed.gov/collegenavigator/?q=abilene&s=all&l=93&ct=2&id=222178' \n",
    "\n",
    "response = requests.get(url)"
   ]
  },
  {
   "cell_type": "code",
   "execution_count": 138,
   "metadata": {},
   "outputs": [
    {
     "data": {
      "text/plain": [
       "200"
      ]
     },
     "execution_count": 138,
     "metadata": {},
     "output_type": "execute_result"
    }
   ],
   "source": [
    "response.status_code  #200 = success!"
   ]
  },
  {
   "cell_type": "code",
   "execution_count": 139,
   "metadata": {},
   "outputs": [],
   "source": [
    "page = response.text"
   ]
  },
  {
   "cell_type": "code",
   "execution_count": 140,
   "metadata": {},
   "outputs": [],
   "source": [
    "soup = BeautifulSoup(page, \"lxml\")"
   ]
  },
  {
   "cell_type": "markdown",
   "metadata": {},
   "source": [
    "\n",
    "#### Features from initial table at top of institution's page\n",
    "- Institution's name\n",
    "- Student-to-faculty ratio"
   ]
  },
  {
   "cell_type": "code",
   "execution_count": 141,
   "metadata": {},
   "outputs": [
    {
     "data": {
      "text/plain": [
       "'Abilene Christian University'"
      ]
     },
     "execution_count": 141,
     "metadata": {},
     "output_type": "execute_result"
    }
   ],
   "source": [
    "private_university_string = soup.find('span',class_='headerlg').text\n",
    "private_university_string"
   ]
  },
  {
   "cell_type": "code",
   "execution_count": 142,
   "metadata": {},
   "outputs": [],
   "source": [
    "#stu_fac_ratio = soup.find('table', class_='layouttab').find_all('td')[-1].text\n",
    "#print(stu_fac_ratio)"
   ]
  },
  {
   "cell_type": "code",
   "execution_count": 143,
   "metadata": {},
   "outputs": [],
   "source": [
    "# create function for extracting stu-to-fac ratio\n",
    "\n",
    "def get_stu_to_fac_ratio(soup):\n",
    "\n",
    "    obj = soup.find('table', class_='layouttab').find_all('td')\n",
    "    \n",
    "    if not obj: \n",
    "        return None\n",
    "    \n",
    "    ls = list(obj)\n",
    "    \n",
    "    row_ls = [row.text for row in ls]\n",
    "    \n",
    "    if row_ls.count('Student-to-faculty ratio:\\xa0\\xa0') == 0:\n",
    "        return None\n",
    "    \n",
    "    idx = row_ls.index('Student-to-faculty ratio:\\xa0\\xa0')\n",
    "                       \n",
    "    if idx:\n",
    "        return row_ls[idx+1]\n",
    "    else:\n",
    "        return None"
   ]
  },
  {
   "cell_type": "code",
   "execution_count": 144,
   "metadata": {},
   "outputs": [
    {
     "data": {
      "text/plain": [
       "'13 to 1'"
      ]
     },
     "execution_count": 144,
     "metadata": {},
     "output_type": "execute_result"
    }
   ],
   "source": [
    "get_stu_to_fac_ratio(soup)"
   ]
  },
  {
   "cell_type": "markdown",
   "metadata": {},
   "source": [
    "#### Features from 'TUITION, FEES AND ESTIMATED STUDENT EXPENSES' collapsable table\n",
    "- tuition and fees in 2019-20\n",
    "- books and supplies in 2019-20\n",
    "- tuition and fees in 2020-21\n",
    "- books and supplies in 2020-21\n",
    "- tuition in 2020-21\n",
    "- fees in 2020-21"
   ]
  },
  {
   "cell_type": "code",
   "execution_count": 145,
   "metadata": {},
   "outputs": [],
   "source": [
    "#tuition_table = soup.find(id='divctl00_cphCollegeNavBody_ucInstitutionMain_ctl00')\n",
    "#tuition_rows = [row for row in tuition_table.find_all('tr')]\n",
    "#tuition_rows[1]"
   ]
  },
  {
   "cell_type": "code",
   "execution_count": 146,
   "metadata": {},
   "outputs": [
    {
     "name": "stdout",
     "output_type": "stream",
     "text": [
      "$36,300\n",
      "$1,250\n",
      "$37,800\n",
      "$1,250\n"
     ]
    }
   ],
   "source": [
    "tuition_fees_19_20 = soup.find(text='Tuition and fees').findNext().findNext().findNext().text\n",
    "#tuition_19_20 = int(tuition_rows[1].find_all('td')[3].text.replace('$','').replace(',',''))\n",
    "print(tuition_fees_19_20)\n",
    "books_supplies_19_20 = soup.find(text='Books and supplies').findNext().findNext().findNext().text\n",
    "#books_19_20 = int(tuition_rows[2].find_all('td')[3].text.replace('$','').replace(',',''))\n",
    "print(books_supplies_19_20)\n",
    "tuition_fees_20_21 = soup.find(text='Tuition and fees').findNext().findNext().findNext().findNext().text\n",
    "#tuition = int(tuition_rows[1].find_all('td')[4].text.replace('$','').replace(',',''))\n",
    "print(tuition_fees_20_21)\n",
    "books_supplies_20_21 = soup.find(text='Books and supplies').findNext().findNext().findNext().findNext().text\n",
    "#books = int(tuition_rows[2].find_all('td')[4].text.replace('$','').replace(',',''))\n",
    "print(books_supplies_20_21)"
   ]
  },
  {
   "cell_type": "markdown",
   "metadata": {},
   "source": [
    "#### The functions below are to extract price of tuition and fees and price of books and supplies in 2019-20 and 2020-21. The functions include code for dealing with cases where these values don't exist on a given school's page."
   ]
  },
  {
   "cell_type": "code",
   "execution_count": 147,
   "metadata": {},
   "outputs": [],
   "source": [
    "# create function for extracting price of tuition and fees in 2019-20 \n",
    "    # and books and supplies in 2019-20\n",
    "\n",
    "def get_tuition_books_19_20_value(soup, field_name):\n",
    "    \n",
    "    obj = soup.find(text=field_name)\n",
    "    \n",
    "    if not obj: \n",
    "        return None\n",
    "    \n",
    "    element = obj.findNext().findNext().findNext()\n",
    "    \n",
    "    if element:\n",
    "        return element.text \n",
    "    else:\n",
    "        return None"
   ]
  },
  {
   "cell_type": "code",
   "execution_count": 148,
   "metadata": {},
   "outputs": [
    {
     "data": {
      "text/plain": [
       "'$36,300'"
      ]
     },
     "execution_count": 148,
     "metadata": {},
     "output_type": "execute_result"
    }
   ],
   "source": [
    "get_tuition_books_19_20_value(soup, 'Tuition and fees')"
   ]
  },
  {
   "cell_type": "code",
   "execution_count": 149,
   "metadata": {},
   "outputs": [
    {
     "data": {
      "text/plain": [
       "'$1,250'"
      ]
     },
     "execution_count": 149,
     "metadata": {},
     "output_type": "execute_result"
    }
   ],
   "source": [
    "get_tuition_books_19_20_value(soup, 'Books and supplies')"
   ]
  },
  {
   "cell_type": "code",
   "execution_count": 150,
   "metadata": {},
   "outputs": [],
   "source": [
    "# create function for extracting price of tuition and fees in 2020-21 \n",
    "    # and books and supplies in 2020-21\n",
    "    \n",
    "def get_tuition_books_20_21_value(soup, field_name):\n",
    "    \n",
    "    obj = soup.find(text=field_name)\n",
    "    \n",
    "    if not obj: \n",
    "        return None\n",
    "    \n",
    "    element = obj.findNext().findNext().findNext().findNext()\n",
    "    \n",
    "    if element:\n",
    "        return element.text \n",
    "    else:\n",
    "        return None"
   ]
  },
  {
   "cell_type": "code",
   "execution_count": 151,
   "metadata": {},
   "outputs": [
    {
     "data": {
      "text/plain": [
       "'$37,800'"
      ]
     },
     "execution_count": 151,
     "metadata": {},
     "output_type": "execute_result"
    }
   ],
   "source": [
    "get_tuition_books_20_21_value(soup, 'Tuition and fees')"
   ]
  },
  {
   "cell_type": "code",
   "execution_count": 152,
   "metadata": {},
   "outputs": [
    {
     "data": {
      "text/plain": [
       "'$1,250'"
      ]
     },
     "execution_count": 152,
     "metadata": {},
     "output_type": "execute_result"
    }
   ],
   "source": [
    "get_tuition_books_20_21_value(soup, 'Books and supplies')"
   ]
  },
  {
   "cell_type": "code",
   "execution_count": 153,
   "metadata": {},
   "outputs": [],
   "source": [
    "# create function for extracting price of tuition in 2020-21 \n",
    "    \n",
    "def get_tuition_20_21_value(soup, field_name):\n",
    "    \n",
    "    obj = soup.find(text=field_name)\n",
    "    \n",
    "    if not obj: \n",
    "        return None\n",
    "    \n",
    "    element = obj.findNext().findNext().findNext()\n",
    "    \n",
    "    if element:\n",
    "        return element.text \n",
    "    else:\n",
    "        return None"
   ]
  },
  {
   "cell_type": "code",
   "execution_count": 154,
   "metadata": {},
   "outputs": [],
   "source": [
    "get_tuition_20_21_value(soup, 'Undergraduate student tuition and fees')"
   ]
  },
  {
   "cell_type": "code",
   "execution_count": 155,
   "metadata": {},
   "outputs": [],
   "source": [
    "# create function for extracting price of fees in 2020-21 \n",
    "    \n",
    "def get_fees_20_21_value(soup, field_name):\n",
    "    \n",
    "    obj = soup.find(text=field_name)\n",
    "    \n",
    "    if not obj: \n",
    "        return None\n",
    "    \n",
    "    element = obj.findNext().findNext().findNext().findNext().findNext().findNext()\n",
    "    \n",
    "    if element:\n",
    "        return element.text \n",
    "    else:\n",
    "        return None"
   ]
  },
  {
   "cell_type": "code",
   "execution_count": 156,
   "metadata": {},
   "outputs": [],
   "source": [
    "get_fees_20_21_value(soup, 'Undergraduate student tuition and fees')"
   ]
  },
  {
   "cell_type": "code",
   "execution_count": 157,
   "metadata": {},
   "outputs": [],
   "source": [
    "# create function for extracting price of tuition in 2020-21 IF SCHOOL ONLY HAS UNDERGRAD\n",
    "    \n",
    "def get_tuition_under_20_21_value(soup, field_name):\n",
    "    \n",
    "    obj = soup.find(text=field_name)\n",
    "    \n",
    "    if not obj: \n",
    "        return None\n",
    "    \n",
    "    element = obj.findNext().findNext().findNext().findNext().findNext()\n",
    "    \n",
    "    if element:\n",
    "        return element.text \n",
    "    else:\n",
    "        return None"
   ]
  },
  {
   "cell_type": "code",
   "execution_count": 158,
   "metadata": {},
   "outputs": [],
   "source": [
    "get_tuition_under_20_21_value(soup, 'Average undergraduate student tuition and fees for academic year')"
   ]
  },
  {
   "cell_type": "code",
   "execution_count": 159,
   "metadata": {},
   "outputs": [],
   "source": [
    "# create function for extracting price of fees in 2020-21 IF SCHOOL ONLY HAS UNDERGRAD \n",
    "    \n",
    "def get_fees_under_20_21_value(soup, field_name):\n",
    "    \n",
    "    obj = soup.find(text=field_name)\n",
    "    \n",
    "    if not obj: \n",
    "        return None\n",
    "    \n",
    "    element = obj.findNext().findNext().findNext().findNext().findNext().findNext().findNext().findNext()\n",
    "    \n",
    "    if element:\n",
    "        return element.text \n",
    "    else:\n",
    "        return None"
   ]
  },
  {
   "cell_type": "code",
   "execution_count": 160,
   "metadata": {},
   "outputs": [],
   "source": [
    "get_fees_under_20_21_value(soup, 'Average undergraduate student tuition and fees for academic year')"
   ]
  },
  {
   "cell_type": "markdown",
   "metadata": {},
   "source": [
    "#### Features from 'GENERAL INFORMATION' collapsable table\n",
    "- number of full-time faculty\n",
    "- number part-time faculty"
   ]
  },
  {
   "cell_type": "code",
   "execution_count": 161,
   "metadata": {},
   "outputs": [],
   "source": [
    "#faculty_table = soup.find(id='ctl00_cphCollegeNavBody_ucInstitutionMain_divFaculty')\n",
    "#faculty_table = [row for row in faculty_table.find_all('tr')]\n",
    "#faculty_table[1]"
   ]
  },
  {
   "cell_type": "code",
   "execution_count": 162,
   "metadata": {},
   "outputs": [],
   "source": [
    "ft_faculty = soup.find(text='Total faculty').findNext().text\n",
    "#ft_faculty = int(faculty_table[1].find_all('td')[1].text)\n",
    "pt_faculty = soup.find(text='Total faculty').findNext().findNext().text\n",
    "#pt_faculty = int(faculty_table[1].find_all('td')[2].text)"
   ]
  },
  {
   "cell_type": "markdown",
   "metadata": {},
   "source": [
    "#### The functions below are to extract various features that are located in the same column on a table (if the table exists). The functions include code for dealing with cases where these values don't exist on a given school's page."
   ]
  },
  {
   "cell_type": "code",
   "execution_count": 163,
   "metadata": {},
   "outputs": [],
   "source": [
    "# create function to grab # of full-time faculty; total enrollment; \n",
    "    # total enrollment (all undergraduate); undergrad enrollment; \n",
    "    # undergrad transfer-in enrollment; grad enrollment; number of undergrad applicants;\n",
    "    # percent admitted; # of first-time students who submitted their SAT score;\n",
    "    # # of first-time students who submitted their ACT score; \n",
    "    # scores for the SAT Evidence-Based Reading and Writing, SAT Math, ACT Composite, \n",
    "    # ACT English and ACT Math below which 25% of students scored\n",
    "\n",
    "def get_school_value_one_next(soup, field_name):\n",
    "    \n",
    "    obj = soup.find(text=field_name)\n",
    "    \n",
    "    if not obj: \n",
    "        return None\n",
    "    \n",
    "    element = obj.findNext()\n",
    "    \n",
    "    if element:\n",
    "        return element.text \n",
    "    else:\n",
    "        return None"
   ]
  },
  {
   "cell_type": "code",
   "execution_count": 164,
   "metadata": {},
   "outputs": [
    {
     "data": {
      "text/plain": [
       "'277'"
      ]
     },
     "execution_count": 164,
     "metadata": {},
     "output_type": "execute_result"
    }
   ],
   "source": [
    "get_school_value_one_next(soup, 'Total faculty')"
   ]
  },
  {
   "cell_type": "code",
   "execution_count": 165,
   "metadata": {},
   "outputs": [],
   "source": [
    "# create function to grab # of part-time faculty; $ of full-time beginning under grad\n",
    "    # students receiving grant or scholarship aid in 2019-20;\n",
    "    # scores for the SAT Evidence-Based Reading and Writing, SAT Math, ACT Composite, \n",
    "    # ACT English and ACT Math below which 75% of students scores\n",
    "\n",
    "def get_school_value_two_nexts(soup, field_name):\n",
    "    \n",
    "    obj = soup.find(text=field_name)\n",
    "    \n",
    "    if not obj: \n",
    "        return None\n",
    "    \n",
    "    element = obj.findNext().findNext()\n",
    "    \n",
    "    if element:\n",
    "        return element.text \n",
    "    else:\n",
    "        return None"
   ]
  },
  {
   "cell_type": "code",
   "execution_count": 166,
   "metadata": {},
   "outputs": [
    {
     "data": {
      "text/plain": [
       "'137'"
      ]
     },
     "execution_count": 166,
     "metadata": {},
     "output_type": "execute_result"
    }
   ],
   "source": [
    "get_school_value_two_nexts(soup, 'Total faculty')"
   ]
  },
  {
   "cell_type": "markdown",
   "metadata": {},
   "source": [
    "#### Features from 'FINANCIAL AID' collapsable table - ONLY 2019-20 DATA\n",
    "- number of all undergraduate students receiving grant or scholarship aid\n",
    "- average amount of grant or scholarship aid among all undergraduate students"
   ]
  },
  {
   "cell_type": "code",
   "execution_count": 167,
   "metadata": {},
   "outputs": [],
   "source": [
    "#aid_table = soup.find(id='divctl00_cphCollegeNavBody_ucInstitutionMain_ctl01')\n",
    "#aid_rows = [row for row in aid_table.find_all('tr')]\n",
    "#aid_rows[13].find_all('td')"
   ]
  },
  {
   "cell_type": "code",
   "execution_count": 168,
   "metadata": {},
   "outputs": [],
   "source": [
    "#grant_schol_aid_19_20 = int(aid_rows[12].find_all('td')[1].text.replace(',',''))\n",
    "#print(grant_scholarship_aid_19_20)\n",
    "#avg_amt_grant_schol_aid_19_20 = int(aid_rows[12].find_all('td')[3].text.replace('$','').replace(',',''))\n",
    "#print(avg_amt_grant_scholarship_aid_19_20)"
   ]
  },
  {
   "cell_type": "markdown",
   "metadata": {},
   "source": [
    "#### The functions below are to extract the average amount of grant or scholarship aid received by a) full-time beginning undergrad students and b) all undergrad students. The functions include code for dealing with cases where these values don't exist on a given school's page."
   ]
  },
  {
   "cell_type": "code",
   "execution_count": 169,
   "metadata": {},
   "outputs": [],
   "source": [
    "def get_avg_amt_grant_schol_aid_beg_under_value(soup, field_name):\n",
    "    \n",
    "    obj = soup.find(text=field_name)\n",
    "    \n",
    "    if not obj: \n",
    "        return None\n",
    "    \n",
    "    element = obj.findNext().findNext().findNext().findNext()\n",
    "    \n",
    "    if element:\n",
    "        return element.text \n",
    "    else:\n",
    "        return None"
   ]
  },
  {
   "cell_type": "code",
   "execution_count": 170,
   "metadata": {},
   "outputs": [
    {
     "data": {
      "text/plain": [
       "'$22,887'"
      ]
     },
     "execution_count": 170,
     "metadata": {},
     "output_type": "execute_result"
    }
   ],
   "source": [
    "get_avg_amt_grant_schol_aid_beg_under_value(soup,'Grant or scholarship aid')"
   ]
  },
  {
   "cell_type": "code",
   "execution_count": 171,
   "metadata": {},
   "outputs": [],
   "source": [
    "def get_avg_amt_grant_schol_aid_all_under_value(soup, field_name):\n",
    "\n",
    "    obj = soup.find(text=field_name)\n",
    "    \n",
    "    if not obj: \n",
    "        return None\n",
    "    \n",
    "    element = obj.findNext().find_all('td')[3]\n",
    "    \n",
    "    if element:\n",
    "        return element.text \n",
    "    else:\n",
    "        return None"
   ]
  },
  {
   "cell_type": "code",
   "execution_count": 172,
   "metadata": {},
   "outputs": [
    {
     "data": {
      "text/plain": [
       "'$21,092'"
      ]
     },
     "execution_count": 172,
     "metadata": {},
     "output_type": "execute_result"
    }
   ],
   "source": [
    "get_avg_amt_grant_schol_aid_all_under_value(soup, 'All Undergraduate Students')"
   ]
  },
  {
   "cell_type": "markdown",
   "metadata": {},
   "source": [
    "#### Features from 'ENROLLMENT' collapsable table\n",
    "- total enrollment\n",
    "- undergraduate enrollment\n",
    "- undergraduate transfer-in enrollment\n",
    "- graduate enrollment"
   ]
  },
  {
   "cell_type": "code",
   "execution_count": 173,
   "metadata": {},
   "outputs": [],
   "source": [
    "#enroll_table = soup.find(id='divctl00_cphCollegeNavBody_ucInstitutionMain_ctl03')\n",
    "#enroll_rows = [row for row in enroll_table.find_all('tr')]\n",
    "#enroll_rows[0]"
   ]
  },
  {
   "cell_type": "code",
   "execution_count": 174,
   "metadata": {},
   "outputs": [],
   "source": [
    "#total_enroll = int(enroll_rows[0].find_all('th')[1].text.replace(',',''))\n",
    "#print(total_enroll)\n",
    "#under_enroll = int(enroll_rows[1].find_all('td')[1].text.replace(',',''))\n",
    "#print(under_enroll)\n",
    "#under_trans_enroll = int(enroll_rows[2].find_all('td')[1].text.replace(',',''))\n",
    "#print(under_trans_enroll)\n",
    "#grad_enroll = int(enroll_rows[3].find_all('td')[1].text.replace(',',''))\n",
    "#print(grad_enroll)"
   ]
  },
  {
   "cell_type": "code",
   "execution_count": 175,
   "metadata": {},
   "outputs": [],
   "source": [
    "#def get_total_enroll_value(soup, element_id):\n",
    "    \n",
    " #   '''Grab the total enrollment'''\n",
    "    \n",
    " #  table = soup.find(id=element_id)\n",
    " \n",
    " #   if not table: \n",
    " #       return None\n",
    "    \n",
    "    # this works for most of the values\n",
    " #   rows = [row for row in table.find_all('tr')]\n",
    "    \n",
    " #   if rows:\n",
    " #       return rows[0].find_all('th')[1].text\n",
    " #   else:\n",
    " #       return None"
   ]
  },
  {
   "cell_type": "code",
   "execution_count": 176,
   "metadata": {},
   "outputs": [],
   "source": [
    "#get_total_enroll_value(soup, 'divctl00_cphCollegeNavBody_ucInstitutionMain_ctl03')"
   ]
  },
  {
   "cell_type": "code",
   "execution_count": 177,
   "metadata": {},
   "outputs": [],
   "source": [
    "#def get_under_enroll_value(soup, element_id):\n",
    "    \n",
    "#    '''Grab the undergraduate enrollment'''\n",
    "    \n",
    "#    table = soup.find(id=element_id)\n",
    "    \n",
    "#    if not table: \n",
    "#        return None\n",
    "    \n",
    "    # this works for most of the values\n",
    "#    rows = [row for row in table.find_all('tr')]\n",
    "    \n",
    "#    if rows:\n",
    "#        return enroll_rows[1].find_all('td')[1].text\n",
    "#    else:\n",
    "#        return None"
   ]
  },
  {
   "cell_type": "code",
   "execution_count": 178,
   "metadata": {},
   "outputs": [],
   "source": [
    "#get_under_enroll_value(soup, 'divctl00_cphCollegeNavBody_ucInstitutionMain_ctl03')"
   ]
  },
  {
   "cell_type": "code",
   "execution_count": 179,
   "metadata": {},
   "outputs": [],
   "source": [
    "#def get_under_trans_enroll_value(soup, element_id):\n",
    "    \n",
    "#    '''Grab the undergraduate transfer-in enrollment'''\n",
    "    \n",
    "#    table = soup.find(id=element_id)\n",
    "    \n",
    "#    if not table: \n",
    "#        return None\n",
    "    \n",
    "    # this works for most of the values\n",
    "#    rows = [row for row in table.find_all('tr')]\n",
    "    \n",
    "#    if rows:\n",
    "#        return enroll_rows[2].find_all('td')[1].text\n",
    "#    else:\n",
    "#        return None"
   ]
  },
  {
   "cell_type": "code",
   "execution_count": 180,
   "metadata": {},
   "outputs": [],
   "source": [
    "#get_under_trans_enroll_value(soup, 'divctl00_cphCollegeNavBody_ucInstitutionMain_ctl03')"
   ]
  },
  {
   "cell_type": "code",
   "execution_count": 181,
   "metadata": {},
   "outputs": [],
   "source": [
    "#def get_grad_enroll_value(soup, element_id):\n",
    "    \n",
    "#    '''Grab the graduate enrollment'''\n",
    "    \n",
    "#    table = soup.find(id=element_id)\n",
    "    \n",
    "#    if not table: \n",
    "#        return None\n",
    "    \n",
    "    # this works for most of the values\n",
    "#    rows = [row for row in table.find_all('tr')]\n",
    "    \n",
    "#    if rows:\n",
    "#        return enroll_rows[3].find_all('td')[1].text\n",
    "#    else:\n",
    "#        return None"
   ]
  },
  {
   "cell_type": "code",
   "execution_count": 39,
   "metadata": {},
   "outputs": [],
   "source": [
    "#get_grad_enroll_value(soup, 'divctl00_cphCollegeNavBody_ucInstitutionMain_ctl03')"
   ]
  },
  {
   "cell_type": "markdown",
   "metadata": {},
   "source": [
    "#### Features from 'ADMISSIONS' collapsable table \n",
    "- number of undergraduate applicants\n",
    "- % of undergraduate applicants admitted\n",
    "- number of first-time students who submitted their SAT score\n",
    "- % of first-time students who submitted their SAT score\n",
    "- number of first-time students who submitted their ACT score\n",
    "- % of first-time students who submitted their ACT score\n",
    "- SAT Evidence-Based Reading and Writing 25th percentile score\n",
    "- SAT Evidence-Based Reading and Writing 75th percentile score\n",
    "- SAT Math 25th percentile score\n",
    "- SAT Math 75th percentile score\n",
    "- ACT Composite 25th percentile score\n",
    "- ACT Composite 75th percentile score\n",
    "- ACT English 25th percentile score\n",
    "- ACT English 75th percentile score\n",
    "- ACT Math 25th percentile score\n",
    "- ACT Math 75th percentile score"
   ]
  },
  {
   "cell_type": "code",
   "execution_count": 182,
   "metadata": {},
   "outputs": [],
   "source": [
    "#admissions_table = soup.find(id='divctl00_cphCollegeNavBody_ucInstitutionMain_ctl04')\n",
    "#admissions_rows = [row for row in admissions_table.find_all('tr')]"
   ]
  },
  {
   "cell_type": "code",
   "execution_count": 183,
   "metadata": {},
   "outputs": [],
   "source": [
    "#under_apps = int(admissions_rows[3].find_all('td')[1].text.replace(',',''))\n",
    "#print(applicants)\n",
    "#perc_admitted = float(admissions_rows[4].find_all('td')[2].text.replace('%',''))\n",
    "#print(perc_admitted)"
   ]
  },
  {
   "cell_type": "code",
   "execution_count": 184,
   "metadata": {},
   "outputs": [
    {
     "name": "stdout",
     "output_type": "stream",
     "text": [
      "432\n",
      "50.0\n",
      "369\n",
      "43.0\n",
      "510\n",
      "620\n",
      "500\n",
      "600\n",
      "21\n",
      "27\n",
      "20\n",
      "28\n",
      "18\n",
      "26\n"
     ]
    }
   ],
   "source": [
    "sat_scores_submit = int(soup.find(text='SAT').findNext().text)\n",
    "print(sat_scores_submit)\n",
    "perc_sat_scores_submit = float(soup.find(text='SAT').findNext().findNext().text.replace('%',''))\n",
    "print(perc_sat_scores_submit)\n",
    "act_scores_submit = int(soup.find(text='ACT').findNext().text)\n",
    "print(act_scores_submit)\n",
    "perc_act_scores_submit = float(soup.find(text='ACT').findNext().findNext().text.replace('%',''))\n",
    "print(perc_act_scores_submit)\n",
    "sat_read_write_25_perc = int(soup.find(text='SAT Evidence-Based Reading and Writing').findNext().text)\n",
    "print(sat_read_write_25_perc)\n",
    "sat_read_write_75_perc = int(soup.find(text='SAT Evidence-Based Reading and Writing').findNext().findNext().text)\n",
    "print(sat_read_write_75_perc)\n",
    "sat_math_25_perc = int(soup.find(text='SAT Math').findNext().text)\n",
    "print(sat_math_25_perc)\n",
    "sat_math_75_perc = int(soup.find(text='SAT Math').findNext().findNext().text)\n",
    "print(sat_math_75_perc)\n",
    "act_comp_25_perc = int(soup.find(text='ACT Composite').findNext().text)\n",
    "print(act_comp_25_perc)\n",
    "act_comp_75_perc = int(soup.find(text='ACT Composite').findNext().findNext().text)\n",
    "print(act_comp_75_perc)\n",
    "act_eng_25_perc = int(soup.find(text='ACT English').findNext().text)\n",
    "print(act_eng_25_perc)\n",
    "act_eng_75_perc = int(soup.find(text='ACT English').findNext().findNext().text)\n",
    "print(act_eng_75_perc)\n",
    "act_math_25_perc = int(soup.find(text='ACT Math').findNext().text)\n",
    "print(act_math_25_perc)\n",
    "act_math_75_perc = int(soup.find(text='ACT Math').findNext().findNext().text)\n",
    "print(act_math_75_perc)"
   ]
  },
  {
   "cell_type": "markdown",
   "metadata": {},
   "source": [
    "## Step 2: Create helper functions to parse strings into numerical values"
   ]
  },
  {
   "cell_type": "code",
   "execution_count": 185,
   "metadata": {},
   "outputs": [],
   "source": [
    "def money_to_int(moneystring):\n",
    "    try:\n",
    "        moneystring = moneystring.replace('$', '').replace(',', '')\n",
    "        return int(moneystring)\n",
    "    except:\n",
    "        return None\n",
    "\n",
    "def percent_to_float(percentstring):\n",
    "    try:\n",
    "        percentstring = percentstring.replace('%','')\n",
    "        return float(percentstring)\n",
    "    except:\n",
    "        return None\n",
    "\n",
    "def number_to_int(numberstring):\n",
    "    try:\n",
    "        numberstring = numberstring.replace(',', '')\n",
    "        return int(numberstring)\n",
    "    except:\n",
    "        return None"
   ]
  },
  {
   "cell_type": "markdown",
   "metadata": {},
   "source": [
    "### Step 3: Scrape individual school names and their corresponding NCES link stubs\n",
    "\n",
    "- NOTE: Through trial and error, I discovered that you can only view up to 15 schools on a page and up to 34 pages in a particular search for schools. To get all the private non-profit universities and colleges offering Bachelor's degrees in the US, I ended up using the map in the search section to select groups of states by region."
   ]
  },
  {
   "cell_type": "markdown",
   "metadata": {},
   "source": [
    "#### Step 1: Create a list of urls for the first page of private schools in each region (NCES divides the country into 8 regions)"
   ]
  },
  {
   "cell_type": "code",
   "execution_count": 44,
   "metadata": {},
   "outputs": [],
   "source": [
    "# create a list of the urls for each region (Far West, Rocky Mountains, Southwest, Plains, Great Lakes, Southeast\n",
    "                # Mideast (including DC) and New England)\n",
    "\n",
    "regions_urls = ['https://nces.ed.gov/collegenavigator/?s=AK+CA+HI+NV+OR+WA&l=93&ct=2',\n",
    "               'https://nces.ed.gov/collegenavigator/?s=CO+ID+MT+UT+WY&l=93&ct=2',\n",
    "               'https://nces.ed.gov/collegenavigator/?s=AZ+NM+OK+TX&l=93&ct=2',\n",
    "               'https://nces.ed.gov/collegenavigator/?s=IA+KS+MN+MO+NE+ND+SD&l=93&ct=2',\n",
    "               'https://nces.ed.gov/collegenavigator/?s=IL+IN+MI+OH+WI&l=93&ct=2',\n",
    "               'https://nces.ed.gov/collegenavigator/?s=AL+AR+FL+GA+KY+LA+MS+NC+SC+TN+VA+WV&l=93&ct=2',\n",
    "               'https://nces.ed.gov/collegenavigator/?s=DE+DC+MD+NJ+NY+PA&l=93&ct=2',\n",
    "               'https://nces.ed.gov/collegenavigator/?s=CT+ME+MA+NH+RI+VT&l=93&ct=2']                "
   ]
  },
  {
   "cell_type": "markdown",
   "metadata": {},
   "source": [
    "#### Step 2: Loop through the urls for each region to extract the number of pages worth of results (results = school name and link)"
   ]
  },
  {
   "cell_type": "code",
   "execution_count": 45,
   "metadata": {},
   "outputs": [],
   "source": [
    "# loop through each region's url to get the count of the # of pages' worth of schools \n",
    "    #each region has - save these 8 numbers (one for each of the 8 regions) in a list\n",
    "\n",
    "pages_regions = []\n",
    "\n",
    "for url_reg in regions_urls:\n",
    "    response_reg = requests.get(url_reg)\n",
    "    time.sleep(1)\n",
    "    soup_reg = BeautifulSoup(response_reg.text, 'html5lib')\n",
    "    pages_str = soup_reg.find(id='ctl00_cphCollegeNavBody_ucResultsMain_divPagingControls').find_all('a')[-1]['href']\n",
    "    pages_idx = pages_str.find('&pg=')\n",
    "    pages = pages_str[pages_idx+4:]\n",
    "    pages_regions.append(int(pages))"
   ]
  },
  {
   "cell_type": "markdown",
   "metadata": {},
   "source": [
    "#### Step 3: Loop through the list of region urls and for each url, create a new url for each additional page worth of results (e.g., if the first region in the region_urls list - Far West - has 8 pages' worth of results, create 7 new urls that append '&pg=' and the number for the page) and append the newly created urls to the original list of region urls."
   ]
  },
  {
   "cell_type": "code",
   "execution_count": 46,
   "metadata": {},
   "outputs": [],
   "source": [
    "# loop through the list of each region's url and each region's corresponding number of pages' \n",
    "    # worth of schools to create a new url for each region's page(s) \n",
    "    # and add the new url to the original list of initial region urls\n",
    "\n",
    "for idx in range(0, len(regions_urls)):\n",
    "    for i in range(2, pages_regions[idx]+1):\n",
    "        new_url = (''.join(regions_urls[idx] + '&pg=' + str(i)))\n",
    "        regions_urls.append(new_url)"
   ]
  },
  {
   "cell_type": "markdown",
   "metadata": {},
   "source": [
    "#### Step 4: Loop through the updated list of region urls to extract the name of each school and its link stub and save these extractions in a new dictionary."
   ]
  },
  {
   "cell_type": "code",
   "execution_count": 47,
   "metadata": {},
   "outputs": [],
   "source": [
    "# loop through each region's url to create a dictionary of all school names \n",
    "    # and their corresponding link stub\n",
    "\n",
    "schools = {}\n",
    "names = []\n",
    "urls = []\n",
    "\n",
    "for reg_url in regions_urls:\n",
    "    response_reg = requests.get(reg_url)\n",
    "    time.sleep(1)\n",
    "    soup_reg = BeautifulSoup(response_reg.text, \"lxml\")\n",
    "    table_reg = soup_reg.find(id='ctl00_cphCollegeNavBody_ucResultsMain_tblResults')\n",
    "    rows_reg = [row for row in table_reg.find_all('tr')]\n",
    "\n",
    "    for row in rows_reg:\n",
    "        link = row.find('a')\n",
    "        if link != None:\n",
    "            name, url = link.text, link['href']\n",
    "            names.append(name)\n",
    "            urls.append(url)\n",
    "            for idx in range(1, len(names)):\n",
    "                if names[idx] == names[idx-1]:\n",
    "                    names[idx] = names[idx] + '_b'\n",
    "\n",
    "for a, b in zip(names, urls):\n",
    "    schools[a] = [b]"
   ]
  },
  {
   "cell_type": "code",
   "execution_count": 48,
   "metadata": {},
   "outputs": [
    {
     "data": {
      "text/plain": [
       "{'Alaska Bible College': ['?s=AK+CA+HI+NV+OR+WA&l=93&ct=2&id=102580'],\n",
       " 'Alaska Pacific University': ['?s=AK+CA+HI+NV+OR+WA&l=93&ct=2&id=102669'],\n",
       " 'America Evangelical University': ['?s=AK+CA+HI+NV+OR+WA&l=93&ct=2&id=490081'],\n",
       " 'American Jewish University': ['?s=AK+CA+HI+NV+OR+WA&l=93&ct=2&id=116846'],\n",
       " 'Antioch University-Los Angeles': ['?s=AK+CA+HI+NV+OR+WA&l=93&ct=2&id=245838']}"
      ]
     },
     "execution_count": 48,
     "metadata": {},
     "output_type": "execute_result"
    }
   ],
   "source": [
    "# check first five key, value pairs in new schools dict to make sure it's correct\n",
    "\n",
    "{k: schools[k] for k in list(schools)[:5]}"
   ]
  },
  {
   "cell_type": "markdown",
   "metadata": {},
   "source": [
    "#### Step 5. Convert the dictionary of schools and their corresponding link stubs into a dataframe, which will be used in the function to extract features from each school's page."
   ]
  },
  {
   "cell_type": "code",
   "execution_count": 49,
   "metadata": {},
   "outputs": [
    {
     "data": {
      "text/html": [
       "<div>\n",
       "<style scoped>\n",
       "    .dataframe tbody tr th:only-of-type {\n",
       "        vertical-align: middle;\n",
       "    }\n",
       "\n",
       "    .dataframe tbody tr th {\n",
       "        vertical-align: top;\n",
       "    }\n",
       "\n",
       "    .dataframe thead th {\n",
       "        text-align: right;\n",
       "    }\n",
       "</style>\n",
       "<table border=\"1\" class=\"dataframe\">\n",
       "  <thead>\n",
       "    <tr style=\"text-align: right;\">\n",
       "      <th></th>\n",
       "      <th>link_stub</th>\n",
       "    </tr>\n",
       "  </thead>\n",
       "  <tbody>\n",
       "    <tr>\n",
       "      <th>Alaska Bible College</th>\n",
       "      <td>?s=AK+CA+HI+NV+OR+WA&amp;l=93&amp;ct=2&amp;id=102580</td>\n",
       "    </tr>\n",
       "    <tr>\n",
       "      <th>Alaska Pacific University</th>\n",
       "      <td>?s=AK+CA+HI+NV+OR+WA&amp;l=93&amp;ct=2&amp;id=102669</td>\n",
       "    </tr>\n",
       "    <tr>\n",
       "      <th>America Evangelical University</th>\n",
       "      <td>?s=AK+CA+HI+NV+OR+WA&amp;l=93&amp;ct=2&amp;id=490081</td>\n",
       "    </tr>\n",
       "    <tr>\n",
       "      <th>American Jewish University</th>\n",
       "      <td>?s=AK+CA+HI+NV+OR+WA&amp;l=93&amp;ct=2&amp;id=116846</td>\n",
       "    </tr>\n",
       "    <tr>\n",
       "      <th>Antioch University-Los Angeles</th>\n",
       "      <td>?s=AK+CA+HI+NV+OR+WA&amp;l=93&amp;ct=2&amp;id=245838</td>\n",
       "    </tr>\n",
       "  </tbody>\n",
       "</table>\n",
       "</div>"
      ],
      "text/plain": [
       "                                                               link_stub\n",
       "Alaska Bible College            ?s=AK+CA+HI+NV+OR+WA&l=93&ct=2&id=102580\n",
       "Alaska Pacific University       ?s=AK+CA+HI+NV+OR+WA&l=93&ct=2&id=102669\n",
       "America Evangelical University  ?s=AK+CA+HI+NV+OR+WA&l=93&ct=2&id=490081\n",
       "American Jewish University      ?s=AK+CA+HI+NV+OR+WA&l=93&ct=2&id=116846\n",
       "Antioch University-Los Angeles  ?s=AK+CA+HI+NV+OR+WA&l=93&ct=2&id=245838"
      ]
     },
     "execution_count": 49,
     "metadata": {},
     "output_type": "execute_result"
    }
   ],
   "source": [
    "# create a dataframe out of the dictionary containing each school and their link stub\n",
    "\n",
    "schools_df = pd.DataFrame(schools).T  #transpose\n",
    "schools_df.columns = ['link_stub']\n",
    "\n",
    "schools_df.head()"
   ]
  },
  {
   "cell_type": "markdown",
   "metadata": {},
   "source": [
    "### Step 4. Scrape features from individual school pages"
   ]
  },
  {
   "cell_type": "code",
   "execution_count": 191,
   "metadata": {},
   "outputs": [],
   "source": [
    "def get_school_dict(link):\n",
    "    '''\n",
    "    From each school's NCES link stub, request school html, parse with BeautifulSoup, and\n",
    "    collect the following features:\n",
    "        - school name \n",
    "        - student-to-faculty ratio as string\n",
    "        - tuition and fees in 2019-20\n",
    "        - books and supplies in 2019-20\n",
    "        - tuition and fees in 2020-21\n",
    "        - books and supplies in 2020-21\n",
    "        - number of full-time faculty\n",
    "        - number part-time faculty\n",
    "        - average amount of grant or scholarship aid among first-time beginning undergraduate students\n",
    "        - % of first-time beginning undergraduate students receiving grant or scholarship aid\n",
    "        - average amount of grant or scholarship aid among all undergraduate students\n",
    "        - total enrollment\n",
    "        - undergraduate enrollment\n",
    "        - undergraduate transfer-in enrollment\n",
    "        - graduate enrollment\n",
    "        - number of undergraduate applicants\n",
    "        - percent of undergraduate applicants admitted\n",
    "        - number of first-time students who submitted their SAT score\n",
    "        - % of first-time students who submitted their SAT score\n",
    "        - number of first-time students who submitted their ACT score\n",
    "        - % of first-time students who submitted their ACT score\n",
    "        - SAT Evidence-Based Reading and Writing 25th percentile score\n",
    "        - SAT Evidence-Based Reading and Writing 75th percentile score\n",
    "        - SAT Math 25th percentile score\n",
    "        - SAT Math 75th percentile score\n",
    "        - ACT Composite 25th percentile score\n",
    "        - ACT Composite 75th percentile score\n",
    "        - ACT English 25th percentile score\n",
    "        - ACT English 75th percentile score\n",
    "        - ACT Math 25th percentile score\n",
    "        - ACT Math 75th percentile score\n",
    "    Return information as a dictionary.\n",
    "    '''\n",
    "    \n",
    "    base_url = 'https://nces.ed.gov/collegenavigator/'\n",
    "    \n",
    "    #Create full url to scrape\n",
    "    url = base_url + link\n",
    "    \n",
    "    #Request HTML and parse\n",
    "    response = requests.get(url, timeout=5)\n",
    "    #time.sleep(4)\n",
    "    page = response.text\n",
    "    soup = BeautifulSoup(page,\"lxml\")\n",
    "\n",
    "    \n",
    "    headers = ['school', 'raw_stu_to_fac_ratio', 'tuition_fees_19_20', 'books_supplies_19_20', \n",
    "               'tuition_fees', 'books_supplies', 'tuition', 'fees', 'tuition_under','fees_under',\n",
    "               'ft_faculty', 'pt_faculty','avg_amt_grant_schol_aid_beg_under_19_20',\n",
    "               'perc_grant_schol_aid_beg_under_19_20', 'avg_amt_grant_schol_aid_all_under_19_20', 'total_enroll',\n",
    "               'total_enroll_under', 'under_enroll', 'under_trans_enroll','grad_enroll', 'under_apps', 'perc_admitted',\n",
    "               'sat_scores_submit', 'perc_sat_scores_submit','act_scores_submit','perc_act_scores_submit',\n",
    "               'sat_read_write_25_perc', 'sat_read_write_75_perc','sat_math_25_perc','sat_math_75_perc', \n",
    "               'act_comp_25_perc','act_comp_75_perc', 'act_eng_25_perc','act_eng_75_perc', 'act_math_25_perc', \n",
    "               'act_math_75_perc']\n",
    "    \n",
    "    #Get school name\n",
    "    school = soup.find('span',class_='headerlg').text\n",
    "\n",
    "    #Get student to faculty ratio\n",
    "    raw_stu_fac_ratio = get_stu_to_fac_ratio(soup)\n",
    "    \n",
    "    #Get price of tuition and fees or just tuition or just fees\n",
    "    raw_tuition_fees_19_20 = get_tuition_books_19_20_value(soup, 'Tuition and fees')\n",
    "    tuition_fees_19_20 = money_to_int(raw_tuition_fees_19_20)\n",
    "    \n",
    "    raw_tuition_fees = get_tuition_books_20_21_value(soup, 'Tuition and fees')\n",
    "    tuition_fees = money_to_int(raw_tuition_fees)\n",
    "    \n",
    "    raw_tuition = get_tuition_20_21_value(soup, 'Undergraduate student tuition and fees')\n",
    "    tuition = money_to_int(raw_tuition)\n",
    "    \n",
    "    raw_fees = get_fees_20_21_value(soup, 'Undergraduate student tuition and fees')\n",
    "    fees = money_to_int(raw_fees)\n",
    "    \n",
    "    raw_tuition_under = get_tuition_under_20_21_value(soup, 'Average undergraduate student tuition and fees for academic year')\n",
    "    tuition_under = money_to_int(raw_tuition_under)\n",
    "    \n",
    "    raw_fees_under = get_fees_under_20_21_value(soup, 'Average undergraduate student tuition and fees for academic year')\n",
    "    fees_under = money_to_int(raw_fees_under)\n",
    "    \n",
    "    #Get price of books and supplies\n",
    "    raw_books_supplies_19_20 = get_tuition_books_19_20_value(soup, 'Books and supplies')\n",
    "    books_supplies_19_20 = money_to_int(raw_books_supplies_19_20)\n",
    "\n",
    "    raw_books_supplies = get_tuition_books_20_21_value(soup, 'Books and supplies')\n",
    "    books_supplies = money_to_int(raw_books_supplies)\n",
    "\n",
    "    #Get number of full-time and part-time faculty\n",
    "    raw_ft_faculty = get_school_value_one_next(soup, 'Total faculty')\n",
    "    ft_faculty = number_to_int(raw_ft_faculty)\n",
    "    \n",
    "    raw_pt_faculty = get_school_value_two_nexts(soup, 'Total faculty')\n",
    "    pt_faculty = number_to_int(raw_pt_faculty)\n",
    "\n",
    "    #Get financial aid metrics\n",
    "    raw_avg_amt_grant_schol_aid_beg_under_19_20 = get_avg_amt_grant_schol_aid_beg_under_value(soup,'Grant or scholarship aid')\n",
    "    avg_amt_grant_schol_aid_beg_under_19_20 = money_to_int(raw_avg_amt_grant_schol_aid_beg_under_19_20)\n",
    "        \n",
    "    raw_perc_grant_schol_aid_beg_under_19_20 = get_school_value_two_nexts(soup,'Grant or scholarship aid')\n",
    "    perc_grant_schol_aid_beg_under_19_20 = percent_to_float(raw_perc_grant_schol_aid_beg_under_19_20)\n",
    "    \n",
    "    raw_avg_amt_grant_schol_aid_all_under_19_20 = get_avg_amt_grant_schol_aid_all_under_value(soup, 'All Undergraduate Students')\n",
    "    avg_amt_grant_schol_aid_all_under_19_20 = money_to_int(raw_avg_amt_grant_schol_aid_all_under_19_20)\n",
    "    \n",
    "    #Get enrollment metrics\n",
    "    raw_total_enroll = get_school_value_one_next(soup, 'Total enrollment')\n",
    "    total_enroll = number_to_int(raw_total_enroll)\n",
    "    \n",
    "    raw_total_enroll_under = get_school_value_one_next(soup, 'Total enrollment (all undergraduate)') \n",
    "    total_enroll_under = number_to_int(raw_total_enroll_under) # combine this column with total_enroll\n",
    "    \n",
    "    raw_under_enroll = get_school_value_one_next(soup, 'Undergraduate enrollment')\n",
    "    under_enroll = number_to_int(raw_under_enroll)\n",
    "    \n",
    "    raw_under_trans_enroll = get_school_value_one_next(soup, 'Undergraduate transfer-in enrollment')\n",
    "    under_trans_enroll = number_to_int(raw_under_trans_enroll)\n",
    "    \n",
    "    raw_grad_enroll = get_school_value_one_next(soup, 'Graduate enrollment')\n",
    "    grad_enroll = number_to_int(raw_grad_enroll)\n",
    "    \n",
    "    #Get admissions metrics - # of applicants and % admitted\n",
    "    raw_under_apps = get_school_value_one_next(soup, 'Number of applicants')\n",
    "    under_apps = number_to_int(raw_under_apps)\n",
    "    \n",
    "    raw_perc_admitted = get_school_value_one_next(soup, 'Percent admitted')\n",
    "    perc_admitted = percent_to_float(raw_perc_admitted)\n",
    "    \n",
    "    #Get admissions metrics - SAT and ACT\n",
    "    raw_sat_scores_submit = get_school_value_one_next(soup, 'SAT')\n",
    "    sat_scores_submit = number_to_int(raw_sat_scores_submit)\n",
    "    \n",
    "    raw_perc_sat_scores_submit = get_school_value_two_nexts(soup, 'SAT')\n",
    "    perc_sat_scores_submit = percent_to_float(raw_perc_sat_scores_submit)\n",
    "    \n",
    "    raw_act_scores_submit = get_school_value_one_next(soup, 'ACT')\n",
    "    act_scores_submit = number_to_int(raw_act_scores_submit)\n",
    "    \n",
    "    raw_perc_act_scores_submit = get_school_value_two_nexts(soup, 'ACT')\n",
    "    perc_act_scores_submit = percent_to_float(raw_perc_act_scores_submit)\n",
    "    \n",
    "    raw_sat_read_write_25_perc = get_school_value_one_next(soup, 'SAT Evidence-Based Reading and Writing')\n",
    "    sat_read_write_25_perc = number_to_int(raw_sat_read_write_25_perc)\n",
    "    \n",
    "    raw_sat_read_write_75_perc = get_school_value_two_nexts(soup, 'SAT Evidence-Based Reading and Writing')\n",
    "    sat_read_write_75_perc = number_to_int(raw_sat_read_write_75_perc)\n",
    "    \n",
    "    raw_sat_math_25_perc = get_school_value_one_next(soup, 'SAT Math')\n",
    "    sat_math_25_perc = number_to_int(raw_sat_math_25_perc)\n",
    "    \n",
    "    raw_sat_math_75_perc = get_school_value_two_nexts(soup, 'SAT Math')\n",
    "    sat_math_75_perc = number_to_int(raw_sat_math_75_perc)\n",
    "    \n",
    "    raw_act_comp_25_perc = get_school_value_one_next(soup, 'ACT Composite')\n",
    "    act_comp_25_perc = number_to_int(raw_act_comp_25_perc)\n",
    "    \n",
    "    raw_act_comp_75_perc = get_school_value_two_nexts(soup, 'ACT Composite')\n",
    "    act_comp_75_perc = number_to_int(raw_act_comp_75_perc)\n",
    "    \n",
    "    raw_act_eng_25_perc = get_school_value_one_next(soup, 'ACT English')\n",
    "    act_eng_25_perc = number_to_int(raw_act_eng_25_perc)\n",
    "    \n",
    "    raw_act_eng_75_perc = get_school_value_two_nexts(soup, 'ACT English')\n",
    "    act_eng_75_perc = number_to_int(raw_act_eng_75_perc)\n",
    "    \n",
    "    raw_act_math_25_perc = get_school_value_one_next(soup, 'ACT Math')\n",
    "    act_math_25_perc = number_to_int(raw_act_math_25_perc)\n",
    "    \n",
    "    raw_act_math_75_perc = get_school_value_two_nexts(soup, 'ACT Math')\n",
    "    act_math_75_perc = number_to_int(raw_act_math_75_perc)\n",
    "    \n",
    "    #Create school dictionary and return\n",
    "    school_dict = dict(zip(headers, [school,\n",
    "                                    raw_stu_fac_ratio,\n",
    "                                    tuition_fees_19_20,\n",
    "                                    books_supplies_19_20, \n",
    "                                    tuition_fees,\n",
    "                                    books_supplies,\n",
    "                                    tuition,\n",
    "                                    fees,\n",
    "                                    tuition_under,\n",
    "                                    fees_under,\n",
    "                                    ft_faculty,\n",
    "                                    pt_faculty,\n",
    "                                    avg_amt_grant_schol_aid_beg_under_19_20,\n",
    "                                    perc_grant_schol_aid_beg_under_19_20,\n",
    "                                    avg_amt_grant_schol_aid_all_under_19_20,\n",
    "                                    total_enroll,\n",
    "                                    total_enroll_under,\n",
    "                                    under_enroll, \n",
    "                                    under_trans_enroll, \n",
    "                                    grad_enroll,\n",
    "                                    under_apps,\n",
    "                                    perc_admitted,\n",
    "                                    sat_scores_submit,\n",
    "                                    perc_sat_scores_submit,\n",
    "                                    act_scores_submit,\n",
    "                                    perc_act_scores_submit,\n",
    "                                    sat_read_write_25_perc,\n",
    "                                    sat_read_write_75_perc,\n",
    "                                    sat_math_25_perc,\n",
    "                                    sat_math_75_perc,\n",
    "                                    act_comp_25_perc,\n",
    "                                    act_comp_75_perc,\n",
    "                                    act_eng_25_perc,\n",
    "                                    act_eng_75_perc,\n",
    "                                    act_math_25_perc,\n",
    "                                    act_math_75_perc]))\n",
    "\n",
    "    return school_dict"
   ]
  },
  {
   "cell_type": "code",
   "execution_count": 201,
   "metadata": {},
   "outputs": [],
   "source": [
    "# apply the above created function to extract data for every link stub in schools_df\n",
    "    # (the df containing school name and link stub) and append the extracted data to a newly\n",
    "    # created list, which will ultimately become a list of dicts, one dict for each school\n",
    "\n",
    "private_schools_page_info_list = []\n",
    "\n",
    "for link in schools_df.link_stub[400:800]:\n",
    "    private_schools_page_info_list.append(get_school_dict(link))"
   ]
  },
  {
   "cell_type": "code",
   "execution_count": 202,
   "metadata": {},
   "outputs": [
    {
     "name": "stdout",
     "output_type": "stream",
     "text": [
      "1332\n",
      "400\n",
      "932\n"
     ]
    }
   ],
   "source": [
    "print(len(schools_df))\n",
    "print(len(private_schools_page_info_list))\n",
    "print(len(schools_df) - len(private_schools_page_info_list))"
   ]
  },
  {
   "cell_type": "code",
   "execution_count": 203,
   "metadata": {},
   "outputs": [],
   "source": [
    "#convert list of dictionaries to df to be used for modeling\n",
    "\n",
    "private_schools_page_info = pd.DataFrame(private_schools_page_info_list)\n",
    "private_schools_page_info.set_index('school', inplace=True)"
   ]
  },
  {
   "cell_type": "code",
   "execution_count": 204,
   "metadata": {},
   "outputs": [
    {
     "name": "stdout",
     "output_type": "stream",
     "text": [
      "<class 'pandas.core.frame.DataFrame'>\n",
      "Index: 400 entries, Midwestern Baptist Theological Seminary to Livingstone College\n",
      "Data columns (total 35 columns):\n",
      " #   Column                                   Non-Null Count  Dtype  \n",
      "---  ------                                   --------------  -----  \n",
      " 0   raw_stu_to_fac_ratio                     397 non-null    object \n",
      " 1   tuition_fees_19_20                       380 non-null    float64\n",
      " 2   books_supplies_19_20                     361 non-null    float64\n",
      " 3   tuition_fees                             381 non-null    float64\n",
      " 4   books_supplies                           362 non-null    float64\n",
      " 5   tuition                                  12 non-null     float64\n",
      " 6   fees                                     12 non-null     float64\n",
      " 7   tuition_under                            5 non-null      float64\n",
      " 8   fees_under                               5 non-null      float64\n",
      " 9   ft_faculty                               394 non-null    float64\n",
      " 10  pt_faculty                               394 non-null    float64\n",
      " 11  avg_amt_grant_schol_aid_beg_under_19_20  387 non-null    float64\n",
      " 12  perc_grant_schol_aid_beg_under_19_20     397 non-null    float64\n",
      " 13  avg_amt_grant_schol_aid_all_under_19_20  396 non-null    float64\n",
      " 14  total_enroll                             308 non-null    float64\n",
      " 15  total_enroll_under                       89 non-null     float64\n",
      " 16  under_enroll                             308 non-null    float64\n",
      " 17  under_trans_enroll                       397 non-null    float64\n",
      " 18  grad_enroll                              308 non-null    float64\n",
      " 19  under_apps                               338 non-null    float64\n",
      " 20  perc_admitted                            338 non-null    float64\n",
      " 21  sat_scores_submit                        225 non-null    float64\n",
      " 22  perc_sat_scores_submit                   225 non-null    float64\n",
      " 23  act_scores_submit                        235 non-null    float64\n",
      " 24  perc_act_scores_submit                   235 non-null    float64\n",
      " 25  sat_read_write_25_perc                   219 non-null    float64\n",
      " 26  sat_read_write_75_perc                   219 non-null    float64\n",
      " 27  sat_math_25_perc                         219 non-null    float64\n",
      " 28  sat_math_75_perc                         219 non-null    float64\n",
      " 29  act_comp_25_perc                         232 non-null    float64\n",
      " 30  act_comp_75_perc                         232 non-null    float64\n",
      " 31  act_eng_25_perc                          225 non-null    float64\n",
      " 32  act_eng_75_perc                          225 non-null    float64\n",
      " 33  act_math_25_perc                         225 non-null    float64\n",
      " 34  act_math_75_perc                         225 non-null    float64\n",
      "dtypes: float64(34), object(1)\n",
      "memory usage: 112.5+ KB\n"
     ]
    }
   ],
   "source": [
    "private_schools_page_info.info()"
   ]
  },
  {
   "cell_type": "code",
   "execution_count": 205,
   "metadata": {},
   "outputs": [],
   "source": [
    "private_schools_page_info.to_csv('schools_csv_2.csv')"
   ]
  },
  {
   "cell_type": "code",
   "execution_count": 574,
   "metadata": {},
   "outputs": [],
   "source": [
    "# loop through each school's page to extract the student-to-faculty ratio and save the value in a list\n",
    "\n",
    "#stu_fac_ratio_ls = []\n",
    "\n",
    "#for school_url in schools.values():\n",
    "   # response_school = requests.get(school_url)\n",
    "   # soup_school = BeautifulSoup(response_school.text, \"lxml\")\n",
    "   # stu_fac_ratio = soup_school.find('table', class_='layouttab').find_all('td')[-1].text\n",
    "   # stu_fac_ratio_ls.append(stu_fac_ratio)\n",
    "   # time.sleep(3)"
   ]
  },
  {
   "cell_type": "code",
   "execution_count": 576,
   "metadata": {},
   "outputs": [
    {
     "data": {
      "text/plain": [
       "1332"
      ]
     },
     "execution_count": 576,
     "metadata": {},
     "output_type": "execute_result"
    }
   ],
   "source": [
    "#stu_fac_ratio_ls[]"
   ]
  },
  {
   "cell_type": "code",
   "execution_count": 577,
   "metadata": {},
   "outputs": [
    {
     "data": {
      "text/plain": [
       "1332"
      ]
     },
     "execution_count": 577,
     "metadata": {},
     "output_type": "execute_result"
    }
   ],
   "source": [
    "#len(schools)"
   ]
  },
  {
   "cell_type": "code",
   "execution_count": null,
   "metadata": {},
   "outputs": [],
   "source": [
    "#time.sleep(3)"
   ]
  },
  {
   "cell_type": "code",
   "execution_count": null,
   "metadata": {},
   "outputs": [],
   "source": [
    "# loop through each school's page to grab the html from that page and save it in a list\n",
    "\n",
    "#stu_fac_ratio_ls = []\n",
    "\n",
    "#for school_url in schools.values():\n",
    "   # response_school = requests.get(school_url)\n",
    "   # soup_school = BeautifulSoup(response_school.text, \"lxml\")\n",
    "   # stu_fac_ratio = soup_school.find('table', class_='layouttab').find_all('td')[-1].text\n",
    "   # stu_fac_ratio_ls.append(stu_fac_ratio)\n",
    "   # time.sleep(3)"
   ]
  },
  {
   "cell_type": "code",
   "execution_count": null,
   "metadata": {},
   "outputs": [],
   "source": [
    "# code for looping through one state's url and replacing the state with a new one\n",
    "\n",
    "#state_abrev = ['TX', 'NY', 'FL']\n",
    "#ca_string = 'https://nces.ed.gov/collegenavigator/?s=CA&l=93&ct=2'\n",
    "\n",
    "#for abrev in state_abrev:\n",
    "   # ca_list = list(ca_string)\n",
    "   # idx_1 = ca_list.index('=')\n",
    "   # idx_2 = ca_list.index('&')\n",
    "    #print(''.join(ca_list[:idx_1+1]) + abrev + ''.join(ca_list[idx_2:]))"
   ]
  },
  {
   "cell_type": "code",
   "execution_count": 523,
   "metadata": {},
   "outputs": [],
   "source": [
    "# code for looping through the multiple pages of a state's urls and replacing the state with a new one\n",
    "\n",
    "#state_abrev = ['TX', 'NY', 'FL']\n",
    "#ca_schools_search_tables_urls = [\n",
    "   # 'https://nces.ed.gov/collegenavigator/?s=CA&l=93&ct=2',\n",
    "   # 'https://nces.ed.gov/collegenavigator/?s=CA&l=93&ct=2&pg=2',\n",
    "   # 'https://nces.ed.gov/collegenavigator/?s=CA&l=93&ct=2&pg=3',\n",
    "   # 'https://nces.ed.gov/collegenavigator/?s=CA&l=93&ct=2&pg=4',\n",
    "    #'https://nces.ed.gov/collegenavigator/?s=CA&l=93&ct=2&pg=5',\n",
    "    #'https://nces.ed.gov/collegenavigator/?s=CA&l=93&ct=2&pg=6',\n",
    "    #'https://nces.ed.gov/collegenavigator/?s=CA&l=93&ct=2&pg=7',\n",
    "  #  'https://nces.ed.gov/collegenavigator/?s=CA&l=93&ct=2&pg=8']\n",
    "\n",
    "#for abrev in state_abrev:\n",
    "  #  for url in ca_schools_search_tables_urls:\n",
    "   #     idx_1 = url.index('=')\n",
    "   #     idx_2 = url.index('&')\n",
    "  #      print(''.join(url[:idx_1+1]) + abrev + ''.join(url[idx_2:]))"
   ]
  }
 ],
 "metadata": {
  "kernelspec": {
   "display_name": "Python 3",
   "language": "python",
   "name": "python3"
  },
  "language_info": {
   "codemirror_mode": {
    "name": "ipython",
    "version": 3
   },
   "file_extension": ".py",
   "mimetype": "text/x-python",
   "name": "python",
   "nbconvert_exporter": "python",
   "pygments_lexer": "ipython3",
   "version": "3.8.10"
  }
 },
 "nbformat": 4,
 "nbformat_minor": 4
}
