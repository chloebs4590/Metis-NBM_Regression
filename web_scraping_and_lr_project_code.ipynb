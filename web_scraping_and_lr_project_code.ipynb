{
 "cells": [
  {
   "cell_type": "code",
   "execution_count": 715,
   "metadata": {},
   "outputs": [],
   "source": [
    "from bs4 import BeautifulSoup\n",
    "import requests\n",
    "import random\n",
    "import time\n",
    "import pandas as pd"
   ]
  },
  {
   "cell_type": "markdown",
   "metadata": {},
   "source": [
    "#### Abilene Christian University as an example school from which to extract features for the final dataset"
   ]
  },
  {
   "cell_type": "code",
   "execution_count": 579,
   "metadata": {},
   "outputs": [],
   "source": [
    "url = 'https://nces.ed.gov/collegenavigator/?s=all&l=93&ct=2&ic=1&id=222178' \n",
    "\n",
    "response = requests.get(url)"
   ]
  },
  {
   "cell_type": "code",
   "execution_count": 580,
   "metadata": {},
   "outputs": [
    {
     "data": {
      "text/plain": [
       "200"
      ]
     },
     "execution_count": 580,
     "metadata": {},
     "output_type": "execute_result"
    }
   ],
   "source": [
    "response.status_code  #200 = success!"
   ]
  },
  {
   "cell_type": "code",
   "execution_count": 581,
   "metadata": {},
   "outputs": [
    {
     "data": {
      "text/plain": [
       "'\\r\\n<!DOCTYPE html PUBLIC \"-//W3C//DTD XHTML 1.0 Transitional//EN\" \"http://www.w3.org/TR/xhtml1/DTD/xhtml1-transitional.dtd\">\\r\\n<html xmlns=\"http://www.w3.org/1999/xhtml\" lang=\"en\" xml:lang=\"en\" ><head id=\"ctl00_hd\"><meta http-equiv=\"Content-type\" content=\"text/html;charset=UTF-8\" /><title>\\r\\n\\tCollege Navigator - Abilene Christian University\\r\\n</title><link href=\"css/md0.css\" type=\"text/css\" rel=\"stylesheet\" /><meta name=\"robots\" content=\"noindex,nofollow\"></meta><link href=\"css/collegenav.css?v=2.4\" type=\"text/css\" rel=\"stylesheet\" /><link href=\"css/mapstyle.css\" type=\"text/css\" rel=\"stylesheet\" /><!--[if lte IE 8]><link href=\"css/mainIE6.css\" text=\"text/css\" rel=\"stylesheet\" /><![endif]--><link rel=\"search\" type=\"application/opensearchdescription+xml\" title=\"NCES College Navigator\" href=\"http://nces.ed.gov/collegenavigator/opensearch.ashx?md=0\" /></head>\\r\\n<body id=\"ctl00_bodyMain\" onload=\"if(typeof imgPL==\\'function\\')imgPL();if(typeof sp==\\'function\\')sp();\"><div class=\"headContents\">\\r\\n<meta'"
      ]
     },
     "execution_count": 581,
     "metadata": {},
     "output_type": "execute_result"
    }
   ],
   "source": [
    "response.text[:1000]  #First 1000 characters of the HTML"
   ]
  },
  {
   "cell_type": "code",
   "execution_count": 582,
   "metadata": {},
   "outputs": [],
   "source": [
    "page = response.text"
   ]
  },
  {
   "cell_type": "code",
   "execution_count": 584,
   "metadata": {},
   "outputs": [],
   "source": [
    "soup = BeautifulSoup(page, \"lxml\")"
   ]
  },
  {
   "cell_type": "markdown",
   "metadata": {},
   "source": [
    "\n",
    "#### Initial table at top of institution's page\n",
    "- Institution's name\n",
    "- Student-to-faculty ratio"
   ]
  },
  {
   "cell_type": "code",
   "execution_count": 668,
   "metadata": {},
   "outputs": [
    {
     "name": "stdout",
     "output_type": "stream",
     "text": [
      "Abilene Christian University\n"
     ]
    }
   ],
   "source": [
    "private_university_string = soup.find('title').text\n",
    "private_university = private_university_string.split('-')[1].strip()\n",
    "print(private_university)"
   ]
  },
  {
   "cell_type": "code",
   "execution_count": 732,
   "metadata": {},
   "outputs": [
    {
     "name": "stdout",
     "output_type": "stream",
     "text": [
      "13 to 1\n",
      "13.0\n"
     ]
    }
   ],
   "source": [
    "raw_stu_fac_ratio = soup.find('table', class_='layouttab').find_all('td')[-1].text\n",
    "print(stu_fac_ratio)\n",
    "stu_fac_ratio_ls = raw_stu_fac_ratio.split()\n",
    "stu_fac_ratio_ls.remove('to')\n",
    "stu_fac_ratio_ls = [int(x) for x in stu_fac_ratio_ls]\n",
    "stu_fac_ratio_dec = stu_fac_ratio_ls[0] / stu_fac_ratio_ls[1]\n",
    "print(stu_fac_ratio_dec)"
   ]
  },
  {
   "cell_type": "markdown",
   "metadata": {},
   "source": [
    "#### 'TUITION, FEES AND ESTIMATED STUDENT EXPENSES' collapsable table\n",
    "- tuition and fees in 2019-20\n",
    "- books and supplies in 2019-20\n",
    "- tuition and fees in 2020-21\n",
    "- books and supplies in 2020-21"
   ]
  },
  {
   "cell_type": "code",
   "execution_count": 593,
   "metadata": {},
   "outputs": [
    {
     "data": {
      "text/plain": [
       "<tr><td scope=\"row\">Tuition and fees</td><td>$33,330</td><td>$34,850</td><td>$36,300</td><td>$37,800</td><td>4.1%</td></tr>"
      ]
     },
     "execution_count": 593,
     "metadata": {},
     "output_type": "execute_result"
    }
   ],
   "source": [
    "#tuition_table = soup.find(id='divctl00_cphCollegeNavBody_ucInstitutionMain_ctl00')\n",
    "#tuition_rows = [row for row in tuition_table.find_all('tr')]\n",
    "#tuition_rows[1]"
   ]
  },
  {
   "cell_type": "code",
   "execution_count": 752,
   "metadata": {},
   "outputs": [
    {
     "name": "stdout",
     "output_type": "stream",
     "text": [
      "$36,300\n",
      "$1,250\n",
      "$37,800\n",
      "$1,250\n"
     ]
    }
   ],
   "source": [
    "tuition_19_20 = soup.find(text='Tuition and fees').findNext().findNext().findNext().text\n",
    "#tuition_19_20 = int(tuition_rows[1].find_all('td')[3].text.replace('$','').replace(',',''))\n",
    "print(tuition_19_20)\n",
    "books_19_20 = soup.find(text='Books and supplies').findNext().findNext().findNext().text\n",
    "#books_19_20 = int(tuition_rows[2].find_all('td')[3].text.replace('$','').replace(',',''))\n",
    "print(books_19_20)\n",
    "tuition = soup.find(text='Tuition and fees').findNext().findNext().findNext().findNext().text\n",
    "#tuition = int(tuition_rows[1].find_all('td')[4].text.replace('$','').replace(',',''))\n",
    "print(tuition)\n",
    "books = soup.find(text='Books and supplies').findNext().findNext().findNext().findNext().text\n",
    "#books = int(tuition_rows[2].find_all('td')[4].text.replace('$','').replace(',',''))\n",
    "print(books)"
   ]
  },
  {
   "cell_type": "code",
   "execution_count": 831,
   "metadata": {},
   "outputs": [],
   "source": [
    "def get_tuition_books_19_20_value(soup, field_name):\n",
    "    \n",
    "    '''Grab tuition and fees and books and supplies values from 2019-20'''\n",
    "    \n",
    "    obj = soup.find(text=field_name)\n",
    "    \n",
    "    if not obj: \n",
    "        return None\n",
    "    \n",
    "    # this works for most of the values\n",
    "    element = obj.findNext().findNext().findNext()\n",
    "    \n",
    "    if element:\n",
    "        return element.text \n",
    "    else:\n",
    "        return None"
   ]
  },
  {
   "cell_type": "code",
   "execution_count": 758,
   "metadata": {},
   "outputs": [
    {
     "data": {
      "text/plain": [
       "'$36,300'"
      ]
     },
     "execution_count": 758,
     "metadata": {},
     "output_type": "execute_result"
    }
   ],
   "source": [
    "get_tuition_books_19_20_value(soup, 'Tuition and fees')"
   ]
  },
  {
   "cell_type": "code",
   "execution_count": 757,
   "metadata": {},
   "outputs": [
    {
     "data": {
      "text/plain": [
       "'$1,250'"
      ]
     },
     "execution_count": 757,
     "metadata": {},
     "output_type": "execute_result"
    }
   ],
   "source": [
    "get_tuition_books_19_20_value(soup, 'Books and supplies')"
   ]
  },
  {
   "cell_type": "code",
   "execution_count": 832,
   "metadata": {},
   "outputs": [],
   "source": [
    "def get_tuition_books_20_21_value(soup, field_name):\n",
    "    \n",
    "    '''Grab tuition and fees and books and supplies values from 20-21'''\n",
    "    \n",
    "    obj = soup.find(text=field_name)\n",
    "    \n",
    "    if not obj: \n",
    "        return None\n",
    "    \n",
    "    # this works for most of the values\n",
    "    element = obj.findNext().findNext().findNext().findNext()\n",
    "    \n",
    "    if element:\n",
    "        return element.text \n",
    "    else:\n",
    "        return None"
   ]
  },
  {
   "cell_type": "code",
   "execution_count": 760,
   "metadata": {},
   "outputs": [
    {
     "data": {
      "text/plain": [
       "'$37,800'"
      ]
     },
     "execution_count": 760,
     "metadata": {},
     "output_type": "execute_result"
    }
   ],
   "source": [
    "get_tuition_books_20_21_value(soup, 'Tuition and fees')"
   ]
  },
  {
   "cell_type": "code",
   "execution_count": 761,
   "metadata": {},
   "outputs": [
    {
     "data": {
      "text/plain": [
       "'$1,250'"
      ]
     },
     "execution_count": 761,
     "metadata": {},
     "output_type": "execute_result"
    }
   ],
   "source": [
    "get_tuition_books_20_21_value(soup, 'Books and supplies')"
   ]
  },
  {
   "cell_type": "markdown",
   "metadata": {},
   "source": [
    "#### 'GENERAL INFORMATION' collapsable table'\n",
    "- number of full-time faculty\n",
    "- number part-time faculty"
   ]
  },
  {
   "cell_type": "code",
   "execution_count": 594,
   "metadata": {},
   "outputs": [
    {
     "data": {
      "text/plain": [
       "<tr><td>Total faculty</td><td>277</td><td>137</td></tr>"
      ]
     },
     "execution_count": 594,
     "metadata": {},
     "output_type": "execute_result"
    }
   ],
   "source": [
    "#faculty_table = soup.find(id='ctl00_cphCollegeNavBody_ucInstitutionMain_divFaculty')\n",
    "#faculty_table = [row for row in faculty_table.find_all('tr')]\n",
    "#faculty_table[1]"
   ]
  },
  {
   "cell_type": "code",
   "execution_count": 602,
   "metadata": {},
   "outputs": [],
   "source": [
    "ft_faculty = soup.find(text='Total faculty').findNext().text\n",
    "#ft_faculty = int(faculty_table[1].find_all('td')[1].text)\n",
    "pt_faculty = soup.find(text='Total faculty').findNext().findNext().text\n",
    "#pt_faculty = int(faculty_table[1].find_all('td')[2].text)"
   ]
  },
  {
   "cell_type": "code",
   "execution_count": 833,
   "metadata": {},
   "outputs": [],
   "source": [
    "def get_school_value_one_next(soup, field_name):\n",
    "    \n",
    "    '''Grab full-time faculty number, total enrollment, undergrad enrollment, undergrad transfer-in enrollment,\n",
    "        grad enrollment, number of undergrad applicants, percent admitted\n",
    "    '''\n",
    "    \n",
    "    obj = soup.find(text=field_name)\n",
    "    \n",
    "    if not obj: \n",
    "        return None\n",
    "    \n",
    "    # this works for most of the values\n",
    "    element = obj.findNext()\n",
    "    \n",
    "    if element:\n",
    "        return element.text \n",
    "    else:\n",
    "        return None"
   ]
  },
  {
   "cell_type": "code",
   "execution_count": 771,
   "metadata": {},
   "outputs": [
    {
     "data": {
      "text/plain": [
       "'277'"
      ]
     },
     "execution_count": 771,
     "metadata": {},
     "output_type": "execute_result"
    }
   ],
   "source": [
    "get_school_value_one_next(soup, 'Total faculty')"
   ]
  },
  {
   "cell_type": "code",
   "execution_count": 834,
   "metadata": {},
   "outputs": [],
   "source": [
    "def get_school_value_two_nexts(soup, field_name):\n",
    "    \n",
    "    '''Grab part-time faculty number, % of full-time beginning undergrad students receiving grant or \n",
    "        scholarship aid\n",
    "    '''\n",
    "    \n",
    "    obj = soup.find(text=field_name)\n",
    "    \n",
    "    if not obj: \n",
    "        return None\n",
    "    \n",
    "    # this works for most of the values\n",
    "    element = obj.findNext().findNext()\n",
    "    \n",
    "    if element:\n",
    "        return element.text \n",
    "    else:\n",
    "        return None"
   ]
  },
  {
   "cell_type": "code",
   "execution_count": 774,
   "metadata": {},
   "outputs": [
    {
     "data": {
      "text/plain": [
       "'137'"
      ]
     },
     "execution_count": 774,
     "metadata": {},
     "output_type": "execute_result"
    }
   ],
   "source": [
    "get_school_value_two_nexts(soup, 'Total faculty')"
   ]
  },
  {
   "cell_type": "markdown",
   "metadata": {},
   "source": [
    "#### 'FINANCIAL AID' collapsable table - ONLY 2019-20 DATA\n",
    "- number of all undergraduate students receiving grant or scholarship aid\n",
    "- average amount of grant or scholarship aid among all undergraduate students"
   ]
  },
  {
   "cell_type": "code",
   "execution_count": 781,
   "metadata": {},
   "outputs": [
    {
     "data": {
      "text/plain": [
       "[<td scope=\"row\">Pell grants</td>,\n",
       " <td>899</td>,\n",
       " <td>$4,226,334</td>,\n",
       " <td>$4,701</td>]"
      ]
     },
     "execution_count": 781,
     "metadata": {},
     "output_type": "execute_result"
    }
   ],
   "source": [
    "#aid_table = soup.find(id='divctl00_cphCollegeNavBody_ucInstitutionMain_ctl01')\n",
    "#aid_rows = [row for row in aid_table.find_all('tr')]\n",
    "#aid_rows[13].find_all('td')"
   ]
  },
  {
   "cell_type": "code",
   "execution_count": 782,
   "metadata": {},
   "outputs": [
    {
     "name": "stdout",
     "output_type": "stream",
     "text": [
      "3436\n",
      "21092\n",
      "899\n",
      "4701\n"
     ]
    }
   ],
   "source": [
    "#grant_schol_aid_19_20 = int(aid_rows[12].find_all('td')[1].text.replace(',',''))\n",
    "#print(grant_scholarship_aid_19_20)\n",
    "#avg_amt_grant_schol_aid_19_20 = int(aid_rows[12].find_all('td')[3].text.replace('$','').replace(',',''))\n",
    "#print(avg_amt_grant_scholarship_aid_19_20)"
   ]
  },
  {
   "cell_type": "code",
   "execution_count": 887,
   "metadata": {},
   "outputs": [],
   "source": [
    "def get_avg_amt_grant_schol_aid_beg_under_value(soup, field_name):\n",
    "    \n",
    "    '''Grab the average amount of grant or scholarship aid a full-time beginning undergrad student receives'''\n",
    "    \n",
    "    obj = soup.find(text=field_name)\n",
    "    \n",
    "    if not obj: \n",
    "        return None\n",
    "    \n",
    "    # this works for most of the values\n",
    "    element = obj.findNext().findNext().findNext().findNext()\n",
    "    \n",
    "    if element:\n",
    "        return element.text \n",
    "    else:\n",
    "        return None"
   ]
  },
  {
   "cell_type": "code",
   "execution_count": 888,
   "metadata": {},
   "outputs": [
    {
     "data": {
      "text/plain": [
       "'$22,887'"
      ]
     },
     "execution_count": 888,
     "metadata": {},
     "output_type": "execute_result"
    }
   ],
   "source": [
    "get_avg_amt_grant_schol_aid_value(soup,'Grant or scholarship aid')"
   ]
  },
  {
   "cell_type": "code",
   "execution_count": 889,
   "metadata": {},
   "outputs": [],
   "source": [
    "def get_avg_amt_grant_schol_aid_all_under_value(soup, field_name):\n",
    "    \n",
    "    '''Grab the average amount of grant or scholarship aid among all undergrad students'''\n",
    "    \n",
    "    obj = soup.find(text=field_name)\n",
    "    \n",
    "    if not obj: \n",
    "        return None\n",
    "    \n",
    "    # this works for most of the values\n",
    "    element = obj.findNext().find_all('td')[3]\n",
    "    \n",
    "    if element:\n",
    "        return element.text \n",
    "    else:\n",
    "        return None"
   ]
  },
  {
   "cell_type": "code",
   "execution_count": 891,
   "metadata": {},
   "outputs": [
    {
     "data": {
      "text/plain": [
       "'$21,092'"
      ]
     },
     "execution_count": 891,
     "metadata": {},
     "output_type": "execute_result"
    }
   ],
   "source": [
    "get_avg_amt_grant_schol_aid_all_under_value(soup, 'All Undergraduate Students')"
   ]
  },
  {
   "cell_type": "markdown",
   "metadata": {},
   "source": [
    "#### 'ENROLLMENT' collapsable table\n",
    "- total enrollment\n",
    "- undergraduate enrollment\n",
    "- undergraduate transfer-in enrollment\n",
    "- graduate enrollment"
   ]
  },
  {
   "cell_type": "code",
   "execution_count": 863,
   "metadata": {},
   "outputs": [
    {
     "data": {
      "text/plain": [
       "<th scope=\"col\">5,291</th>"
      ]
     },
     "execution_count": 863,
     "metadata": {},
     "output_type": "execute_result"
    }
   ],
   "source": [
    "soup.find(text='Total enrollment').findNext()"
   ]
  },
  {
   "cell_type": "code",
   "execution_count": 617,
   "metadata": {},
   "outputs": [
    {
     "data": {
      "text/plain": [
       "<tr><th scope=\"col\">Total enrollment</th><th scope=\"col\">5,291</th></tr>"
      ]
     },
     "execution_count": 617,
     "metadata": {},
     "output_type": "execute_result"
    }
   ],
   "source": [
    "#enroll_table = soup.find(id='divctl00_cphCollegeNavBody_ucInstitutionMain_ctl03')\n",
    "#enroll_rows = [row for row in enroll_table.find_all('tr')]\n",
    "#enroll_rows[0]"
   ]
  },
  {
   "cell_type": "code",
   "execution_count": 622,
   "metadata": {},
   "outputs": [
    {
     "name": "stdout",
     "output_type": "stream",
     "text": [
      "5291\n",
      "3494\n",
      "143\n",
      "1797\n"
     ]
    }
   ],
   "source": [
    "#total_enroll = int(enroll_rows[0].find_all('th')[1].text.replace(',',''))\n",
    "#print(total_enroll)\n",
    "#under_enroll = int(enroll_rows[1].find_all('td')[1].text.replace(',',''))\n",
    "#print(under_enroll)\n",
    "#under_trans_enroll = int(enroll_rows[2].find_all('td')[1].text.replace(',',''))\n",
    "#print(under_trans_enroll)\n",
    "#grad_enroll = int(enroll_rows[3].find_all('td')[1].text.replace(',',''))\n",
    "#print(grad_enroll)"
   ]
  },
  {
   "cell_type": "code",
   "execution_count": 801,
   "metadata": {},
   "outputs": [],
   "source": [
    "#def get_total_enroll_value(soup, element_id):\n",
    "    \n",
    " #   '''Grab the total enrollment'''\n",
    "    \n",
    " #  table = soup.find(id=element_id)\n",
    " \n",
    " #   if not table: \n",
    " #       return None\n",
    "    \n",
    "    # this works for most of the values\n",
    " #   rows = [row for row in table.find_all('tr')]\n",
    "    \n",
    " #   if rows:\n",
    " #       return rows[0].find_all('th')[1].text\n",
    " #   else:\n",
    " #       return None"
   ]
  },
  {
   "cell_type": "code",
   "execution_count": 802,
   "metadata": {},
   "outputs": [
    {
     "data": {
      "text/plain": [
       "'5,291'"
      ]
     },
     "execution_count": 802,
     "metadata": {},
     "output_type": "execute_result"
    }
   ],
   "source": [
    "#get_total_enroll_value(soup, 'divctl00_cphCollegeNavBody_ucInstitutionMain_ctl03')"
   ]
  },
  {
   "cell_type": "code",
   "execution_count": 803,
   "metadata": {},
   "outputs": [],
   "source": [
    "#def get_under_enroll_value(soup, element_id):\n",
    "    \n",
    "#    '''Grab the undergraduate enrollment'''\n",
    "    \n",
    "#    table = soup.find(id=element_id)\n",
    "    \n",
    "#    if not table: \n",
    "#        return None\n",
    "    \n",
    "    # this works for most of the values\n",
    "#    rows = [row for row in table.find_all('tr')]\n",
    "    \n",
    "#    if rows:\n",
    "#        return enroll_rows[1].find_all('td')[1].text\n",
    "#    else:\n",
    "#        return None"
   ]
  },
  {
   "cell_type": "code",
   "execution_count": 804,
   "metadata": {},
   "outputs": [
    {
     "data": {
      "text/plain": [
       "'3,494'"
      ]
     },
     "execution_count": 804,
     "metadata": {},
     "output_type": "execute_result"
    }
   ],
   "source": [
    "#get_under_enroll_value(soup, 'divctl00_cphCollegeNavBody_ucInstitutionMain_ctl03')"
   ]
  },
  {
   "cell_type": "code",
   "execution_count": 805,
   "metadata": {},
   "outputs": [],
   "source": [
    "#def get_under_trans_enroll_value(soup, element_id):\n",
    "    \n",
    "#    '''Grab the undergraduate transfer-in enrollment'''\n",
    "    \n",
    "#    table = soup.find(id=element_id)\n",
    "    \n",
    "#    if not table: \n",
    "#        return None\n",
    "    \n",
    "    # this works for most of the values\n",
    "#    rows = [row for row in table.find_all('tr')]\n",
    "    \n",
    "#    if rows:\n",
    "#        return enroll_rows[2].find_all('td')[1].text\n",
    "#    else:\n",
    "#        return None"
   ]
  },
  {
   "cell_type": "code",
   "execution_count": 806,
   "metadata": {},
   "outputs": [
    {
     "data": {
      "text/plain": [
       "'143'"
      ]
     },
     "execution_count": 806,
     "metadata": {},
     "output_type": "execute_result"
    }
   ],
   "source": [
    "#get_under_trans_enroll_value(soup, 'divctl00_cphCollegeNavBody_ucInstitutionMain_ctl03')"
   ]
  },
  {
   "cell_type": "code",
   "execution_count": 807,
   "metadata": {},
   "outputs": [],
   "source": [
    "#def get_grad_enroll_value(soup, element_id):\n",
    "    \n",
    "#    '''Grab the graduate enrollment'''\n",
    "    \n",
    "#    table = soup.find(id=element_id)\n",
    "    \n",
    "#    if not table: \n",
    "#        return None\n",
    "    \n",
    "    # this works for most of the values\n",
    "#    rows = [row for row in table.find_all('tr')]\n",
    "    \n",
    "#    if rows:\n",
    "#        return enroll_rows[3].find_all('td')[1].text\n",
    "#    else:\n",
    "#        return None"
   ]
  },
  {
   "cell_type": "code",
   "execution_count": 808,
   "metadata": {},
   "outputs": [
    {
     "data": {
      "text/plain": [
       "'1,797'"
      ]
     },
     "execution_count": 808,
     "metadata": {},
     "output_type": "execute_result"
    }
   ],
   "source": [
    "#get_grad_enroll_value(soup, 'divctl00_cphCollegeNavBody_ucInstitutionMain_ctl03')"
   ]
  },
  {
   "cell_type": "markdown",
   "metadata": {},
   "source": [
    "#### 'ADMISSIONS' collapsable table - **NEED TO MODIFY THIS CODE FOR SCHOOLS LIKE AMERICA EVANGELICAL UNIVERSITY THAT DON'T HAVE ADMISSIONS DATA BECAUSE THEY HAVE AN OPEN ADMISSION POLICY**\n",
    "- number of undergraduate applicants\n",
    "- percent of undergraduate applicants admitted\n",
    "- number of first-time students who submitted their SAT score\n",
    "- % of first-time students who submitted their SAT score\n",
    "- number of first-time students who submitted their ACT score\n",
    "- % of first-time students who submitted their ACT score\n",
    "- SAT Evidence-Based Reading and Writing 25th percentile score\n",
    "- SAT Evidence-Based Reading and Writing 75th percentile score\n",
    "- SAT Math 25th percentile score\n",
    "- SAT Math 75th percentile score\n",
    "- ACT Composite 25th percentile score\n",
    "- ACT Composite 75th percentile score\n",
    "- ACT English 25th percentile score\n",
    "- ACT English 75th percentile score\n",
    "- ACT Math 25th percentile score\n",
    "- ACT Math 75th percentile score"
   ]
  },
  {
   "cell_type": "code",
   "execution_count": 659,
   "metadata": {},
   "outputs": [],
   "source": [
    "#admissions_table = soup.find(id='divctl00_cphCollegeNavBody_ucInstitutionMain_ctl04')\n",
    "#admissions_rows = [row for row in admissions_table.find_all('tr')]"
   ]
  },
  {
   "cell_type": "code",
   "execution_count": 693,
   "metadata": {},
   "outputs": [
    {
     "name": "stdout",
     "output_type": "stream",
     "text": [
      "10534\n",
      "61.0\n"
     ]
    }
   ],
   "source": [
    "#under_apps = int(admissions_rows[3].find_all('td')[1].text.replace(',',''))\n",
    "#print(applicants)\n",
    "#perc_admitted = float(admissions_rows[4].find_all('td')[2].text.replace('%',''))\n",
    "#print(perc_admitted)"
   ]
  },
  {
   "cell_type": "code",
   "execution_count": 705,
   "metadata": {},
   "outputs": [
    {
     "data": {
      "text/plain": [
       "'510'"
      ]
     },
     "execution_count": 705,
     "metadata": {},
     "output_type": "execute_result"
    }
   ],
   "source": [
    "soup.find(text='SAT Evidence-Based Reading and Writing').findNext().text"
   ]
  },
  {
   "cell_type": "code",
   "execution_count": 855,
   "metadata": {},
   "outputs": [
    {
     "data": {
      "text/plain": [
       "'3,494'"
      ]
     },
     "execution_count": 855,
     "metadata": {},
     "output_type": "execute_result"
    }
   ],
   "source": [
    "get_school_value_one_next(soup, 'Undergraduate enrollment')"
   ]
  },
  {
   "cell_type": "code",
   "execution_count": 819,
   "metadata": {},
   "outputs": [
    {
     "data": {
      "text/plain": [
       "'43%'"
      ]
     },
     "execution_count": 819,
     "metadata": {},
     "output_type": "execute_result"
    }
   ],
   "source": [
    "get_school_value_two_nexts(soup, 'ACT')"
   ]
  },
  {
   "cell_type": "code",
   "execution_count": 738,
   "metadata": {},
   "outputs": [
    {
     "name": "stdout",
     "output_type": "stream",
     "text": [
      "432\n",
      "50.0\n",
      "369\n",
      "43.0\n",
      "510\n",
      "620\n",
      "500\n",
      "600\n",
      "21\n",
      "27\n",
      "20\n",
      "28\n",
      "18\n",
      "26\n"
     ]
    }
   ],
   "source": [
    "sat_scores_submit = int(soup.find(text='SAT').findNext().text)\n",
    "print(sat_scores_submit)\n",
    "perc_sat_scores_submit = float(soup.find(text='SAT').findNext().findNext().text.replace('%',''))\n",
    "print(perc_sat_scores_submit)\n",
    "act_scores_submit = int(soup.find(text='ACT').findNext().text)\n",
    "print(act_scores_submit)\n",
    "perc_act_scores_submit = float(soup.find(text='ACT').findNext().findNext().text.replace('%',''))\n",
    "print(perc_act_scores_submit)\n",
    "sat_read_write_25_perc = int(soup.find(text='SAT Evidence-Based Reading and Writing').findNext().text)\n",
    "print(sat_read_write_25_perc)\n",
    "sat_read_write_75_perc = int(soup.find(text='SAT Evidence-Based Reading and Writing').findNext().findNext().text)\n",
    "print(sat_read_write_75_perc)\n",
    "sat_math_25_perc = int(soup.find(text='SAT Math').findNext().text)\n",
    "print(sat_math_25_perc)\n",
    "sat_math_75_perc = int(soup.find(text='SAT Math').findNext().findNext().text)\n",
    "print(sat_math_75_perc)\n",
    "act_comp_25_perc = int(soup.find(text='ACT Composite').findNext().text)\n",
    "print(act_comp_25_perc)\n",
    "act_comp_75_perc = int(soup.find(text='ACT Composite').findNext().findNext().text)\n",
    "print(act_comp_75_perc)\n",
    "act_eng_25_perc = int(soup.find(text='ACT English').findNext().text)\n",
    "print(act_eng_25_perc)\n",
    "act_eng_75_perc = int(soup.find(text='ACT English').findNext().findNext().text)\n",
    "print(act_eng_75_perc)\n",
    "act_math_25_perc = int(soup.find(text='ACT Math').findNext().text)\n",
    "print(act_math_25_perc)\n",
    "act_math_75_perc = int(soup.find(text='ACT Math').findNext().findNext().text)\n",
    "print(act_math_75_perc)"
   ]
  },
  {
   "cell_type": "code",
   "execution_count": 741,
   "metadata": {},
   "outputs": [],
   "source": [
    "url_test = 'https://nces.ed.gov/collegenavigator/?s=KS&l=93&ct=2&id=155308#admsns' \n",
    "\n",
    "response_test = requests.get(url_test)\n",
    "\n",
    "soup_test = BeautifulSoup(response_test.text, \"lxml\")"
   ]
  },
  {
   "cell_type": "code",
   "execution_count": 745,
   "metadata": {},
   "outputs": [],
   "source": [
    "soup_test.find(text='SAT Evidence-Based Reading and Writing')"
   ]
  },
  {
   "cell_type": "markdown",
   "metadata": {},
   "source": [
    "##### Step 2: create helper functions to parse strings into appropriate data types"
   ]
  },
  {
   "cell_type": "code",
   "execution_count": 883,
   "metadata": {},
   "outputs": [],
   "source": [
    "def money_to_int(moneystring):\n",
    "    try:\n",
    "        moneystring = moneystring.replace('$', '').replace(',', '')\n",
    "        return int(moneystring)\n",
    "    except:\n",
    "        return None\n",
    "\n",
    "def percent_to_float(percentstring):\n",
    "    try:\n",
    "        percentstring = percentstring.replace('%','')\n",
    "        return float(percentstring)\n",
    "    except:\n",
    "        return None\n",
    "\n",
    "def number_to_int(numberstring):\n",
    "    try:\n",
    "        numberstring = numberstring.replace(',', '')\n",
    "        return int(numberstring)\n",
    "    except:\n",
    "        return None"
   ]
  },
  {
   "cell_type": "code",
   "execution_count": 882,
   "metadata": {},
   "outputs": [],
   "source": [
    "#tuition_19_20 = soup.find(text='Tuition and fees').findNext().findNext().findNext().text\n",
    "#print(money_to_int(tuition_19_20))\n",
    "#print(tuition_19_20)\n",
    "#tuition_19_20 = int(tuition_rows[1].find_all('td')[3].text.replace('$','').replace(',',''))\n",
    "#books_19_20 = soup.find(text='Books and supplies').findNext().findNext().findNext().text\n",
    "#print(money_to_int(books_19_20))\n",
    "#print(books_19_20)\n",
    "#books_19_20 = int(tuition_rows[2].find_all('td')[3].text.replace('$','').replace(',',''))\n",
    "#tuition = soup.find(text='Tuition and fees').findNext().findNext().findNext().findNext().text\n",
    "#print(money_to_int(tuition))\n",
    "#print(tuition)\n",
    "#tuition = int(tuition_rows[1].find_all('td')[4].text.replace('$','').replace(',',''))\n",
    "#books = soup.find(text='Books and supplies').findNext().findNext().findNext().findNext().text\n",
    "#print(money_to_int(books))\n",
    "#print(books)\n",
    "#books = int(tuition_rows[2].find_all('td')[4].text.replace('$','').replace(',',''))"
   ]
  },
  {
   "cell_type": "markdown",
   "metadata": {},
   "source": [
    "### Private non-profit colleges/university by region"
   ]
  },
  {
   "cell_type": "code",
   "execution_count": 379,
   "metadata": {},
   "outputs": [],
   "source": [
    "# URLs of lists of schools by region\n",
    "    # Far West\n",
    "url_fw = 'https://nces.ed.gov/collegenavigator/?s=AK+CA+HI+NV+OR+WA&l=93&ct=2'\n",
    "\n",
    "    # Rocky Mountains\n",
    "url_rm = 'https://nces.ed.gov/collegenavigator/?s=CO+ID+MT+UT+WY&l=93&ct=2'\n",
    "\n",
    "    # Southwest\n",
    "url_sw = 'https://nces.ed.gov/collegenavigator/?s=AZ+NM+OK+TX&l=93&ct=2'\n",
    "\n",
    "    # Plains\n",
    "url_p = 'https://nces.ed.gov/collegenavigator/?s=IA+KS+MN+MO+NE+ND+SD&l=93&ct=2'\n",
    "\n",
    "    # Great Lakes\n",
    "url_gl = 'https://nces.ed.gov/collegenavigator/?s=IL+IN+MI+OH+WI&l=93&ct=2'\n",
    "\n",
    "    # Southeast\n",
    "url_se = 'https://nces.ed.gov/collegenavigator/?s=AL+AR+FL+GA+KY+LA+MS+NC+SC+TN+VA+WV&l=93&ct=2'\n",
    "   \n",
    "    # Mideast (including DC)\n",
    "url_me = 'https://nces.ed.gov/collegenavigator/?s=DE+DC+MD+NJ+NY+PA&l=93&ct=2'\n",
    "    \n",
    "    # New England\n",
    "url_ne = 'https://nces.ed.gov/collegenavigator/?s=CT+ME+MA+NH+RI+VT&l=93&ct=2'"
   ]
  },
  {
   "cell_type": "code",
   "execution_count": 504,
   "metadata": {},
   "outputs": [],
   "source": [
    "# create a list of the url of each region's initial page of private schools\n",
    "\n",
    "regions_urls = ['https://nces.ed.gov/collegenavigator/?s=AK+CA+HI+NV+OR+WA&l=93&ct=2',\n",
    "               'https://nces.ed.gov/collegenavigator/?s=CO+ID+MT+UT+WY&l=93&ct=2',\n",
    "               'https://nces.ed.gov/collegenavigator/?s=AZ+NM+OK+TX&l=93&ct=2',\n",
    "               'https://nces.ed.gov/collegenavigator/?s=IA+KS+MN+MO+NE+ND+SD&l=93&ct=2',\n",
    "               'https://nces.ed.gov/collegenavigator/?s=IL+IN+MI+OH+WI&l=93&ct=2',\n",
    "               'https://nces.ed.gov/collegenavigator/?s=AL+AR+FL+GA+KY+LA+MS+NC+SC+TN+VA+WV&l=93&ct=2',\n",
    "               'https://nces.ed.gov/collegenavigator/?s=DE+DC+MD+NJ+NY+PA&l=93&ct=2',\n",
    "               'https://nces.ed.gov/collegenavigator/?s=CT+ME+MA+NH+RI+VT&l=93&ct=2']                "
   ]
  },
  {
   "cell_type": "code",
   "execution_count": 427,
   "metadata": {},
   "outputs": [],
   "source": [
    "# loop through each url of each region's initial page of private schools to get the count of the # of pages' \n",
    "    # worth of schools each region has\n",
    "\n",
    "pages_regions = []\n",
    "\n",
    "for url_reg in regions_urls:\n",
    "    response_reg = requests.get(url_reg)\n",
    "    soup_reg = BeautifulSoup(response_reg.text, 'html5lib')\n",
    "    pages_str = soup_reg.find(id='ctl00_cphCollegeNavBody_ucResultsMain_divPagingControls').find_all('a')[-1]['href']\n",
    "    pages_idx = pages_str.find('&pg=')\n",
    "    pages = pages_str[pages_idx+4:]\n",
    "    pages_regions.append(int(pages))"
   ]
  },
  {
   "cell_type": "code",
   "execution_count": 505,
   "metadata": {},
   "outputs": [],
   "source": [
    "# loop through the list of initial region urls and each region's corresponding number of pages' worth of schools to\n",
    "    # create a new url for each region's page(s) and add the new url to the original list of initial region urls\n",
    "\n",
    "for idx in range(0, len(regions_urls)):\n",
    "    for i in range(2, pages_regions[idx]+1):\n",
    "        new_url = (''.join(regions_urls[idx] + '&pg=' + str(i)))\n",
    "        regions_urls.append(new_url)"
   ]
  },
  {
   "cell_type": "code",
   "execution_count": 726,
   "metadata": {},
   "outputs": [],
   "source": [
    "# loop through each region url to create a dictionary of all school names and their corresponding url\n",
    "\n",
    "schools = {}\n",
    "names = []\n",
    "urls = []\n",
    "\n",
    "for reg_url in regions_urls:\n",
    "    response_reg = requests.get(reg_url)\n",
    "    soup_reg = BeautifulSoup(response_reg.text, \"lxml\")\n",
    "    table_reg = soup_reg.find(id='ctl00_cphCollegeNavBody_ucResultsMain_tblResults')\n",
    "    rows_reg = [row for row in table_reg.find_all('tr')]\n",
    "\n",
    "    for row in rows_reg:\n",
    "        link = row.find('a')\n",
    "        if link != None:\n",
    "            name, url = link.text, link['href']\n",
    "            names.append(name)\n",
    "            urls.append(url)\n",
    "            for idx in range(1, len(names)):\n",
    "                if names[idx] == names[idx-1]:\n",
    "                    names[idx] = names[idx] + '_b'\n",
    "\n",
    "for a, b in zip(names, urls):\n",
    "    schools[a] = [b]"
   ]
  },
  {
   "cell_type": "code",
   "execution_count": 730,
   "metadata": {},
   "outputs": [],
   "source": [
    "# loop through the new dictionary of school names and urls to add beginning part of nces' website to the urls\n",
    "\n",
    "#for key, val in schools.items():\n",
    " #   schools[key] = 'https://nces.ed.gov/collegenavigator/' + val"
   ]
  },
  {
   "cell_type": "code",
   "execution_count": 821,
   "metadata": {},
   "outputs": [
    {
     "data": {
      "text/plain": [
       "{'Alaska Bible College': ['?s=AK+CA+HI+NV+OR+WA&l=93&ct=2&id=102580'],\n",
       " 'Alaska Pacific University': ['?s=AK+CA+HI+NV+OR+WA&l=93&ct=2&id=102669'],\n",
       " 'America Evangelical University': ['?s=AK+CA+HI+NV+OR+WA&l=93&ct=2&id=490081'],\n",
       " 'American Jewish University': ['?s=AK+CA+HI+NV+OR+WA&l=93&ct=2&id=116846'],\n",
       " 'Antioch University-Los Angeles': ['?s=AK+CA+HI+NV+OR+WA&l=93&ct=2&id=245838']}"
      ]
     },
     "execution_count": 821,
     "metadata": {},
     "output_type": "execute_result"
    }
   ],
   "source": [
    "# check first five key, value pairs in schools dict\n",
    "\n",
    "{k: schools[k] for k in list(schools)[:5]}"
   ]
  },
  {
   "cell_type": "code",
   "execution_count": 822,
   "metadata": {},
   "outputs": [
    {
     "data": {
      "text/html": [
       "<div>\n",
       "<style scoped>\n",
       "    .dataframe tbody tr th:only-of-type {\n",
       "        vertical-align: middle;\n",
       "    }\n",
       "\n",
       "    .dataframe tbody tr th {\n",
       "        vertical-align: top;\n",
       "    }\n",
       "\n",
       "    .dataframe thead th {\n",
       "        text-align: right;\n",
       "    }\n",
       "</style>\n",
       "<table border=\"1\" class=\"dataframe\">\n",
       "  <thead>\n",
       "    <tr style=\"text-align: right;\">\n",
       "      <th></th>\n",
       "      <th>link_stub</th>\n",
       "    </tr>\n",
       "  </thead>\n",
       "  <tbody>\n",
       "    <tr>\n",
       "      <th>Alaska Bible College</th>\n",
       "      <td>?s=AK+CA+HI+NV+OR+WA&amp;l=93&amp;ct=2&amp;id=102580</td>\n",
       "    </tr>\n",
       "    <tr>\n",
       "      <th>Alaska Pacific University</th>\n",
       "      <td>?s=AK+CA+HI+NV+OR+WA&amp;l=93&amp;ct=2&amp;id=102669</td>\n",
       "    </tr>\n",
       "    <tr>\n",
       "      <th>America Evangelical University</th>\n",
       "      <td>?s=AK+CA+HI+NV+OR+WA&amp;l=93&amp;ct=2&amp;id=490081</td>\n",
       "    </tr>\n",
       "    <tr>\n",
       "      <th>American Jewish University</th>\n",
       "      <td>?s=AK+CA+HI+NV+OR+WA&amp;l=93&amp;ct=2&amp;id=116846</td>\n",
       "    </tr>\n",
       "    <tr>\n",
       "      <th>Antioch University-Los Angeles</th>\n",
       "      <td>?s=AK+CA+HI+NV+OR+WA&amp;l=93&amp;ct=2&amp;id=245838</td>\n",
       "    </tr>\n",
       "  </tbody>\n",
       "</table>\n",
       "</div>"
      ],
      "text/plain": [
       "                                                               link_stub\n",
       "Alaska Bible College            ?s=AK+CA+HI+NV+OR+WA&l=93&ct=2&id=102580\n",
       "Alaska Pacific University       ?s=AK+CA+HI+NV+OR+WA&l=93&ct=2&id=102669\n",
       "America Evangelical University  ?s=AK+CA+HI+NV+OR+WA&l=93&ct=2&id=490081\n",
       "American Jewish University      ?s=AK+CA+HI+NV+OR+WA&l=93&ct=2&id=116846\n",
       "Antioch University-Los Angeles  ?s=AK+CA+HI+NV+OR+WA&l=93&ct=2&id=245838"
      ]
     },
     "execution_count": 822,
     "metadata": {},
     "output_type": "execute_result"
    }
   ],
   "source": [
    "schools_df = pd.DataFrame(schools).T  #transpose\n",
    "schools_df.columns = ['link_stub']\n",
    "\n",
    "schools_df.head()"
   ]
  },
  {
   "cell_type": "code",
   "execution_count": 892,
   "metadata": {},
   "outputs": [],
   "source": [
    "def get_school_dict(link):\n",
    "    '''\n",
    "    From the National Center for Educaiton Statistics link stub, request school html, parse with BeautifulSoup, and\n",
    "    collect \n",
    "        - school name \n",
    "        - student-to-faculty ratio as string\n",
    "        - tuition and fees in 2019-20\n",
    "        - books and supplies in 2019-20\n",
    "        - tuition and fees in 2020-21\n",
    "        - books and supplies in 2020-21\n",
    "        - number of full-time faculty\n",
    "        - number part-time faculty\n",
    "        - number of all undergraduate students receiving grant or scholarship aid\n",
    "        - average amount of grant or scholarship aid among all undergraduate students\n",
    "        - total enrollment\n",
    "        - undergraduate enrollment\n",
    "        - undergraduate transfer-in enrollment\n",
    "        - graduate enrollment\n",
    "        - number of undergraduate applicants\n",
    "        - percent of undergraduate applicants admitted\n",
    "        - number of first-time students who submitted their SAT score\n",
    "        - % of first-time students who submitted their SAT score\n",
    "        - number of first-time students who submitted their ACT score\n",
    "        - % of first-time students who submitted their ACT score\n",
    "        - SAT Evidence-Based Reading and Writing 25th percentile score\n",
    "        - SAT Evidence-Based Reading and Writing 75th percentile score\n",
    "        - SAT Math 25th percentile score\n",
    "        - SAT Math 75th percentile score\n",
    "        - ACT Composite 25th percentile score\n",
    "        - ACT Composite 75th percentile score\n",
    "        - ACT English 25th percentile score\n",
    "        - ACT English 75th percentile score\n",
    "        - ACT Math 25th percentile score\n",
    "        - ACT Math 75th percentile score\n",
    "    Return information as a dictionary.\n",
    "    '''\n",
    "    \n",
    "    base_url = 'https://nces.ed.gov/collegenavigator/'\n",
    "    \n",
    "    #Create full url to scrape\n",
    "    url = base_url + link\n",
    "    \n",
    "    #Request HTML and parse\n",
    "    response = requests.get(url)\n",
    "    time.sleep(3)\n",
    "    page = response.text\n",
    "    soup = BeautifulSoup(page,\"lxml\")\n",
    "\n",
    "    \n",
    "    headers = ['school', 'raw_stu_to_fac_ratio', 'tuition_fees_19_20', 'books_supplies_19_20', \n",
    "               'tuition_fees', 'books_supplies','ft_faculty', 'pt_faculty','avg_amt_grant_schol_aid_beg_under_19_20',\n",
    "               'perc_grant_schol_aid_beg_under_19_20', 'avg_amt_grant_schol_aid_all_under_19_20', 'total_enroll',\n",
    "               'under_enroll', 'under_trans_enroll','grad_enroll', 'under_apps', 'perc_admitted',\n",
    "               'sat_scores_submit', 'perc_sat_scores_submit','act_scores_submit','perc_act_scores_submit',\n",
    "               'sat_read_write_25_perc', 'sat_read_write_75_perc','sat_math_25_perc','sat_math_75_perc', \n",
    "               'act_comp_25_perc','act_comp_75_perc', 'act_eng_25_perc','act_eng_75_perc', 'act_math_25_perc', \n",
    "               'act_math_75_perc']\n",
    "    \n",
    "    #Get school name\n",
    "    school_string = soup.find('title').text\n",
    "    school = school_string.split('-')[1].strip()\n",
    "\n",
    "    #Get student to faculty ratio\n",
    "    raw_stu_fac_ratio = soup.find('table', class_='layouttab').find_all('td')[-1].text\n",
    "    \n",
    "    #Get price of tuition and fees\n",
    "    raw_tuition_fees_19_20 = get_tuition_books_19_20_value(soup, 'Tuition and fees')\n",
    "    tuition_fees_19_20 = money_to_int(raw_tuition_fees_19_20)\n",
    "    \n",
    "    raw_tuition_fees = get_tuition_books_20_21_value(soup, 'Tuition and fees')\n",
    "    tuition_fees = money_to_int(raw_tuition_fees)\n",
    "    \n",
    "    #Get price of books and supplies\n",
    "    raw_books_supplies_19_20 = get_tuition_books_19_20_value(soup, 'Books and supplies')\n",
    "    books_supplies_19_20 = money_to_int(raw_books_supplies_19_20)\n",
    "\n",
    "    raw_books_supplies = get_tuition_books_20_21_value(soup, 'Books and supplies')\n",
    "    books_supplies = money_to_int(raw_books_supplies)\n",
    "    \n",
    "    #Get number of full-time and part-time faculty\n",
    "    raw_ft_faculty = get_school_value_one_next(soup, 'Total faculty')\n",
    "    ft_faculty = number_to_int(raw_ft_faculty)\n",
    "    \n",
    "    raw_pt_faculty = get_school_value_two_nexts(soup, 'Total faculty')\n",
    "    pt_faculty = number_to_int(raw_pt_faculty)\n",
    "\n",
    "    #Get financial aid metrics\n",
    "    raw_avg_amt_grant_schol_aid_beg_under_19_20 = get_avg_amt_grant_schol_aid_beg_under_value(soup,'Grant or scholarship aid')\n",
    "    avg_amt_grant_schol_aid_beg_under_19_20 = money_to_int(raw_avg_amt_grant_schol_aid_beg_under_19_20)\n",
    "        \n",
    "    raw_perc_grant_schol_aid_beg_under_19_20 = get_school_value_two_nexts(soup,'Grant or scholarship aid')\n",
    "    perc_grant_schol_aid_beg_under_19_20 = percent_to_float(raw_perc_grant_schol_aid_beg_under_19_20)\n",
    "    \n",
    "    raw_avg_amt_grant_schol_aid_all_under_19_20 = get_avg_amt_grant_schol_aid_all_under_value(soup, 'All Undergraduate Students')\n",
    "    avg_amt_grant_schol_aid_all_under_19_20 = money_to_int(raw_avg_amt_grant_schol_aid_all_under_19_20)\n",
    "    \n",
    "    #Get enrollment metrics\n",
    "    raw_total_enroll = get_school_value_one_next(soup, 'Total enrollment')\n",
    "    total_enroll = number_to_int(raw_total_enroll)\n",
    "    \n",
    "    raw_under_enroll = get_school_value_one_next(soup, 'Undergraduate enrollment')\n",
    "    under_enroll = number_to_int(raw_under_enroll)\n",
    "    \n",
    "    raw_under_trans_enroll = get_school_value_one_next(soup, 'Undergraduate transfer-in enrollment')\n",
    "    under_trans_enroll = number_to_int(raw_under_trans_enroll)\n",
    "    \n",
    "    raw_grad_enroll = get_school_value_one_next(soup, 'Graduate enrollment')\n",
    "    grad_enroll = number_to_int(raw_grad_enroll)\n",
    "    \n",
    "    #Get admissions metrics - # of applicants and % admitted\n",
    "    raw_under_apps = get_school_value_one_next(soup, 'Number of applicants')\n",
    "    under_apps = number_to_int(raw_under_apps)\n",
    "    \n",
    "    raw_perc_admitted = get_school_value_one_next(soup, 'Percent admitted')\n",
    "    perc_admitted = percent_to_float(raw_perc_admitted)\n",
    "    \n",
    "    #Get admissions metrics - SAT and ACT\n",
    "    raw_sat_scores_submit = get_school_value_one_next(soup, 'SAT')\n",
    "    sat_scores_submit = number_to_int(raw_sat_scores_submit)\n",
    "    \n",
    "    raw_perc_sat_scores_submit = get_school_value_two_nexts(soup, 'SAT')\n",
    "    perc_sat_scores_submit = percent_to_float(raw_perc_sat_scores_submit)\n",
    "    \n",
    "    raw_act_scores_submit = get_school_value_one_next(soup, 'ACT')\n",
    "    act_scores_submit = number_to_int(raw_act_scores_submit)\n",
    "    \n",
    "    raw_perc_act_scores_submit = get_school_value_two_nexts(soup, 'ACT')\n",
    "    perc_act_scores_submit = percent_to_float(raw_perc_act_scores_submit)\n",
    "    \n",
    "    raw_sat_read_write_25_perc = get_school_value_one_next(soup, 'SAT Evidence-Based Reading and Writing')\n",
    "    sat_read_write_25_perc = number_to_int(raw_sat_read_write_25_perc)\n",
    "    \n",
    "    raw_sat_read_write_75_perc = get_school_value_two_nexts(soup, 'SAT Evidence-Based Reading and Writing')\n",
    "    sat_read_write_75_perc = number_to_int(raw_sat_read_write_75_perc)\n",
    "    \n",
    "    raw_sat_math_25_perc = get_school_value_one_next(soup, 'SAT Math')\n",
    "    sat_math_25_perc = number_to_int(raw_sat_math_25_perc)\n",
    "    \n",
    "    raw_sat_math_75_perc = get_school_value_two_nexts(soup, 'SAT Math')\n",
    "    sat_math_75_perc = number_to_int(raw_sat_math_75_perc)\n",
    "    \n",
    "    raw_act_comp_25_perc = get_school_value_one_next(soup, 'ACT Composite')\n",
    "    act_comp_25_perc = number_to_int(raw_act_comp_25_perc)\n",
    "    \n",
    "    raw_act_comp_75_perc = get_school_value_two_nexts(soup, 'ACT Composite')\n",
    "    act_comp_75_perc = number_to_int(raw_act_comp_75_perc)\n",
    "    \n",
    "    raw_act_eng_25_perc = get_school_value_one_next(soup, 'ACT English')\n",
    "    act_eng_25_perc = number_to_int(raw_act_eng_25_perc)\n",
    "    \n",
    "    raw_act_eng_75_perc = get_school_value_two_nexts(soup, 'ACT English')\n",
    "    act_eng_75_perc = number_to_int(raw_act_eng_75_perc)\n",
    "    \n",
    "    raw_act_math_25_perc = get_school_value_one_next(soup, 'ACT Math')\n",
    "    act_math_25_perc = number_to_int(raw_act_math_25_perc)\n",
    "    \n",
    "    raw_act_math_75_perc = get_school_value_two_nexts(soup, 'ACT Math')\n",
    "    act_math_75_perc = number_to_int(raw_act_math_75_perc)\n",
    "    \n",
    "    #Create school dictionary and return\n",
    "    school_dict = dict(zip(headers, [school,\n",
    "                                    raw_stu_fac_ratio,\n",
    "                                    tuition_fees_19_20,\n",
    "                                    books_supplies_19_20, \n",
    "                                    tuition_fees,\n",
    "                                    books_supplies,\n",
    "                                    ft_faculty,\n",
    "                                    pt_faculty,\n",
    "                                    avg_amt_grant_schol_aid_beg_under_19_20,\n",
    "                                    perc_grant_schol_aid_beg_under_19_20,\n",
    "                                    avg_amt_grant_schol_aid_all_under_19_20,\n",
    "                                    total_enroll,\n",
    "                                    under_enroll, \n",
    "                                    under_trans_enroll, \n",
    "                                    grad_enroll,\n",
    "                                    under_apps,\n",
    "                                    perc_admitted,\n",
    "                                    sat_scores_submit,\n",
    "                                    perc_sat_scores_submit,\n",
    "                                    act_scores_submit,\n",
    "                                    perc_act_scores_submit,\n",
    "                                    sat_read_write_25_perc,\n",
    "                                    sat_read_write_75_perc,\n",
    "                                    sat_math_25_perc,\n",
    "                                    sat_math_75_perc,\n",
    "                                    act_comp_25_perc,\n",
    "                                    act_comp_75_perc,\n",
    "                                    act_eng_25_perc,\n",
    "                                    act_eng_75_perc,\n",
    "                                    act_math_25_perc,\n",
    "                                    act_math_75_perc]))\n",
    "\n",
    "    return school_dict"
   ]
  },
  {
   "cell_type": "code",
   "execution_count": 893,
   "metadata": {},
   "outputs": [],
   "source": [
    "private_schools_page_info_list = []\n",
    "\n",
    "for link in schools_df.link_stub:\n",
    "    private_schools_page_info_list.append(get_school_dict(link))"
   ]
  },
  {
   "cell_type": "code",
   "execution_count": 894,
   "metadata": {},
   "outputs": [
    {
     "data": {
      "text/plain": [
       "[{'school': 'Alaska Bible College',\n",
       "  'raw_stu_to_fac_ratio': '6 to 1',\n",
       "  'tuition_fees_19_20': 9700,\n",
       "  'books_supplies_19_20': 400,\n",
       "  'tuition_fees': 9700,\n",
       "  'books_supplies': 400,\n",
       "  'ft_faculty': 0,\n",
       "  'pt_faculty': 7,\n",
       "  'avg_amt_grant_schol_aid_beg_under_19_20': 11015,\n",
       "  'perc_grant_schol_aid_beg_under_19_20': 100.0,\n",
       "  'avg_amt_grant_schol_aid_all_under_19_20': 6902,\n",
       "  'total_enroll': None,\n",
       "  'under_enroll': None,\n",
       "  'under_trans_enroll': 3,\n",
       "  'grad_enroll': None,\n",
       "  'under_apps': None,\n",
       "  'perc_admitted': None,\n",
       "  'sat_scores_submit': None,\n",
       "  'perc_sat_scores_submit': None,\n",
       "  'act_scores_submit': None,\n",
       "  'perc_act_scores_submit': None,\n",
       "  'sat_read_write_25_perc': None,\n",
       "  'sat_read_write_75_perc': None,\n",
       "  'sat_math_25_perc': None,\n",
       "  'sat_math_75_perc': None,\n",
       "  'act_comp_25_perc': None,\n",
       "  'act_comp_75_perc': None,\n",
       "  'act_eng_25_perc': None,\n",
       "  'act_eng_75_perc': None,\n",
       "  'act_math_25_perc': None,\n",
       "  'act_math_75_perc': None},\n",
       " {'school': 'Alaska Pacific University',\n",
       "  'raw_stu_to_fac_ratio': '8 to 1',\n",
       "  'tuition_fees_19_20': 20760,\n",
       "  'books_supplies_19_20': 1200,\n",
       "  'tuition_fees': 20760,\n",
       "  'books_supplies': 1200,\n",
       "  'ft_faculty': 50,\n",
       "  'pt_faculty': 53,\n",
       "  'avg_amt_grant_schol_aid_beg_under_19_20': 13179,\n",
       "  'perc_grant_schol_aid_beg_under_19_20': 100.0,\n",
       "  'avg_amt_grant_schol_aid_all_under_19_20': 13592,\n",
       "  'total_enroll': 493,\n",
       "  'under_enroll': 312,\n",
       "  'under_trans_enroll': 65,\n",
       "  'grad_enroll': 181,\n",
       "  'under_apps': 428,\n",
       "  'perc_admitted': 91.0,\n",
       "  'sat_scores_submit': None,\n",
       "  'perc_sat_scores_submit': None,\n",
       "  'act_scores_submit': None,\n",
       "  'perc_act_scores_submit': None,\n",
       "  'sat_read_write_25_perc': None,\n",
       "  'sat_read_write_75_perc': None,\n",
       "  'sat_math_25_perc': None,\n",
       "  'sat_math_75_perc': None,\n",
       "  'act_comp_25_perc': None,\n",
       "  'act_comp_75_perc': None,\n",
       "  'act_eng_25_perc': None,\n",
       "  'act_eng_75_perc': None,\n",
       "  'act_math_25_perc': None,\n",
       "  'act_math_75_perc': None},\n",
       " {'school': 'America Evangelical University',\n",
       "  'raw_stu_to_fac_ratio': '6 to 1',\n",
       "  'tuition_fees_19_20': 5770,\n",
       "  'books_supplies_19_20': 1100,\n",
       "  'tuition_fees': 6250,\n",
       "  'books_supplies': 1200,\n",
       "  'ft_faculty': 5,\n",
       "  'pt_faculty': 9,\n",
       "  'avg_amt_grant_schol_aid_beg_under_19_20': None,\n",
       "  'perc_grant_schol_aid_beg_under_19_20': 100.0,\n",
       "  'avg_amt_grant_schol_aid_all_under_19_20': 3205,\n",
       "  'total_enroll': 165,\n",
       "  'under_enroll': 65,\n",
       "  'under_trans_enroll': 16,\n",
       "  'grad_enroll': 100,\n",
       "  'under_apps': None,\n",
       "  'perc_admitted': None,\n",
       "  'sat_scores_submit': None,\n",
       "  'perc_sat_scores_submit': None,\n",
       "  'act_scores_submit': None,\n",
       "  'perc_act_scores_submit': None,\n",
       "  'sat_read_write_25_perc': None,\n",
       "  'sat_read_write_75_perc': None,\n",
       "  'sat_math_25_perc': None,\n",
       "  'sat_math_75_perc': None,\n",
       "  'act_comp_25_perc': None,\n",
       "  'act_comp_75_perc': None,\n",
       "  'act_eng_25_perc': None,\n",
       "  'act_eng_75_perc': None,\n",
       "  'act_math_25_perc': None,\n",
       "  'act_math_75_perc': None},\n",
       " {'school': 'American Jewish University',\n",
       "  'raw_stu_to_fac_ratio': '4 to 1',\n",
       "  'tuition_fees_19_20': 31946,\n",
       "  'books_supplies_19_20': 1917,\n",
       "  'tuition_fees': 32404,\n",
       "  'books_supplies': 1080,\n",
       "  'ft_faculty': 8,\n",
       "  'pt_faculty': 40,\n",
       "  'avg_amt_grant_schol_aid_beg_under_19_20': 6735,\n",
       "  'perc_grant_schol_aid_beg_under_19_20': 30.0,\n",
       "  'avg_amt_grant_schol_aid_all_under_19_20': 6735,\n",
       "  'total_enroll': 93,\n",
       "  'under_enroll': 37,\n",
       "  'under_trans_enroll': 7,\n",
       "  'grad_enroll': 56,\n",
       "  'under_apps': None,\n",
       "  'perc_admitted': None,\n",
       "  'sat_scores_submit': None,\n",
       "  'perc_sat_scores_submit': None,\n",
       "  'act_scores_submit': None,\n",
       "  'perc_act_scores_submit': None,\n",
       "  'sat_read_write_25_perc': None,\n",
       "  'sat_read_write_75_perc': None,\n",
       "  'sat_math_25_perc': None,\n",
       "  'sat_math_75_perc': None,\n",
       "  'act_comp_25_perc': None,\n",
       "  'act_comp_75_perc': None,\n",
       "  'act_eng_25_perc': None,\n",
       "  'act_eng_75_perc': None,\n",
       "  'act_math_25_perc': None,\n",
       "  'act_math_75_perc': None},\n",
       " {'school': 'Antioch University',\n",
       "  'raw_stu_to_fac_ratio': '5 to 1',\n",
       "  'tuition_fees_19_20': None,\n",
       "  'books_supplies_19_20': None,\n",
       "  'tuition_fees': None,\n",
       "  'books_supplies': None,\n",
       "  'ft_faculty': 31,\n",
       "  'pt_faculty': 109,\n",
       "  'avg_amt_grant_schol_aid_beg_under_19_20': 7525,\n",
       "  'perc_grant_schol_aid_beg_under_19_20': 85.0,\n",
       "  'avg_amt_grant_schol_aid_all_under_19_20': 7525,\n",
       "  'total_enroll': 924,\n",
       "  'under_enroll': 169,\n",
       "  'under_trans_enroll': 26,\n",
       "  'grad_enroll': 755,\n",
       "  'under_apps': None,\n",
       "  'perc_admitted': None,\n",
       "  'sat_scores_submit': None,\n",
       "  'perc_sat_scores_submit': None,\n",
       "  'act_scores_submit': None,\n",
       "  'perc_act_scores_submit': None,\n",
       "  'sat_read_write_25_perc': None,\n",
       "  'sat_read_write_75_perc': None,\n",
       "  'sat_math_25_perc': None,\n",
       "  'sat_math_75_perc': None,\n",
       "  'act_comp_25_perc': None,\n",
       "  'act_comp_75_perc': None,\n",
       "  'act_eng_25_perc': None,\n",
       "  'act_eng_75_perc': None,\n",
       "  'act_math_25_perc': None,\n",
       "  'act_math_75_perc': None}]"
      ]
     },
     "execution_count": 894,
     "metadata": {},
     "output_type": "execute_result"
    }
   ],
   "source": [
    "private_schools_page_info_list[:5]"
   ]
  },
  {
   "cell_type": "code",
   "execution_count": 895,
   "metadata": {},
   "outputs": [],
   "source": [
    "private_schools_page_info = pd.DataFrame(private_schools_page_info_list)  #convert list of dict to df\n",
    "private_schools_page_info.set_index('school', inplace=True)"
   ]
  },
  {
   "cell_type": "code",
   "execution_count": 896,
   "metadata": {},
   "outputs": [
    {
     "data": {
      "text/plain": [
       "337"
      ]
     },
     "execution_count": 896,
     "metadata": {},
     "output_type": "execute_result"
    }
   ],
   "source": [
    "under_apps_not_na = private_schools_page_info.loc[~private_schools_page_info.under_apps.isna()]"
   ]
  },
  {
   "cell_type": "code",
   "execution_count": 897,
   "metadata": {},
   "outputs": [
    {
     "name": "stdout",
     "output_type": "stream",
     "text": [
      "<class 'pandas.core.frame.DataFrame'>\n",
      "Index: 1332 entries, Alaska Bible College to Yale University\n",
      "Data columns (total 30 columns):\n",
      " #   Column                                   Non-Null Count  Dtype  \n",
      "---  ------                                   --------------  -----  \n",
      " 0   raw_stu_to_fac_ratio                     1332 non-null   object \n",
      " 1   tuition_fees_19_20                       1261 non-null   float64\n",
      " 2   books_supplies_19_20                     1209 non-null   float64\n",
      " 3   tuition_fees                             1264 non-null   float64\n",
      " 4   books_supplies                           1214 non-null   float64\n",
      " 5   ft_faculty                               1316 non-null   float64\n",
      " 6   pt_faculty                               1316 non-null   float64\n",
      " 7   avg_amt_grant_schol_aid_beg_under_19_20  1281 non-null   float64\n",
      " 8   perc_grant_schol_aid_beg_under_19_20     1320 non-null   float64\n",
      " 9   avg_amt_grant_schol_aid_all_under_19_20  1318 non-null   float64\n",
      " 10  total_enroll                             994 non-null    float64\n",
      " 11  under_enroll                             994 non-null    float64\n",
      " 12  under_trans_enroll                       1323 non-null   float64\n",
      " 13  grad_enroll                              994 non-null    float64\n",
      " 14  under_apps                               1086 non-null   float64\n",
      " 15  perc_admitted                            1086 non-null   float64\n",
      " 16  sat_scores_submit                        650 non-null    float64\n",
      " 17  perc_sat_scores_submit                   650 non-null    float64\n",
      " 18  act_scores_submit                        660 non-null    float64\n",
      " 19  perc_act_scores_submit                   660 non-null    float64\n",
      " 20  sat_read_write_25_perc                   640 non-null    float64\n",
      " 21  sat_read_write_75_perc                   640 non-null    float64\n",
      " 22  sat_math_25_perc                         640 non-null    float64\n",
      " 23  sat_math_75_perc                         640 non-null    float64\n",
      " 24  act_comp_25_perc                         655 non-null    float64\n",
      " 25  act_comp_75_perc                         655 non-null    float64\n",
      " 26  act_eng_25_perc                          615 non-null    float64\n",
      " 27  act_eng_75_perc                          615 non-null    float64\n",
      " 28  act_math_25_perc                         615 non-null    float64\n",
      " 29  act_math_75_perc                         615 non-null    float64\n",
      "dtypes: float64(29), object(1)\n",
      "memory usage: 362.6+ KB\n"
     ]
    }
   ],
   "source": [
    "private_schools_page_info.info()"
   ]
  },
  {
   "cell_type": "code",
   "execution_count": 574,
   "metadata": {},
   "outputs": [],
   "source": [
    "# loop through each school's page to extract the student-to-faculty ratio and save the value in a list\n",
    "\n",
    "#stu_fac_ratio_ls = []\n",
    "\n",
    "#for school_url in schools.values():\n",
    "   # response_school = requests.get(school_url)\n",
    "   # soup_school = BeautifulSoup(response_school.text, \"lxml\")\n",
    "   # stu_fac_ratio = soup_school.find('table', class_='layouttab').find_all('td')[-1].text\n",
    "   # stu_fac_ratio_ls.append(stu_fac_ratio)\n",
    "   # time.sleep(3)"
   ]
  },
  {
   "cell_type": "code",
   "execution_count": 576,
   "metadata": {},
   "outputs": [
    {
     "data": {
      "text/plain": [
       "1332"
      ]
     },
     "execution_count": 576,
     "metadata": {},
     "output_type": "execute_result"
    }
   ],
   "source": [
    "#stu_fac_ratio_ls[]"
   ]
  },
  {
   "cell_type": "code",
   "execution_count": 577,
   "metadata": {},
   "outputs": [
    {
     "data": {
      "text/plain": [
       "1332"
      ]
     },
     "execution_count": 577,
     "metadata": {},
     "output_type": "execute_result"
    }
   ],
   "source": [
    "#len(schools)"
   ]
  },
  {
   "cell_type": "code",
   "execution_count": null,
   "metadata": {},
   "outputs": [],
   "source": [
    "#time.sleep(3)"
   ]
  },
  {
   "cell_type": "code",
   "execution_count": null,
   "metadata": {},
   "outputs": [],
   "source": [
    "# loop through each school's page to grab the html from that page and save it in a list\n",
    "\n",
    "#stu_fac_ratio_ls = []\n",
    "\n",
    "#for school_url in schools.values():\n",
    "   # response_school = requests.get(school_url)\n",
    "   # soup_school = BeautifulSoup(response_school.text, \"lxml\")\n",
    "   # stu_fac_ratio = soup_school.find('table', class_='layouttab').find_all('td')[-1].text\n",
    "   # stu_fac_ratio_ls.append(stu_fac_ratio)\n",
    "   # time.sleep(3)"
   ]
  },
  {
   "cell_type": "code",
   "execution_count": null,
   "metadata": {},
   "outputs": [],
   "source": [
    "# code for looping through one state's url and replacing the state with a new one\n",
    "\n",
    "#state_abrev = ['TX', 'NY', 'FL']\n",
    "#ca_string = 'https://nces.ed.gov/collegenavigator/?s=CA&l=93&ct=2'\n",
    "\n",
    "#for abrev in state_abrev:\n",
    "   # ca_list = list(ca_string)\n",
    "   # idx_1 = ca_list.index('=')\n",
    "   # idx_2 = ca_list.index('&')\n",
    "    #print(''.join(ca_list[:idx_1+1]) + abrev + ''.join(ca_list[idx_2:]))"
   ]
  },
  {
   "cell_type": "code",
   "execution_count": 523,
   "metadata": {},
   "outputs": [],
   "source": [
    "# code for looping through the multiple pages of a state's urls and replacing the state with a new one\n",
    "\n",
    "#state_abrev = ['TX', 'NY', 'FL']\n",
    "#ca_schools_search_tables_urls = [\n",
    "   # 'https://nces.ed.gov/collegenavigator/?s=CA&l=93&ct=2',\n",
    "   # 'https://nces.ed.gov/collegenavigator/?s=CA&l=93&ct=2&pg=2',\n",
    "   # 'https://nces.ed.gov/collegenavigator/?s=CA&l=93&ct=2&pg=3',\n",
    "   # 'https://nces.ed.gov/collegenavigator/?s=CA&l=93&ct=2&pg=4',\n",
    "    #'https://nces.ed.gov/collegenavigator/?s=CA&l=93&ct=2&pg=5',\n",
    "    #'https://nces.ed.gov/collegenavigator/?s=CA&l=93&ct=2&pg=6',\n",
    "    #'https://nces.ed.gov/collegenavigator/?s=CA&l=93&ct=2&pg=7',\n",
    "  #  'https://nces.ed.gov/collegenavigator/?s=CA&l=93&ct=2&pg=8']\n",
    "\n",
    "#for abrev in state_abrev:\n",
    "  #  for url in ca_schools_search_tables_urls:\n",
    "   #     idx_1 = url.index('=')\n",
    "   #     idx_2 = url.index('&')\n",
    "  #      print(''.join(url[:idx_1+1]) + abrev + ''.join(url[idx_2:]))"
   ]
  }
 ],
 "metadata": {
  "kernelspec": {
   "display_name": "Python 3",
   "language": "python",
   "name": "python3"
  },
  "language_info": {
   "codemirror_mode": {
    "name": "ipython",
    "version": 3
   },
   "file_extension": ".py",
   "mimetype": "text/x-python",
   "name": "python",
   "nbconvert_exporter": "python",
   "pygments_lexer": "ipython3",
   "version": "3.8.10"
  }
 },
 "nbformat": 4,
 "nbformat_minor": 4
}
