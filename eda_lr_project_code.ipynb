{
 "cells": [
  {
   "cell_type": "code",
   "execution_count": 1,
   "id": "4b30f131",
   "metadata": {},
   "outputs": [],
   "source": [
    "import pandas as pd\n",
    "import numpy as np\n",
    "import seaborn as sns\n",
    "import matplotlib.pyplot as plt"
   ]
  },
  {
   "cell_type": "code",
   "execution_count": 2,
   "id": "ce2e2810",
   "metadata": {},
   "outputs": [
    {
     "data": {
      "text/plain": [
       "'/Users/chloebergsma-safar/Desktop/Metis/NBM_Regression_Project/Metis-Regression'"
      ]
     },
     "execution_count": 2,
     "metadata": {},
     "output_type": "execute_result"
    }
   ],
   "source": [
    "import os\n",
    "os.getcwd()"
   ]
  },
  {
   "cell_type": "markdown",
   "id": "be29cff1",
   "metadata": {},
   "source": [
    "## Read in data\n",
    "- schools_csv.csv contains first 400 schools\n",
    "- schools_csv_2.csv contains the second 400 schools\n",
    "- schools_csv_3.csv contains the third 400 schools\n",
    "- schools_csv_4.csv contains the last 132 schools\n",
    "- total # of schools: 1332"
   ]
  },
  {
   "cell_type": "code",
   "execution_count": 3,
   "id": "857e0f0c",
   "metadata": {},
   "outputs": [],
   "source": [
    "schools_1_400 = pd.read_csv('schools_csv.csv')"
   ]
  },
  {
   "cell_type": "code",
   "execution_count": 4,
   "id": "5f9bed28",
   "metadata": {},
   "outputs": [],
   "source": [
    "schools_401_800 = pd.read_csv('schools_csv_2.csv')"
   ]
  },
  {
   "cell_type": "code",
   "execution_count": 5,
   "id": "ecc639cd",
   "metadata": {},
   "outputs": [],
   "source": [
    "schools_801_1200 = pd.read_csv('schools_csv_3.csv')"
   ]
  },
  {
   "cell_type": "code",
   "execution_count": 6,
   "id": "fef98195",
   "metadata": {},
   "outputs": [],
   "source": [
    "schools_1201_1332 = pd.read_csv('schools_csv_4.csv')"
   ]
  },
  {
   "cell_type": "markdown",
   "id": "0d3ecab9",
   "metadata": {},
   "source": [
    "## Concatenate dataframes"
   ]
  },
  {
   "cell_type": "code",
   "execution_count": 7,
   "id": "b56cb2b7",
   "metadata": {},
   "outputs": [],
   "source": [
    "schools_df = pd.concat([schools_1_400, schools_401_800, schools_801_1200, schools_1201_1332], axis=0)"
   ]
  },
  {
   "cell_type": "code",
   "execution_count": 8,
   "id": "4865d885",
   "metadata": {},
   "outputs": [
    {
     "data": {
      "text/plain": [
       "(400, 36)"
      ]
     },
     "execution_count": 8,
     "metadata": {},
     "output_type": "execute_result"
    }
   ],
   "source": [
    "schools_1_400.shape"
   ]
  },
  {
   "cell_type": "markdown",
   "id": "ff75d836",
   "metadata": {},
   "source": [
    "### Check concatenation"
   ]
  },
  {
   "cell_type": "code",
   "execution_count": 9,
   "id": "a9d934bf",
   "metadata": {},
   "outputs": [
    {
     "data": {
      "text/plain": [
       "(400, 36)"
      ]
     },
     "execution_count": 9,
     "metadata": {},
     "output_type": "execute_result"
    }
   ],
   "source": [
    "schools_401_800.shape"
   ]
  },
  {
   "cell_type": "code",
   "execution_count": 10,
   "id": "1399cc6e",
   "metadata": {},
   "outputs": [
    {
     "data": {
      "text/plain": [
       "(400, 36)"
      ]
     },
     "execution_count": 10,
     "metadata": {},
     "output_type": "execute_result"
    }
   ],
   "source": [
    "schools_801_1200.shape"
   ]
  },
  {
   "cell_type": "code",
   "execution_count": 11,
   "id": "fe751922",
   "metadata": {},
   "outputs": [
    {
     "data": {
      "text/plain": [
       "(132, 36)"
      ]
     },
     "execution_count": 11,
     "metadata": {},
     "output_type": "execute_result"
    }
   ],
   "source": [
    "schools_1201_1332.shape"
   ]
  },
  {
   "cell_type": "code",
   "execution_count": 12,
   "id": "9c66aaa5",
   "metadata": {},
   "outputs": [
    {
     "data": {
      "text/plain": [
       "(1332, 36)"
      ]
     },
     "execution_count": 12,
     "metadata": {},
     "output_type": "execute_result"
    }
   ],
   "source": [
    "schools_df.shape"
   ]
  },
  {
   "cell_type": "markdown",
   "id": "57d979e4",
   "metadata": {},
   "source": [
    "## Peform EDA on concatenated dataframe"
   ]
  },
  {
   "cell_type": "code",
   "execution_count": 13,
   "id": "f30c5e4e",
   "metadata": {},
   "outputs": [
    {
     "name": "stdout",
     "output_type": "stream",
     "text": [
      "<class 'pandas.core.frame.DataFrame'>\n",
      "Int64Index: 1332 entries, 0 to 131\n",
      "Data columns (total 36 columns):\n",
      " #   Column                                   Non-Null Count  Dtype  \n",
      "---  ------                                   --------------  -----  \n",
      " 0   school                                   1332 non-null   object \n",
      " 1   raw_stu_to_fac_ratio                     1323 non-null   object \n",
      " 2   tuition_fees_19_20                       1261 non-null   float64\n",
      " 3   books_supplies_19_20                     1209 non-null   float64\n",
      " 4   tuition_fees                             1264 non-null   float64\n",
      " 5   books_supplies                           1214 non-null   float64\n",
      " 6   tuition                                  48 non-null     float64\n",
      " 7   fees                                     48 non-null     float64\n",
      " 8   tuition_under                            11 non-null     float64\n",
      " 9   fees_under                               11 non-null     float64\n",
      " 10  ft_faculty                               1316 non-null   float64\n",
      " 11  pt_faculty                               1316 non-null   float64\n",
      " 12  avg_amt_grant_schol_aid_beg_under_19_20  1281 non-null   float64\n",
      " 13  perc_grant_schol_aid_beg_under_19_20     1320 non-null   float64\n",
      " 14  avg_amt_grant_schol_aid_all_under_19_20  1318 non-null   float64\n",
      " 15  total_enroll                             994 non-null    float64\n",
      " 16  total_enroll_under                       329 non-null    float64\n",
      " 17  under_enroll                             994 non-null    float64\n",
      " 18  under_trans_enroll                       1323 non-null   float64\n",
      " 19  grad_enroll                              994 non-null    float64\n",
      " 20  under_apps                               1086 non-null   float64\n",
      " 21  perc_admitted                            1086 non-null   float64\n",
      " 22  sat_scores_submit                        650 non-null    float64\n",
      " 23  perc_sat_scores_submit                   650 non-null    float64\n",
      " 24  act_scores_submit                        660 non-null    float64\n",
      " 25  perc_act_scores_submit                   660 non-null    float64\n",
      " 26  sat_read_write_25_perc                   640 non-null    float64\n",
      " 27  sat_read_write_75_perc                   640 non-null    float64\n",
      " 28  sat_math_25_perc                         640 non-null    float64\n",
      " 29  sat_math_75_perc                         640 non-null    float64\n",
      " 30  act_comp_25_perc                         655 non-null    float64\n",
      " 31  act_comp_75_perc                         655 non-null    float64\n",
      " 32  act_eng_25_perc                          615 non-null    float64\n",
      " 33  act_eng_75_perc                          615 non-null    float64\n",
      " 34  act_math_25_perc                         615 non-null    float64\n",
      " 35  act_math_75_perc                         615 non-null    float64\n",
      "dtypes: float64(34), object(2)\n",
      "memory usage: 385.0+ KB\n"
     ]
    }
   ],
   "source": [
    "schools_df.info()"
   ]
  },
  {
   "cell_type": "markdown",
   "id": "1ff61397",
   "metadata": {},
   "source": [
    "### Clean tuition and fees columns"
   ]
  },
  {
   "cell_type": "markdown",
   "id": "123b04f1",
   "metadata": {},
   "source": [
    "#### Consolidate tuition and tuition_under columns, since, based on webscraping, we know that they represent the same data stored in different places on school pages (thus, the decision to extract the data differently)"
   ]
  },
  {
   "cell_type": "code",
   "execution_count": 14,
   "id": "0fd848a4",
   "metadata": {},
   "outputs": [],
   "source": [
    "schools_df['tuition_20_21'] = np.nan"
   ]
  },
  {
   "cell_type": "code",
   "execution_count": 15,
   "id": "3cfdcfca",
   "metadata": {},
   "outputs": [],
   "source": [
    "schools_df.tuition_20_21.fillna(schools_df.tuition, inplace=True)"
   ]
  },
  {
   "cell_type": "code",
   "execution_count": 16,
   "id": "d4dc4b71",
   "metadata": {},
   "outputs": [],
   "source": [
    "schools_df.tuition_20_21.fillna(schools_df.tuition_under, inplace=True)"
   ]
  },
  {
   "cell_type": "code",
   "execution_count": 17,
   "id": "16a816b2",
   "metadata": {},
   "outputs": [
    {
     "data": {
      "text/html": [
       "<div>\n",
       "<style scoped>\n",
       "    .dataframe tbody tr th:only-of-type {\n",
       "        vertical-align: middle;\n",
       "    }\n",
       "\n",
       "    .dataframe tbody tr th {\n",
       "        vertical-align: top;\n",
       "    }\n",
       "\n",
       "    .dataframe thead th {\n",
       "        text-align: right;\n",
       "    }\n",
       "</style>\n",
       "<table border=\"1\" class=\"dataframe\">\n",
       "  <thead>\n",
       "    <tr style=\"text-align: right;\">\n",
       "      <th></th>\n",
       "      <th>tuition_20_21</th>\n",
       "      <th>tuition</th>\n",
       "      <th>tuition_under</th>\n",
       "    </tr>\n",
       "  </thead>\n",
       "  <tbody>\n",
       "    <tr>\n",
       "      <th>4</th>\n",
       "      <td>20370.0</td>\n",
       "      <td>20370.0</td>\n",
       "      <td>NaN</td>\n",
       "    </tr>\n",
       "    <tr>\n",
       "      <th>5</th>\n",
       "      <td>17820.0</td>\n",
       "      <td>17820.0</td>\n",
       "      <td>NaN</td>\n",
       "    </tr>\n",
       "    <tr>\n",
       "      <th>6</th>\n",
       "      <td>21600.0</td>\n",
       "      <td>21600.0</td>\n",
       "      <td>NaN</td>\n",
       "    </tr>\n",
       "    <tr>\n",
       "      <th>9</th>\n",
       "      <td>26820.0</td>\n",
       "      <td>26820.0</td>\n",
       "      <td>NaN</td>\n",
       "    </tr>\n",
       "    <tr>\n",
       "      <th>10</th>\n",
       "      <td>9375.0</td>\n",
       "      <td>9375.0</td>\n",
       "      <td>NaN</td>\n",
       "    </tr>\n",
       "  </tbody>\n",
       "</table>\n",
       "</div>"
      ],
      "text/plain": [
       "    tuition_20_21  tuition  tuition_under\n",
       "4         20370.0  20370.0            NaN\n",
       "5         17820.0  17820.0            NaN\n",
       "6         21600.0  21600.0            NaN\n",
       "9         26820.0  26820.0            NaN\n",
       "10         9375.0   9375.0            NaN"
      ]
     },
     "execution_count": 17,
     "metadata": {},
     "output_type": "execute_result"
    }
   ],
   "source": [
    "# check that in new col, where tuition has a value, it was assigned to the new col\n",
    "tuition_not_nan = schools_df.loc[~schools_df.tuition.isna()]\n",
    "tuition_not_nan[['tuition_20_21', 'tuition', 'tuition_under']].head()"
   ]
  },
  {
   "cell_type": "code",
   "execution_count": 18,
   "id": "aa1d541c",
   "metadata": {},
   "outputs": [
    {
     "data": {
      "text/html": [
       "<div>\n",
       "<style scoped>\n",
       "    .dataframe tbody tr th:only-of-type {\n",
       "        vertical-align: middle;\n",
       "    }\n",
       "\n",
       "    .dataframe tbody tr th {\n",
       "        vertical-align: top;\n",
       "    }\n",
       "\n",
       "    .dataframe thead th {\n",
       "        text-align: right;\n",
       "    }\n",
       "</style>\n",
       "<table border=\"1\" class=\"dataframe\">\n",
       "  <thead>\n",
       "    <tr style=\"text-align: right;\">\n",
       "      <th></th>\n",
       "      <th>tuition_20_21</th>\n",
       "      <th>tuition</th>\n",
       "      <th>tuition_under</th>\n",
       "    </tr>\n",
       "  </thead>\n",
       "  <tbody>\n",
       "    <tr>\n",
       "      <th>13</th>\n",
       "      <td>22230.0</td>\n",
       "      <td>NaN</td>\n",
       "      <td>22230.0</td>\n",
       "    </tr>\n",
       "    <tr>\n",
       "      <th>251</th>\n",
       "      <td>13440.0</td>\n",
       "      <td>NaN</td>\n",
       "      <td>13440.0</td>\n",
       "    </tr>\n",
       "    <tr>\n",
       "      <th>18</th>\n",
       "      <td>10440.0</td>\n",
       "      <td>NaN</td>\n",
       "      <td>10440.0</td>\n",
       "    </tr>\n",
       "    <tr>\n",
       "      <th>70</th>\n",
       "      <td>26400.0</td>\n",
       "      <td>NaN</td>\n",
       "      <td>26400.0</td>\n",
       "    </tr>\n",
       "    <tr>\n",
       "      <th>82</th>\n",
       "      <td>19975.0</td>\n",
       "      <td>NaN</td>\n",
       "      <td>19975.0</td>\n",
       "    </tr>\n",
       "  </tbody>\n",
       "</table>\n",
       "</div>"
      ],
      "text/plain": [
       "     tuition_20_21  tuition  tuition_under\n",
       "13         22230.0      NaN        22230.0\n",
       "251        13440.0      NaN        13440.0\n",
       "18         10440.0      NaN        10440.0\n",
       "70         26400.0      NaN        26400.0\n",
       "82         19975.0      NaN        19975.0"
      ]
     },
     "execution_count": 18,
     "metadata": {},
     "output_type": "execute_result"
    }
   ],
   "source": [
    "# check that in new col, where tuition_under has a value, it was assigned to the new col\n",
    "tuition_under_not_nan = schools_df.loc[~schools_df.tuition_under.isna()]\n",
    "tuition_under_not_nan[['tuition_20_21', 'tuition', 'tuition_under']].head()"
   ]
  },
  {
   "cell_type": "code",
   "execution_count": 19,
   "id": "50cf2c16",
   "metadata": {},
   "outputs": [],
   "source": [
    "# drop tuition and tuition_under columns\n",
    "schools_df.drop(['tuition', 'tuition_under'],axis=1, inplace=True)"
   ]
  },
  {
   "cell_type": "markdown",
   "id": "29a87d67",
   "metadata": {},
   "source": [
    "#### Consolidate fees and fees_under columns, since, based on webscraping, we know that they represent the same data stored in different places on school pages (thus, the decision to extract the data differently)"
   ]
  },
  {
   "cell_type": "code",
   "execution_count": 20,
   "id": "a5265eb4",
   "metadata": {},
   "outputs": [],
   "source": [
    "schools_df['fees_20_21'] = np.nan"
   ]
  },
  {
   "cell_type": "code",
   "execution_count": 21,
   "id": "0217a6db",
   "metadata": {},
   "outputs": [],
   "source": [
    "schools_df.fees_20_21.fillna(schools_df.fees, inplace=True)"
   ]
  },
  {
   "cell_type": "code",
   "execution_count": 22,
   "id": "866db5b2",
   "metadata": {},
   "outputs": [],
   "source": [
    "schools_df.fees_20_21.fillna(schools_df.fees_under, inplace=True)"
   ]
  },
  {
   "cell_type": "code",
   "execution_count": 23,
   "id": "71f721fa",
   "metadata": {},
   "outputs": [
    {
     "data": {
      "text/html": [
       "<div>\n",
       "<style scoped>\n",
       "    .dataframe tbody tr th:only-of-type {\n",
       "        vertical-align: middle;\n",
       "    }\n",
       "\n",
       "    .dataframe tbody tr th {\n",
       "        vertical-align: top;\n",
       "    }\n",
       "\n",
       "    .dataframe thead th {\n",
       "        text-align: right;\n",
       "    }\n",
       "</style>\n",
       "<table border=\"1\" class=\"dataframe\">\n",
       "  <thead>\n",
       "    <tr style=\"text-align: right;\">\n",
       "      <th></th>\n",
       "      <th>fees_20_21</th>\n",
       "      <th>fees</th>\n",
       "      <th>fees_under</th>\n",
       "    </tr>\n",
       "  </thead>\n",
       "  <tbody>\n",
       "    <tr>\n",
       "      <th>4</th>\n",
       "      <td>300.0</td>\n",
       "      <td>300.0</td>\n",
       "      <td>NaN</td>\n",
       "    </tr>\n",
       "    <tr>\n",
       "      <th>5</th>\n",
       "      <td>300.0</td>\n",
       "      <td>300.0</td>\n",
       "      <td>NaN</td>\n",
       "    </tr>\n",
       "    <tr>\n",
       "      <th>6</th>\n",
       "      <td>435.0</td>\n",
       "      <td>435.0</td>\n",
       "      <td>NaN</td>\n",
       "    </tr>\n",
       "    <tr>\n",
       "      <th>9</th>\n",
       "      <td>75.0</td>\n",
       "      <td>75.0</td>\n",
       "      <td>NaN</td>\n",
       "    </tr>\n",
       "    <tr>\n",
       "      <th>10</th>\n",
       "      <td>600.0</td>\n",
       "      <td>600.0</td>\n",
       "      <td>NaN</td>\n",
       "    </tr>\n",
       "  </tbody>\n",
       "</table>\n",
       "</div>"
      ],
      "text/plain": [
       "    fees_20_21   fees  fees_under\n",
       "4        300.0  300.0         NaN\n",
       "5        300.0  300.0         NaN\n",
       "6        435.0  435.0         NaN\n",
       "9         75.0   75.0         NaN\n",
       "10       600.0  600.0         NaN"
      ]
     },
     "execution_count": 23,
     "metadata": {},
     "output_type": "execute_result"
    }
   ],
   "source": [
    "# check that in new col, where fees has a value, it was assigned to the new col\n",
    "fees_not_nan = schools_df.loc[~schools_df.fees.isna()]\n",
    "fees_not_nan[['fees_20_21', 'fees', 'fees_under']].head()"
   ]
  },
  {
   "cell_type": "code",
   "execution_count": 24,
   "id": "81675c8a",
   "metadata": {},
   "outputs": [
    {
     "data": {
      "text/html": [
       "<div>\n",
       "<style scoped>\n",
       "    .dataframe tbody tr th:only-of-type {\n",
       "        vertical-align: middle;\n",
       "    }\n",
       "\n",
       "    .dataframe tbody tr th {\n",
       "        vertical-align: top;\n",
       "    }\n",
       "\n",
       "    .dataframe thead th {\n",
       "        text-align: right;\n",
       "    }\n",
       "</style>\n",
       "<table border=\"1\" class=\"dataframe\">\n",
       "  <thead>\n",
       "    <tr style=\"text-align: right;\">\n",
       "      <th></th>\n",
       "      <th>fees_20_21</th>\n",
       "      <th>fees</th>\n",
       "      <th>fees_under</th>\n",
       "    </tr>\n",
       "  </thead>\n",
       "  <tbody>\n",
       "    <tr>\n",
       "      <th>13</th>\n",
       "      <td>1644.0</td>\n",
       "      <td>NaN</td>\n",
       "      <td>1644.0</td>\n",
       "    </tr>\n",
       "    <tr>\n",
       "      <th>251</th>\n",
       "      <td>0.0</td>\n",
       "      <td>NaN</td>\n",
       "      <td>0.0</td>\n",
       "    </tr>\n",
       "    <tr>\n",
       "      <th>18</th>\n",
       "      <td>60.0</td>\n",
       "      <td>NaN</td>\n",
       "      <td>60.0</td>\n",
       "    </tr>\n",
       "    <tr>\n",
       "      <th>70</th>\n",
       "      <td>900.0</td>\n",
       "      <td>NaN</td>\n",
       "      <td>900.0</td>\n",
       "    </tr>\n",
       "    <tr>\n",
       "      <th>82</th>\n",
       "      <td>2100.0</td>\n",
       "      <td>NaN</td>\n",
       "      <td>2100.0</td>\n",
       "    </tr>\n",
       "  </tbody>\n",
       "</table>\n",
       "</div>"
      ],
      "text/plain": [
       "     fees_20_21  fees  fees_under\n",
       "13       1644.0   NaN      1644.0\n",
       "251         0.0   NaN         0.0\n",
       "18         60.0   NaN        60.0\n",
       "70        900.0   NaN       900.0\n",
       "82       2100.0   NaN      2100.0"
      ]
     },
     "execution_count": 24,
     "metadata": {},
     "output_type": "execute_result"
    }
   ],
   "source": [
    "# check that in new col, where fees_under has a value, it was assigned to the new col\n",
    "fees_under_not_nan = schools_df.loc[~schools_df.fees_under.isna()]\n",
    "fees_under_not_nan[['fees_20_21', 'fees', 'fees_under']].head()"
   ]
  },
  {
   "cell_type": "code",
   "execution_count": 25,
   "id": "692ece3f",
   "metadata": {},
   "outputs": [],
   "source": [
    "# drop fees and fees_under columns\n",
    "schools_df.drop(['fees', 'fees_under'],axis=1, inplace=True)"
   ]
  },
  {
   "cell_type": "markdown",
   "id": "c36978d4",
   "metadata": {},
   "source": [
    "#### Combine new tuition_20_21 and fees_20_21 columns"
   ]
  },
  {
   "cell_type": "code",
   "execution_count": 26,
   "id": "0f37bb54",
   "metadata": {},
   "outputs": [],
   "source": [
    "schools_df['tuition_fees_20_21'] = schools_df.tuition_20_21 + schools_df.fees_20_21"
   ]
  },
  {
   "cell_type": "code",
   "execution_count": 27,
   "id": "a47960ab",
   "metadata": {},
   "outputs": [
    {
     "data": {
      "text/html": [
       "<div>\n",
       "<style scoped>\n",
       "    .dataframe tbody tr th:only-of-type {\n",
       "        vertical-align: middle;\n",
       "    }\n",
       "\n",
       "    .dataframe tbody tr th {\n",
       "        vertical-align: top;\n",
       "    }\n",
       "\n",
       "    .dataframe thead th {\n",
       "        text-align: right;\n",
       "    }\n",
       "</style>\n",
       "<table border=\"1\" class=\"dataframe\">\n",
       "  <thead>\n",
       "    <tr style=\"text-align: right;\">\n",
       "      <th></th>\n",
       "      <th>tuition_fees_20_21</th>\n",
       "      <th>tuition_20_21</th>\n",
       "      <th>fees_20_21</th>\n",
       "    </tr>\n",
       "  </thead>\n",
       "  <tbody>\n",
       "    <tr>\n",
       "      <th>79</th>\n",
       "      <td>78241.0</td>\n",
       "      <td>73200.0</td>\n",
       "      <td>5041.0</td>\n",
       "    </tr>\n",
       "    <tr>\n",
       "      <th>89</th>\n",
       "      <td>13386.0</td>\n",
       "      <td>12984.0</td>\n",
       "      <td>402.0</td>\n",
       "    </tr>\n",
       "    <tr>\n",
       "      <th>101</th>\n",
       "      <td>26200.0</td>\n",
       "      <td>26200.0</td>\n",
       "      <td>0.0</td>\n",
       "    </tr>\n",
       "    <tr>\n",
       "      <th>109</th>\n",
       "      <td>18000.0</td>\n",
       "      <td>18000.0</td>\n",
       "      <td>0.0</td>\n",
       "    </tr>\n",
       "    <tr>\n",
       "      <th>128</th>\n",
       "      <td>10625.0</td>\n",
       "      <td>10000.0</td>\n",
       "      <td>625.0</td>\n",
       "    </tr>\n",
       "  </tbody>\n",
       "</table>\n",
       "</div>"
      ],
      "text/plain": [
       "     tuition_fees_20_21  tuition_20_21  fees_20_21\n",
       "79              78241.0        73200.0      5041.0\n",
       "89              13386.0        12984.0       402.0\n",
       "101             26200.0        26200.0         0.0\n",
       "109             18000.0        18000.0         0.0\n",
       "128             10625.0        10000.0       625.0"
      ]
     },
     "execution_count": 27,
     "metadata": {},
     "output_type": "execute_result"
    }
   ],
   "source": [
    "# check that in new col, where tuition_20_21 and fees_20_21 have values, the sum\n",
    "    # was assigned to the new column\n",
    "tuition_20_21_not_nan = schools_df.loc[~(schools_df.tuition_20_21.isna())]\n",
    "tuition_20_21_not_nan[['tuition_fees_20_21', 'tuition_20_21', 'fees_20_21']].tail()"
   ]
  },
  {
   "cell_type": "markdown",
   "id": "f00d980e",
   "metadata": {},
   "source": [
    "#### Consolidate tuition_fees_20_21 and tuition_fees columns since, based on webscraping, we know that they represent the same data stored in different places on school pages (thus, the decision to extract the data differently)"
   ]
  },
  {
   "cell_type": "code",
   "execution_count": 28,
   "id": "15f8563f",
   "metadata": {},
   "outputs": [],
   "source": [
    "schools_df['tuition_fees_20_21_fin'] = np.nan"
   ]
  },
  {
   "cell_type": "code",
   "execution_count": 29,
   "id": "7549c8e4",
   "metadata": {},
   "outputs": [],
   "source": [
    "schools_df.tuition_fees_20_21_fin.fillna(schools_df.tuition_fees, inplace=True)"
   ]
  },
  {
   "cell_type": "code",
   "execution_count": 30,
   "id": "5985b9d0",
   "metadata": {},
   "outputs": [],
   "source": [
    "schools_df.tuition_fees_20_21_fin.fillna(schools_df.tuition_fees_20_21, inplace=True)"
   ]
  },
  {
   "cell_type": "code",
   "execution_count": 31,
   "id": "b073f014",
   "metadata": {},
   "outputs": [
    {
     "data": {
      "text/html": [
       "<div>\n",
       "<style scoped>\n",
       "    .dataframe tbody tr th:only-of-type {\n",
       "        vertical-align: middle;\n",
       "    }\n",
       "\n",
       "    .dataframe tbody tr th {\n",
       "        vertical-align: top;\n",
       "    }\n",
       "\n",
       "    .dataframe thead th {\n",
       "        text-align: right;\n",
       "    }\n",
       "</style>\n",
       "<table border=\"1\" class=\"dataframe\">\n",
       "  <thead>\n",
       "    <tr style=\"text-align: right;\">\n",
       "      <th></th>\n",
       "      <th>tuition_fees_20_21_fin</th>\n",
       "      <th>tuition_fees_20_21</th>\n",
       "      <th>tuition_fees</th>\n",
       "    </tr>\n",
       "  </thead>\n",
       "  <tbody>\n",
       "    <tr>\n",
       "      <th>0</th>\n",
       "      <td>9700.0</td>\n",
       "      <td>NaN</td>\n",
       "      <td>9700.0</td>\n",
       "    </tr>\n",
       "    <tr>\n",
       "      <th>1</th>\n",
       "      <td>20760.0</td>\n",
       "      <td>NaN</td>\n",
       "      <td>20760.0</td>\n",
       "    </tr>\n",
       "    <tr>\n",
       "      <th>2</th>\n",
       "      <td>6250.0</td>\n",
       "      <td>NaN</td>\n",
       "      <td>6250.0</td>\n",
       "    </tr>\n",
       "    <tr>\n",
       "      <th>3</th>\n",
       "      <td>32404.0</td>\n",
       "      <td>NaN</td>\n",
       "      <td>32404.0</td>\n",
       "    </tr>\n",
       "    <tr>\n",
       "      <th>7</th>\n",
       "      <td>46486.0</td>\n",
       "      <td>NaN</td>\n",
       "      <td>46486.0</td>\n",
       "    </tr>\n",
       "  </tbody>\n",
       "</table>\n",
       "</div>"
      ],
      "text/plain": [
       "   tuition_fees_20_21_fin  tuition_fees_20_21  tuition_fees\n",
       "0                  9700.0                 NaN        9700.0\n",
       "1                 20760.0                 NaN       20760.0\n",
       "2                  6250.0                 NaN        6250.0\n",
       "3                 32404.0                 NaN       32404.0\n",
       "7                 46486.0                 NaN       46486.0"
      ]
     },
     "execution_count": 31,
     "metadata": {},
     "output_type": "execute_result"
    }
   ],
   "source": [
    "# check that in new col, where tuition_fees has a value, it was assigned to the new col\n",
    "tuition_fees_not_nan = schools_df.loc[~schools_df.tuition_fees.isna()]\n",
    "tuition_fees_not_nan[['tuition_fees_20_21_fin', 'tuition_fees_20_21', 'tuition_fees']].head()"
   ]
  },
  {
   "cell_type": "code",
   "execution_count": 32,
   "id": "14c2f8c3",
   "metadata": {},
   "outputs": [
    {
     "data": {
      "text/html": [
       "<div>\n",
       "<style scoped>\n",
       "    .dataframe tbody tr th:only-of-type {\n",
       "        vertical-align: middle;\n",
       "    }\n",
       "\n",
       "    .dataframe tbody tr th {\n",
       "        vertical-align: top;\n",
       "    }\n",
       "\n",
       "    .dataframe thead th {\n",
       "        text-align: right;\n",
       "    }\n",
       "</style>\n",
       "<table border=\"1\" class=\"dataframe\">\n",
       "  <thead>\n",
       "    <tr style=\"text-align: right;\">\n",
       "      <th></th>\n",
       "      <th>tuition_fees_20_21_fin</th>\n",
       "      <th>tuition_fees_20_21</th>\n",
       "      <th>tuition_fees</th>\n",
       "    </tr>\n",
       "  </thead>\n",
       "  <tbody>\n",
       "    <tr>\n",
       "      <th>4</th>\n",
       "      <td>20670.0</td>\n",
       "      <td>20670.0</td>\n",
       "      <td>NaN</td>\n",
       "    </tr>\n",
       "    <tr>\n",
       "      <th>5</th>\n",
       "      <td>18120.0</td>\n",
       "      <td>18120.0</td>\n",
       "      <td>NaN</td>\n",
       "    </tr>\n",
       "    <tr>\n",
       "      <th>6</th>\n",
       "      <td>22035.0</td>\n",
       "      <td>22035.0</td>\n",
       "      <td>NaN</td>\n",
       "    </tr>\n",
       "    <tr>\n",
       "      <th>9</th>\n",
       "      <td>26895.0</td>\n",
       "      <td>26895.0</td>\n",
       "      <td>NaN</td>\n",
       "    </tr>\n",
       "    <tr>\n",
       "      <th>10</th>\n",
       "      <td>9975.0</td>\n",
       "      <td>9975.0</td>\n",
       "      <td>NaN</td>\n",
       "    </tr>\n",
       "  </tbody>\n",
       "</table>\n",
       "</div>"
      ],
      "text/plain": [
       "    tuition_fees_20_21_fin  tuition_fees_20_21  tuition_fees\n",
       "4                  20670.0             20670.0           NaN\n",
       "5                  18120.0             18120.0           NaN\n",
       "6                  22035.0             22035.0           NaN\n",
       "9                  26895.0             26895.0           NaN\n",
       "10                  9975.0              9975.0           NaN"
      ]
     },
     "execution_count": 32,
     "metadata": {},
     "output_type": "execute_result"
    }
   ],
   "source": [
    "# check that in new col, where tuition_fees_20_21 has a value, it was assigned to the new col\n",
    "tuition_fees_20_21_not_nan = schools_df.loc[~schools_df.tuition_fees_20_21.isna()]\n",
    "tuition_fees_20_21_not_nan[['tuition_fees_20_21_fin', 'tuition_fees_20_21', 'tuition_fees']].head()"
   ]
  },
  {
   "cell_type": "code",
   "execution_count": 33,
   "id": "4aecda8c",
   "metadata": {},
   "outputs": [],
   "source": [
    "# drop tuition_fees, tuition_fees_20_21, fees_20_21 and tuition_20_21 columns\n",
    "schools_df.drop(['tuition_fees', 'tuition_fees_20_21', 'fees_20_21', 'tuition_20_21'],axis=1, inplace=True)"
   ]
  },
  {
   "cell_type": "markdown",
   "id": "4952ece6",
   "metadata": {},
   "source": [
    "#### Drop tuition_fees_19_20 column and any rows with nan in tuition_fees_20_21_fin (our target variable for the linear regression)"
   ]
  },
  {
   "cell_type": "code",
   "execution_count": 34,
   "id": "28a24bc4",
   "metadata": {},
   "outputs": [],
   "source": [
    "schools_df.drop(['tuition_fees_19_20'],axis=1, inplace=True)"
   ]
  },
  {
   "cell_type": "code",
   "execution_count": 35,
   "id": "d5617a3c",
   "metadata": {},
   "outputs": [],
   "source": [
    "schools_df.dropna(subset=['tuition_fees_20_21_fin'], inplace=True)"
   ]
  },
  {
   "cell_type": "code",
   "execution_count": 36,
   "id": "d77fa89d",
   "metadata": {},
   "outputs": [
    {
     "data": {
      "text/plain": [
       "(1323, 31)"
      ]
     },
     "execution_count": 36,
     "metadata": {},
     "output_type": "execute_result"
    }
   ],
   "source": [
    "schools_df.shape # by dropping nan in tuition_fees_20_21_fin, we lost 9 rows"
   ]
  },
  {
   "cell_type": "markdown",
   "id": "51b832ed",
   "metadata": {},
   "source": [
    "### Clean enrollment columns"
   ]
  },
  {
   "cell_type": "code",
   "execution_count": 37,
   "id": "2c9a7af4",
   "metadata": {},
   "outputs": [
    {
     "data": {
      "text/html": [
       "<div>\n",
       "<style scoped>\n",
       "    .dataframe tbody tr th:only-of-type {\n",
       "        vertical-align: middle;\n",
       "    }\n",
       "\n",
       "    .dataframe tbody tr th {\n",
       "        vertical-align: top;\n",
       "    }\n",
       "\n",
       "    .dataframe thead th {\n",
       "        text-align: right;\n",
       "    }\n",
       "</style>\n",
       "<table border=\"1\" class=\"dataframe\">\n",
       "  <thead>\n",
       "    <tr style=\"text-align: right;\">\n",
       "      <th></th>\n",
       "      <th>school</th>\n",
       "      <th>total_enroll</th>\n",
       "      <th>total_enroll_under</th>\n",
       "      <th>under_enroll</th>\n",
       "      <th>under_trans_enroll</th>\n",
       "      <th>grad_enroll</th>\n",
       "    </tr>\n",
       "  </thead>\n",
       "  <tbody>\n",
       "    <tr>\n",
       "      <th>365</th>\n",
       "      <td>Drake University</td>\n",
       "      <td>4774.0</td>\n",
       "      <td>NaN</td>\n",
       "      <td>2848.0</td>\n",
       "      <td>89.0</td>\n",
       "      <td>1926.0</td>\n",
       "    </tr>\n",
       "    <tr>\n",
       "      <th>45</th>\n",
       "      <td>Reformed University</td>\n",
       "      <td>168.0</td>\n",
       "      <td>NaN</td>\n",
       "      <td>152.0</td>\n",
       "      <td>39.0</td>\n",
       "      <td>16.0</td>\n",
       "    </tr>\n",
       "    <tr>\n",
       "      <th>177</th>\n",
       "      <td>College of Mount Saint Vincent</td>\n",
       "      <td>2663.0</td>\n",
       "      <td>NaN</td>\n",
       "      <td>2257.0</td>\n",
       "      <td>571.0</td>\n",
       "      <td>406.0</td>\n",
       "    </tr>\n",
       "    <tr>\n",
       "      <th>173</th>\n",
       "      <td>Monmouth College</td>\n",
       "      <td>NaN</td>\n",
       "      <td>860.0</td>\n",
       "      <td>NaN</td>\n",
       "      <td>24.0</td>\n",
       "      <td>NaN</td>\n",
       "    </tr>\n",
       "    <tr>\n",
       "      <th>28</th>\n",
       "      <td>Oakwood University</td>\n",
       "      <td>1374.0</td>\n",
       "      <td>NaN</td>\n",
       "      <td>1339.0</td>\n",
       "      <td>46.0</td>\n",
       "      <td>35.0</td>\n",
       "    </tr>\n",
       "    <tr>\n",
       "      <th>70</th>\n",
       "      <td>Landmark College</td>\n",
       "      <td>559.0</td>\n",
       "      <td>NaN</td>\n",
       "      <td>501.0</td>\n",
       "      <td>34.0</td>\n",
       "      <td>58.0</td>\n",
       "    </tr>\n",
       "    <tr>\n",
       "      <th>91</th>\n",
       "      <td>Compass College of Cinematic Arts</td>\n",
       "      <td>NaN</td>\n",
       "      <td>72.0</td>\n",
       "      <td>NaN</td>\n",
       "      <td>4.0</td>\n",
       "      <td>NaN</td>\n",
       "    </tr>\n",
       "    <tr>\n",
       "      <th>255</th>\n",
       "      <td>Maple Springs Baptist Bible College and Seminary</td>\n",
       "      <td>NaN</td>\n",
       "      <td>NaN</td>\n",
       "      <td>NaN</td>\n",
       "      <td>NaN</td>\n",
       "      <td>NaN</td>\n",
       "    </tr>\n",
       "    <tr>\n",
       "      <th>373</th>\n",
       "      <td>Huntsville Bible College</td>\n",
       "      <td>114.0</td>\n",
       "      <td>NaN</td>\n",
       "      <td>84.0</td>\n",
       "      <td>3.0</td>\n",
       "      <td>30.0</td>\n",
       "    </tr>\n",
       "    <tr>\n",
       "      <th>106</th>\n",
       "      <td>Eureka College</td>\n",
       "      <td>NaN</td>\n",
       "      <td>511.0</td>\n",
       "      <td>NaN</td>\n",
       "      <td>69.0</td>\n",
       "      <td>NaN</td>\n",
       "    </tr>\n",
       "  </tbody>\n",
       "</table>\n",
       "</div>"
      ],
      "text/plain": [
       "                                               school  total_enroll  \\\n",
       "365                                  Drake University        4774.0   \n",
       "45                                Reformed University         168.0   \n",
       "177                    College of Mount Saint Vincent        2663.0   \n",
       "173                                  Monmouth College           NaN   \n",
       "28                                 Oakwood University        1374.0   \n",
       "70                                   Landmark College         559.0   \n",
       "91                  Compass College of Cinematic Arts           NaN   \n",
       "255  Maple Springs Baptist Bible College and Seminary           NaN   \n",
       "373                          Huntsville Bible College         114.0   \n",
       "106                                    Eureka College           NaN   \n",
       "\n",
       "     total_enroll_under  under_enroll  under_trans_enroll  grad_enroll  \n",
       "365                 NaN        2848.0                89.0       1926.0  \n",
       "45                  NaN         152.0                39.0         16.0  \n",
       "177                 NaN        2257.0               571.0        406.0  \n",
       "173               860.0           NaN                24.0          NaN  \n",
       "28                  NaN        1339.0                46.0         35.0  \n",
       "70                  NaN         501.0                34.0         58.0  \n",
       "91                 72.0           NaN                 4.0          NaN  \n",
       "255                 NaN           NaN                 NaN          NaN  \n",
       "373                 NaN          84.0                 3.0         30.0  \n",
       "106               511.0           NaN                69.0          NaN  "
      ]
     },
     "execution_count": 37,
     "metadata": {},
     "output_type": "execute_result"
    }
   ],
   "source": [
    "schools_df[['school','total_enroll', 'total_enroll_under', 'under_enroll', 'under_trans_enroll', 'grad_enroll']].sample(10)"
   ]
  },
  {
   "cell_type": "code",
   "execution_count": 38,
   "id": "fdb82287",
   "metadata": {},
   "outputs": [],
   "source": [
    "schools_df['total_under_enroll'] = np.nan"
   ]
  },
  {
   "cell_type": "code",
   "execution_count": 39,
   "id": "29ddbff8",
   "metadata": {},
   "outputs": [],
   "source": [
    "schools_df['total_under_enroll'].fillna(schools_df.total_enroll_under, inplace=True)"
   ]
  },
  {
   "cell_type": "code",
   "execution_count": 40,
   "id": "bad33b76",
   "metadata": {},
   "outputs": [],
   "source": [
    "schools_df['total_under_enroll'].fillna(schools_df.under_enroll, inplace=True)"
   ]
  },
  {
   "cell_type": "code",
   "execution_count": 41,
   "id": "a640a71c",
   "metadata": {},
   "outputs": [
    {
     "data": {
      "text/html": [
       "<div>\n",
       "<style scoped>\n",
       "    .dataframe tbody tr th:only-of-type {\n",
       "        vertical-align: middle;\n",
       "    }\n",
       "\n",
       "    .dataframe tbody tr th {\n",
       "        vertical-align: top;\n",
       "    }\n",
       "\n",
       "    .dataframe thead th {\n",
       "        text-align: right;\n",
       "    }\n",
       "</style>\n",
       "<table border=\"1\" class=\"dataframe\">\n",
       "  <thead>\n",
       "    <tr style=\"text-align: right;\">\n",
       "      <th></th>\n",
       "      <th>total_under_enroll</th>\n",
       "      <th>total_enroll_under</th>\n",
       "      <th>under_enroll</th>\n",
       "    </tr>\n",
       "  </thead>\n",
       "  <tbody>\n",
       "    <tr>\n",
       "      <th>390</th>\n",
       "      <td>1802.0</td>\n",
       "      <td>1802.0</td>\n",
       "      <td>NaN</td>\n",
       "    </tr>\n",
       "    <tr>\n",
       "      <th>393</th>\n",
       "      <td>71.0</td>\n",
       "      <td>71.0</td>\n",
       "      <td>NaN</td>\n",
       "    </tr>\n",
       "    <tr>\n",
       "      <th>396</th>\n",
       "      <td>156.0</td>\n",
       "      <td>156.0</td>\n",
       "      <td>NaN</td>\n",
       "    </tr>\n",
       "    <tr>\n",
       "      <th>17</th>\n",
       "      <td>44481.0</td>\n",
       "      <td>44481.0</td>\n",
       "      <td>NaN</td>\n",
       "    </tr>\n",
       "    <tr>\n",
       "      <th>317</th>\n",
       "      <td>119.0</td>\n",
       "      <td>119.0</td>\n",
       "      <td>NaN</td>\n",
       "    </tr>\n",
       "  </tbody>\n",
       "</table>\n",
       "</div>"
      ],
      "text/plain": [
       "     total_under_enroll  total_enroll_under  under_enroll\n",
       "390              1802.0              1802.0           NaN\n",
       "393                71.0                71.0           NaN\n",
       "396               156.0               156.0           NaN\n",
       "17              44481.0             44481.0           NaN\n",
       "317               119.0               119.0           NaN"
      ]
     },
     "execution_count": 41,
     "metadata": {},
     "output_type": "execute_result"
    }
   ],
   "source": [
    "# check that in new col, where total_enroll_under has a value, it was assigned to the new col\n",
    "total_enroll_under_not_nan = schools_df.loc[~schools_df.total_enroll_under.isna()]\n",
    "total_enroll_under_not_nan[['total_under_enroll', 'total_enroll_under', 'under_enroll']].sample(5)"
   ]
  },
  {
   "cell_type": "code",
   "execution_count": 42,
   "id": "6cdac29a",
   "metadata": {},
   "outputs": [
    {
     "data": {
      "text/html": [
       "<div>\n",
       "<style scoped>\n",
       "    .dataframe tbody tr th:only-of-type {\n",
       "        vertical-align: middle;\n",
       "    }\n",
       "\n",
       "    .dataframe tbody tr th {\n",
       "        vertical-align: top;\n",
       "    }\n",
       "\n",
       "    .dataframe thead th {\n",
       "        text-align: right;\n",
       "    }\n",
       "</style>\n",
       "<table border=\"1\" class=\"dataframe\">\n",
       "  <thead>\n",
       "    <tr style=\"text-align: right;\">\n",
       "      <th></th>\n",
       "      <th>total_under_enroll</th>\n",
       "      <th>total_enroll_under</th>\n",
       "      <th>under_enroll</th>\n",
       "    </tr>\n",
       "  </thead>\n",
       "  <tbody>\n",
       "    <tr>\n",
       "      <th>66</th>\n",
       "      <td>1306.0</td>\n",
       "      <td>NaN</td>\n",
       "      <td>1306.0</td>\n",
       "    </tr>\n",
       "    <tr>\n",
       "      <th>218</th>\n",
       "      <td>1207.0</td>\n",
       "      <td>NaN</td>\n",
       "      <td>1207.0</td>\n",
       "    </tr>\n",
       "    <tr>\n",
       "      <th>236</th>\n",
       "      <td>1301.0</td>\n",
       "      <td>NaN</td>\n",
       "      <td>1301.0</td>\n",
       "    </tr>\n",
       "    <tr>\n",
       "      <th>272</th>\n",
       "      <td>1845.0</td>\n",
       "      <td>NaN</td>\n",
       "      <td>1845.0</td>\n",
       "    </tr>\n",
       "    <tr>\n",
       "      <th>254</th>\n",
       "      <td>722.0</td>\n",
       "      <td>NaN</td>\n",
       "      <td>722.0</td>\n",
       "    </tr>\n",
       "  </tbody>\n",
       "</table>\n",
       "</div>"
      ],
      "text/plain": [
       "     total_under_enroll  total_enroll_under  under_enroll\n",
       "66               1306.0                 NaN        1306.0\n",
       "218              1207.0                 NaN        1207.0\n",
       "236              1301.0                 NaN        1301.0\n",
       "272              1845.0                 NaN        1845.0\n",
       "254               722.0                 NaN         722.0"
      ]
     },
     "execution_count": 42,
     "metadata": {},
     "output_type": "execute_result"
    }
   ],
   "source": [
    "# check that in new col, where under_enroll has a value, it was assigned to the new col\n",
    "under_enroll_not_nan = schools_df.loc[~schools_df.under_enroll.isna()]\n",
    "under_enroll_not_nan[['total_under_enroll', 'total_enroll_under', 'under_enroll']].sample(5)"
   ]
  },
  {
   "cell_type": "code",
   "execution_count": 43,
   "id": "5e273072",
   "metadata": {},
   "outputs": [],
   "source": [
    "# drop total_enroll_under and under_enroll columns\n",
    "schools_df.drop(['total_enroll_under', 'under_enroll'],axis=1, inplace=True)"
   ]
  },
  {
   "cell_type": "code",
   "execution_count": 44,
   "id": "4ebffa51",
   "metadata": {},
   "outputs": [],
   "source": [
    "# drop total_enroll (i.e., the sum of under_enroll, under_trans_enroll, and grad_enroll, \n",
    "    # since not enough schools have grad programs to consider info about them \n",
    "schools_df.drop(['total_enroll', 'grad_enroll'], axis=1, inplace=True)"
   ]
  },
  {
   "cell_type": "markdown",
   "id": "e4577f0b",
   "metadata": {},
   "source": [
    "#### Investigate the 5 schools with nan in new total_under_enroll column and the under_trans_enroll column"
   ]
  },
  {
   "cell_type": "code",
   "execution_count": 45,
   "id": "0d1d0958",
   "metadata": {},
   "outputs": [
    {
     "data": {
      "text/html": [
       "<div>\n",
       "<style scoped>\n",
       "    .dataframe tbody tr th:only-of-type {\n",
       "        vertical-align: middle;\n",
       "    }\n",
       "\n",
       "    .dataframe tbody tr th {\n",
       "        vertical-align: top;\n",
       "    }\n",
       "\n",
       "    .dataframe thead th {\n",
       "        text-align: right;\n",
       "    }\n",
       "</style>\n",
       "<table border=\"1\" class=\"dataframe\">\n",
       "  <thead>\n",
       "    <tr style=\"text-align: right;\">\n",
       "      <th></th>\n",
       "      <th>school</th>\n",
       "      <th>total_under_enroll</th>\n",
       "      <th>under_trans_enroll</th>\n",
       "    </tr>\n",
       "  </thead>\n",
       "  <tbody>\n",
       "    <tr>\n",
       "      <th>24</th>\n",
       "      <td>Montana Bible College</td>\n",
       "      <td>NaN</td>\n",
       "      <td>NaN</td>\n",
       "    </tr>\n",
       "    <tr>\n",
       "      <th>257</th>\n",
       "      <td>Zaytuna College</td>\n",
       "      <td>NaN</td>\n",
       "      <td>NaN</td>\n",
       "    </tr>\n",
       "    <tr>\n",
       "      <th>308</th>\n",
       "      <td>Southwest University of Visual Arts-Tucson</td>\n",
       "      <td>NaN</td>\n",
       "      <td>NaN</td>\n",
       "    </tr>\n",
       "    <tr>\n",
       "      <th>341</th>\n",
       "      <td>Faith Theological Seminary and Christian College</td>\n",
       "      <td>NaN</td>\n",
       "      <td>NaN</td>\n",
       "    </tr>\n",
       "    <tr>\n",
       "      <th>255</th>\n",
       "      <td>Maple Springs Baptist Bible College and Seminary</td>\n",
       "      <td>NaN</td>\n",
       "      <td>NaN</td>\n",
       "    </tr>\n",
       "  </tbody>\n",
       "</table>\n",
       "</div>"
      ],
      "text/plain": [
       "                                               school  total_under_enroll  \\\n",
       "24                              Montana Bible College                 NaN   \n",
       "257                                   Zaytuna College                 NaN   \n",
       "308        Southwest University of Visual Arts-Tucson                 NaN   \n",
       "341  Faith Theological Seminary and Christian College                 NaN   \n",
       "255  Maple Springs Baptist Bible College and Seminary                 NaN   \n",
       "\n",
       "     under_trans_enroll  \n",
       "24                  NaN  \n",
       "257                 NaN  \n",
       "308                 NaN  \n",
       "341                 NaN  \n",
       "255                 NaN  "
      ]
     },
     "execution_count": 45,
     "metadata": {},
     "output_type": "execute_result"
    }
   ],
   "source": [
    "total_under_enroll_nan = schools_df.loc[(schools_df.total_under_enroll.isna()) & (schools_df.under_trans_enroll.isna())]\n",
    "total_under_enroll_nan[['school', 'total_under_enroll', 'under_trans_enroll']]"
   ]
  },
  {
   "cell_type": "markdown",
   "id": "381065e0",
   "metadata": {},
   "source": [
    "- Montana Bible College: according to NCES website, \"Data not available.\"\n",
    "- Zaytuna College: \" \"\n",
    "- Southwest University of Visual Arts-Tucson: \" \"\n",
    "- Faith Theological Seminary and Christian College: \" \"\n",
    "- Maple Springs Baptist Bible College and Seminary: according to NCES website, \"School failed to provide data and is subject to administrative action, including a fine or termination of eligibility to participate in federal student aid.\""
   ]
  },
  {
   "cell_type": "code",
   "execution_count": 46,
   "id": "6e6942df",
   "metadata": {},
   "outputs": [
    {
     "data": {
      "text/html": [
       "<div>\n",
       "<style scoped>\n",
       "    .dataframe tbody tr th:only-of-type {\n",
       "        vertical-align: middle;\n",
       "    }\n",
       "\n",
       "    .dataframe tbody tr th {\n",
       "        vertical-align: top;\n",
       "    }\n",
       "\n",
       "    .dataframe thead th {\n",
       "        text-align: right;\n",
       "    }\n",
       "</style>\n",
       "<table border=\"1\" class=\"dataframe\">\n",
       "  <thead>\n",
       "    <tr style=\"text-align: right;\">\n",
       "      <th></th>\n",
       "      <th>school</th>\n",
       "      <th>raw_stu_to_fac_ratio</th>\n",
       "      <th>books_supplies_19_20</th>\n",
       "      <th>books_supplies</th>\n",
       "      <th>ft_faculty</th>\n",
       "      <th>pt_faculty</th>\n",
       "      <th>avg_amt_grant_schol_aid_beg_under_19_20</th>\n",
       "      <th>perc_grant_schol_aid_beg_under_19_20</th>\n",
       "      <th>avg_amt_grant_schol_aid_all_under_19_20</th>\n",
       "      <th>under_trans_enroll</th>\n",
       "      <th>under_apps</th>\n",
       "      <th>perc_admitted</th>\n",
       "      <th>sat_scores_submit</th>\n",
       "      <th>perc_sat_scores_submit</th>\n",
       "      <th>act_scores_submit</th>\n",
       "    </tr>\n",
       "  </thead>\n",
       "  <tbody>\n",
       "    <tr>\n",
       "      <th>24</th>\n",
       "      <td>Montana Bible College</td>\n",
       "      <td>NaN</td>\n",
       "      <td>300.0</td>\n",
       "      <td>300.0</td>\n",
       "      <td>NaN</td>\n",
       "      <td>NaN</td>\n",
       "      <td>NaN</td>\n",
       "      <td>15.0</td>\n",
       "      <td>582.0</td>\n",
       "      <td>NaN</td>\n",
       "      <td>28.0</td>\n",
       "      <td>79.0</td>\n",
       "      <td>NaN</td>\n",
       "      <td>NaN</td>\n",
       "      <td>NaN</td>\n",
       "    </tr>\n",
       "    <tr>\n",
       "      <th>257</th>\n",
       "      <td>Zaytuna College</td>\n",
       "      <td>NaN</td>\n",
       "      <td>NaN</td>\n",
       "      <td>200.0</td>\n",
       "      <td>NaN</td>\n",
       "      <td>NaN</td>\n",
       "      <td>NaN</td>\n",
       "      <td>NaN</td>\n",
       "      <td>NaN</td>\n",
       "      <td>NaN</td>\n",
       "      <td>NaN</td>\n",
       "      <td>NaN</td>\n",
       "      <td>NaN</td>\n",
       "      <td>NaN</td>\n",
       "      <td>NaN</td>\n",
       "    </tr>\n",
       "    <tr>\n",
       "      <th>308</th>\n",
       "      <td>Southwest University of Visual Arts-Tucson</td>\n",
       "      <td>NaN</td>\n",
       "      <td>1000.0</td>\n",
       "      <td>1038.0</td>\n",
       "      <td>NaN</td>\n",
       "      <td>NaN</td>\n",
       "      <td>NaN</td>\n",
       "      <td>NaN</td>\n",
       "      <td>NaN</td>\n",
       "      <td>NaN</td>\n",
       "      <td>NaN</td>\n",
       "      <td>NaN</td>\n",
       "      <td>NaN</td>\n",
       "      <td>NaN</td>\n",
       "      <td>NaN</td>\n",
       "    </tr>\n",
       "    <tr>\n",
       "      <th>341</th>\n",
       "      <td>Faith Theological Seminary and Christian College</td>\n",
       "      <td>NaN</td>\n",
       "      <td>300.0</td>\n",
       "      <td>300.0</td>\n",
       "      <td>NaN</td>\n",
       "      <td>NaN</td>\n",
       "      <td>NaN</td>\n",
       "      <td>NaN</td>\n",
       "      <td>NaN</td>\n",
       "      <td>NaN</td>\n",
       "      <td>NaN</td>\n",
       "      <td>NaN</td>\n",
       "      <td>NaN</td>\n",
       "      <td>NaN</td>\n",
       "      <td>NaN</td>\n",
       "    </tr>\n",
       "    <tr>\n",
       "      <th>255</th>\n",
       "      <td>Maple Springs Baptist Bible College and Seminary</td>\n",
       "      <td>NaN</td>\n",
       "      <td>260.0</td>\n",
       "      <td>260.0</td>\n",
       "      <td>1.0</td>\n",
       "      <td>8.0</td>\n",
       "      <td>1500.0</td>\n",
       "      <td>3.0</td>\n",
       "      <td>1500.0</td>\n",
       "      <td>NaN</td>\n",
       "      <td>NaN</td>\n",
       "      <td>NaN</td>\n",
       "      <td>NaN</td>\n",
       "      <td>NaN</td>\n",
       "      <td>NaN</td>\n",
       "    </tr>\n",
       "  </tbody>\n",
       "</table>\n",
       "</div>"
      ],
      "text/plain": [
       "                                               school raw_stu_to_fac_ratio  \\\n",
       "24                              Montana Bible College                  NaN   \n",
       "257                                   Zaytuna College                  NaN   \n",
       "308        Southwest University of Visual Arts-Tucson                  NaN   \n",
       "341  Faith Theological Seminary and Christian College                  NaN   \n",
       "255  Maple Springs Baptist Bible College and Seminary                  NaN   \n",
       "\n",
       "     books_supplies_19_20  books_supplies  ft_faculty  pt_faculty  \\\n",
       "24                  300.0           300.0         NaN         NaN   \n",
       "257                   NaN           200.0         NaN         NaN   \n",
       "308                1000.0          1038.0         NaN         NaN   \n",
       "341                 300.0           300.0         NaN         NaN   \n",
       "255                 260.0           260.0         1.0         8.0   \n",
       "\n",
       "     avg_amt_grant_schol_aid_beg_under_19_20  \\\n",
       "24                                       NaN   \n",
       "257                                      NaN   \n",
       "308                                      NaN   \n",
       "341                                      NaN   \n",
       "255                                   1500.0   \n",
       "\n",
       "     perc_grant_schol_aid_beg_under_19_20  \\\n",
       "24                                   15.0   \n",
       "257                                   NaN   \n",
       "308                                   NaN   \n",
       "341                                   NaN   \n",
       "255                                   3.0   \n",
       "\n",
       "     avg_amt_grant_schol_aid_all_under_19_20  under_trans_enroll  under_apps  \\\n",
       "24                                     582.0                 NaN        28.0   \n",
       "257                                      NaN                 NaN         NaN   \n",
       "308                                      NaN                 NaN         NaN   \n",
       "341                                      NaN                 NaN         NaN   \n",
       "255                                   1500.0                 NaN         NaN   \n",
       "\n",
       "     perc_admitted  sat_scores_submit  perc_sat_scores_submit  \\\n",
       "24            79.0                NaN                     NaN   \n",
       "257            NaN                NaN                     NaN   \n",
       "308            NaN                NaN                     NaN   \n",
       "341            NaN                NaN                     NaN   \n",
       "255            NaN                NaN                     NaN   \n",
       "\n",
       "     act_scores_submit  \n",
       "24                 NaN  \n",
       "257                NaN  \n",
       "308                NaN  \n",
       "341                NaN  \n",
       "255                NaN  "
      ]
     },
     "execution_count": 46,
     "metadata": {},
     "output_type": "execute_result"
    }
   ],
   "source": [
    "# look at other columns for these schools to see if they are worth keeping in for other \n",
    "    # info besides enrollment data\n",
    "total_under_enroll_nan.iloc[:,:15]"
   ]
  },
  {
   "cell_type": "code",
   "execution_count": 47,
   "id": "edad3f6f",
   "metadata": {},
   "outputs": [
    {
     "data": {
      "text/html": [
       "<div>\n",
       "<style scoped>\n",
       "    .dataframe tbody tr th:only-of-type {\n",
       "        vertical-align: middle;\n",
       "    }\n",
       "\n",
       "    .dataframe tbody tr th {\n",
       "        vertical-align: top;\n",
       "    }\n",
       "\n",
       "    .dataframe thead th {\n",
       "        text-align: right;\n",
       "    }\n",
       "</style>\n",
       "<table border=\"1\" class=\"dataframe\">\n",
       "  <thead>\n",
       "    <tr style=\"text-align: right;\">\n",
       "      <th></th>\n",
       "      <th>perc_act_scores_submit</th>\n",
       "      <th>sat_read_write_25_perc</th>\n",
       "      <th>sat_read_write_75_perc</th>\n",
       "      <th>sat_math_25_perc</th>\n",
       "      <th>sat_math_75_perc</th>\n",
       "      <th>act_comp_25_perc</th>\n",
       "      <th>act_comp_75_perc</th>\n",
       "      <th>act_eng_25_perc</th>\n",
       "      <th>act_eng_75_perc</th>\n",
       "      <th>act_math_25_perc</th>\n",
       "      <th>act_math_75_perc</th>\n",
       "      <th>tuition_fees_20_21_fin</th>\n",
       "      <th>total_under_enroll</th>\n",
       "    </tr>\n",
       "  </thead>\n",
       "  <tbody>\n",
       "    <tr>\n",
       "      <th>24</th>\n",
       "      <td>NaN</td>\n",
       "      <td>NaN</td>\n",
       "      <td>NaN</td>\n",
       "      <td>NaN</td>\n",
       "      <td>NaN</td>\n",
       "      <td>NaN</td>\n",
       "      <td>NaN</td>\n",
       "      <td>NaN</td>\n",
       "      <td>NaN</td>\n",
       "      <td>NaN</td>\n",
       "      <td>NaN</td>\n",
       "      <td>9040.0</td>\n",
       "      <td>NaN</td>\n",
       "    </tr>\n",
       "    <tr>\n",
       "      <th>257</th>\n",
       "      <td>NaN</td>\n",
       "      <td>NaN</td>\n",
       "      <td>NaN</td>\n",
       "      <td>NaN</td>\n",
       "      <td>NaN</td>\n",
       "      <td>NaN</td>\n",
       "      <td>NaN</td>\n",
       "      <td>NaN</td>\n",
       "      <td>NaN</td>\n",
       "      <td>NaN</td>\n",
       "      <td>NaN</td>\n",
       "      <td>19250.0</td>\n",
       "      <td>NaN</td>\n",
       "    </tr>\n",
       "    <tr>\n",
       "      <th>308</th>\n",
       "      <td>NaN</td>\n",
       "      <td>NaN</td>\n",
       "      <td>NaN</td>\n",
       "      <td>NaN</td>\n",
       "      <td>NaN</td>\n",
       "      <td>NaN</td>\n",
       "      <td>NaN</td>\n",
       "      <td>NaN</td>\n",
       "      <td>NaN</td>\n",
       "      <td>NaN</td>\n",
       "      <td>NaN</td>\n",
       "      <td>23069.0</td>\n",
       "      <td>NaN</td>\n",
       "    </tr>\n",
       "    <tr>\n",
       "      <th>341</th>\n",
       "      <td>NaN</td>\n",
       "      <td>NaN</td>\n",
       "      <td>NaN</td>\n",
       "      <td>NaN</td>\n",
       "      <td>NaN</td>\n",
       "      <td>NaN</td>\n",
       "      <td>NaN</td>\n",
       "      <td>NaN</td>\n",
       "      <td>NaN</td>\n",
       "      <td>NaN</td>\n",
       "      <td>NaN</td>\n",
       "      <td>1520.0</td>\n",
       "      <td>NaN</td>\n",
       "    </tr>\n",
       "    <tr>\n",
       "      <th>255</th>\n",
       "      <td>NaN</td>\n",
       "      <td>NaN</td>\n",
       "      <td>NaN</td>\n",
       "      <td>NaN</td>\n",
       "      <td>NaN</td>\n",
       "      <td>NaN</td>\n",
       "      <td>NaN</td>\n",
       "      <td>NaN</td>\n",
       "      <td>NaN</td>\n",
       "      <td>NaN</td>\n",
       "      <td>NaN</td>\n",
       "      <td>5400.0</td>\n",
       "      <td>NaN</td>\n",
       "    </tr>\n",
       "  </tbody>\n",
       "</table>\n",
       "</div>"
      ],
      "text/plain": [
       "     perc_act_scores_submit  sat_read_write_25_perc  sat_read_write_75_perc  \\\n",
       "24                      NaN                     NaN                     NaN   \n",
       "257                     NaN                     NaN                     NaN   \n",
       "308                     NaN                     NaN                     NaN   \n",
       "341                     NaN                     NaN                     NaN   \n",
       "255                     NaN                     NaN                     NaN   \n",
       "\n",
       "     sat_math_25_perc  sat_math_75_perc  act_comp_25_perc  act_comp_75_perc  \\\n",
       "24                NaN               NaN               NaN               NaN   \n",
       "257               NaN               NaN               NaN               NaN   \n",
       "308               NaN               NaN               NaN               NaN   \n",
       "341               NaN               NaN               NaN               NaN   \n",
       "255               NaN               NaN               NaN               NaN   \n",
       "\n",
       "     act_eng_25_perc  act_eng_75_perc  act_math_25_perc  act_math_75_perc  \\\n",
       "24               NaN              NaN               NaN               NaN   \n",
       "257              NaN              NaN               NaN               NaN   \n",
       "308              NaN              NaN               NaN               NaN   \n",
       "341              NaN              NaN               NaN               NaN   \n",
       "255              NaN              NaN               NaN               NaN   \n",
       "\n",
       "     tuition_fees_20_21_fin  total_under_enroll  \n",
       "24                   9040.0                 NaN  \n",
       "257                 19250.0                 NaN  \n",
       "308                 23069.0                 NaN  \n",
       "341                  1520.0                 NaN  \n",
       "255                  5400.0                 NaN  "
      ]
     },
     "execution_count": 47,
     "metadata": {},
     "output_type": "execute_result"
    }
   ],
   "source": [
    "total_under_enroll_nan.iloc[:,15:]"
   ]
  },
  {
   "cell_type": "code",
   "execution_count": 48,
   "id": "ff9a69a1",
   "metadata": {},
   "outputs": [],
   "source": [
    "# drop Zaytuna College, Southwest University of Visual Arts-Tucson, and \n",
    "    # Faith Theological Seminary and Christian College, since the only feature for which\n",
    "    # they have data is the price of books and supplies in 20-21\n",
    "schools_drop_no_enroll_data = ['Zaytuna College', 'Southwest University of Visual Arts-Tucson',\n",
    "                              'Faith Theological Seminary and Christian College']\n",
    "schools_df = schools_df[schools_df.school.isin(schools_drop_no_enroll_data) == False]"
   ]
  },
  {
   "cell_type": "markdown",
   "id": "5e2d8470",
   "metadata": {},
   "source": [
    "#### Look at summary statistics of total_under_enroll column and its distribution to determine what values to assign the other two schools with missing datda in the total_under_enroll column"
   ]
  },
  {
   "cell_type": "code",
   "execution_count": 49,
   "id": "3ad1e426",
   "metadata": {},
   "outputs": [
    {
     "data": {
      "text/html": [
       "<div>\n",
       "<style scoped>\n",
       "    .dataframe tbody tr th:only-of-type {\n",
       "        vertical-align: middle;\n",
       "    }\n",
       "\n",
       "    .dataframe tbody tr th {\n",
       "        vertical-align: top;\n",
       "    }\n",
       "\n",
       "    .dataframe thead th {\n",
       "        text-align: right;\n",
       "    }\n",
       "</style>\n",
       "<table border=\"1\" class=\"dataframe\">\n",
       "  <thead>\n",
       "    <tr style=\"text-align: right;\">\n",
       "      <th></th>\n",
       "      <th>total_under_enroll</th>\n",
       "    </tr>\n",
       "  </thead>\n",
       "  <tbody>\n",
       "    <tr>\n",
       "      <th>count</th>\n",
       "      <td>1318.000000</td>\n",
       "    </tr>\n",
       "    <tr>\n",
       "      <th>mean</th>\n",
       "      <td>2055.184370</td>\n",
       "    </tr>\n",
       "    <tr>\n",
       "      <th>std</th>\n",
       "      <td>5229.104645</td>\n",
       "    </tr>\n",
       "    <tr>\n",
       "      <th>min</th>\n",
       "      <td>2.000000</td>\n",
       "    </tr>\n",
       "    <tr>\n",
       "      <th>25%</th>\n",
       "      <td>365.000000</td>\n",
       "    </tr>\n",
       "    <tr>\n",
       "      <th>50%</th>\n",
       "      <td>1107.000000</td>\n",
       "    </tr>\n",
       "    <tr>\n",
       "      <th>75%</th>\n",
       "      <td>2160.500000</td>\n",
       "    </tr>\n",
       "    <tr>\n",
       "      <th>max</th>\n",
       "      <td>111599.000000</td>\n",
       "    </tr>\n",
       "  </tbody>\n",
       "</table>\n",
       "</div>"
      ],
      "text/plain": [
       "       total_under_enroll\n",
       "count         1318.000000\n",
       "mean          2055.184370\n",
       "std           5229.104645\n",
       "min              2.000000\n",
       "25%            365.000000\n",
       "50%           1107.000000\n",
       "75%           2160.500000\n",
       "max         111599.000000"
      ]
     },
     "execution_count": 49,
     "metadata": {},
     "output_type": "execute_result"
    }
   ],
   "source": [
    "schools_df[['total_under_enroll']].describe()"
   ]
  },
  {
   "cell_type": "code",
   "execution_count": 50,
   "id": "206d6a0b",
   "metadata": {},
   "outputs": [
    {
     "data": {
      "text/plain": [
       "<AxesSubplot:xlabel='total_under_enroll', ylabel='Count'>"
      ]
     },
     "execution_count": 50,
     "metadata": {},
     "output_type": "execute_result"
    },
    {
     "data": {
      "image/png": "[encoded data removed]",
      "text/plain": [
       "<Figure size 432x288 with 1 Axes>"
      ]
     },
     "metadata": {
      "needs_background": "light"
     },
     "output_type": "display_data"
    }
   ],
   "source": [
    "sns.histplot(schools_df.total_under_enroll)"
   ]
  },
  {
   "cell_type": "code",
   "execution_count": 51,
   "id": "a6f536ec",
   "metadata": {},
   "outputs": [
    {
     "name": "stderr",
     "output_type": "stream",
     "text": [
      "/opt/anaconda3/envs/metis/lib/python3.8/site-packages/seaborn/_decorators.py:36: FutureWarning: Pass the following variable as a keyword arg: x. From version 0.12, the only valid positional argument will be `data`, and passing other arguments without an explicit keyword will result in an error or misinterpretation.\n",
      "  warnings.warn(\n"
     ]
    },
    {
     "data": {
      "text/plain": [
       "<AxesSubplot:xlabel='total_under_enroll'>"
      ]
     },
     "execution_count": 51,
     "metadata": {},
     "output_type": "execute_result"
    },
    {
     "data": {
      "image/png": "[encoded data removed]",
      "text/plain": [
       "<Figure size 432x288 with 1 Axes>"
      ]
     },
     "metadata": {
      "needs_background": "light"
     },
     "output_type": "display_data"
    }
   ],
   "source": [
    "sns.boxplot(schools_df.total_under_enroll)"
   ]
  },
  {
   "cell_type": "markdown",
   "id": "b0a8629f",
   "metadata": {},
   "source": [
    "#### Since there are many outliers in the total_under_enroll column, assign the median of that column to the two schools missing data in that column"
   ]
  },
  {
   "cell_type": "code",
   "execution_count": 52,
   "id": "8438ad3d",
   "metadata": {},
   "outputs": [],
   "source": [
    "total_under_enroll_med = schools_df['total_under_enroll'].median()\n",
    "schools_df.total_under_enroll.fillna(total_under_enroll_med, inplace=True)"
   ]
  },
  {
   "cell_type": "code",
   "execution_count": 53,
   "id": "58255f6f",
   "metadata": {},
   "outputs": [
    {
     "name": "stdout",
     "output_type": "stream",
     "text": [
      "<class 'pandas.core.frame.DataFrame'>\n",
      "Int64Index: 1320 entries, 0 to 131\n",
      "Data columns (total 28 columns):\n",
      " #   Column                                   Non-Null Count  Dtype  \n",
      "---  ------                                   --------------  -----  \n",
      " 0   school                                   1320 non-null   object \n",
      " 1   raw_stu_to_fac_ratio                     1318 non-null   object \n",
      " 2   books_supplies_19_20                     1204 non-null   float64\n",
      " 3   books_supplies                           1208 non-null   float64\n",
      " 4   ft_faculty                               1309 non-null   float64\n",
      " 5   pt_faculty                               1309 non-null   float64\n",
      " 6   avg_amt_grant_schol_aid_beg_under_19_20  1276 non-null   float64\n",
      " 7   perc_grant_schol_aid_beg_under_19_20     1315 non-null   float64\n",
      " 8   avg_amt_grant_schol_aid_all_under_19_20  1313 non-null   float64\n",
      " 9   under_trans_enroll                       1318 non-null   float64\n",
      " 10  under_apps                               1086 non-null   float64\n",
      " 11  perc_admitted                            1086 non-null   float64\n",
      " 12  sat_scores_submit                        650 non-null    float64\n",
      " 13  perc_sat_scores_submit                   650 non-null    float64\n",
      " 14  act_scores_submit                        660 non-null    float64\n",
      " 15  perc_act_scores_submit                   660 non-null    float64\n",
      " 16  sat_read_write_25_perc                   640 non-null    float64\n",
      " 17  sat_read_write_75_perc                   640 non-null    float64\n",
      " 18  sat_math_25_perc                         640 non-null    float64\n",
      " 19  sat_math_75_perc                         640 non-null    float64\n",
      " 20  act_comp_25_perc                         655 non-null    float64\n",
      " 21  act_comp_75_perc                         655 non-null    float64\n",
      " 22  act_eng_25_perc                          615 non-null    float64\n",
      " 23  act_eng_75_perc                          615 non-null    float64\n",
      " 24  act_math_25_perc                         615 non-null    float64\n",
      " 25  act_math_75_perc                         615 non-null    float64\n",
      " 26  tuition_fees_20_21_fin                   1320 non-null   float64\n",
      " 27  total_under_enroll                       1320 non-null   float64\n",
      "dtypes: float64(26), object(2)\n",
      "memory usage: 299.1+ KB\n"
     ]
    }
   ],
   "source": [
    "schools_df.info()"
   ]
  },
  {
   "cell_type": "markdown",
   "id": "3a37937c",
   "metadata": {},
   "source": [
    "### Clean student-to-faculty ratio column"
   ]
  },
  {
   "cell_type": "code",
   "execution_count": 54,
   "id": "28c47882",
   "metadata": {},
   "outputs": [
    {
     "data": {
      "text/plain": [
       "12 to 1                                                                                                                                                                                                                                   168\n",
       "11 to 1                                                                                                                                                                                                                                   152\n",
       "10 to 1                                                                                                                                                                                                                                   135\n",
       "13 to 1                                                                                                                                                                                                                                   127\n",
       "14 to 1                                                                                                                                                                                                                                   112\n",
       "9 to 1                                                                                                                                                                                                                                    106\n",
       "15 to 1                                                                                                                                                                                                                                    86\n",
       "8 to 1                                                                                                                                                                                                                                     82\n",
       "7 to 1                                                                                                                                                                                                                                     49\n",
       "6 to 1                                                                                                                                                                                                                                     49\n",
       "16 to 1                                                                                                                                                                                                                                    41\n",
       "17 to 1                                                                                                                                                                                                                                    35\n",
       "5 to 1                                                                                                                                                                                                                                     33\n",
       "4 to 1                                                                                                                                                                                                                                     21\n",
       "20 to 1                                                                                                                                                                                                                                    20\n",
       "18 to 1                                                                                                                                                                                                                                    19\n",
       "19 to 1                                                                                                                                                                                                                                    19\n",
       "3 to 1                                                                                                                                                                                                                                     12\n",
       "2 to 1                                                                                                                                                                                                                                     11\n",
       "22 to 1                                                                                                                                                                                                                                     6\n",
       "21 to 1                                                                                                                                                                                                                                     6\n",
       "23 to 1                                                                                                                                                                                                                                     5\n",
       "26 to 1                                                                                                                                                                                                                                     4\n",
       "28 to 1                                                                                                                                                                                                                                     3\n",
       "27 to 1                                                                                                                                                                                                                                     2\n",
       "1 to 1                                                                                                                                                                                                                                      2\n",
       "25 to 1                                                                                                                                                                                                                                     2\n",
       "12 to 1View noteThe reduction in the student faculty ratio is directly related to the COVID-19 pandemic which reduced the number of students who were enrolled in the fall 2020 semester.                                                   1\n",
       "4 to 1View notePlease interpret these data in the context of the COVID-19 pandemic, which has created some anomalies and fluctuations in enrollment and related statistics.                                                                 1\n",
       "40 to 1                                                                                                                                                                                                                                     1\n",
       "21 to 1View noteThe 21:1 student to faculty ratio is inclusive of the entire University, which includes the online population. The main campus which serves traditional undergraduate students had a student to faculty ratio of 12:1.      1\n",
       "35 to 1                                                                                                                                                                                                                                     1\n",
       "33 to 1                                                                                                                                                                                                                                     1\n",
       "3 to 1View noteThe institution had a significant decrease in enrollment for the 2020-21 year, while retaining its full-time faculty.                                                                                                        1\n",
       "13 to 1View noteDue to the COVID-19 pandemic, USD's undergraduate enrollment for Fall 2020 was lower than in previous fall terms resulting in a lower student-to-faculty ratio.                                                             1\n",
       "42 to 1                                                                                                                                                                                                                                     1\n",
       "30 to 1                                                                                                                                                                                                                                     1\n",
       "31 to 1                                                                                                                                                                                                                                     1\n",
       "Name: raw_stu_to_fac_ratio, dtype: int64"
      ]
     },
     "execution_count": 54,
     "metadata": {},
     "output_type": "execute_result"
    }
   ],
   "source": [
    "# look at values in raw_stu_to_fac_ratio\n",
    "schools_df['raw_stu_to_fac_ratio'].value_counts()"
   ]
  },
  {
   "cell_type": "code",
   "execution_count": 55,
   "id": "92bc775b",
   "metadata": {},
   "outputs": [
    {
     "data": {
      "text/plain": [
       "array(['6 to 1', '8 to 1', '4 to 1', '5 to 1', '7 to 1', '3 to 1',\n",
       "       '10 to 1', '11 to 1', '9 to 1', '14 to 1', '2 to 1', '16 to 1',\n",
       "       '21 to 1', '20 to 1', '15 to 1', '33 to 1', nan, '12 to 1',\n",
       "       '18 to 1', '13 to 1', '26 to 1', '19 to 1', '22 to 1', '23 to 1',\n",
       "       '17 to 1', '1 to 1',\n",
       "       '3 to 1View noteThe institution had a significant decrease in enrollment for the 2020-21 year, while retaining its full-time faculty.',\n",
       "       \"13 to 1View noteDue to the COVID-19 pandemic, USD's undergraduate enrollment for Fall 2020 was lower than in previous fall terms resulting in a lower student-to-faculty ratio.\",\n",
       "       '42 to 1', '28 to 1',\n",
       "       '4 to 1View notePlease interpret these data in the context of the COVID-19 pandemic, which has created some anomalies and fluctuations in enrollment and related statistics.',\n",
       "       '25 to 1', '31 to 1', '30 to 1', '40 to 1', '35 to 1', '27 to 1',\n",
       "       '12 to 1View noteThe reduction in the student faculty ratio is directly related to the COVID-19 pandemic which reduced the number of students who were enrolled in the fall 2020 semester.',\n",
       "       '21 to 1View noteThe 21:1 student to faculty ratio is inclusive of the entire University, which includes the online population. The main campus which serves traditional undergraduate students had a student to faculty ratio of 12:1.'],\n",
       "      dtype=object)"
      ]
     },
     "execution_count": 55,
     "metadata": {},
     "output_type": "execute_result"
    }
   ],
   "source": [
    "# look at unique values in raw_stu_to_fac_ratio column to see if there's extra white space\n",
    "schools_df['raw_stu_to_fac_ratio'].unique()"
   ]
  },
  {
   "cell_type": "code",
   "execution_count": 56,
   "id": "9a5481bf",
   "metadata": {},
   "outputs": [],
   "source": [
    "# create a list containing the str value in the column raw_stu_to_fac_ratio\n",
    "stu_to_fac_ratio_ls = [row for row in schools_df['raw_stu_to_fac_ratio'].astype(str)]"
   ]
  },
  {
   "cell_type": "code",
   "execution_count": 57,
   "id": "28703b90",
   "metadata": {},
   "outputs": [],
   "source": [
    "# split each str value in the list into a list, so there are inner lists, one per str\n",
    "stu_to_fac_ratio_ls = [ele.split(' ') for ele in stu_to_fac_ratio_ls]"
   ]
  },
  {
   "cell_type": "code",
   "execution_count": 58,
   "id": "605c7a3f",
   "metadata": {},
   "outputs": [
    {
     "name": "stdout",
     "output_type": "stream",
     "text": [
      "['6', 'to', '1']\n",
      "1\n"
     ]
    }
   ],
   "source": [
    "print(stu_to_fac_ratio_ls[0])\n",
    "print(stu_to_fac_ratio_ls[0][2][0])"
   ]
  },
  {
   "cell_type": "code",
   "execution_count": 59,
   "id": "8e54fd2a",
   "metadata": {},
   "outputs": [
    {
     "name": "stdout",
     "output_type": "stream",
     "text": [
      "['nan']\n",
      "['nan']\n"
     ]
    }
   ],
   "source": [
    "for lst in stu_to_fac_ratio_ls:\n",
    "    if len(lst) == 1:\n",
    "        print(lst)"
   ]
  },
  {
   "cell_type": "code",
   "execution_count": 60,
   "id": "41f2fd5f",
   "metadata": {},
   "outputs": [],
   "source": [
    "# create a list that keeps just the first three elements in each inner list\n",
    "stu_to_fac_ratio_ls_rev = [ls[:3] for ls in stu_to_fac_ratio_ls] "
   ]
  },
  {
   "cell_type": "code",
   "execution_count": 61,
   "id": "35988352",
   "metadata": {},
   "outputs": [
    {
     "name": "stdout",
     "output_type": "stream",
     "text": [
      "['nan']\n",
      "['nan']\n"
     ]
    }
   ],
   "source": [
    "for lst in stu_to_fac_ratio_ls_rev:\n",
    "    if len(lst) == 1:\n",
    "        print(lst)"
   ]
  },
  {
   "cell_type": "code",
   "execution_count": 62,
   "id": "0a3e5c5d",
   "metadata": {},
   "outputs": [],
   "source": [
    "# loop through the new list to find the indices of the inner lists whose third element\n",
    "    # is of length greater than one\n",
    "\n",
    "indices = []\n",
    "\n",
    "for i in range(0, len(stu_to_fac_ratio_ls_rev)):\n",
    "    if len(stu_to_fac_ratio_ls_rev[i]) > 1:\n",
    "        if len(stu_to_fac_ratio_ls_rev[i][2]) > 1:\n",
    "            indices.append(i)"
   ]
  },
  {
   "cell_type": "code",
   "execution_count": 63,
   "id": "28a192ea",
   "metadata": {},
   "outputs": [
    {
     "name": "stdout",
     "output_type": "stream",
     "text": [
      "['3', 'to', '1View']\n",
      "['13', 'to', '1View']\n",
      "['4', 'to', '1View']\n",
      "['12', 'to', '1View']\n",
      "['21', 'to', '1View']\n"
     ]
    }
   ],
   "source": [
    "# print out the lists whose third element is of length greater than one\n",
    "\n",
    "for i in indices:\n",
    "    print(stu_to_fac_ratio_ls_rev[i])"
   ]
  },
  {
   "cell_type": "code",
   "execution_count": 64,
   "id": "84187285",
   "metadata": {},
   "outputs": [],
   "source": [
    "# create a final list that fixes inner lists whose third element has 'View' in it\n",
    "\n",
    "stu_to_fac_ratio_ls_rev_2 = []\n",
    "\n",
    "for i in range(0, len(stu_to_fac_ratio_ls_rev)):\n",
    "    if i in indices:\n",
    "        first_char = stu_to_fac_ratio_ls_rev[i][0]\n",
    "        second_char = stu_to_fac_ratio_ls_rev[i][1]\n",
    "        third_char = stu_to_fac_ratio_ls_rev[i][2].replace('1View','1')\n",
    "        stu_to_fac_ratio_ls_rev_2.append([first_char, second_char, third_char])\n",
    "    else:\n",
    "        stu_to_fac_ratio_ls_rev_2.append(stu_to_fac_ratio_ls_rev[i])"
   ]
  },
  {
   "cell_type": "code",
   "execution_count": 65,
   "id": "63a36fbb",
   "metadata": {},
   "outputs": [],
   "source": [
    "# delete elements in each inner list that are the word 'to'\n",
    "\n",
    "for ele in stu_to_fac_ratio_ls_rev_2:\n",
    "    if len(ele) > 1:\n",
    "        del ele[1]"
   ]
  },
  {
   "cell_type": "code",
   "execution_count": 66,
   "id": "98fe6db4",
   "metadata": {},
   "outputs": [],
   "source": [
    "# replace inner lists that are ['nan'] with ['0', '1'] so that next the elements in every\n",
    "    # inner list can be converted to integers and math can be done on them\n",
    "\n",
    "stu_to_fac_ratio_ls_rev_3 = []\n",
    "\n",
    "for ele in stu_to_fac_ratio_ls_rev_2:\n",
    "    if len(ele) <= 1:\n",
    "        new_ele = ele[0].replace(\"nan\", \"0\")\n",
    "        second_new_ele = '1'\n",
    "        stu_to_fac_ratio_ls_rev_3.append([new_ele, second_new_ele])\n",
    "    else:\n",
    "        stu_to_fac_ratio_ls_rev_3.append(ele)"
   ]
  },
  {
   "cell_type": "code",
   "execution_count": 67,
   "id": "10a234e1",
   "metadata": {},
   "outputs": [],
   "source": [
    "# convert elements in inner lists to type integer\n",
    "\n",
    "stu_to_fac_ratio_ls_rev_3 = [[int(x) for x in lst] for lst in stu_to_fac_ratio_ls_rev_3]"
   ]
  },
  {
   "cell_type": "code",
   "execution_count": 68,
   "id": "b6f422f3",
   "metadata": {},
   "outputs": [],
   "source": [
    "# create a new list of innenr lists that each contian the result of the first element\n",
    "    # divided by the second element of each inner list\n",
    "\n",
    "stu_to_fac_ratio_ls_rev_4 = [[lst[0] / lst[1]] for lst in stu_to_fac_ratio_ls_rev_3]"
   ]
  },
  {
   "cell_type": "code",
   "execution_count": 69,
   "id": "3f7ccd65",
   "metadata": {},
   "outputs": [],
   "source": [
    "# flatten the above list so each new float value isn't in its own list\n",
    "\n",
    "flattened_stu_to_fac_ratio = [item for sublist in stu_to_fac_ratio_ls_rev_4 for item in sublist]"
   ]
  },
  {
   "cell_type": "code",
   "execution_count": 70,
   "id": "3215b607",
   "metadata": {},
   "outputs": [],
   "source": [
    "# add cleaned student-to-faculty ratio list back to df\n",
    "\n",
    "schools_df['stu_to_fac_ratio'] = flattened_stu_to_fac_ratio"
   ]
  },
  {
   "cell_type": "code",
   "execution_count": 71,
   "id": "5f863a3b",
   "metadata": {
    "scrolled": true
   },
   "outputs": [],
   "source": [
    "# drop the rows with 0 in the new stu_to_fac_ratio column, since those were missing values\n",
    "    # in the original student-to-faculty ratio column\n",
    "schools_df = schools_df.loc[schools_df.stu_to_fac_ratio != 0]"
   ]
  },
  {
   "cell_type": "code",
   "execution_count": 72,
   "id": "99892192",
   "metadata": {},
   "outputs": [],
   "source": [
    "# drop raw_stu_to_fac_ratio column from dataframe\n",
    "schools_df.drop(['raw_stu_to_fac_ratio'],axis=1,inplace=True)"
   ]
  },
  {
   "cell_type": "markdown",
   "id": "2f4e93d6",
   "metadata": {},
   "source": [
    "### Clean books and supplies columns"
   ]
  },
  {
   "cell_type": "code",
   "execution_count": 73,
   "id": "c77733b9",
   "metadata": {},
   "outputs": [],
   "source": [
    "# drop books_supplies_19_20 column\n",
    "schools_df.drop(['books_supplies_19_20'],axis=1,inplace=True)"
   ]
  },
  {
   "cell_type": "markdown",
   "id": "0ad2ab8a",
   "metadata": {},
   "source": [
    "#### Look at spread of books_supplies column"
   ]
  },
  {
   "cell_type": "code",
   "execution_count": 74,
   "id": "8cd2f1ef",
   "metadata": {},
   "outputs": [
    {
     "data": {
      "text/plain": [
       "<AxesSubplot:xlabel='books_supplies', ylabel='Count'>"
      ]
     },
     "execution_count": 74,
     "metadata": {},
     "output_type": "execute_result"
    },
    {
     "data": {
      "image/png": "[encoded data removed]",
      "text/plain": [
       "<Figure size 432x288 with 1 Axes>"
      ]
     },
     "metadata": {
      "needs_background": "light"
     },
     "output_type": "display_data"
    }
   ],
   "source": [
    "sns.histplot(schools_df.books_supplies)"
   ]
  },
  {
   "cell_type": "code",
   "execution_count": 75,
   "id": "b583d09e",
   "metadata": {},
   "outputs": [
    {
     "data": {
      "text/html": [
       "<div>\n",
       "<style scoped>\n",
       "    .dataframe tbody tr th:only-of-type {\n",
       "        vertical-align: middle;\n",
       "    }\n",
       "\n",
       "    .dataframe tbody tr th {\n",
       "        vertical-align: top;\n",
       "    }\n",
       "\n",
       "    .dataframe thead th {\n",
       "        text-align: right;\n",
       "    }\n",
       "</style>\n",
       "<table border=\"1\" class=\"dataframe\">\n",
       "  <thead>\n",
       "    <tr style=\"text-align: right;\">\n",
       "      <th></th>\n",
       "      <th>books_supplies</th>\n",
       "    </tr>\n",
       "  </thead>\n",
       "  <tbody>\n",
       "    <tr>\n",
       "      <th>count</th>\n",
       "      <td>1206.000000</td>\n",
       "    </tr>\n",
       "    <tr>\n",
       "      <th>mean</th>\n",
       "      <td>1149.410448</td>\n",
       "    </tr>\n",
       "    <tr>\n",
       "      <th>std</th>\n",
       "      <td>514.777040</td>\n",
       "    </tr>\n",
       "    <tr>\n",
       "      <th>min</th>\n",
       "      <td>100.000000</td>\n",
       "    </tr>\n",
       "    <tr>\n",
       "      <th>25%</th>\n",
       "      <td>930.000000</td>\n",
       "    </tr>\n",
       "    <tr>\n",
       "      <th>50%</th>\n",
       "      <td>1150.000000</td>\n",
       "    </tr>\n",
       "    <tr>\n",
       "      <th>75%</th>\n",
       "      <td>1349.500000</td>\n",
       "    </tr>\n",
       "    <tr>\n",
       "      <th>max</th>\n",
       "      <td>5000.000000</td>\n",
       "    </tr>\n",
       "  </tbody>\n",
       "</table>\n",
       "</div>"
      ],
      "text/plain": [
       "       books_supplies\n",
       "count     1206.000000\n",
       "mean      1149.410448\n",
       "std        514.777040\n",
       "min        100.000000\n",
       "25%        930.000000\n",
       "50%       1150.000000\n",
       "75%       1349.500000\n",
       "max       5000.000000"
      ]
     },
     "execution_count": 75,
     "metadata": {},
     "output_type": "execute_result"
    }
   ],
   "source": [
    "schools_df[['books_supplies']].describe()"
   ]
  },
  {
   "cell_type": "markdown",
   "id": "090edf17",
   "metadata": {},
   "source": [
    "#### Since the mean and median are almost exactly the same, it seems like I can pick either value to impute the value of this variable for schools with missing data; I'll use median."
   ]
  },
  {
   "cell_type": "code",
   "execution_count": 76,
   "id": "ef8b8780",
   "metadata": {},
   "outputs": [],
   "source": [
    "books_supplies_med = schools_df['books_supplies'].median()\n",
    "schools_df.books_supplies.fillna(books_supplies_med, inplace=True)"
   ]
  },
  {
   "cell_type": "markdown",
   "id": "0328bc2e",
   "metadata": {},
   "source": [
    "### Clean faculty columns"
   ]
  },
  {
   "cell_type": "markdown",
   "id": "87aecf06",
   "metadata": {},
   "source": [
    "#### Look at spread of each column"
   ]
  },
  {
   "cell_type": "code",
   "execution_count": 77,
   "id": "7ce5e7d8",
   "metadata": {},
   "outputs": [
    {
     "data": {
      "text/html": [
       "<div>\n",
       "<style scoped>\n",
       "    .dataframe tbody tr th:only-of-type {\n",
       "        vertical-align: middle;\n",
       "    }\n",
       "\n",
       "    .dataframe tbody tr th {\n",
       "        vertical-align: top;\n",
       "    }\n",
       "\n",
       "    .dataframe thead th {\n",
       "        text-align: right;\n",
       "    }\n",
       "</style>\n",
       "<table border=\"1\" class=\"dataframe\">\n",
       "  <thead>\n",
       "    <tr style=\"text-align: right;\">\n",
       "      <th></th>\n",
       "      <th>ft_faculty</th>\n",
       "      <th>pt_faculty</th>\n",
       "    </tr>\n",
       "  </thead>\n",
       "  <tbody>\n",
       "    <tr>\n",
       "      <th>count</th>\n",
       "      <td>1308.000000</td>\n",
       "      <td>1308.000000</td>\n",
       "    </tr>\n",
       "    <tr>\n",
       "      <th>mean</th>\n",
       "      <td>191.912844</td>\n",
       "      <td>145.169725</td>\n",
       "    </tr>\n",
       "    <tr>\n",
       "      <th>std</th>\n",
       "      <td>585.264728</td>\n",
       "      <td>301.973679</td>\n",
       "    </tr>\n",
       "    <tr>\n",
       "      <th>min</th>\n",
       "      <td>0.000000</td>\n",
       "      <td>0.000000</td>\n",
       "    </tr>\n",
       "    <tr>\n",
       "      <th>25%</th>\n",
       "      <td>23.000000</td>\n",
       "      <td>21.000000</td>\n",
       "    </tr>\n",
       "    <tr>\n",
       "      <th>50%</th>\n",
       "      <td>69.000000</td>\n",
       "      <td>64.000000</td>\n",
       "    </tr>\n",
       "    <tr>\n",
       "      <th>75%</th>\n",
       "      <td>149.250000</td>\n",
       "      <td>159.250000</td>\n",
       "    </tr>\n",
       "    <tr>\n",
       "      <th>max</th>\n",
       "      <td>6927.000000</td>\n",
       "      <td>6340.000000</td>\n",
       "    </tr>\n",
       "  </tbody>\n",
       "</table>\n",
       "</div>"
      ],
      "text/plain": [
       "        ft_faculty   pt_faculty\n",
       "count  1308.000000  1308.000000\n",
       "mean    191.912844   145.169725\n",
       "std     585.264728   301.973679\n",
       "min       0.000000     0.000000\n",
       "25%      23.000000    21.000000\n",
       "50%      69.000000    64.000000\n",
       "75%     149.250000   159.250000\n",
       "max    6927.000000  6340.000000"
      ]
     },
     "execution_count": 77,
     "metadata": {},
     "output_type": "execute_result"
    }
   ],
   "source": [
    "schools_df[['ft_faculty', 'pt_faculty']].describe()"
   ]
  },
  {
   "cell_type": "code",
   "execution_count": 78,
   "id": "798a3c17",
   "metadata": {},
   "outputs": [
    {
     "data": {
      "text/plain": [
       "<AxesSubplot:xlabel='ft_faculty', ylabel='Count'>"
      ]
     },
     "execution_count": 78,
     "metadata": {},
     "output_type": "execute_result"
    },
    {
     "data": {
      "image/png": "[encoded data removed]",
      "text/plain": [
       "<Figure size 432x288 with 1 Axes>"
      ]
     },
     "metadata": {
      "needs_background": "light"
     },
     "output_type": "display_data"
    }
   ],
   "source": [
    "sns.histplot(schools_df['ft_faculty'])"
   ]
  },
  {
   "cell_type": "code",
   "execution_count": 79,
   "id": "74be2c22",
   "metadata": {},
   "outputs": [
    {
     "data": {
      "text/plain": [
       "<AxesSubplot:xlabel='pt_faculty', ylabel='Count'>"
      ]
     },
     "execution_count": 79,
     "metadata": {},
     "output_type": "execute_result"
    },
    {
     "data": {
      "image/png": "[encoded data removed]",
      "text/plain": [
       "<Figure size 432x288 with 1 Axes>"
      ]
     },
     "metadata": {
      "needs_background": "light"
     },
     "output_type": "display_data"
    }
   ],
   "source": [
    "sns.histplot(schools_df['pt_faculty'])"
   ]
  },
  {
   "cell_type": "markdown",
   "id": "1c0d0405",
   "metadata": {},
   "source": [
    "#### Since the distribution of both columns is right-skewed, I will use the medians to impute them for schools missing this data."
   ]
  },
  {
   "cell_type": "code",
   "execution_count": 80,
   "id": "af9e3b7b",
   "metadata": {},
   "outputs": [],
   "source": [
    "ft_faculty_med = schools_df['ft_faculty'].median()\n",
    "schools_df.ft_faculty.fillna(ft_faculty_med, inplace=True)"
   ]
  },
  {
   "cell_type": "code",
   "execution_count": 81,
   "id": "7aeda1f1",
   "metadata": {},
   "outputs": [],
   "source": [
    "pt_faculty_med = schools_df['pt_faculty'].median()\n",
    "schools_df.pt_faculty.fillna(pt_faculty_med, inplace=True)"
   ]
  },
  {
   "cell_type": "markdown",
   "id": "3c94afc2",
   "metadata": {},
   "source": [
    "### Clean applications apps"
   ]
  },
  {
   "cell_type": "markdown",
   "id": "1942735d",
   "metadata": {},
   "source": [
    "#### Look at schools missing number of undergraduate applications"
   ]
  },
  {
   "cell_type": "code",
   "execution_count": 82,
   "id": "2cb79e9d",
   "metadata": {},
   "outputs": [
    {
     "data": {
      "text/plain": [
       "233"
      ]
     },
     "execution_count": 82,
     "metadata": {},
     "output_type": "execute_result"
    }
   ],
   "source": [
    "# there are 233 schools missing data in this column\n",
    "len(schools_df.loc[schools_df['under_apps'].isna()])"
   ]
  },
  {
   "cell_type": "code",
   "execution_count": 83,
   "id": "e8cf9e16",
   "metadata": {},
   "outputs": [
    {
     "data": {
      "text/html": [
       "<div>\n",
       "<style scoped>\n",
       "    .dataframe tbody tr th:only-of-type {\n",
       "        vertical-align: middle;\n",
       "    }\n",
       "\n",
       "    .dataframe tbody tr th {\n",
       "        vertical-align: top;\n",
       "    }\n",
       "\n",
       "    .dataframe thead th {\n",
       "        text-align: right;\n",
       "    }\n",
       "</style>\n",
       "<table border=\"1\" class=\"dataframe\">\n",
       "  <thead>\n",
       "    <tr style=\"text-align: right;\">\n",
       "      <th></th>\n",
       "      <th>school</th>\n",
       "    </tr>\n",
       "  </thead>\n",
       "  <tbody>\n",
       "    <tr>\n",
       "      <th>326</th>\n",
       "      <td>University of the Southwest</td>\n",
       "    </tr>\n",
       "    <tr>\n",
       "      <th>286</th>\n",
       "      <td>Mid-America Christian University</td>\n",
       "    </tr>\n",
       "    <tr>\n",
       "      <th>139</th>\n",
       "      <td>Williamson Christian College</td>\n",
       "    </tr>\n",
       "    <tr>\n",
       "      <th>178</th>\n",
       "      <td>National University of Natural Medicine</td>\n",
       "    </tr>\n",
       "    <tr>\n",
       "      <th>240</th>\n",
       "      <td>University of the People</td>\n",
       "    </tr>\n",
       "    <tr>\n",
       "      <th>135</th>\n",
       "      <td>City University of Seattle</td>\n",
       "    </tr>\n",
       "    <tr>\n",
       "      <th>137</th>\n",
       "      <td>Indiana Wesleyan University-National &amp; Global</td>\n",
       "    </tr>\n",
       "    <tr>\n",
       "      <th>45</th>\n",
       "      <td>Reformed University</td>\n",
       "    </tr>\n",
       "    <tr>\n",
       "      <th>143</th>\n",
       "      <td>Faith International University</td>\n",
       "    </tr>\n",
       "    <tr>\n",
       "      <th>293</th>\n",
       "      <td>Ottawa University-Phoenix</td>\n",
       "    </tr>\n",
       "    <tr>\n",
       "      <th>281</th>\n",
       "      <td>Beulah Heights University</td>\n",
       "    </tr>\n",
       "    <tr>\n",
       "      <th>62</th>\n",
       "      <td>Hebrew College</td>\n",
       "    </tr>\n",
       "    <tr>\n",
       "      <th>39</th>\n",
       "      <td>Polytechnic University of Puerto Rico-Miami</td>\n",
       "    </tr>\n",
       "    <tr>\n",
       "      <th>109</th>\n",
       "      <td>Springfield College-Regional, Online, and Cont...</td>\n",
       "    </tr>\n",
       "    <tr>\n",
       "      <th>317</th>\n",
       "      <td>Clinton College</td>\n",
       "    </tr>\n",
       "    <tr>\n",
       "      <th>45</th>\n",
       "      <td>Allen College</td>\n",
       "    </tr>\n",
       "    <tr>\n",
       "      <th>245</th>\n",
       "      <td>University of Rio Grande</td>\n",
       "    </tr>\n",
       "    <tr>\n",
       "      <th>90</th>\n",
       "      <td>Northpoint Bible College</td>\n",
       "    </tr>\n",
       "    <tr>\n",
       "      <th>14</th>\n",
       "      <td>Ottawa University-Kansas City</td>\n",
       "    </tr>\n",
       "    <tr>\n",
       "      <th>9</th>\n",
       "      <td>Bastyr University</td>\n",
       "    </tr>\n",
       "    <tr>\n",
       "      <th>135</th>\n",
       "      <td>Indiana Institute of Technology-College of Pro...</td>\n",
       "    </tr>\n",
       "    <tr>\n",
       "      <th>317</th>\n",
       "      <td>Texas College</td>\n",
       "    </tr>\n",
       "    <tr>\n",
       "      <th>31</th>\n",
       "      <td>Amberton University</td>\n",
       "    </tr>\n",
       "  </tbody>\n",
       "</table>\n",
       "</div>"
      ],
      "text/plain": [
       "                                                school\n",
       "326                        University of the Southwest\n",
       "286                   Mid-America Christian University\n",
       "139                       Williamson Christian College\n",
       "178            National University of Natural Medicine\n",
       "240                           University of the People\n",
       "135                         City University of Seattle\n",
       "137      Indiana Wesleyan University-National & Global\n",
       "45                                 Reformed University\n",
       "143                     Faith International University\n",
       "293                          Ottawa University-Phoenix\n",
       "281                          Beulah Heights University\n",
       "62                                      Hebrew College\n",
       "39         Polytechnic University of Puerto Rico-Miami\n",
       "109  Springfield College-Regional, Online, and Cont...\n",
       "317                                    Clinton College\n",
       "45                                       Allen College\n",
       "245                           University of Rio Grande\n",
       "90                            Northpoint Bible College\n",
       "14                       Ottawa University-Kansas City\n",
       "9                                    Bastyr University\n",
       "135  Indiana Institute of Technology-College of Pro...\n",
       "317                                      Texas College\n",
       "31                                 Amberton University"
      ]
     },
     "execution_count": 83,
     "metadata": {},
     "output_type": "execute_result"
    }
   ],
   "source": [
    "# I'll randomly research 23 of them on NCES' website\n",
    "\n",
    "under_apps_nan = schools_df.loc[schools_df['under_apps'].isna()]\n",
    "under_apps_nan[['school']].sample(23)"
   ]
  },
  {
   "cell_type": "markdown",
   "id": "eb38bb65",
   "metadata": {},
   "source": [
    "#### Of the 23 schools I randomly sampled who didn't have undergraduate application data:\n",
    "    - 6 (~26%) stated it's because they don't admit full-time first-time degree/certificate-seeking students\n",
    "    - 16 (~70%) stated it's because they have an open admission policy\n",
    "    - 1 (!4%) stated it's because they're not required to provide admissions or test score data\n",
    "\n",
    "- Samuel Merritt University: 'This institution does not admit full-time first-time degree/certificate-seeking students, therefore admission information was not reported.'\n",
    "- Atlantic Institute of Oriental Medicine: \" \"\n",
    "- Oak Point University: \" \"\n",
    "- Touro University Nevada: \" \"\n",
    "- Sentara College of Health Sciences: \" \"\n",
    "- Rush University: \" \"\n",
    "- Parker University: 'This institution has an open admission policy. Contact the institution for more information.'\n",
    "- Virginia University of Lynchburg: \" \"\n",
    "- Walla Walla University: \" \"\n",
    "- Martin University: \" \"\n",
    "- Bethlehem College & Seminary: \" \"\n",
    "- Beulah Heights University: \" \"\n",
    "- Jarvis Christian College: \" \"\n",
    "- Pittsburgh Technical College: \" \"\n",
    "- Talmudic College of Florida: '\" \"\n",
    "- Rabbinical College Ohr Yisroel: \" \"\n",
    "- Remington College-Shreveport Campus: \" \"\n",
    "- Ohio Christian University: \" \"\n",
    "- Yeshiva Yesoda Hatorah Vetz Chaim: \" \"\n",
    "- Faith International University: \" \"\n",
    "- Miles College: \" \"\n",
    "- Lincoln University: \" \"\n",
    "- Central Yeshiva Beth Joseph: \"This institution was not required to provide admissions or test score data.\""
   ]
  },
  {
   "cell_type": "markdown",
   "id": "0334adf2",
   "metadata": {},
   "source": [
    "#### Create new columns to code for the presence or absence or admissions data. The absence represents those who likely have an open admissions policy or don't admit full-time first-time degree/certificate seeking students."
   ]
  },
  {
   "cell_type": "code",
   "execution_count": 84,
   "id": "6aa62a14",
   "metadata": {},
   "outputs": [],
   "source": [
    "# add column that indicates presence of admissions data\n",
    "schools_df['admiss_data_pres'] = schools_df.under_apps.map(lambda x: 1 if not np.isnan(x) else 0)"
   ]
  },
  {
   "cell_type": "code",
   "execution_count": 85,
   "id": "5f66a6dc",
   "metadata": {},
   "outputs": [
    {
     "data": {
      "text/plain": [
       "1    1085\n",
       "0     233\n",
       "Name: admiss_data_pres, dtype: int64"
      ]
     },
     "execution_count": 85,
     "metadata": {},
     "output_type": "execute_result"
    }
   ],
   "source": [
    "# check new column\n",
    "schools_df['admiss_data_pres'].value_counts()"
   ]
  },
  {
   "cell_type": "code",
   "execution_count": 86,
   "id": "0f0ba4ef",
   "metadata": {},
   "outputs": [],
   "source": [
    "# add column that indicates absence of admissions data\n",
    "schools_df['admiss_data_abs'] = schools_df.under_apps.map(lambda x: 0 if not np.isnan(x) else 1)"
   ]
  },
  {
   "cell_type": "code",
   "execution_count": 87,
   "id": "6507e8b8",
   "metadata": {},
   "outputs": [
    {
     "data": {
      "text/plain": [
       "0    1085\n",
       "1     233\n",
       "Name: admiss_data_abs, dtype: int64"
      ]
     },
     "execution_count": 87,
     "metadata": {},
     "output_type": "execute_result"
    }
   ],
   "source": [
    "# check new column\n",
    "schools_df['admiss_data_abs'].value_counts()"
   ]
  },
  {
   "cell_type": "markdown",
   "id": "64d266b6",
   "metadata": {},
   "source": [
    "#### Look at spread of under_apps and perc_admitted"
   ]
  },
  {
   "cell_type": "code",
   "execution_count": 88,
   "id": "19529928",
   "metadata": {},
   "outputs": [
    {
     "data": {
      "text/html": [
       "<div>\n",
       "<style scoped>\n",
       "    .dataframe tbody tr th:only-of-type {\n",
       "        vertical-align: middle;\n",
       "    }\n",
       "\n",
       "    .dataframe tbody tr th {\n",
       "        vertical-align: top;\n",
       "    }\n",
       "\n",
       "    .dataframe thead th {\n",
       "        text-align: right;\n",
       "    }\n",
       "</style>\n",
       "<table border=\"1\" class=\"dataframe\">\n",
       "  <thead>\n",
       "    <tr style=\"text-align: right;\">\n",
       "      <th></th>\n",
       "      <th>under_apps</th>\n",
       "      <th>perc_admitted</th>\n",
       "    </tr>\n",
       "  </thead>\n",
       "  <tbody>\n",
       "    <tr>\n",
       "      <th>count</th>\n",
       "      <td>1085.000000</td>\n",
       "      <td>1085.000000</td>\n",
       "    </tr>\n",
       "    <tr>\n",
       "      <th>mean</th>\n",
       "      <td>4443.299539</td>\n",
       "      <td>68.183410</td>\n",
       "    </tr>\n",
       "    <tr>\n",
       "      <th>std</th>\n",
       "      <td>7863.312560</td>\n",
       "      <td>21.787224</td>\n",
       "    </tr>\n",
       "    <tr>\n",
       "      <th>min</th>\n",
       "      <td>1.000000</td>\n",
       "      <td>0.000000</td>\n",
       "    </tr>\n",
       "    <tr>\n",
       "      <th>25%</th>\n",
       "      <td>583.000000</td>\n",
       "      <td>57.000000</td>\n",
       "    </tr>\n",
       "    <tr>\n",
       "      <th>50%</th>\n",
       "      <td>2017.000000</td>\n",
       "      <td>72.000000</td>\n",
       "    </tr>\n",
       "    <tr>\n",
       "      <th>75%</th>\n",
       "      <td>4711.000000</td>\n",
       "      <td>83.000000</td>\n",
       "    </tr>\n",
       "    <tr>\n",
       "      <th>max</th>\n",
       "      <td>80210.000000</td>\n",
       "      <td>100.000000</td>\n",
       "    </tr>\n",
       "  </tbody>\n",
       "</table>\n",
       "</div>"
      ],
      "text/plain": [
       "         under_apps  perc_admitted\n",
       "count   1085.000000    1085.000000\n",
       "mean    4443.299539      68.183410\n",
       "std     7863.312560      21.787224\n",
       "min        1.000000       0.000000\n",
       "25%      583.000000      57.000000\n",
       "50%     2017.000000      72.000000\n",
       "75%     4711.000000      83.000000\n",
       "max    80210.000000     100.000000"
      ]
     },
     "execution_count": 88,
     "metadata": {},
     "output_type": "execute_result"
    }
   ],
   "source": [
    "schools_df[['under_apps', 'perc_admitted']].describe()"
   ]
  },
  {
   "cell_type": "code",
   "execution_count": 89,
   "id": "0bda15a5",
   "metadata": {},
   "outputs": [
    {
     "data": {
      "text/plain": [
       "<AxesSubplot:xlabel='under_apps', ylabel='Count'>"
      ]
     },
     "execution_count": 89,
     "metadata": {},
     "output_type": "execute_result"
    },
    {
     "data": {
      "image/png": "[encoded data removed]",
      "text/plain": [
       "<Figure size 432x288 with 1 Axes>"
      ]
     },
     "metadata": {
      "needs_background": "light"
     },
     "output_type": "display_data"
    }
   ],
   "source": [
    "sns.histplot(schools_df.under_apps)"
   ]
  },
  {
   "cell_type": "code",
   "execution_count": 90,
   "id": "e0f86598",
   "metadata": {},
   "outputs": [
    {
     "data": {
      "text/plain": [
       "<AxesSubplot:xlabel='perc_admitted', ylabel='Count'>"
      ]
     },
     "execution_count": 90,
     "metadata": {},
     "output_type": "execute_result"
    },
    {
     "data": {
      "image/png": "[encoded data removed]",
      "text/plain": [
       "<Figure size 432x288 with 1 Axes>"
      ]
     },
     "metadata": {
      "needs_background": "light"
     },
     "output_type": "display_data"
    }
   ],
   "source": [
    "sns.histplot(schools_df.perc_admitted)"
   ]
  },
  {
   "cell_type": "markdown",
   "id": "1ebcb03d",
   "metadata": {},
   "source": [
    "#### Since under_apps column is right-skewed, inpute the median for the schools with missing data in the under_apps column. For the perc_admitted column, impute 100%, since most of the schools I sampled who are missing admissions data have open admissions, so the argument could be made that they admit 100% of those who apply."
   ]
  },
  {
   "cell_type": "code",
   "execution_count": 91,
   "id": "9e4f07b9",
   "metadata": {},
   "outputs": [],
   "source": [
    "under_apps_med = schools_df.under_apps.median()\n",
    "schools_df.under_apps.fillna(under_apps_med, inplace=True)"
   ]
  },
  {
   "cell_type": "code",
   "execution_count": 92,
   "id": "1b63af23",
   "metadata": {},
   "outputs": [],
   "source": [
    "schools_df.perc_admitted.fillna(100.0, inplace=True)"
   ]
  },
  {
   "cell_type": "markdown",
   "id": "22b14d70",
   "metadata": {},
   "source": [
    "### Clean financial aid columns"
   ]
  },
  {
   "cell_type": "markdown",
   "id": "52b67a50",
   "metadata": {},
   "source": [
    "#### Investigate the NCES pages of the 7 schools missing average amount of grant or scholarship aid received by undergrad students in 2019-20"
   ]
  },
  {
   "cell_type": "code",
   "execution_count": 93,
   "id": "c662dfbb",
   "metadata": {},
   "outputs": [
    {
     "data": {
      "text/html": [
       "<div>\n",
       "<style scoped>\n",
       "    .dataframe tbody tr th:only-of-type {\n",
       "        vertical-align: middle;\n",
       "    }\n",
       "\n",
       "    .dataframe tbody tr th {\n",
       "        vertical-align: top;\n",
       "    }\n",
       "\n",
       "    .dataframe thead th {\n",
       "        text-align: right;\n",
       "    }\n",
       "</style>\n",
       "<table border=\"1\" class=\"dataframe\">\n",
       "  <thead>\n",
       "    <tr style=\"text-align: right;\">\n",
       "      <th></th>\n",
       "      <th>school</th>\n",
       "      <th>books_supplies</th>\n",
       "      <th>ft_faculty</th>\n",
       "      <th>pt_faculty</th>\n",
       "      <th>avg_amt_grant_schol_aid_beg_under_19_20</th>\n",
       "      <th>perc_grant_schol_aid_beg_under_19_20</th>\n",
       "      <th>avg_amt_grant_schol_aid_all_under_19_20</th>\n",
       "      <th>under_trans_enroll</th>\n",
       "      <th>under_apps</th>\n",
       "      <th>perc_admitted</th>\n",
       "      <th>...</th>\n",
       "      <th>act_comp_75_perc</th>\n",
       "      <th>act_eng_25_perc</th>\n",
       "      <th>act_eng_75_perc</th>\n",
       "      <th>act_math_25_perc</th>\n",
       "      <th>act_math_75_perc</th>\n",
       "      <th>tuition_fees_20_21_fin</th>\n",
       "      <th>total_under_enroll</th>\n",
       "      <th>stu_to_fac_ratio</th>\n",
       "      <th>admiss_data_pres</th>\n",
       "      <th>admiss_data_abs</th>\n",
       "    </tr>\n",
       "  </thead>\n",
       "  <tbody>\n",
       "    <tr>\n",
       "      <th>183</th>\n",
       "      <td>Northwestern Polytechnic University</td>\n",
       "      <td>1210.0</td>\n",
       "      <td>4.0</td>\n",
       "      <td>4.0</td>\n",
       "      <td>NaN</td>\n",
       "      <td>0.0</td>\n",
       "      <td>NaN</td>\n",
       "      <td>0.0</td>\n",
       "      <td>13.0</td>\n",
       "      <td>46.0</td>\n",
       "      <td>...</td>\n",
       "      <td>NaN</td>\n",
       "      <td>NaN</td>\n",
       "      <td>NaN</td>\n",
       "      <td>NaN</td>\n",
       "      <td>NaN</td>\n",
       "      <td>8720.0</td>\n",
       "      <td>6.0</td>\n",
       "      <td>2.0</td>\n",
       "      <td>1</td>\n",
       "      <td>0</td>\n",
       "    </tr>\n",
       "    <tr>\n",
       "      <th>193</th>\n",
       "      <td>Pacific States University</td>\n",
       "      <td>1687.0</td>\n",
       "      <td>2.0</td>\n",
       "      <td>8.0</td>\n",
       "      <td>NaN</td>\n",
       "      <td>0.0</td>\n",
       "      <td>NaN</td>\n",
       "      <td>1.0</td>\n",
       "      <td>2017.0</td>\n",
       "      <td>100.0</td>\n",
       "      <td>...</td>\n",
       "      <td>NaN</td>\n",
       "      <td>NaN</td>\n",
       "      <td>NaN</td>\n",
       "      <td>NaN</td>\n",
       "      <td>NaN</td>\n",
       "      <td>12960.0</td>\n",
       "      <td>2.0</td>\n",
       "      <td>5.0</td>\n",
       "      <td>0</td>\n",
       "      <td>1</td>\n",
       "    </tr>\n",
       "    <tr>\n",
       "      <th>264</th>\n",
       "      <td>Atlantic Institute of Oriental Medicine</td>\n",
       "      <td>1150.0</td>\n",
       "      <td>6.0</td>\n",
       "      <td>0.0</td>\n",
       "      <td>NaN</td>\n",
       "      <td>0.0</td>\n",
       "      <td>NaN</td>\n",
       "      <td>69.0</td>\n",
       "      <td>2017.0</td>\n",
       "      <td>100.0</td>\n",
       "      <td>...</td>\n",
       "      <td>NaN</td>\n",
       "      <td>NaN</td>\n",
       "      <td>NaN</td>\n",
       "      <td>NaN</td>\n",
       "      <td>NaN</td>\n",
       "      <td>17595.0</td>\n",
       "      <td>69.0</td>\n",
       "      <td>6.0</td>\n",
       "      <td>0</td>\n",
       "      <td>1</td>\n",
       "    </tr>\n",
       "    <tr>\n",
       "      <th>340</th>\n",
       "      <td>Fairfax University of America</td>\n",
       "      <td>1200.0</td>\n",
       "      <td>10.0</td>\n",
       "      <td>32.0</td>\n",
       "      <td>NaN</td>\n",
       "      <td>NaN</td>\n",
       "      <td>NaN</td>\n",
       "      <td>0.0</td>\n",
       "      <td>2017.0</td>\n",
       "      <td>100.0</td>\n",
       "      <td>...</td>\n",
       "      <td>NaN</td>\n",
       "      <td>NaN</td>\n",
       "      <td>NaN</td>\n",
       "      <td>NaN</td>\n",
       "      <td>NaN</td>\n",
       "      <td>10328.0</td>\n",
       "      <td>17.0</td>\n",
       "      <td>4.0</td>\n",
       "      <td>0</td>\n",
       "      <td>1</td>\n",
       "    </tr>\n",
       "    <tr>\n",
       "      <th>126</th>\n",
       "      <td>W L Bonner College</td>\n",
       "      <td>1150.0</td>\n",
       "      <td>1.0</td>\n",
       "      <td>5.0</td>\n",
       "      <td>NaN</td>\n",
       "      <td>NaN</td>\n",
       "      <td>NaN</td>\n",
       "      <td>2.0</td>\n",
       "      <td>2017.0</td>\n",
       "      <td>100.0</td>\n",
       "      <td>...</td>\n",
       "      <td>NaN</td>\n",
       "      <td>NaN</td>\n",
       "      <td>NaN</td>\n",
       "      <td>NaN</td>\n",
       "      <td>NaN</td>\n",
       "      <td>5416.0</td>\n",
       "      <td>21.0</td>\n",
       "      <td>3.0</td>\n",
       "      <td>0</td>\n",
       "      <td>1</td>\n",
       "    </tr>\n",
       "    <tr>\n",
       "      <th>213</th>\n",
       "      <td>Gratz College</td>\n",
       "      <td>1150.0</td>\n",
       "      <td>4.0</td>\n",
       "      <td>25.0</td>\n",
       "      <td>NaN</td>\n",
       "      <td>NaN</td>\n",
       "      <td>NaN</td>\n",
       "      <td>23.0</td>\n",
       "      <td>2017.0</td>\n",
       "      <td>100.0</td>\n",
       "      <td>...</td>\n",
       "      <td>NaN</td>\n",
       "      <td>NaN</td>\n",
       "      <td>NaN</td>\n",
       "      <td>NaN</td>\n",
       "      <td>NaN</td>\n",
       "      <td>20633.0</td>\n",
       "      <td>159.0</td>\n",
       "      <td>12.0</td>\n",
       "      <td>0</td>\n",
       "      <td>1</td>\n",
       "    </tr>\n",
       "    <tr>\n",
       "      <th>62</th>\n",
       "      <td>Hebrew College</td>\n",
       "      <td>1150.0</td>\n",
       "      <td>9.0</td>\n",
       "      <td>31.0</td>\n",
       "      <td>NaN</td>\n",
       "      <td>NaN</td>\n",
       "      <td>NaN</td>\n",
       "      <td>0.0</td>\n",
       "      <td>2017.0</td>\n",
       "      <td>100.0</td>\n",
       "      <td>...</td>\n",
       "      <td>NaN</td>\n",
       "      <td>NaN</td>\n",
       "      <td>NaN</td>\n",
       "      <td>NaN</td>\n",
       "      <td>NaN</td>\n",
       "      <td>30000.0</td>\n",
       "      <td>26.0</td>\n",
       "      <td>1.0</td>\n",
       "      <td>0</td>\n",
       "      <td>1</td>\n",
       "    </tr>\n",
       "  </tbody>\n",
       "</table>\n",
       "<p>7 rows × 29 columns</p>\n",
       "</div>"
      ],
      "text/plain": [
       "                                      school  books_supplies  ft_faculty  \\\n",
       "183      Northwestern Polytechnic University          1210.0         4.0   \n",
       "193                Pacific States University          1687.0         2.0   \n",
       "264  Atlantic Institute of Oriental Medicine          1150.0         6.0   \n",
       "340            Fairfax University of America          1200.0        10.0   \n",
       "126                       W L Bonner College          1150.0         1.0   \n",
       "213                            Gratz College          1150.0         4.0   \n",
       "62                            Hebrew College          1150.0         9.0   \n",
       "\n",
       "     pt_faculty  avg_amt_grant_schol_aid_beg_under_19_20  \\\n",
       "183         4.0                                      NaN   \n",
       "193         8.0                                      NaN   \n",
       "264         0.0                                      NaN   \n",
       "340        32.0                                      NaN   \n",
       "126         5.0                                      NaN   \n",
       "213        25.0                                      NaN   \n",
       "62         31.0                                      NaN   \n",
       "\n",
       "     perc_grant_schol_aid_beg_under_19_20  \\\n",
       "183                                   0.0   \n",
       "193                                   0.0   \n",
       "264                                   0.0   \n",
       "340                                   NaN   \n",
       "126                                   NaN   \n",
       "213                                   NaN   \n",
       "62                                    NaN   \n",
       "\n",
       "     avg_amt_grant_schol_aid_all_under_19_20  under_trans_enroll  under_apps  \\\n",
       "183                                      NaN                 0.0        13.0   \n",
       "193                                      NaN                 1.0      2017.0   \n",
       "264                                      NaN                69.0      2017.0   \n",
       "340                                      NaN                 0.0      2017.0   \n",
       "126                                      NaN                 2.0      2017.0   \n",
       "213                                      NaN                23.0      2017.0   \n",
       "62                                       NaN                 0.0      2017.0   \n",
       "\n",
       "     perc_admitted  ...  act_comp_75_perc  act_eng_25_perc  act_eng_75_perc  \\\n",
       "183           46.0  ...               NaN              NaN              NaN   \n",
       "193          100.0  ...               NaN              NaN              NaN   \n",
       "264          100.0  ...               NaN              NaN              NaN   \n",
       "340          100.0  ...               NaN              NaN              NaN   \n",
       "126          100.0  ...               NaN              NaN              NaN   \n",
       "213          100.0  ...               NaN              NaN              NaN   \n",
       "62           100.0  ...               NaN              NaN              NaN   \n",
       "\n",
       "     act_math_25_perc  act_math_75_perc  tuition_fees_20_21_fin  \\\n",
       "183               NaN               NaN                  8720.0   \n",
       "193               NaN               NaN                 12960.0   \n",
       "264               NaN               NaN                 17595.0   \n",
       "340               NaN               NaN                 10328.0   \n",
       "126               NaN               NaN                  5416.0   \n",
       "213               NaN               NaN                 20633.0   \n",
       "62                NaN               NaN                 30000.0   \n",
       "\n",
       "     total_under_enroll  stu_to_fac_ratio  admiss_data_pres  admiss_data_abs  \n",
       "183                 6.0               2.0                 1                0  \n",
       "193                 2.0               5.0                 0                1  \n",
       "264                69.0               6.0                 0                1  \n",
       "340                17.0               4.0                 0                1  \n",
       "126                21.0               3.0                 0                1  \n",
       "213               159.0              12.0                 0                1  \n",
       "62                 26.0               1.0                 0                1  \n",
       "\n",
       "[7 rows x 29 columns]"
      ]
     },
     "execution_count": 93,
     "metadata": {},
     "output_type": "execute_result"
    }
   ],
   "source": [
    "schools_df.loc[schools_df.avg_amt_grant_schol_aid_all_under_19_20.isna()]"
   ]
  },
  {
   "cell_type": "markdown",
   "id": "4cfc1443",
   "metadata": {},
   "source": [
    "- Northwestern Polytechnic University: $0 in total amount of aid received column\n",
    "- Pacific States University: \" \"\n",
    "- Atlantic Institute of Oriental Medicine: \" \"\n",
    "- Fairfax University of America: 'Average amounts are withheld to preserve the confidentiality of individuals.' (17 undergrad students)\n",
    "- Gratz College: \" \" (159 undergrad students)\n",
    "- Hebrew College: \" \" (26 undergrad students)\n",
    "- W L Bonner College: \"Data not available.\""
   ]
  },
  {
   "cell_type": "markdown",
   "id": "2b718849",
   "metadata": {},
   "source": [
    "#### Look at spread of this column"
   ]
  },
  {
   "cell_type": "code",
   "execution_count": 94,
   "id": "0360991b",
   "metadata": {},
   "outputs": [
    {
     "data": {
      "text/html": [
       "<div>\n",
       "<style scoped>\n",
       "    .dataframe tbody tr th:only-of-type {\n",
       "        vertical-align: middle;\n",
       "    }\n",
       "\n",
       "    .dataframe tbody tr th {\n",
       "        vertical-align: top;\n",
       "    }\n",
       "\n",
       "    .dataframe thead th {\n",
       "        text-align: right;\n",
       "    }\n",
       "</style>\n",
       "<table border=\"1\" class=\"dataframe\">\n",
       "  <thead>\n",
       "    <tr style=\"text-align: right;\">\n",
       "      <th></th>\n",
       "      <th>avg_amt_grant_schol_aid_all_under_19_20</th>\n",
       "    </tr>\n",
       "  </thead>\n",
       "  <tbody>\n",
       "    <tr>\n",
       "      <th>count</th>\n",
       "      <td>1311.000000</td>\n",
       "    </tr>\n",
       "    <tr>\n",
       "      <th>mean</th>\n",
       "      <td>17948.205187</td>\n",
       "    </tr>\n",
       "    <tr>\n",
       "      <th>std</th>\n",
       "      <td>10971.847391</td>\n",
       "    </tr>\n",
       "    <tr>\n",
       "      <th>min</th>\n",
       "      <td>676.000000</td>\n",
       "    </tr>\n",
       "    <tr>\n",
       "      <th>25%</th>\n",
       "      <td>8519.000000</td>\n",
       "    </tr>\n",
       "    <tr>\n",
       "      <th>50%</th>\n",
       "      <td>16840.000000</td>\n",
       "    </tr>\n",
       "    <tr>\n",
       "      <th>75%</th>\n",
       "      <td>24493.000000</td>\n",
       "    </tr>\n",
       "    <tr>\n",
       "      <th>max</th>\n",
       "      <td>58244.000000</td>\n",
       "    </tr>\n",
       "  </tbody>\n",
       "</table>\n",
       "</div>"
      ],
      "text/plain": [
       "       avg_amt_grant_schol_aid_all_under_19_20\n",
       "count                              1311.000000\n",
       "mean                              17948.205187\n",
       "std                               10971.847391\n",
       "min                                 676.000000\n",
       "25%                                8519.000000\n",
       "50%                               16840.000000\n",
       "75%                               24493.000000\n",
       "max                               58244.000000"
      ]
     },
     "execution_count": 94,
     "metadata": {},
     "output_type": "execute_result"
    }
   ],
   "source": [
    "schools_df[['avg_amt_grant_schol_aid_all_under_19_20']].describe()"
   ]
  },
  {
   "cell_type": "code",
   "execution_count": 95,
   "id": "1fa48785",
   "metadata": {},
   "outputs": [
    {
     "data": {
      "text/plain": [
       "<AxesSubplot:xlabel='avg_amt_grant_schol_aid_all_under_19_20', ylabel='Count'>"
      ]
     },
     "execution_count": 95,
     "metadata": {},
     "output_type": "execute_result"
    },
    {
     "data": {
      "image/png": "[encoded data removed]",
      "text/plain": [
       "<Figure size 432x288 with 1 Axes>"
      ]
     },
     "metadata": {
      "needs_background": "light"
     },
     "output_type": "display_data"
    }
   ],
   "source": [
    "sns.histplot(schools_df.avg_amt_grant_schol_aid_all_under_19_20)"
   ]
  },
  {
   "cell_type": "markdown",
   "id": "dd2bdca0",
   "metadata": {},
   "source": [
    "#### Assign '0' to the three schools with $0 under 'Total amount of aid received'; impute the median average amount of aid for the other four schools missing values in this column."
   ]
  },
  {
   "cell_type": "code",
   "execution_count": 96,
   "id": "9f0edc48",
   "metadata": {},
   "outputs": [],
   "source": [
    "schools_zero_aid = ['Northwestern Polytechnic University', 'Pacific States University',\n",
    "                   'Atlantic Institute of Oriental Medicine']\n",
    "schools_df.loc[schools_df.school.isin(schools_zero_aid),['avg_amt_grant_schol_aid_all_under_19_20']] = 0"
   ]
  },
  {
   "cell_type": "code",
   "execution_count": 97,
   "id": "4df0611e",
   "metadata": {},
   "outputs": [],
   "source": [
    "schools_med_aid = ['Fairfax University of America', 'Gratz College','Hebrew College','W L Bonner College']\n",
    "avg_amt_grant_schol_aid_all_under_19_20_med = schools_df['avg_amt_grant_schol_aid_all_under_19_20'].median()\n",
    "schools_df.loc[schools_df.school.isin(schools_med_aid),['avg_amt_grant_schol_aid_all_under_19_20']] = avg_amt_grant_schol_aid_all_under_19_20_med"
   ]
  },
  {
   "cell_type": "code",
   "execution_count": 98,
   "id": "beafdeab",
   "metadata": {},
   "outputs": [
    {
     "data": {
      "text/html": [
       "<div>\n",
       "<style scoped>\n",
       "    .dataframe tbody tr th:only-of-type {\n",
       "        vertical-align: middle;\n",
       "    }\n",
       "\n",
       "    .dataframe tbody tr th {\n",
       "        vertical-align: top;\n",
       "    }\n",
       "\n",
       "    .dataframe thead th {\n",
       "        text-align: right;\n",
       "    }\n",
       "</style>\n",
       "<table border=\"1\" class=\"dataframe\">\n",
       "  <thead>\n",
       "    <tr style=\"text-align: right;\">\n",
       "      <th></th>\n",
       "      <th>school</th>\n",
       "      <th>books_supplies</th>\n",
       "      <th>ft_faculty</th>\n",
       "      <th>pt_faculty</th>\n",
       "      <th>avg_amt_grant_schol_aid_beg_under_19_20</th>\n",
       "      <th>perc_grant_schol_aid_beg_under_19_20</th>\n",
       "      <th>avg_amt_grant_schol_aid_all_under_19_20</th>\n",
       "      <th>under_trans_enroll</th>\n",
       "      <th>under_apps</th>\n",
       "      <th>perc_admitted</th>\n",
       "      <th>...</th>\n",
       "      <th>act_comp_75_perc</th>\n",
       "      <th>act_eng_25_perc</th>\n",
       "      <th>act_eng_75_perc</th>\n",
       "      <th>act_math_25_perc</th>\n",
       "      <th>act_math_75_perc</th>\n",
       "      <th>tuition_fees_20_21_fin</th>\n",
       "      <th>total_under_enroll</th>\n",
       "      <th>stu_to_fac_ratio</th>\n",
       "      <th>admiss_data_pres</th>\n",
       "      <th>admiss_data_abs</th>\n",
       "    </tr>\n",
       "  </thead>\n",
       "  <tbody>\n",
       "    <tr>\n",
       "      <th>340</th>\n",
       "      <td>Fairfax University of America</td>\n",
       "      <td>1200.0</td>\n",
       "      <td>10.0</td>\n",
       "      <td>32.0</td>\n",
       "      <td>NaN</td>\n",
       "      <td>NaN</td>\n",
       "      <td>16829.5</td>\n",
       "      <td>0.0</td>\n",
       "      <td>2017.0</td>\n",
       "      <td>100.0</td>\n",
       "      <td>...</td>\n",
       "      <td>NaN</td>\n",
       "      <td>NaN</td>\n",
       "      <td>NaN</td>\n",
       "      <td>NaN</td>\n",
       "      <td>NaN</td>\n",
       "      <td>10328.0</td>\n",
       "      <td>17.0</td>\n",
       "      <td>4.0</td>\n",
       "      <td>0</td>\n",
       "      <td>1</td>\n",
       "    </tr>\n",
       "    <tr>\n",
       "      <th>126</th>\n",
       "      <td>W L Bonner College</td>\n",
       "      <td>1150.0</td>\n",
       "      <td>1.0</td>\n",
       "      <td>5.0</td>\n",
       "      <td>NaN</td>\n",
       "      <td>NaN</td>\n",
       "      <td>16829.5</td>\n",
       "      <td>2.0</td>\n",
       "      <td>2017.0</td>\n",
       "      <td>100.0</td>\n",
       "      <td>...</td>\n",
       "      <td>NaN</td>\n",
       "      <td>NaN</td>\n",
       "      <td>NaN</td>\n",
       "      <td>NaN</td>\n",
       "      <td>NaN</td>\n",
       "      <td>5416.0</td>\n",
       "      <td>21.0</td>\n",
       "      <td>3.0</td>\n",
       "      <td>0</td>\n",
       "      <td>1</td>\n",
       "    </tr>\n",
       "    <tr>\n",
       "      <th>213</th>\n",
       "      <td>Gratz College</td>\n",
       "      <td>1150.0</td>\n",
       "      <td>4.0</td>\n",
       "      <td>25.0</td>\n",
       "      <td>NaN</td>\n",
       "      <td>NaN</td>\n",
       "      <td>16829.5</td>\n",
       "      <td>23.0</td>\n",
       "      <td>2017.0</td>\n",
       "      <td>100.0</td>\n",
       "      <td>...</td>\n",
       "      <td>NaN</td>\n",
       "      <td>NaN</td>\n",
       "      <td>NaN</td>\n",
       "      <td>NaN</td>\n",
       "      <td>NaN</td>\n",
       "      <td>20633.0</td>\n",
       "      <td>159.0</td>\n",
       "      <td>12.0</td>\n",
       "      <td>0</td>\n",
       "      <td>1</td>\n",
       "    </tr>\n",
       "    <tr>\n",
       "      <th>62</th>\n",
       "      <td>Hebrew College</td>\n",
       "      <td>1150.0</td>\n",
       "      <td>9.0</td>\n",
       "      <td>31.0</td>\n",
       "      <td>NaN</td>\n",
       "      <td>NaN</td>\n",
       "      <td>16829.5</td>\n",
       "      <td>0.0</td>\n",
       "      <td>2017.0</td>\n",
       "      <td>100.0</td>\n",
       "      <td>...</td>\n",
       "      <td>NaN</td>\n",
       "      <td>NaN</td>\n",
       "      <td>NaN</td>\n",
       "      <td>NaN</td>\n",
       "      <td>NaN</td>\n",
       "      <td>30000.0</td>\n",
       "      <td>26.0</td>\n",
       "      <td>1.0</td>\n",
       "      <td>0</td>\n",
       "      <td>1</td>\n",
       "    </tr>\n",
       "  </tbody>\n",
       "</table>\n",
       "<p>4 rows × 29 columns</p>\n",
       "</div>"
      ],
      "text/plain": [
       "                            school  books_supplies  ft_faculty  pt_faculty  \\\n",
       "340  Fairfax University of America          1200.0        10.0        32.0   \n",
       "126             W L Bonner College          1150.0         1.0         5.0   \n",
       "213                  Gratz College          1150.0         4.0        25.0   \n",
       "62                  Hebrew College          1150.0         9.0        31.0   \n",
       "\n",
       "     avg_amt_grant_schol_aid_beg_under_19_20  \\\n",
       "340                                      NaN   \n",
       "126                                      NaN   \n",
       "213                                      NaN   \n",
       "62                                       NaN   \n",
       "\n",
       "     perc_grant_schol_aid_beg_under_19_20  \\\n",
       "340                                   NaN   \n",
       "126                                   NaN   \n",
       "213                                   NaN   \n",
       "62                                    NaN   \n",
       "\n",
       "     avg_amt_grant_schol_aid_all_under_19_20  under_trans_enroll  under_apps  \\\n",
       "340                                  16829.5                 0.0      2017.0   \n",
       "126                                  16829.5                 2.0      2017.0   \n",
       "213                                  16829.5                23.0      2017.0   \n",
       "62                                   16829.5                 0.0      2017.0   \n",
       "\n",
       "     perc_admitted  ...  act_comp_75_perc  act_eng_25_perc  act_eng_75_perc  \\\n",
       "340          100.0  ...               NaN              NaN              NaN   \n",
       "126          100.0  ...               NaN              NaN              NaN   \n",
       "213          100.0  ...               NaN              NaN              NaN   \n",
       "62           100.0  ...               NaN              NaN              NaN   \n",
       "\n",
       "     act_math_25_perc  act_math_75_perc  tuition_fees_20_21_fin  \\\n",
       "340               NaN               NaN                 10328.0   \n",
       "126               NaN               NaN                  5416.0   \n",
       "213               NaN               NaN                 20633.0   \n",
       "62                NaN               NaN                 30000.0   \n",
       "\n",
       "     total_under_enroll  stu_to_fac_ratio  admiss_data_pres  admiss_data_abs  \n",
       "340                17.0               4.0                 0                1  \n",
       "126                21.0               3.0                 0                1  \n",
       "213               159.0              12.0                 0                1  \n",
       "62                 26.0               1.0                 0                1  \n",
       "\n",
       "[4 rows x 29 columns]"
      ]
     },
     "execution_count": 98,
     "metadata": {},
     "output_type": "execute_result"
    }
   ],
   "source": [
    "schools_df.loc[schools_df.school.isin(schools_med_aid)]"
   ]
  },
  {
   "cell_type": "code",
   "execution_count": 99,
   "id": "6e638e80",
   "metadata": {},
   "outputs": [],
   "source": [
    "# drop avg_amt_grant_schol_aid_beg_under_19_20 and perc_grant_schol_aid_beg_under_19_20\n",
    "    # since they're messy because of the way the data was scraped, some values in \n",
    "    # perc_grant_schol_aid_beg_under_19_20 are actually perc_grant_schol_aid_all_under_19_20\n",
    "    # values and some values in perc_grant_schol_aid_beg_under_19_20 are over 100% because\n",
    "    # they're actually # of students receiving grant or scholarship aid\n",
    "schools_df.drop(['avg_amt_grant_schol_aid_beg_under_19_20', \n",
    "                 'perc_grant_schol_aid_beg_under_19_20'],axis=1, inplace=True)"
   ]
  },
  {
   "cell_type": "code",
   "execution_count": 100,
   "id": "a9572cca",
   "metadata": {},
   "outputs": [
    {
     "name": "stdout",
     "output_type": "stream",
     "text": [
      "<class 'pandas.core.frame.DataFrame'>\n",
      "Int64Index: 1318 entries, 0 to 131\n",
      "Data columns (total 27 columns):\n",
      " #   Column                                   Non-Null Count  Dtype  \n",
      "---  ------                                   --------------  -----  \n",
      " 0   school                                   1318 non-null   object \n",
      " 1   books_supplies                           1318 non-null   float64\n",
      " 2   ft_faculty                               1318 non-null   float64\n",
      " 3   pt_faculty                               1318 non-null   float64\n",
      " 4   avg_amt_grant_schol_aid_all_under_19_20  1318 non-null   float64\n",
      " 5   under_trans_enroll                       1318 non-null   float64\n",
      " 6   under_apps                               1318 non-null   float64\n",
      " 7   perc_admitted                            1318 non-null   float64\n",
      " 8   sat_scores_submit                        650 non-null    float64\n",
      " 9   perc_sat_scores_submit                   650 non-null    float64\n",
      " 10  act_scores_submit                        660 non-null    float64\n",
      " 11  perc_act_scores_submit                   660 non-null    float64\n",
      " 12  sat_read_write_25_perc                   640 non-null    float64\n",
      " 13  sat_read_write_75_perc                   640 non-null    float64\n",
      " 14  sat_math_25_perc                         640 non-null    float64\n",
      " 15  sat_math_75_perc                         640 non-null    float64\n",
      " 16  act_comp_25_perc                         655 non-null    float64\n",
      " 17  act_comp_75_perc                         655 non-null    float64\n",
      " 18  act_eng_25_perc                          615 non-null    float64\n",
      " 19  act_eng_75_perc                          615 non-null    float64\n",
      " 20  act_math_25_perc                         615 non-null    float64\n",
      " 21  act_math_75_perc                         615 non-null    float64\n",
      " 22  tuition_fees_20_21_fin                   1318 non-null   float64\n",
      " 23  total_under_enroll                       1318 non-null   float64\n",
      " 24  stu_to_fac_ratio                         1318 non-null   float64\n",
      " 25  admiss_data_pres                         1318 non-null   int64  \n",
      " 26  admiss_data_abs                          1318 non-null   int64  \n",
      "dtypes: float64(24), int64(2), object(1)\n",
      "memory usage: 288.3+ KB\n"
     ]
    }
   ],
   "source": [
    "schools_df.info()"
   ]
  },
  {
   "cell_type": "markdown",
   "id": "2c8ade8f",
   "metadata": {},
   "source": [
    "### Clean test score columns"
   ]
  },
  {
   "cell_type": "code",
   "execution_count": 106,
   "id": "2c2d7d90",
   "metadata": {},
   "outputs": [],
   "source": [
    "# look at schools with admissions data but no sat and no act test scores - 417 schools meet this criteria\n",
    "admiss_data_no_test_data = schools_df.loc[(schools_df.admiss_data_pres == 1) & ((schools_df.sat_scores_submit.isna()) & (schools_df.act_scores_submit.isna()))]"
   ]
  },
  {
   "cell_type": "code",
   "execution_count": 109,
   "id": "f408807f",
   "metadata": {},
   "outputs": [
    {
     "data": {
      "text/plain": [
       "115                  Bennington College\n",
       "360       Trinity Washington University\n",
       "2         Yeshiva Gedolah Zichron Leyma\n",
       "344    Cleveland University-Kansas City\n",
       "391                Yeshiva Derech Chaim\n",
       "127    California Institute of the Arts\n",
       "125                 Wesleyan University\n",
       "150      Bet Medrash Gadol Ateret Torah\n",
       "21                    Morehouse College\n",
       "147                 Lake Forest College\n",
       "Name: school, dtype: object"
      ]
     },
     "execution_count": 109,
     "metadata": {},
     "output_type": "execute_result"
    }
   ],
   "source": [
    "# randomly sample 20 of these schools to look at why they might not have test score data\n",
    "admiss_data_no_test_data.school.sample(20)"
   ]
  },
  {
   "cell_type": "markdown",
   "id": "abdb3dcf",
   "metadata": {},
   "source": [
    "- Associated Beth Rivkah Schools: admissions considerations doesn't list ACT/SAT scores\n",
    "- Sh'or Yoshuv Rabbinical College: \" \"\n",
    "- Beth Medrash of Asbury Park: \" \"\n",
    "- Yeshiva Gedolah Shaarei Shmuel: \" \"\n",
    "- Yeshiva Gedolah Zichron Leyma: \" \"\n",
    "- Yeshiva Gedola Tiferes Yaakov Yitzchok: \" \"\n",
    "- Bet Medrash Gadol Ateret Torah: \" \"\n",
    "- Syracuse University: \" \"\n",
    "- Bennington College: \" \"\n",
    "- Yeshiva Derech Chaim: \" \"\n",
    "- California Institute of the Arts: \" \"\n",
    "- Lenoir-Rhyne University: under admissions considerations, 'recommended' is checked (versus required or considered but not required or not listed at all as a consideration)\n",
    "- Edgewood College: \" \"\n",
    "- Trinity Washington University: \" \"\n",
    "- Cleveland University-Kansas City: \" \"\n",
    "- Wesleyan University: \" \"\n",
    "- Lake Forest College: \" \"\n",
    "- Dominican College of Blauvelt: under admissions considerations, 'considered but not required' is checked (versus required or recommended or not listed at all as a consideration)\n",
    "- Lincoln College: \" \"\n",
    "- Morehouse College: \" \""
   ]
  },
  {
   "cell_type": "code",
   "execution_count": 118,
   "id": "2f945571",
   "metadata": {},
   "outputs": [
    {
     "data": {
      "text/plain": [
       "141                            Kenyon College\n",
       "34                             Austin College\n",
       "375                     John Brown University\n",
       "51                             Rhodes College\n",
       "329                     Seton Hall University\n",
       "118             University of the Cumberlands\n",
       "321                        Trinity University\n",
       "93                          Allegheny College\n",
       "247                  University of St Francis\n",
       "88                          Asbury University\n",
       "348    Florida Institute of Technology-Online\n",
       "29               York College of Pennsylvania\n",
       "294                Ottawa University-Surprise\n",
       "151                 Hawaii Pacific University\n",
       "399                       Livingstone College\n",
       "317                  Roberts Wesleyan College\n",
       "69               Southeastern Baptist College\n",
       "340           Stevens Institute of Technology\n",
       "228                     Immaculata University\n",
       "327                     Saint Vincent College\n",
       "Name: school, dtype: object"
      ]
     },
     "execution_count": 118,
     "metadata": {},
     "output_type": "execute_result"
    }
   ],
   "source": [
    "# look at schools with sat or act scores and randomly sample 20\n",
    "sat_or_act_not_nan = schools_df.loc[(~(schools_df.sat_scores_submit.isna()) | (~(schools_df.act_scores_submit.isna())))]\n",
    "sat_or_act_not_nan.school.sample(20)"
   ]
  },
  {
   "cell_type": "markdown",
   "id": "2cbc8ddb",
   "metadata": {},
   "source": [
    "- Kenyon College: under admissions considerations, 'considered but not required' is checked (versus required or recommended or not listed at all as a consideration)\n",
    "- Austin College: \" \"\n",
    "- Rhodes College: \" \"\n",
    "- - University of the Cumberlands: \" \"\n",
    "- Allegheny College: \" \"\n",
    "- University of St Francis: \" \"\n",
    "- Asbury University: \" \"\n",
    "- Florida Institute of Technology-Online: \" \"\n",
    "- Hawaii Pacific University: \" \"\n",
    "- Roberts Wesleyan College: \" \"\n",
    "- Southeastern Baptist College: \" \"\n",
    "- Stevens Institute of Technology: \" \"\n",
    "- Immaculata University: \" \"\n",
    "- Saint Vincent College: \" \"\n",
    "- John Brown University: under admissions considerations, 'required' is checked (versus recommended or considered but not recommended not listed at all as a consideration)\n",
    "- Seton Hall University: \" \"\n",
    "- Trinity University: \" \"\n",
    "- York College of Pennsylvania: \" \"\n",
    "- Ottawa University-Surprise: \" \"\n",
    "- Livingstone College: \" \""
   ]
  },
  {
   "cell_type": "markdown",
   "id": "aca127bb",
   "metadata": {},
   "source": [
    "#### Notes: \n",
    "- If perc_grant_schol_aid_beg_under_19_20 > 100, it means it's capturing # of students, not %\n",
    "- if avg_amt_grant_schol_aid_beg_under_19_20 == avg_amt_grant_schol_aid_all_under_19_20, it means there's only data for 'All Undergraduate Students'\n",
    "\n",
    "- Further web-scraping of admissions-related data:\n",
    "    - if presence of admissions data, collect the following:\n",
    "        1. presence (1) or absence (0) of 'Admission test scores (SAT/ACT)' under 'Admissions considerations'\n",
    "            - if presence of 'Admission test scores (SAT/ACT)', collect presence or absence of:\n",
    "                1. required (1) or not (0)\n",
    "                2. recommended (1) or not (0)\n",
    "                3. considered but not required (1) or not (0)"
   ]
  },
  {
   "cell_type": "code",
   "execution_count": null,
   "id": "ad52d39b",
   "metadata": {},
   "outputs": [],
   "source": []
  }
 ],
 "metadata": {
  "kernelspec": {
   "display_name": "Python [conda env:metis] *",
   "language": "python",
   "name": "conda-env-metis-py"
  },
  "language_info": {
   "codemirror_mode": {
    "name": "ipython",
    "version": 3
   },
   "file_extension": ".py",
   "mimetype": "text/x-python",
   "name": "python",
   "nbconvert_exporter": "python",
   "pygments_lexer": "ipython3",
   "version": "3.8.10"
  }
 },
 "nbformat": 4,
 "nbformat_minor": 5
}
