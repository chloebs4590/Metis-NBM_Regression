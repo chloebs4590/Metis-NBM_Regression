{
 "cells": [
  {
   "cell_type": "code",
   "execution_count": 1,
   "id": "4b30f131",
   "metadata": {},
   "outputs": [],
   "source": [
    "import pandas as pd\n",
    "import numpy as np\n",
    "import seaborn as sns\n",
    "import matplotlib.pyplot as plt"
   ]
  },
  {
   "cell_type": "code",
   "execution_count": 2,
   "id": "ce2e2810",
   "metadata": {},
   "outputs": [
    {
     "data": {
      "text/plain": [
       "'/Users/chloebergsma-safar/Desktop/Metis/NBM_Regression_Project/Metis-Regression'"
      ]
     },
     "execution_count": 2,
     "metadata": {},
     "output_type": "execute_result"
    }
   ],
   "source": [
    "import os\n",
    "os.getcwd()"
   ]
  },
  {
   "cell_type": "markdown",
   "id": "d848aa8c",
   "metadata": {},
   "source": [
    "## Read in data\n",
    "- schools_csv.csv contains first 400 schools\n",
    "- schools_csv_2.csv contains the second 400 schools\n",
    "- schools_csv_3.csv contains the third 400 schools\n",
    "- schools_csv_4.csv contains the last 132 schools\n",
    "- total # of schools: 1332"
   ]
  },
  {
   "cell_type": "code",
   "execution_count": 3,
   "id": "857e0f0c",
   "metadata": {},
   "outputs": [],
   "source": [
    "schools_1_400 = pd.read_csv('schools_csv.csv')"
   ]
  },
  {
   "cell_type": "code",
   "execution_count": 4,
   "id": "358f62e9",
   "metadata": {},
   "outputs": [],
   "source": [
    "schools_401_800 = pd.read_csv('schools_csv_2.csv')"
   ]
  },
  {
   "cell_type": "code",
   "execution_count": 5,
   "id": "ecc639cd",
   "metadata": {},
   "outputs": [],
   "source": [
    "schools_801_1200 = pd.read_csv('schools_csv_3.csv')"
   ]
  },
  {
   "cell_type": "code",
   "execution_count": 6,
   "id": "fef98195",
   "metadata": {},
   "outputs": [],
   "source": [
    "schools_1201_1332 = pd.read_csv('schools_csv_4.csv')"
   ]
  },
  {
   "cell_type": "markdown",
   "id": "d45c7cdd",
   "metadata": {},
   "source": [
    "## Concatenate dataframes"
   ]
  },
  {
   "cell_type": "code",
   "execution_count": 86,
   "id": "36e2564b",
   "metadata": {},
   "outputs": [],
   "source": [
    "schools_df = pd.concat([schools_1_400, schools_401_800, schools_801_1200, schools_1201_1332], axis=0)"
   ]
  },
  {
   "cell_type": "code",
   "execution_count": 8,
   "id": "4865d885",
   "metadata": {},
   "outputs": [
    {
     "data": {
      "text/plain": [
       "(400, 36)"
      ]
     },
     "execution_count": 8,
     "metadata": {},
     "output_type": "execute_result"
    }
   ],
   "source": [
    "schools_1_400.shape"
   ]
  },
  {
   "cell_type": "markdown",
   "id": "a3a60fd1",
   "metadata": {},
   "source": [
    "### Check concatenation"
   ]
  },
  {
   "cell_type": "code",
   "execution_count": 9,
   "id": "ebfd3b66",
   "metadata": {},
   "outputs": [
    {
     "data": {
      "text/plain": [
       "(400, 36)"
      ]
     },
     "execution_count": 9,
     "metadata": {},
     "output_type": "execute_result"
    }
   ],
   "source": [
    "schools_401_800.shape"
   ]
  },
  {
   "cell_type": "code",
   "execution_count": 10,
   "id": "817eb84d",
   "metadata": {},
   "outputs": [
    {
     "data": {
      "text/plain": [
       "(400, 36)"
      ]
     },
     "execution_count": 10,
     "metadata": {},
     "output_type": "execute_result"
    }
   ],
   "source": [
    "schools_801_1200.shape"
   ]
  },
  {
   "cell_type": "code",
   "execution_count": 11,
   "id": "2144ea20",
   "metadata": {},
   "outputs": [
    {
     "data": {
      "text/plain": [
       "(132, 36)"
      ]
     },
     "execution_count": 11,
     "metadata": {},
     "output_type": "execute_result"
    }
   ],
   "source": [
    "schools_1201_1332.shape"
   ]
  },
  {
   "cell_type": "code",
   "execution_count": 12,
   "id": "8228fb20",
   "metadata": {},
   "outputs": [
    {
     "data": {
      "text/plain": [
       "(1332, 36)"
      ]
     },
     "execution_count": 12,
     "metadata": {},
     "output_type": "execute_result"
    }
   ],
   "source": [
    "schools_df.shape"
   ]
  },
  {
   "cell_type": "markdown",
   "id": "b15476f9",
   "metadata": {},
   "source": [
    "## Peform EDA on concatenated dataframe"
   ]
  },
  {
   "cell_type": "code",
   "execution_count": 13,
   "id": "6f510d84",
   "metadata": {},
   "outputs": [
    {
     "name": "stdout",
     "output_type": "stream",
     "text": [
      "<class 'pandas.core.frame.DataFrame'>\n",
      "Int64Index: 1332 entries, 0 to 131\n",
      "Data columns (total 36 columns):\n",
      " #   Column                                   Non-Null Count  Dtype  \n",
      "---  ------                                   --------------  -----  \n",
      " 0   school                                   1332 non-null   object \n",
      " 1   raw_stu_to_fac_ratio                     1323 non-null   object \n",
      " 2   tuition_fees_19_20                       1261 non-null   float64\n",
      " 3   books_supplies_19_20                     1209 non-null   float64\n",
      " 4   tuition_fees                             1264 non-null   float64\n",
      " 5   books_supplies                           1214 non-null   float64\n",
      " 6   tuition                                  48 non-null     float64\n",
      " 7   fees                                     48 non-null     float64\n",
      " 8   tuition_under                            11 non-null     float64\n",
      " 9   fees_under                               11 non-null     float64\n",
      " 10  ft_faculty                               1316 non-null   float64\n",
      " 11  pt_faculty                               1316 non-null   float64\n",
      " 12  avg_amt_grant_schol_aid_beg_under_19_20  1281 non-null   float64\n",
      " 13  perc_grant_schol_aid_beg_under_19_20     1320 non-null   float64\n",
      " 14  avg_amt_grant_schol_aid_all_under_19_20  1318 non-null   float64\n",
      " 15  total_enroll                             994 non-null    float64\n",
      " 16  total_enroll_under                       329 non-null    float64\n",
      " 17  under_enroll                             994 non-null    float64\n",
      " 18  under_trans_enroll                       1323 non-null   float64\n",
      " 19  grad_enroll                              994 non-null    float64\n",
      " 20  under_apps                               1086 non-null   float64\n",
      " 21  perc_admitted                            1086 non-null   float64\n",
      " 22  sat_scores_submit                        650 non-null    float64\n",
      " 23  perc_sat_scores_submit                   650 non-null    float64\n",
      " 24  act_scores_submit                        660 non-null    float64\n",
      " 25  perc_act_scores_submit                   660 non-null    float64\n",
      " 26  sat_read_write_25_perc                   640 non-null    float64\n",
      " 27  sat_read_write_75_perc                   640 non-null    float64\n",
      " 28  sat_math_25_perc                         640 non-null    float64\n",
      " 29  sat_math_75_perc                         640 non-null    float64\n",
      " 30  act_comp_25_perc                         655 non-null    float64\n",
      " 31  act_comp_75_perc                         655 non-null    float64\n",
      " 32  act_eng_25_perc                          615 non-null    float64\n",
      " 33  act_eng_75_perc                          615 non-null    float64\n",
      " 34  act_math_25_perc                         615 non-null    float64\n",
      " 35  act_math_75_perc                         615 non-null    float64\n",
      "dtypes: float64(34), object(2)\n",
      "memory usage: 385.0+ KB\n"
     ]
    }
   ],
   "source": [
    "schools_df.info()"
   ]
  },
  {
   "cell_type": "markdown",
   "id": "d0ec097f",
   "metadata": {},
   "source": [
    "### Clean up tuition and fees columns"
   ]
  },
  {
   "cell_type": "markdown",
   "id": "965568c3",
   "metadata": {},
   "source": [
    "#### Consolidate tuition and tuition_under columns, since, based on webscraping, we know that they represent the same data stored in different places on school pages (thus, the decision to extract the data differently)"
   ]
  },
  {
   "cell_type": "code",
   "execution_count": 87,
   "id": "3a22995f",
   "metadata": {},
   "outputs": [],
   "source": [
    "schools_df['tuition_20_21'] = np.nan"
   ]
  },
  {
   "cell_type": "code",
   "execution_count": 88,
   "id": "3c30a6a7",
   "metadata": {},
   "outputs": [],
   "source": [
    "schools_df.tuition_20_21.fillna(schools_df.tuition, inplace=True)"
   ]
  },
  {
   "cell_type": "code",
   "execution_count": 89,
   "id": "9636ded4",
   "metadata": {},
   "outputs": [],
   "source": [
    "schools_df.tuition_20_21.fillna(schools_df.tuition_under, inplace=True)"
   ]
  },
  {
   "cell_type": "code",
   "execution_count": 90,
   "id": "72471fbd",
   "metadata": {},
   "outputs": [
    {
     "data": {
      "text/html": [
       "<div>\n",
       "<style scoped>\n",
       "    .dataframe tbody tr th:only-of-type {\n",
       "        vertical-align: middle;\n",
       "    }\n",
       "\n",
       "    .dataframe tbody tr th {\n",
       "        vertical-align: top;\n",
       "    }\n",
       "\n",
       "    .dataframe thead th {\n",
       "        text-align: right;\n",
       "    }\n",
       "</style>\n",
       "<table border=\"1\" class=\"dataframe\">\n",
       "  <thead>\n",
       "    <tr style=\"text-align: right;\">\n",
       "      <th></th>\n",
       "      <th>tuition_20_21</th>\n",
       "      <th>tuition</th>\n",
       "      <th>tuition_under</th>\n",
       "    </tr>\n",
       "  </thead>\n",
       "  <tbody>\n",
       "    <tr>\n",
       "      <th>4</th>\n",
       "      <td>20370.0</td>\n",
       "      <td>20370.0</td>\n",
       "      <td>NaN</td>\n",
       "    </tr>\n",
       "    <tr>\n",
       "      <th>5</th>\n",
       "      <td>17820.0</td>\n",
       "      <td>17820.0</td>\n",
       "      <td>NaN</td>\n",
       "    </tr>\n",
       "    <tr>\n",
       "      <th>6</th>\n",
       "      <td>21600.0</td>\n",
       "      <td>21600.0</td>\n",
       "      <td>NaN</td>\n",
       "    </tr>\n",
       "    <tr>\n",
       "      <th>9</th>\n",
       "      <td>26820.0</td>\n",
       "      <td>26820.0</td>\n",
       "      <td>NaN</td>\n",
       "    </tr>\n",
       "    <tr>\n",
       "      <th>10</th>\n",
       "      <td>9375.0</td>\n",
       "      <td>9375.0</td>\n",
       "      <td>NaN</td>\n",
       "    </tr>\n",
       "  </tbody>\n",
       "</table>\n",
       "</div>"
      ],
      "text/plain": [
       "    tuition_20_21  tuition  tuition_under\n",
       "4         20370.0  20370.0            NaN\n",
       "5         17820.0  17820.0            NaN\n",
       "6         21600.0  21600.0            NaN\n",
       "9         26820.0  26820.0            NaN\n",
       "10         9375.0   9375.0            NaN"
      ]
     },
     "execution_count": 90,
     "metadata": {},
     "output_type": "execute_result"
    }
   ],
   "source": [
    "# check that in new col, where tuition has a value, it was assigned to the new col\n",
    "tuition_not_nan = schools_df.loc[~schools_df.tuition.isna()]\n",
    "tuition_not_nan[['tuition_20_21', 'tuition', 'tuition_under']].head()"
   ]
  },
  {
   "cell_type": "code",
   "execution_count": 91,
   "id": "00939ea6",
   "metadata": {},
   "outputs": [
    {
     "data": {
      "text/html": [
       "<div>\n",
       "<style scoped>\n",
       "    .dataframe tbody tr th:only-of-type {\n",
       "        vertical-align: middle;\n",
       "    }\n",
       "\n",
       "    .dataframe tbody tr th {\n",
       "        vertical-align: top;\n",
       "    }\n",
       "\n",
       "    .dataframe thead th {\n",
       "        text-align: right;\n",
       "    }\n",
       "</style>\n",
       "<table border=\"1\" class=\"dataframe\">\n",
       "  <thead>\n",
       "    <tr style=\"text-align: right;\">\n",
       "      <th></th>\n",
       "      <th>tuition_20_21</th>\n",
       "      <th>tuition</th>\n",
       "      <th>tuition_under</th>\n",
       "    </tr>\n",
       "  </thead>\n",
       "  <tbody>\n",
       "    <tr>\n",
       "      <th>13</th>\n",
       "      <td>22230.0</td>\n",
       "      <td>NaN</td>\n",
       "      <td>22230.0</td>\n",
       "    </tr>\n",
       "    <tr>\n",
       "      <th>251</th>\n",
       "      <td>13440.0</td>\n",
       "      <td>NaN</td>\n",
       "      <td>13440.0</td>\n",
       "    </tr>\n",
       "    <tr>\n",
       "      <th>18</th>\n",
       "      <td>10440.0</td>\n",
       "      <td>NaN</td>\n",
       "      <td>10440.0</td>\n",
       "    </tr>\n",
       "    <tr>\n",
       "      <th>70</th>\n",
       "      <td>26400.0</td>\n",
       "      <td>NaN</td>\n",
       "      <td>26400.0</td>\n",
       "    </tr>\n",
       "    <tr>\n",
       "      <th>82</th>\n",
       "      <td>19975.0</td>\n",
       "      <td>NaN</td>\n",
       "      <td>19975.0</td>\n",
       "    </tr>\n",
       "  </tbody>\n",
       "</table>\n",
       "</div>"
      ],
      "text/plain": [
       "     tuition_20_21  tuition  tuition_under\n",
       "13         22230.0      NaN        22230.0\n",
       "251        13440.0      NaN        13440.0\n",
       "18         10440.0      NaN        10440.0\n",
       "70         26400.0      NaN        26400.0\n",
       "82         19975.0      NaN        19975.0"
      ]
     },
     "execution_count": 91,
     "metadata": {},
     "output_type": "execute_result"
    }
   ],
   "source": [
    "# check that in new col, where tuition_under has a value, it was assigned to the new col\n",
    "tuition_under_not_nan = schools_df.loc[~schools_df.tuition_under.isna()]\n",
    "tuition_under_not_nan[['tuition_20_21', 'tuition', 'tuition_under']].head()"
   ]
  },
  {
   "cell_type": "code",
   "execution_count": 92,
   "id": "b5b8c9fb",
   "metadata": {},
   "outputs": [],
   "source": [
    "# drop tuition and tuition_under columns\n",
    "schools_df.drop(['tuition', 'tuition_under'],axis=1, inplace=True)"
   ]
  },
  {
   "cell_type": "markdown",
   "id": "bc5b7519",
   "metadata": {},
   "source": [
    "#### Consolidate fees and fees_under columns, since, based on webscraping, we know that they represent the same data stored in different places on school pages (thus, the decision to extract the data differently)"
   ]
  },
  {
   "cell_type": "code",
   "execution_count": 93,
   "id": "3f621014",
   "metadata": {},
   "outputs": [],
   "source": [
    "schools_df['fees_20_21'] = np.nan"
   ]
  },
  {
   "cell_type": "code",
   "execution_count": 94,
   "id": "0ceca7eb",
   "metadata": {},
   "outputs": [],
   "source": [
    "schools_df.fees_20_21.fillna(schools_df.fees, inplace=True)"
   ]
  },
  {
   "cell_type": "code",
   "execution_count": 95,
   "id": "d7574206",
   "metadata": {},
   "outputs": [],
   "source": [
    "schools_df.fees_20_21.fillna(schools_df.fees_under, inplace=True)"
   ]
  },
  {
   "cell_type": "code",
   "execution_count": 96,
   "id": "a097c6d0",
   "metadata": {},
   "outputs": [
    {
     "data": {
      "text/html": [
       "<div>\n",
       "<style scoped>\n",
       "    .dataframe tbody tr th:only-of-type {\n",
       "        vertical-align: middle;\n",
       "    }\n",
       "\n",
       "    .dataframe tbody tr th {\n",
       "        vertical-align: top;\n",
       "    }\n",
       "\n",
       "    .dataframe thead th {\n",
       "        text-align: right;\n",
       "    }\n",
       "</style>\n",
       "<table border=\"1\" class=\"dataframe\">\n",
       "  <thead>\n",
       "    <tr style=\"text-align: right;\">\n",
       "      <th></th>\n",
       "      <th>fees_20_21</th>\n",
       "      <th>fees</th>\n",
       "      <th>fees_under</th>\n",
       "    </tr>\n",
       "  </thead>\n",
       "  <tbody>\n",
       "    <tr>\n",
       "      <th>4</th>\n",
       "      <td>300.0</td>\n",
       "      <td>300.0</td>\n",
       "      <td>NaN</td>\n",
       "    </tr>\n",
       "    <tr>\n",
       "      <th>5</th>\n",
       "      <td>300.0</td>\n",
       "      <td>300.0</td>\n",
       "      <td>NaN</td>\n",
       "    </tr>\n",
       "    <tr>\n",
       "      <th>6</th>\n",
       "      <td>435.0</td>\n",
       "      <td>435.0</td>\n",
       "      <td>NaN</td>\n",
       "    </tr>\n",
       "    <tr>\n",
       "      <th>9</th>\n",
       "      <td>75.0</td>\n",
       "      <td>75.0</td>\n",
       "      <td>NaN</td>\n",
       "    </tr>\n",
       "    <tr>\n",
       "      <th>10</th>\n",
       "      <td>600.0</td>\n",
       "      <td>600.0</td>\n",
       "      <td>NaN</td>\n",
       "    </tr>\n",
       "  </tbody>\n",
       "</table>\n",
       "</div>"
      ],
      "text/plain": [
       "    fees_20_21   fees  fees_under\n",
       "4        300.0  300.0         NaN\n",
       "5        300.0  300.0         NaN\n",
       "6        435.0  435.0         NaN\n",
       "9         75.0   75.0         NaN\n",
       "10       600.0  600.0         NaN"
      ]
     },
     "execution_count": 96,
     "metadata": {},
     "output_type": "execute_result"
    }
   ],
   "source": [
    "# check that in new col, where fees has a value, it was assigned to the new col\n",
    "fees_not_nan = schools_df.loc[~schools_df.fees.isna()]\n",
    "fees_not_nan[['fees_20_21', 'fees', 'fees_under']].head()"
   ]
  },
  {
   "cell_type": "code",
   "execution_count": 97,
   "id": "487d682b",
   "metadata": {},
   "outputs": [
    {
     "data": {
      "text/html": [
       "<div>\n",
       "<style scoped>\n",
       "    .dataframe tbody tr th:only-of-type {\n",
       "        vertical-align: middle;\n",
       "    }\n",
       "\n",
       "    .dataframe tbody tr th {\n",
       "        vertical-align: top;\n",
       "    }\n",
       "\n",
       "    .dataframe thead th {\n",
       "        text-align: right;\n",
       "    }\n",
       "</style>\n",
       "<table border=\"1\" class=\"dataframe\">\n",
       "  <thead>\n",
       "    <tr style=\"text-align: right;\">\n",
       "      <th></th>\n",
       "      <th>fees_20_21</th>\n",
       "      <th>fees</th>\n",
       "      <th>fees_under</th>\n",
       "    </tr>\n",
       "  </thead>\n",
       "  <tbody>\n",
       "    <tr>\n",
       "      <th>13</th>\n",
       "      <td>1644.0</td>\n",
       "      <td>NaN</td>\n",
       "      <td>1644.0</td>\n",
       "    </tr>\n",
       "    <tr>\n",
       "      <th>251</th>\n",
       "      <td>0.0</td>\n",
       "      <td>NaN</td>\n",
       "      <td>0.0</td>\n",
       "    </tr>\n",
       "    <tr>\n",
       "      <th>18</th>\n",
       "      <td>60.0</td>\n",
       "      <td>NaN</td>\n",
       "      <td>60.0</td>\n",
       "    </tr>\n",
       "    <tr>\n",
       "      <th>70</th>\n",
       "      <td>900.0</td>\n",
       "      <td>NaN</td>\n",
       "      <td>900.0</td>\n",
       "    </tr>\n",
       "    <tr>\n",
       "      <th>82</th>\n",
       "      <td>2100.0</td>\n",
       "      <td>NaN</td>\n",
       "      <td>2100.0</td>\n",
       "    </tr>\n",
       "  </tbody>\n",
       "</table>\n",
       "</div>"
      ],
      "text/plain": [
       "     fees_20_21  fees  fees_under\n",
       "13       1644.0   NaN      1644.0\n",
       "251         0.0   NaN         0.0\n",
       "18         60.0   NaN        60.0\n",
       "70        900.0   NaN       900.0\n",
       "82       2100.0   NaN      2100.0"
      ]
     },
     "execution_count": 97,
     "metadata": {},
     "output_type": "execute_result"
    }
   ],
   "source": [
    "# check that in new col, where fees_under has a value, it was assigned to the new col\n",
    "fees_under_not_nan = schools_df.loc[~schools_df.fees_under.isna()]\n",
    "fees_under_not_nan[['fees_20_21', 'fees', 'fees_under']].head()"
   ]
  },
  {
   "cell_type": "code",
   "execution_count": 98,
   "id": "02426c44",
   "metadata": {},
   "outputs": [],
   "source": [
    "# drop fees and fees_under columns\n",
    "schools_df.drop(['fees', 'fees_under'],axis=1, inplace=True)"
   ]
  },
  {
   "cell_type": "markdown",
   "id": "7e244be6",
   "metadata": {},
   "source": [
    "#### Combine new tuition_20_21 and fees_20_21 columns"
   ]
  },
  {
   "cell_type": "code",
   "execution_count": 99,
   "id": "6c970f67",
   "metadata": {},
   "outputs": [],
   "source": [
    "schools_df['tuition_fees_20_21'] = schools_df.tuition_20_21 + schools_df.fees_20_21"
   ]
  },
  {
   "cell_type": "code",
   "execution_count": 100,
   "id": "c9ce8a3e",
   "metadata": {},
   "outputs": [
    {
     "data": {
      "text/html": [
       "<div>\n",
       "<style scoped>\n",
       "    .dataframe tbody tr th:only-of-type {\n",
       "        vertical-align: middle;\n",
       "    }\n",
       "\n",
       "    .dataframe tbody tr th {\n",
       "        vertical-align: top;\n",
       "    }\n",
       "\n",
       "    .dataframe thead th {\n",
       "        text-align: right;\n",
       "    }\n",
       "</style>\n",
       "<table border=\"1\" class=\"dataframe\">\n",
       "  <thead>\n",
       "    <tr style=\"text-align: right;\">\n",
       "      <th></th>\n",
       "      <th>tuition_fees_20_21</th>\n",
       "      <th>tuition_20_21</th>\n",
       "      <th>fees_20_21</th>\n",
       "    </tr>\n",
       "  </thead>\n",
       "  <tbody>\n",
       "    <tr>\n",
       "      <th>79</th>\n",
       "      <td>78241.0</td>\n",
       "      <td>73200.0</td>\n",
       "      <td>5041.0</td>\n",
       "    </tr>\n",
       "    <tr>\n",
       "      <th>89</th>\n",
       "      <td>13386.0</td>\n",
       "      <td>12984.0</td>\n",
       "      <td>402.0</td>\n",
       "    </tr>\n",
       "    <tr>\n",
       "      <th>101</th>\n",
       "      <td>26200.0</td>\n",
       "      <td>26200.0</td>\n",
       "      <td>0.0</td>\n",
       "    </tr>\n",
       "    <tr>\n",
       "      <th>109</th>\n",
       "      <td>18000.0</td>\n",
       "      <td>18000.0</td>\n",
       "      <td>0.0</td>\n",
       "    </tr>\n",
       "    <tr>\n",
       "      <th>128</th>\n",
       "      <td>10625.0</td>\n",
       "      <td>10000.0</td>\n",
       "      <td>625.0</td>\n",
       "    </tr>\n",
       "  </tbody>\n",
       "</table>\n",
       "</div>"
      ],
      "text/plain": [
       "     tuition_fees_20_21  tuition_20_21  fees_20_21\n",
       "79              78241.0        73200.0      5041.0\n",
       "89              13386.0        12984.0       402.0\n",
       "101             26200.0        26200.0         0.0\n",
       "109             18000.0        18000.0         0.0\n",
       "128             10625.0        10000.0       625.0"
      ]
     },
     "execution_count": 100,
     "metadata": {},
     "output_type": "execute_result"
    }
   ],
   "source": [
    "# check that in new col, where tuition_20_21 and fees_20_21 have values, the sum\n",
    "    # was assigned to the new column\n",
    "tuition_20_21_not_nan = schools_df.loc[~(schools_df.tuition_20_21.isna())]\n",
    "tuition_20_21_not_nan[['tuition_fees_20_21', 'tuition_20_21', 'fees_20_21']].tail()"
   ]
  },
  {
   "cell_type": "markdown",
   "id": "5f29dbf0",
   "metadata": {},
   "source": [
    "#### Consolidate tuition_fees_20_21 and tuition_fees columns since, based on webscraping, we know that they represent the same data stored in different places on school pages (thus, the decision to extract the data differently)"
   ]
  },
  {
   "cell_type": "code",
   "execution_count": 101,
   "id": "95ccb6aa",
   "metadata": {},
   "outputs": [],
   "source": [
    "schools_df['tuition_fees_20_21_fin'] = np.nan"
   ]
  },
  {
   "cell_type": "code",
   "execution_count": 102,
   "id": "2b7b3194",
   "metadata": {},
   "outputs": [],
   "source": [
    "schools_df.tuition_fees_20_21_fin.fillna(schools_df.tuition_fees, inplace=True)"
   ]
  },
  {
   "cell_type": "code",
   "execution_count": 103,
   "id": "9948b18f",
   "metadata": {},
   "outputs": [],
   "source": [
    "schools_df.tuition_fees_20_21_fin.fillna(schools_df.tuition_fees_20_21, inplace=True)"
   ]
  },
  {
   "cell_type": "code",
   "execution_count": 104,
   "id": "20925988",
   "metadata": {},
   "outputs": [
    {
     "data": {
      "text/html": [
       "<div>\n",
       "<style scoped>\n",
       "    .dataframe tbody tr th:only-of-type {\n",
       "        vertical-align: middle;\n",
       "    }\n",
       "\n",
       "    .dataframe tbody tr th {\n",
       "        vertical-align: top;\n",
       "    }\n",
       "\n",
       "    .dataframe thead th {\n",
       "        text-align: right;\n",
       "    }\n",
       "</style>\n",
       "<table border=\"1\" class=\"dataframe\">\n",
       "  <thead>\n",
       "    <tr style=\"text-align: right;\">\n",
       "      <th></th>\n",
       "      <th>tuition_fees_20_21_fin</th>\n",
       "      <th>tuition_fees_20_21</th>\n",
       "      <th>tuition_fees</th>\n",
       "    </tr>\n",
       "  </thead>\n",
       "  <tbody>\n",
       "    <tr>\n",
       "      <th>0</th>\n",
       "      <td>9700.0</td>\n",
       "      <td>NaN</td>\n",
       "      <td>9700.0</td>\n",
       "    </tr>\n",
       "    <tr>\n",
       "      <th>1</th>\n",
       "      <td>20760.0</td>\n",
       "      <td>NaN</td>\n",
       "      <td>20760.0</td>\n",
       "    </tr>\n",
       "    <tr>\n",
       "      <th>2</th>\n",
       "      <td>6250.0</td>\n",
       "      <td>NaN</td>\n",
       "      <td>6250.0</td>\n",
       "    </tr>\n",
       "    <tr>\n",
       "      <th>3</th>\n",
       "      <td>32404.0</td>\n",
       "      <td>NaN</td>\n",
       "      <td>32404.0</td>\n",
       "    </tr>\n",
       "    <tr>\n",
       "      <th>7</th>\n",
       "      <td>46486.0</td>\n",
       "      <td>NaN</td>\n",
       "      <td>46486.0</td>\n",
       "    </tr>\n",
       "  </tbody>\n",
       "</table>\n",
       "</div>"
      ],
      "text/plain": [
       "   tuition_fees_20_21_fin  tuition_fees_20_21  tuition_fees\n",
       "0                  9700.0                 NaN        9700.0\n",
       "1                 20760.0                 NaN       20760.0\n",
       "2                  6250.0                 NaN        6250.0\n",
       "3                 32404.0                 NaN       32404.0\n",
       "7                 46486.0                 NaN       46486.0"
      ]
     },
     "execution_count": 104,
     "metadata": {},
     "output_type": "execute_result"
    }
   ],
   "source": [
    "# check that in new col, where tuition_fees has a value, it was assigned to the new col\n",
    "tuition_fees_not_nan = schools_df.loc[~schools_df.tuition_fees.isna()]\n",
    "tuition_fees_not_nan[['tuition_fees_20_21_fin', 'tuition_fees_20_21', 'tuition_fees']].head()"
   ]
  },
  {
   "cell_type": "code",
   "execution_count": 105,
   "id": "8c4888af",
   "metadata": {},
   "outputs": [
    {
     "data": {
      "text/html": [
       "<div>\n",
       "<style scoped>\n",
       "    .dataframe tbody tr th:only-of-type {\n",
       "        vertical-align: middle;\n",
       "    }\n",
       "\n",
       "    .dataframe tbody tr th {\n",
       "        vertical-align: top;\n",
       "    }\n",
       "\n",
       "    .dataframe thead th {\n",
       "        text-align: right;\n",
       "    }\n",
       "</style>\n",
       "<table border=\"1\" class=\"dataframe\">\n",
       "  <thead>\n",
       "    <tr style=\"text-align: right;\">\n",
       "      <th></th>\n",
       "      <th>tuition_fees_20_21_fin</th>\n",
       "      <th>tuition_fees_20_21</th>\n",
       "      <th>tuition_fees</th>\n",
       "    </tr>\n",
       "  </thead>\n",
       "  <tbody>\n",
       "    <tr>\n",
       "      <th>4</th>\n",
       "      <td>20670.0</td>\n",
       "      <td>20670.0</td>\n",
       "      <td>NaN</td>\n",
       "    </tr>\n",
       "    <tr>\n",
       "      <th>5</th>\n",
       "      <td>18120.0</td>\n",
       "      <td>18120.0</td>\n",
       "      <td>NaN</td>\n",
       "    </tr>\n",
       "    <tr>\n",
       "      <th>6</th>\n",
       "      <td>22035.0</td>\n",
       "      <td>22035.0</td>\n",
       "      <td>NaN</td>\n",
       "    </tr>\n",
       "    <tr>\n",
       "      <th>9</th>\n",
       "      <td>26895.0</td>\n",
       "      <td>26895.0</td>\n",
       "      <td>NaN</td>\n",
       "    </tr>\n",
       "    <tr>\n",
       "      <th>10</th>\n",
       "      <td>9975.0</td>\n",
       "      <td>9975.0</td>\n",
       "      <td>NaN</td>\n",
       "    </tr>\n",
       "  </tbody>\n",
       "</table>\n",
       "</div>"
      ],
      "text/plain": [
       "    tuition_fees_20_21_fin  tuition_fees_20_21  tuition_fees\n",
       "4                  20670.0             20670.0           NaN\n",
       "5                  18120.0             18120.0           NaN\n",
       "6                  22035.0             22035.0           NaN\n",
       "9                  26895.0             26895.0           NaN\n",
       "10                  9975.0              9975.0           NaN"
      ]
     },
     "execution_count": 105,
     "metadata": {},
     "output_type": "execute_result"
    }
   ],
   "source": [
    "# check that in new col, where tuition_fees_20_21 has a value, it was assigned to the new col\n",
    "tuition_fees_20_21_not_nan = schools_df.loc[~schools_df.tuition_fees_20_21.isna()]\n",
    "tuition_fees_20_21_not_nan[['tuition_fees_20_21_fin', 'tuition_fees_20_21', 'tuition_fees']].head()"
   ]
  },
  {
   "cell_type": "code",
   "execution_count": 107,
   "id": "b656b264",
   "metadata": {},
   "outputs": [],
   "source": [
    "# drop tuition_fees, tuition_fees_20_21, fees_20_21 and tuition_20_21 columns\n",
    "schools_df.drop(['tuition_fees', 'tuition_fees_20_21', 'fees_20_21', 'tuition_20_21'],axis=1, inplace=True)"
   ]
  },
  {
   "cell_type": "markdown",
   "id": "cff44eb6",
   "metadata": {},
   "source": [
    "#### Drop tuition_fees_19_20 column and any rows with nan in tuition_fees_20_21_fin (our target variable for the linear regression)"
   ]
  },
  {
   "cell_type": "code",
   "execution_count": 109,
   "id": "86cba873",
   "metadata": {},
   "outputs": [],
   "source": [
    "schools_df.drop(['tuition_fees_19_20'],axis=1, inplace=True)"
   ]
  },
  {
   "cell_type": "code",
   "execution_count": 111,
   "id": "1a452bd1",
   "metadata": {},
   "outputs": [],
   "source": [
    "schools_df.dropna(subset=['tuition_fees_20_21_fin'], inplace=True)"
   ]
  },
  {
   "cell_type": "code",
   "execution_count": 113,
   "id": "ffbea06a",
   "metadata": {},
   "outputs": [
    {
     "data": {
      "text/plain": [
       "(1323, 31)"
      ]
     },
     "execution_count": 113,
     "metadata": {},
     "output_type": "execute_result"
    }
   ],
   "source": [
    "schools_df.shape # by dropping nan in tuition_fees_20_21_fin, we lost 9 rows"
   ]
  },
  {
   "cell_type": "markdown",
   "id": "e443416f",
   "metadata": {},
   "source": [
    "## Clean enrollment columns"
   ]
  },
  {
   "cell_type": "code",
   "execution_count": 119,
   "id": "886f595a",
   "metadata": {},
   "outputs": [
    {
     "data": {
      "text/html": [
       "<div>\n",
       "<style scoped>\n",
       "    .dataframe tbody tr th:only-of-type {\n",
       "        vertical-align: middle;\n",
       "    }\n",
       "\n",
       "    .dataframe tbody tr th {\n",
       "        vertical-align: top;\n",
       "    }\n",
       "\n",
       "    .dataframe thead th {\n",
       "        text-align: right;\n",
       "    }\n",
       "</style>\n",
       "<table border=\"1\" class=\"dataframe\">\n",
       "  <thead>\n",
       "    <tr style=\"text-align: right;\">\n",
       "      <th></th>\n",
       "      <th>school</th>\n",
       "      <th>total_enroll</th>\n",
       "      <th>total_enroll_under</th>\n",
       "      <th>under_enroll</th>\n",
       "      <th>under_trans_enroll</th>\n",
       "      <th>grad_enroll</th>\n",
       "    </tr>\n",
       "  </thead>\n",
       "  <tbody>\n",
       "    <tr>\n",
       "      <th>249</th>\n",
       "      <td>Whittier College</td>\n",
       "      <td>1564.0</td>\n",
       "      <td>NaN</td>\n",
       "      <td>1490.0</td>\n",
       "      <td>59.0</td>\n",
       "      <td>74.0</td>\n",
       "    </tr>\n",
       "    <tr>\n",
       "      <th>72</th>\n",
       "      <td>Southeastern University</td>\n",
       "      <td>9546.0</td>\n",
       "      <td>NaN</td>\n",
       "      <td>8312.0</td>\n",
       "      <td>505.0</td>\n",
       "      <td>1234.0</td>\n",
       "    </tr>\n",
       "    <tr>\n",
       "      <th>173</th>\n",
       "      <td>Chestnut Hill College</td>\n",
       "      <td>1528.0</td>\n",
       "      <td>NaN</td>\n",
       "      <td>1074.0</td>\n",
       "      <td>72.0</td>\n",
       "      <td>454.0</td>\n",
       "    </tr>\n",
       "    <tr>\n",
       "      <th>34</th>\n",
       "      <td>St Luke's College</td>\n",
       "      <td>NaN</td>\n",
       "      <td>211.0</td>\n",
       "      <td>NaN</td>\n",
       "      <td>49.0</td>\n",
       "      <td>NaN</td>\n",
       "    </tr>\n",
       "    <tr>\n",
       "      <th>241</th>\n",
       "      <td>University of the West</td>\n",
       "      <td>238.0</td>\n",
       "      <td>NaN</td>\n",
       "      <td>114.0</td>\n",
       "      <td>11.0</td>\n",
       "      <td>124.0</td>\n",
       "    </tr>\n",
       "    <tr>\n",
       "      <th>94</th>\n",
       "      <td>Concordia University-Wisconsin</td>\n",
       "      <td>5492.0</td>\n",
       "      <td>NaN</td>\n",
       "      <td>3094.0</td>\n",
       "      <td>183.0</td>\n",
       "      <td>2398.0</td>\n",
       "    </tr>\n",
       "    <tr>\n",
       "      <th>16</th>\n",
       "      <td>Miles College</td>\n",
       "      <td>NaN</td>\n",
       "      <td>1440.0</td>\n",
       "      <td>NaN</td>\n",
       "      <td>84.0</td>\n",
       "      <td>NaN</td>\n",
       "    </tr>\n",
       "    <tr>\n",
       "      <th>239</th>\n",
       "      <td>University of Detroit Mercy</td>\n",
       "      <td>4987.0</td>\n",
       "      <td>NaN</td>\n",
       "      <td>2633.0</td>\n",
       "      <td>183.0</td>\n",
       "      <td>2354.0</td>\n",
       "    </tr>\n",
       "    <tr>\n",
       "      <th>94</th>\n",
       "      <td>Alvernia University</td>\n",
       "      <td>2560.0</td>\n",
       "      <td>NaN</td>\n",
       "      <td>2045.0</td>\n",
       "      <td>59.0</td>\n",
       "      <td>515.0</td>\n",
       "    </tr>\n",
       "    <tr>\n",
       "      <th>339</th>\n",
       "      <td>St. Thomas Aquinas College</td>\n",
       "      <td>1779.0</td>\n",
       "      <td>NaN</td>\n",
       "      <td>1612.0</td>\n",
       "      <td>68.0</td>\n",
       "      <td>167.0</td>\n",
       "    </tr>\n",
       "  </tbody>\n",
       "</table>\n",
       "</div>"
      ],
      "text/plain": [
       "                             school  total_enroll  total_enroll_under  \\\n",
       "249                Whittier College        1564.0                 NaN   \n",
       "72          Southeastern University        9546.0                 NaN   \n",
       "173           Chestnut Hill College        1528.0                 NaN   \n",
       "34                St Luke's College           NaN               211.0   \n",
       "241          University of the West         238.0                 NaN   \n",
       "94   Concordia University-Wisconsin        5492.0                 NaN   \n",
       "16                    Miles College           NaN              1440.0   \n",
       "239     University of Detroit Mercy        4987.0                 NaN   \n",
       "94              Alvernia University        2560.0                 NaN   \n",
       "339      St. Thomas Aquinas College        1779.0                 NaN   \n",
       "\n",
       "     under_enroll  under_trans_enroll  grad_enroll  \n",
       "249        1490.0                59.0         74.0  \n",
       "72         8312.0               505.0       1234.0  \n",
       "173        1074.0                72.0        454.0  \n",
       "34            NaN                49.0          NaN  \n",
       "241         114.0                11.0        124.0  \n",
       "94         3094.0               183.0       2398.0  \n",
       "16            NaN                84.0          NaN  \n",
       "239        2633.0               183.0       2354.0  \n",
       "94         2045.0                59.0        515.0  \n",
       "339        1612.0                68.0        167.0  "
      ]
     },
     "execution_count": 119,
     "metadata": {},
     "output_type": "execute_result"
    }
   ],
   "source": [
    "schools_df[['school','total_enroll', 'total_enroll_under', 'under_enroll', 'under_trans_enroll', 'grad_enroll']].sample(10)"
   ]
  },
  {
   "cell_type": "code",
   "execution_count": 120,
   "id": "70c6b87a",
   "metadata": {},
   "outputs": [],
   "source": [
    "schools_df['total_under_enroll'] = np.nan"
   ]
  },
  {
   "cell_type": "code",
   "execution_count": 121,
   "id": "df873f4a",
   "metadata": {},
   "outputs": [],
   "source": [
    "schools_df['total_under_enroll'].fillna(schools_df.total_enroll_under, inplace=True)"
   ]
  },
  {
   "cell_type": "code",
   "execution_count": 122,
   "id": "9a98944b",
   "metadata": {},
   "outputs": [],
   "source": [
    "schools_df['total_under_enroll'].fillna(schools_df.under_enroll, inplace=True)"
   ]
  },
  {
   "cell_type": "code",
   "execution_count": 123,
   "id": "a9a12dd9",
   "metadata": {},
   "outputs": [
    {
     "data": {
      "text/html": [
       "<div>\n",
       "<style scoped>\n",
       "    .dataframe tbody tr th:only-of-type {\n",
       "        vertical-align: middle;\n",
       "    }\n",
       "\n",
       "    .dataframe tbody tr th {\n",
       "        vertical-align: top;\n",
       "    }\n",
       "\n",
       "    .dataframe thead th {\n",
       "        text-align: right;\n",
       "    }\n",
       "</style>\n",
       "<table border=\"1\" class=\"dataframe\">\n",
       "  <thead>\n",
       "    <tr style=\"text-align: right;\">\n",
       "      <th></th>\n",
       "      <th>total_under_enroll</th>\n",
       "      <th>total_enroll_under</th>\n",
       "      <th>under_enroll</th>\n",
       "    </tr>\n",
       "  </thead>\n",
       "  <tbody>\n",
       "    <tr>\n",
       "      <th>0</th>\n",
       "      <td>40.0</td>\n",
       "      <td>40.0</td>\n",
       "      <td>NaN</td>\n",
       "    </tr>\n",
       "    <tr>\n",
       "      <th>13</th>\n",
       "      <td>2.0</td>\n",
       "      <td>2.0</td>\n",
       "      <td>NaN</td>\n",
       "    </tr>\n",
       "    <tr>\n",
       "      <th>14</th>\n",
       "      <td>3180.0</td>\n",
       "      <td>3180.0</td>\n",
       "      <td>NaN</td>\n",
       "    </tr>\n",
       "    <tr>\n",
       "      <th>15</th>\n",
       "      <td>101.0</td>\n",
       "      <td>101.0</td>\n",
       "      <td>NaN</td>\n",
       "    </tr>\n",
       "    <tr>\n",
       "      <th>17</th>\n",
       "      <td>44481.0</td>\n",
       "      <td>44481.0</td>\n",
       "      <td>NaN</td>\n",
       "    </tr>\n",
       "  </tbody>\n",
       "</table>\n",
       "</div>"
      ],
      "text/plain": [
       "    total_under_enroll  total_enroll_under  under_enroll\n",
       "0                 40.0                40.0           NaN\n",
       "13                 2.0                 2.0           NaN\n",
       "14              3180.0              3180.0           NaN\n",
       "15               101.0               101.0           NaN\n",
       "17             44481.0             44481.0           NaN"
      ]
     },
     "execution_count": 123,
     "metadata": {},
     "output_type": "execute_result"
    }
   ],
   "source": [
    "# check that in new col, where total_enroll_under has a value, it was assigned to the new col\n",
    "total_enroll_under_not_nan = schools_df.loc[~schools_df.total_enroll_under.isna()]\n",
    "total_enroll_under_not_nan[['total_under_enroll', 'total_enroll_under', 'under_enroll']].head()"
   ]
  },
  {
   "cell_type": "code",
   "execution_count": 124,
   "id": "d9697d17",
   "metadata": {},
   "outputs": [
    {
     "data": {
      "text/html": [
       "<div>\n",
       "<style scoped>\n",
       "    .dataframe tbody tr th:only-of-type {\n",
       "        vertical-align: middle;\n",
       "    }\n",
       "\n",
       "    .dataframe tbody tr th {\n",
       "        vertical-align: top;\n",
       "    }\n",
       "\n",
       "    .dataframe thead th {\n",
       "        text-align: right;\n",
       "    }\n",
       "</style>\n",
       "<table border=\"1\" class=\"dataframe\">\n",
       "  <thead>\n",
       "    <tr style=\"text-align: right;\">\n",
       "      <th></th>\n",
       "      <th>total_under_enroll</th>\n",
       "      <th>total_enroll_under</th>\n",
       "      <th>under_enroll</th>\n",
       "    </tr>\n",
       "  </thead>\n",
       "  <tbody>\n",
       "    <tr>\n",
       "      <th>1</th>\n",
       "      <td>312.0</td>\n",
       "      <td>NaN</td>\n",
       "      <td>312.0</td>\n",
       "    </tr>\n",
       "    <tr>\n",
       "      <th>2</th>\n",
       "      <td>65.0</td>\n",
       "      <td>NaN</td>\n",
       "      <td>65.0</td>\n",
       "    </tr>\n",
       "    <tr>\n",
       "      <th>3</th>\n",
       "      <td>37.0</td>\n",
       "      <td>NaN</td>\n",
       "      <td>37.0</td>\n",
       "    </tr>\n",
       "    <tr>\n",
       "      <th>4</th>\n",
       "      <td>169.0</td>\n",
       "      <td>NaN</td>\n",
       "      <td>169.0</td>\n",
       "    </tr>\n",
       "    <tr>\n",
       "      <th>5</th>\n",
       "      <td>66.0</td>\n",
       "      <td>NaN</td>\n",
       "      <td>66.0</td>\n",
       "    </tr>\n",
       "  </tbody>\n",
       "</table>\n",
       "</div>"
      ],
      "text/plain": [
       "   total_under_enroll  total_enroll_under  under_enroll\n",
       "1               312.0                 NaN         312.0\n",
       "2                65.0                 NaN          65.0\n",
       "3                37.0                 NaN          37.0\n",
       "4               169.0                 NaN         169.0\n",
       "5                66.0                 NaN          66.0"
      ]
     },
     "execution_count": 124,
     "metadata": {},
     "output_type": "execute_result"
    }
   ],
   "source": [
    "# check that in new col, where under_enroll has a value, it was assigned to the new col\n",
    "under_enroll_not_nan = schools_df.loc[~schools_df.under_enroll.isna()]\n",
    "under_enroll_not_nan[['total_under_enroll', 'total_enroll_under', 'under_enroll']].head()"
   ]
  },
  {
   "cell_type": "code",
   "execution_count": 115,
   "id": "ab47b6fa",
   "metadata": {},
   "outputs": [
    {
     "name": "stdout",
     "output_type": "stream",
     "text": [
      "<class 'pandas.core.frame.DataFrame'>\n",
      "Int64Index: 1323 entries, 0 to 131\n",
      "Data columns (total 31 columns):\n",
      " #   Column                                   Non-Null Count  Dtype  \n",
      "---  ------                                   --------------  -----  \n",
      " 0   school                                   1323 non-null   object \n",
      " 1   raw_stu_to_fac_ratio                     1318 non-null   object \n",
      " 2   books_supplies_19_20                     1206 non-null   float64\n",
      " 3   books_supplies                           1211 non-null   float64\n",
      " 4   ft_faculty                               1309 non-null   float64\n",
      " 5   pt_faculty                               1309 non-null   float64\n",
      " 6   avg_amt_grant_schol_aid_beg_under_19_20  1276 non-null   float64\n",
      " 7   perc_grant_schol_aid_beg_under_19_20     1315 non-null   float64\n",
      " 8   avg_amt_grant_schol_aid_all_under_19_20  1313 non-null   float64\n",
      " 9   total_enroll                             990 non-null    float64\n",
      " 10  total_enroll_under                       328 non-null    float64\n",
      " 11  under_enroll                             990 non-null    float64\n",
      " 12  under_trans_enroll                       1318 non-null   float64\n",
      " 13  grad_enroll                              990 non-null    float64\n",
      " 14  under_apps                               1086 non-null   float64\n",
      " 15  perc_admitted                            1086 non-null   float64\n",
      " 16  sat_scores_submit                        650 non-null    float64\n",
      " 17  perc_sat_scores_submit                   650 non-null    float64\n",
      " 18  act_scores_submit                        660 non-null    float64\n",
      " 19  perc_act_scores_submit                   660 non-null    float64\n",
      " 20  sat_read_write_25_perc                   640 non-null    float64\n",
      " 21  sat_read_write_75_perc                   640 non-null    float64\n",
      " 22  sat_math_25_perc                         640 non-null    float64\n",
      " 23  sat_math_75_perc                         640 non-null    float64\n",
      " 24  act_comp_25_perc                         655 non-null    float64\n",
      " 25  act_comp_75_perc                         655 non-null    float64\n",
      " 26  act_eng_25_perc                          615 non-null    float64\n",
      " 27  act_eng_75_perc                          615 non-null    float64\n",
      " 28  act_math_25_perc                         615 non-null    float64\n",
      " 29  act_math_75_perc                         615 non-null    float64\n",
      " 30  tuition_fees_20_21_fin                   1323 non-null   float64\n",
      "dtypes: float64(29), object(2)\n",
      "memory usage: 330.8+ KB\n"
     ]
    }
   ],
   "source": [
    "schools_df.info()"
   ]
  },
  {
   "cell_type": "markdown",
   "id": "aca127bb",
   "metadata": {},
   "source": [
    "#### Notes: \n",
    "- If perc_grant_schol_aid_beg_under_19_20 > 100, it means it's capturing # of students, not %\n",
    "- if avg_amt_grant_schol_aid_beg_under_19_20 == avg_amt_grant_schol_aid_all_under_19_20, it means there's only data for 'All Undergraduate Students'"
   ]
  },
  {
   "cell_type": "code",
   "execution_count": null,
   "id": "ad52d39b",
   "metadata": {},
   "outputs": [],
   "source": []
  }
 ],
 "metadata": {
  "kernelspec": {
   "display_name": "Python [conda env:metis] *",
   "language": "python",
   "name": "conda-env-metis-py"
  },
  "language_info": {
   "codemirror_mode": {
    "name": "ipython",
    "version": 3
   },
   "file_extension": ".py",
   "mimetype": "text/x-python",
   "name": "python",
   "nbconvert_exporter": "python",
   "pygments_lexer": "ipython3",
   "version": "3.8.10"
  }
 },
 "nbformat": 4,
 "nbformat_minor": 5
}
